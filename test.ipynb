{
 "cells": [
  {
   "cell_type": "markdown",
   "metadata": {},
   "source": [
    "# 추가 맥주 목록 수집"
   ]
  },
  {
   "cell_type": "markdown",
   "metadata": {},
   "source": [
    "# Ratebeer 수집단계"
   ]
  },
  {
   "cell_type": "code",
   "execution_count": 2,
   "metadata": {},
   "outputs": [],
   "source": [
    "import pandas as pd\n",
    "\n",
    "pd.set_option('display.max_rows', 100)"
   ]
  },
  {
   "cell_type": "code",
   "execution_count": 3,
   "metadata": {},
   "outputs": [
    {
     "name": "stderr",
     "output_type": "stream",
     "text": [
      "C:\\Users\\Ghyeon\\anaconda3\\lib\\site-packages\\IPython\\core\\interactiveshell.py:3071: DtypeWarning: Columns (5) have mixed types.Specify dtype option on import or set low_memory=False.\n",
      "  has_raised = await self.run_ast_nodes(code_ast.body, cell_name,\n"
     ]
    }
   ],
   "source": [
    "data1 = pd.read_csv('맥주_10.csv', encoding='utf-8', index_col=0)\n",
    "data2 = pd.read_csv('맥주_10_732개.csv', encoding='utf-8', index_col=0)\n",
    "data3 = pd.read_csv('맥주이름.csv', encoding='utf-8', index_col=0)\n",
    "data4 = pd.read_csv('맥주_10_732개_년도별평점.csv', encoding='utf-8', index_col=0)\n",
    "clustering = pd.read_csv('clustering_전체결과.csv',encoding='utf-8',index_col=0)"
   ]
  },
  {
   "cell_type": "code",
   "execution_count": 8,
   "metadata": {},
   "outputs": [],
   "source": [
    "data5 = pd.read_csv('맥주_cbf_data.csv', encoding='utf-8', index_col=0)\n",
    "data6 = pd.read_csv('맥주_cbf_feature.csv', encoding='utf-8', index_col=0)"
   ]
  },
  {
   "cell_type": "code",
   "execution_count": 87,
   "metadata": {},
   "outputs": [],
   "source": [
    "data1.to_csv('맥주_10.csv', encoding='utf-8')\n",
    "data2.to_csv('맥주_10_732개.csv', encoding='utf-8')\n",
    "data3.to_csv('맥주이름.csv', encoding='utf-8')\n",
    "data4.to_csv('맥주_10_732개_년도별평점.csv', encoding='utf-8')\n",
    "clustering.to_csv('clustering_전체결과.csv', encoding='utf-8')"
   ]
  },
  {
   "cell_type": "code",
   "execution_count": 42,
   "metadata": {},
   "outputs": [],
   "source": [
    "# 바꿀 것\n",
    "# Sapporo Premium Beer / Draft Beer -> Sapporo Premium Beer\n",
    "# Guinness Original 4.2% (Ireland/UK) -> Guinness Original 4.2%\n",
    "# Franziskaner Hefe-Weissbier / Weissbier Naturtrub -> Franziskaner Hefe-Weissbier\n",
    "# Bavaria Pilsener / Premium Beer -> Bavaria Pilsener\n",
    "# Leffe Brune / Bruin / Brown -> Leffe Brune"
   ]
  },
  {
   "cell_type": "code",
   "execution_count": 79,
   "metadata": {},
   "outputs": [],
   "source": [
    "ogname = ['Sapporo Premium Beer / Draft Beer',\n",
    "         'Guinness Original 4.2% (Ireland/UK)',\n",
    "         'Franziskaner Hefe-Weissbier / Weissbier Naturtrub',\n",
    "         'Bavaria Pilsener / Premium Beer',\n",
    "         'Leffe Brune / Bruin / Brown']\n",
    "name = [\n",
    "    'Sapporo Premium Beer',\n",
    "    'Guinness Original 4.2%',\n",
    "    'Franziskaner Hefe-Weissbier',\n",
    "    'Bavaria Pilsener',\n",
    "    'Leffe Brune'\n",
    "]"
   ]
  },
  {
   "cell_type": "code",
   "execution_count": 81,
   "metadata": {},
   "outputs": [],
   "source": [
    "for i in range(len(ogname)):\n",
    "    data1['맥주'] = data1['맥주'].apply(lambda x : name[i] if x==ogname[i] else x)\n",
    "    data2['맥주'] = data2['맥주'].apply(lambda x : name[i] if x==ogname[i] else x)\n",
    "    data3['맥주'] = data3['맥주'].apply(lambda x : name[i] if x==ogname[i] else x)\n",
    "    data4['맥주'] = data4['맥주'].apply(lambda x : name[i] if x==ogname[i] else x)\n",
    "    data5['맥주이름'] = data5['맥주이름'].apply(lambda x : name[i] if x==ogname[i] else x)\n",
    "    data6['맥주이름'] = data6['맥주이름'].apply(lambda x : name[i] if x==ogname[i] else x)\n",
    "    clustering['맥주'] = clustering['맥주'].apply(lambda x : name[i] if x==ogname[i] else x)"
   ]
  },
  {
   "cell_type": "code",
   "execution_count": 16,
   "metadata": {},
   "outputs": [
    {
     "data": {
      "text/plain": [
       "array(['Kloud Original Gravity', 'Asahi Super Dry', 'Tsingtao',\n",
       "       'Heineken', 'Kirin Ichiban', 'Stella Artois', 'San Miguel',\n",
       "       'Cass Fresh', 'Victoria Bitter', 'Bintang Pilsener',\n",
       "       \"Suntory The Premium Malt's\", 'Tiger Beer', 'Sapporo Yebisu',\n",
       "       'Peroni Nastro Azzurro', 'Holsten Premium Bier',\n",
       "       'Lapin Kulta IV A', 'Grolsch Premium Lager',\n",
       "       'Castlemaine XXXX Gold Lager', 'Löwenbräu Original (4.2%)',\n",
       "       'Harbin Beer', \"Beck's\", 'Kloud Fitz Super Clear',\n",
       "       'OB Premier Pilsner', 'Hite D (Dry Finish)', 'Hite Prime Max',\n",
       "       'Hite Extra Cold', 'Miller Genuine Draft (MGD)', 'Budweiser',\n",
       "       'Stephans Bräu Premium Lager', 'Guinness Draught',\n",
       "       'Kronenbourg 1664 Blanc', 'Jeju Wit Ale', 'Pilsner Urquell',\n",
       "       'Gambrinus Originál 10° (Desítka)', 'Krombacher Weizen',\n",
       "       'Tsingtao Wheat Beer', 'Erdinger Weissbier',\n",
       "       'Paulaner Hefe-Weissbier', 'Edelweiss Weissbier Snowfresh',\n",
       "       'Stephans Bräu Hefe-Weizen Naturtrüb',\n",
       "       'Volfas Engelman Grünberger Hefeweizen', 'Tiger Radler Lemon',\n",
       "       'Egger Grapefruit Radler', 'Schöfferhofer Grapefruit',\n",
       "       'Reeper B. Exotisches IPA', 'Carlsberg Pilsner',\n",
       "       'Stephans Bräu Premium Pilsener', 'Eichbaum Apostel Bräu',\n",
       "       'Berliner Kindl Jubiläums Pilsener Premium',\n",
       "       'Warsteiner Premium Verum', 'Hoegaarden', 'Desperados',\n",
       "       'Heineken Dark Lager', 'Asahi Super Dry Black',\n",
       "       'Kozel Černý (Dark) 10°', 'Egger Märzenbier',\n",
       "       'Bavaria 8.6 (Original)', 'Hoegaarden Rosée', 'Red Rock',\n",
       "       'Erdinger Weissbier Dunkel'], dtype=object)"
      ]
     },
     "execution_count": 16,
     "metadata": {},
     "output_type": "execute_result"
    }
   ],
   "source": [
    "data5.맥주이름.unique()"
   ]
  },
  {
   "cell_type": "code",
   "execution_count": 9,
   "metadata": {},
   "outputs": [
    {
     "data": {
      "text/plain": [
       "array([], dtype=object)"
      ]
     },
     "execution_count": 9,
     "metadata": {},
     "output_type": "execute_result"
    }
   ],
   "source": [
    "data5[data5['맥주이름'].str.contains('/')]['맥주이름'].unique()"
   ]
  },
  {
   "cell_type": "code",
   "execution_count": 7,
   "metadata": {},
   "outputs": [
    {
     "data": {
      "text/plain": [
       "array([], dtype=object)"
      ]
     },
     "execution_count": 7,
     "metadata": {},
     "output_type": "execute_result"
    }
   ],
   "source": [
    "data5[data5['맥주이름'].str.contains('/')]['맥주이름'].unique()"
   ]
  },
  {
   "cell_type": "code",
   "execution_count": 89,
   "metadata": {},
   "outputs": [
    {
     "data": {
      "text/plain": [
       "array([], dtype=object)"
      ]
     },
     "execution_count": 89,
     "metadata": {},
     "output_type": "execute_result"
    }
   ],
   "source": [
    "data1[data1['맥주'].str.contains('/')]['맥주'].unique()"
   ]
  },
  {
   "cell_type": "code",
   "execution_count": 90,
   "metadata": {},
   "outputs": [
    {
     "data": {
      "text/plain": [
       "array(['Budweiser Budvar / Czechvar', 'Staropramen Ležák / Premium / 12°',\n",
       "       'Vratislav Premium / Supermarket Czech Lager',\n",
       "       'Cantillon Gueuze (Classic/Organic/Bio)',\n",
       "       'Breda Royal Beer / Lager', \"Smithwick's Ale / Draught\",\n",
       "       'Belhaven Wee Heavy / 90 Shilling (Bottle)',\n",
       "       'Sikaru Stout / Neagră', 'Stiegl Bier / Goldbräu',\n",
       "       'Menabrea 1846 / Birra Bionda', 'Parbo Bier / Djogo Bier',\n",
       "       'Banks Caribbean Lager / Beer',\n",
       "       'Cambrew Angkor Premium Beer / Draft',\n",
       "       'Carakale / Arizona Wilderness Dead Sea-rious'], dtype=object)"
      ]
     },
     "execution_count": 90,
     "metadata": {},
     "output_type": "execute_result"
    }
   ],
   "source": [
    "data2[data2['맥주'].str.contains('/')]['맥주'].unique()"
   ]
  },
  {
   "cell_type": "code",
   "execution_count": 84,
   "metadata": {},
   "outputs": [
    {
     "data": {
      "text/plain": [
       "array([], dtype=object)"
      ]
     },
     "execution_count": 84,
     "metadata": {},
     "output_type": "execute_result"
    }
   ],
   "source": [
    "data3[data3['맥주'].str.contains('/')]['맥주'].unique()"
   ]
  },
  {
   "cell_type": "code",
   "execution_count": 85,
   "metadata": {},
   "outputs": [
    {
     "data": {
      "text/plain": [
       "array(['Banks Caribbean Lager / Beer',\n",
       "       'Belhaven Wee Heavy / 90 Shilling (Bottle)',\n",
       "       'Breda Royal Beer / Lager', 'Budweiser Budvar / Czechvar',\n",
       "       'Cambrew Angkor Premium Beer / Draft',\n",
       "       'Cantillon Gueuze (Classic/Organic/Bio)',\n",
       "       'Carakale / Arizona Wilderness Dead Sea-rious',\n",
       "       'Menabrea 1846 / Birra Bionda', 'Parbo Bier / Djogo Bier',\n",
       "       'Sikaru Stout / Neagră', \"Smithwick's Ale / Draught\",\n",
       "       'Staropramen Ležák / Premium / 12°', 'Stiegl Bier / Goldbräu',\n",
       "       'Vratislav Premium / Supermarket Czech Lager'], dtype=object)"
      ]
     },
     "execution_count": 85,
     "metadata": {},
     "output_type": "execute_result"
    }
   ],
   "source": [
    "data4[data4['맥주'].str.contains('/')]['맥주'].unique()"
   ]
  },
  {
   "cell_type": "code",
   "execution_count": 86,
   "metadata": {},
   "outputs": [
    {
     "data": {
      "text/plain": [
       "array(['Budweiser Budvar / Czechvar', 'Staropramen Ležák / Premium / 12°',\n",
       "       'Vratislav Premium / Supermarket Czech Lager',\n",
       "       'Cantillon Gueuze (Classic/Organic/Bio)',\n",
       "       'Breda Royal Beer / Lager', \"Smithwick's Ale / Draught\",\n",
       "       'Belhaven Wee Heavy / 90 Shilling (Bottle)',\n",
       "       'Sikaru Stout / Neagră', 'Stiegl Bier / Goldbräu',\n",
       "       'Menabrea 1846 / Birra Bionda', 'Parbo Bier / Djogo Bier',\n",
       "       'Banks Caribbean Lager / Beer',\n",
       "       'Cambrew Angkor Premium Beer / Draft',\n",
       "       'Carakale / Arizona Wilderness Dead Sea-rious'], dtype=object)"
      ]
     },
     "execution_count": 86,
     "metadata": {},
     "output_type": "execute_result"
    }
   ],
   "source": [
    "clustering[clustering['맥주'].str.contains('/')]['맥주'].unique()"
   ]
  },
  {
   "cell_type": "code",
   "execution_count": null,
   "metadata": {},
   "outputs": [],
   "source": []
  }
 ],
 "metadata": {
  "kernelspec": {
   "display_name": "Python 3",
   "language": "python",
   "name": "python3"
  },
  "language_info": {
   "codemirror_mode": {
    "name": "ipython",
    "version": 3
   },
   "file_extension": ".py",
   "mimetype": "text/x-python",
   "name": "python",
   "nbconvert_exporter": "python",
   "pygments_lexer": "ipython3",
   "version": "3.8.3"
  }
 },
 "nbformat": 4,
 "nbformat_minor": 4
}
