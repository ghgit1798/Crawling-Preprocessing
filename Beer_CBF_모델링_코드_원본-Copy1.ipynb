{
 "cells": [
  {
   "cell_type": "code",
   "execution_count": 1,
   "metadata": {},
   "outputs": [],
   "source": [
    "import pandas as pd\n",
    "import numpy as np\n",
    "\n",
    "from ast import literal_eval                                  # 문자열 파싱 라이브러리\n",
    "from sklearn.feature_extraction.text import CountVectorizer   # \n",
    "from sklearn.metrics.pairwise import cosine_similarity        # 코사인 유사도 라이브러리\n",
    "\n",
    "import warnings\n",
    "\n",
    "warnings.filterwarnings('ignore')"
   ]
  },
  {
   "cell_type": "markdown",
   "metadata": {},
   "source": [
    "# Origin Test - 데이터 전처리"
   ]
  },
  {
   "cell_type": "code",
   "execution_count": 2,
   "metadata": {},
   "outputs": [],
   "source": [
    "# 데이터 가져오기(맥주 데이터)\n",
    "beer_load = pd.read_csv('맥주이름_특징_tag_완료_최종.csv',encoding='utf-8')\n",
    "rating = pd.read_csv('맥주.csv', encoding='utf-8')"
   ]
  },
  {
   "cell_type": "code",
   "execution_count": 3,
   "metadata": {},
   "outputs": [],
   "source": [
    "# beer_rating: 맥주 종류별 평점평균\n",
    "beer_rating = pd.DataFrame(columns=['맥주이름','평점평균','평가횟수'])\n",
    "beer_rating['맥주이름'] = list(set(rating['맥주']))\n",
    "\n",
    "# 평점평균 구하기\n",
    "for beer in beer_rating['맥주이름']:\n",
    "    temp = rating[beer==rating['맥주']]['평점'].mean()\n",
    "    beer_rating['평점평균'][beer_rating['맥주이름']==beer]=temp\n",
    "    \n",
    "# 평가횟수 구하기\n",
    "for beer in beer_rating['맥주이름']:\n",
    "    temp = len(rating[beer==rating['맥주']])\n",
    "    beer_rating['평가횟수'][beer_rating['맥주이름']==beer]=temp"
   ]
  },
  {
   "cell_type": "code",
   "execution_count": 4,
   "metadata": {},
   "outputs": [],
   "source": [
    "# 총 데이터 합병\n",
    "beer_data = pd.merge(beer_load, beer_rating)\n",
    "\n",
    "# 데이터 준비 및 정재 list 형태로 바꿔주기 \n",
    "# beer_data에서 총 6개의 feature(Aroma, Flavor, Balance, Season, Paring  Food, Body)를 가져온다 \n",
    "beer_df = pd.DataFrame(beer_data, columns = ['Aroma','Flavor','Balance','Season','Paring Food', 'Body'])\n",
    "\n",
    "# str형태에서 list로 변환\n",
    "beer_df['Aroma'] = beer_df['Aroma'].apply(literal_eval)\n",
    "beer_df['Flavor'] = beer_df['Flavor'].apply(literal_eval)\n",
    "beer_df['Balance'] = beer_df['Balance'].apply(literal_eval)\n",
    "beer_df['Season'] = beer_df['Season'].apply(literal_eval)\n",
    "beer_df['Paring Food'] = beer_df['Paring Food'].apply(literal_eval)\n",
    "beer_df['Body'] = beer_df['Body'].apply(literal_eval)"
   ]
  },
  {
   "cell_type": "code",
   "execution_count": 5,
   "metadata": {},
   "outputs": [],
   "source": [
    "ogname = ['Sapporo Premium Beer / Draft Beer',\n",
    "         'Guinness Original 4.2% (Ireland/UK)',\n",
    "         'Franziskaner Hefe-Weissbier / Weissbier Naturtrub',\n",
    "         'Bavaria Pilsener / Premium Beer',\n",
    "         'Leffe Brune / Bruin / Brown']\n",
    "name = [\n",
    "    'Sapporo Premium Beer',\n",
    "    'Guinness Original 4.2%',\n",
    "    'Franziskaner Hefe-Weissbier',\n",
    "    'Bavaria Pilsener',\n",
    "    'Leffe Brune'\n",
    "]\n",
    "\n",
    "for i in range(len(ogname)):\n",
    "    beer_data['맥주이름'] = beer_data['맥주이름'].apply(lambda x : name[i] if x==ogname[i] else x)\n"
   ]
  },
  {
   "cell_type": "code",
   "execution_count": 6,
   "metadata": {},
   "outputs": [],
   "source": [
    "beer_data.to_csv('맥주_cbf_data.csv', encoding='utf-8')\n",
    "beer_df.to_csv('맥주_cbf_feature.csv', encoding='utf-8')"
   ]
  },
  {
   "cell_type": "markdown",
   "metadata": {},
   "source": [
    "# 실제 추천 코드"
   ]
  },
  {
   "cell_type": "code",
   "execution_count": 7,
   "metadata": {},
   "outputs": [],
   "source": [
    "beer_data = pd.read_csv('맥주_cbf_data.csv', encoding='utf-8')\n",
    "beer_df = pd.read_csv('맥주_cbf_feature.csv', encoding='utf-8')"
   ]
  },
  {
   "cell_type": "code",
   "execution_count": null,
   "metadata": {},
   "outputs": [],
   "source": [
    "beer_name = 'Leffe Brune'\n",
    "\n",
    "something = 'Body'\n",
    "\n",
    "# str형태에서 list로 변환\n",
    "beer_df['Aroma'] = beer_df['Aroma'].apply(literal_eval)\n",
    "beer_df['Flavor'] = beer_df['Flavor'].apply(literal_eval)\n",
    "beer_df['Balance'] = beer_df['Balance'].apply(literal_eval)\n",
    "beer_df['Season'] = beer_df['Season'].apply(literal_eval)\n",
    "beer_df['Paring Food'] = beer_df['Paring Food'].apply(literal_eval)\n",
    "beer_df['Body'] = beer_df['Body'].apply(literal_eval)"
   ]
  },
  {
   "cell_type": "code",
   "execution_count": null,
   "metadata": {},
   "outputs": [],
   "source": [
    "def find_sim_beer_ver1(beer_data, sorted_ind, beer_name, top_n=10):\n",
    "    \n",
    "    beer_name = beer_data[beer_data['맥주이름'] == beer_name]\n",
    "    \n",
    "    beer_index = beer_name.index.values\n",
    "    similar_indexes = sorted_ind[beer_index, :(top_n)]\n",
    "    \n",
    "    print(similar_indexes)\n",
    "    \n",
    "    similar_inidexes = similar_indexes.reshape(-1)\n",
    "    \n",
    "    return beer_data.iloc[similar_inidexes]"
   ]
  },
  {
   "cell_type": "code",
   "execution_count": null,
   "metadata": {},
   "outputs": [],
   "source": [
    "# CountVectorizer를 활용하기 위한 전처리 \n",
    "beer_df[something +'_literal'] = beer_df[something].apply(lambda x : (' ').join(x))\n",
    "\n",
    "#CountVectorizer로 학습시키기\n",
    "count_vect = CountVectorizer(min_df=0, ngram_range=(1,2))   # 특징 2개(ngram_range: 1<= n <=2)\n",
    "something_mat = count_vect.fit_transform(beer_df[something + '_literal'])\n",
    "\n",
    "# 77개의 맥주에 대한 가각 유사한 맥주들이 계산 됨\n",
    "something_sim = cosine_similarity(something_mat,something_mat)\n",
    "\n",
    "# 순서 보기\n",
    "# 숫자가 작을수록 유사도가 높은 맥주\n",
    "something_sim_sorted_ind = something_sim.argsort()[:, ::-1]\n",
    "\n",
    "similar_beers = find_sim_beer_ver1(beer_data, something_sim_sorted_ind, beer_name,3)\n",
    "similar_beers"
   ]
  },
  {
   "cell_type": "code",
   "execution_count": null,
   "metadata": {},
   "outputs": [],
   "source": []
  },
  {
   "cell_type": "code",
   "execution_count": null,
   "metadata": {},
   "outputs": [],
   "source": []
  },
  {
   "cell_type": "code",
   "execution_count": null,
   "metadata": {},
   "outputs": [],
   "source": []
  },
  {
   "cell_type": "code",
   "execution_count": null,
   "metadata": {},
   "outputs": [],
   "source": []
  },
  {
   "cell_type": "markdown",
   "metadata": {},
   "source": [
    "# Real Test"
   ]
  },
  {
   "cell_type": "code",
   "execution_count": null,
   "metadata": {
    "scrolled": true
   },
   "outputs": [],
   "source": [
    "beer_data['맥주이름'].unique()"
   ]
  },
  {
   "cell_type": "code",
   "execution_count": null,
   "metadata": {},
   "outputs": [],
   "source": [
    "def find_sim_beer_ver1(beer_data, sorted_ind, beer_name, top_n=4):\n",
    "    \n",
    "    beer_name = beer_data[beer_data['맥주이름'] == beer_name]\n",
    "    \n",
    "    beer_index = beer_name.index.values\n",
    "    similar_indexes = sorted_ind[beer_index, :(top_n)]\n",
    "    \n",
    "    similar_inidexes = similar_indexes.reshape(-1)\n",
    "    \n",
    "    return beer_data.iloc[similar_inidexes]"
   ]
  },
  {
   "cell_type": "code",
   "execution_count": null,
   "metadata": {},
   "outputs": [],
   "source": [
    "beer_data = pd.read_csv('맥주_cbf_data.csv', encoding='utf-8')\n",
    "beer_df = pd.read_csv('맥주_cbf_feature.csv', encoding='utf-8')\n",
    "\n",
    "beer_name = 'Leffe Brune'\n",
    "\n",
    "# str형태에서 list로 변환\n",
    "beer_df['Aroma'] = beer_df['Aroma'].apply(literal_eval)\n",
    "beer_df['Flavor'] = beer_df['Flavor'].apply(literal_eval)\n",
    "beer_df['Balance'] = beer_df['Balance'].apply(literal_eval)\n",
    "beer_df['Season'] = beer_df['Season'].apply(literal_eval)\n",
    "beer_df['Paring Food'] = beer_df['Paring Food'].apply(literal_eval)\n",
    "beer_df['Body'] = beer_df['Body'].apply(literal_eval)\n",
    "\n",
    "# something = 'Aroma'\n",
    "# something = 'Flavor'\n",
    "# something = 'Balance'\n",
    "# something = 'Paring Food'\n",
    "something = 'Body'\n",
    "\n",
    "# CountVectorizer를 활용하기 위한 전처리\n",
    "beer_df[something + '_literal'] = beer_df[something].apply(lambda x: (' ').join(x))\n",
    "\n",
    "# CountVectorizer로 학습시키기\n",
    "count_vect = CountVectorizer(min_df=0, ngram_range=(1, 2))  # 특징 2개(ngram_range: 1<= n <=2)\n",
    "something_mat = count_vect.fit_transform(beer_df[something + '_literal'])\n",
    "\n",
    "# 77개의 맥주에 대한 가각 유사한 맥주들이 계산 됨\n",
    "something_sim = cosine_similarity(something_mat, something_mat)\n",
    "\n",
    "# 유사도 높은순으로 역순 배치 후 인덱스 추출\n",
    "something_sim_sorted_ind = something_sim.argsort()[:, ::-1]\n",
    "\n",
    "# 10개의 맥주 추천 결과\n",
    "# Pilsner Urquel로 검색한 결과, 대체로 필스터 혹은 비슷한 성질을 가진 페일에일이 추천되는 것을 알 수 있다.\n",
    "\n",
    "similar_beers = find_sim_beer_ver1(beer_data, something_sim_sorted_ind, beer_name, 4)\n",
    "\n",
    "similar_beers = similar_beers[similar_beers['맥주이름'] != beer_name]\n",
    "\n",
    "result = similar_beers['맥주이름'].tolist()"
   ]
  },
  {
   "cell_type": "code",
   "execution_count": null,
   "metadata": {},
   "outputs": [],
   "source": []
  }
 ],
 "metadata": {
  "kernelspec": {
   "display_name": "Python 3",
   "language": "python",
   "name": "python3"
  },
  "language_info": {
   "codemirror_mode": {
    "name": "ipython",
    "version": 3
   },
   "file_extension": ".py",
   "mimetype": "text/x-python",
   "name": "python",
   "nbconvert_exporter": "python",
   "pygments_lexer": "ipython3",
   "version": "3.8.3"
  }
 },
 "nbformat": 4,
 "nbformat_minor": 4
}
