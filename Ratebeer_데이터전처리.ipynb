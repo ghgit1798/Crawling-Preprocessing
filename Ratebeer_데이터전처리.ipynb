{
 "cells": [
  {
   "cell_type": "code",
   "execution_count": 2,
   "metadata": {},
   "outputs": [],
   "source": [
    "import pandas as pd"
   ]
  },
  {
   "cell_type": "code",
   "execution_count": 5,
   "metadata": {},
   "outputs": [],
   "source": [
    "# data = pd.read_csv('beer_rawdata.csv', encoding='utf-8', index_col=0)\n",
    "data = pd.read_csv('추가맥주종합데이터.csv', encoding='utf-8', index_col=0)"
   ]
  },
  {
   "cell_type": "code",
   "execution_count": 6,
   "metadata": {},
   "outputs": [
    {
     "data": {
      "text/html": [
       "<div>\n",
       "<style scoped>\n",
       "    .dataframe tbody tr th:only-of-type {\n",
       "        vertical-align: middle;\n",
       "    }\n",
       "\n",
       "    .dataframe tbody tr th {\n",
       "        vertical-align: top;\n",
       "    }\n",
       "\n",
       "    .dataframe thead th {\n",
       "        text-align: right;\n",
       "    }\n",
       "</style>\n",
       "<table border=\"1\" class=\"dataframe\">\n",
       "  <thead>\n",
       "    <tr style=\"text-align: right;\">\n",
       "      <th></th>\n",
       "      <th>맥주정보</th>\n",
       "      <th>검색이름</th>\n",
       "      <th>맥주이름</th>\n",
       "    </tr>\n",
       "  </thead>\n",
       "  <tbody>\n",
       "    <tr>\n",
       "      <th>0</th>\n",
       "      <td>hopihalido(1,454)\\n🇩🇪Hamburg, Germany\\n1.2Dece...</td>\n",
       "      <td>5,0 Original</td>\n",
       "      <td>5,0 Original Pils</td>\n",
       "    </tr>\n",
       "    <tr>\n",
       "      <th>1</th>\n",
       "      <td>AndreiProdan(213)\\n🇲🇩Rautel, Moldova\\n2.4Decem...</td>\n",
       "      <td>5,0 Original</td>\n",
       "      <td>5,0 Original Pils</td>\n",
       "    </tr>\n",
       "    <tr>\n",
       "      <th>2</th>\n",
       "      <td>Badylatko(469)\\n🇵🇱Poland\\n2.1September 24, 202...</td>\n",
       "      <td>5,0 Original</td>\n",
       "      <td>5,0 Original Pils</td>\n",
       "    </tr>\n",
       "    <tr>\n",
       "      <th>3</th>\n",
       "      <td>qt01(451)\\n🇷🇴Cluj-Napoca, Romania\\n2.1August 1...</td>\n",
       "      <td>5,0 Original</td>\n",
       "      <td>5,0 Original Pils</td>\n",
       "    </tr>\n",
       "    <tr>\n",
       "      <th>4</th>\n",
       "      <td>SVD(3,986)\\n🇳🇱Netherlands\\n3.4August 2, 2020\\n...</td>\n",
       "      <td>5,0 Original</td>\n",
       "      <td>5,0 Original Pils</td>\n",
       "    </tr>\n",
       "  </tbody>\n",
       "</table>\n",
       "</div>"
      ],
      "text/plain": [
       "                                                맥주정보          검색이름  \\\n",
       "0  hopihalido(1,454)\\n🇩🇪Hamburg, Germany\\n1.2Dece...  5,0 Original   \n",
       "1  AndreiProdan(213)\\n🇲🇩Rautel, Moldova\\n2.4Decem...  5,0 Original   \n",
       "2  Badylatko(469)\\n🇵🇱Poland\\n2.1September 24, 202...  5,0 Original   \n",
       "3  qt01(451)\\n🇷🇴Cluj-Napoca, Romania\\n2.1August 1...  5,0 Original   \n",
       "4  SVD(3,986)\\n🇳🇱Netherlands\\n3.4August 2, 2020\\n...  5,0 Original   \n",
       "\n",
       "                맥주이름  \n",
       "0  5,0 Original Pils  \n",
       "1  5,0 Original Pils  \n",
       "2  5,0 Original Pils  \n",
       "3  5,0 Original Pils  \n",
       "4  5,0 Original Pils  "
      ]
     },
     "execution_count": 6,
     "metadata": {},
     "output_type": "execute_result"
    }
   ],
   "source": [
    "data.head()"
   ]
  },
  {
   "cell_type": "code",
   "execution_count": 7,
   "metadata": {},
   "outputs": [],
   "source": [
    "data = data[['맥주이름', '맥주정보']]"
   ]
  },
  {
   "cell_type": "code",
   "execution_count": 8,
   "metadata": {},
   "outputs": [
    {
     "name": "stdout",
     "output_type": "stream",
     "text": [
      "<class 'pandas.core.frame.DataFrame'>\n",
      "Int64Index: 209502 entries, 0 to 1\n",
      "Data columns (total 2 columns):\n",
      " #   Column  Non-Null Count   Dtype \n",
      "---  ------  --------------   ----- \n",
      " 0   맥주이름    209502 non-null  object\n",
      " 1   맥주정보    209502 non-null  object\n",
      "dtypes: object(2)\n",
      "memory usage: 4.8+ MB\n"
     ]
    }
   ],
   "source": [
    "data.info()"
   ]
  },
  {
   "cell_type": "code",
   "execution_count": 9,
   "metadata": {},
   "outputs": [
    {
     "data": {
      "text/plain": [
       "0    hopihalido(1,454)\\n🇩🇪Hamburg, Germany\\n1.2Dece...\n",
       "0    alex_leit(11,288)\\n🇧🇾Minsk, Belarus\\n2.1May 7,...\n",
       "0    Rubin77(6,380)\\n🇧🇪Brussels, Belgium\\n1.8May 7,...\n",
       "0    GriZZZly(488)\\n2.1July 27, 2017\\nAr: pusto, la...\n",
       "0    Blueshawk(464)\\n🇩🇪Bad Bellingen, Germany\\n0.9A...\n",
       "                           ...                        \n",
       "0    douglas88(11,589)\\n🇺🇸Portland, United States\\n...\n",
       "0    duffman462(176)\\n🇺🇸Fayetteville, United States...\n",
       "0    Saarlander(1,686)\\n🇩🇪Saarlouis, Germany\\n1.8Oc...\n",
       "0    JonR888710(999)\\n🇧🇴Cochabamba, Bolivia\\n1.3Aug...\n",
       "0    MartinT(10,698)\\n🇨🇦Montreal, Canada\\n0.7August...\n",
       "Name: 맥주정보, Length: 14280, dtype: object"
      ]
     },
     "execution_count": 9,
     "metadata": {},
     "output_type": "execute_result"
    }
   ],
   "source": [
    "data['맥주정보'][0]"
   ]
  },
  {
   "cell_type": "code",
   "execution_count": 10,
   "metadata": {},
   "outputs": [
    {
     "data": {
      "text/html": [
       "<div>\n",
       "<style scoped>\n",
       "    .dataframe tbody tr th:only-of-type {\n",
       "        vertical-align: middle;\n",
       "    }\n",
       "\n",
       "    .dataframe tbody tr th {\n",
       "        vertical-align: top;\n",
       "    }\n",
       "\n",
       "    .dataframe thead th {\n",
       "        text-align: right;\n",
       "    }\n",
       "</style>\n",
       "<table border=\"1\" class=\"dataframe\">\n",
       "  <thead>\n",
       "    <tr style=\"text-align: right;\">\n",
       "      <th></th>\n",
       "      <th>맥주이름</th>\n",
       "      <th>맥주정보</th>\n",
       "    </tr>\n",
       "  </thead>\n",
       "  <tbody>\n",
       "    <tr>\n",
       "      <th>0</th>\n",
       "      <td>5,0 Original Pils</td>\n",
       "      <td>hopihalido(1,454)\\n🇩🇪Hamburg, Germany\\n1.2Dece...</td>\n",
       "    </tr>\n",
       "    <tr>\n",
       "      <th>1</th>\n",
       "      <td>5,0 Original Pils</td>\n",
       "      <td>AndreiProdan(213)\\n🇲🇩Rautel, Moldova\\n2.4Decem...</td>\n",
       "    </tr>\n",
       "    <tr>\n",
       "      <th>2</th>\n",
       "      <td>5,0 Original Pils</td>\n",
       "      <td>Badylatko(469)\\n🇵🇱Poland\\n2.1September 24, 202...</td>\n",
       "    </tr>\n",
       "  </tbody>\n",
       "</table>\n",
       "</div>"
      ],
      "text/plain": [
       "                맥주이름                                               맥주정보\n",
       "0  5,0 Original Pils  hopihalido(1,454)\\n🇩🇪Hamburg, Germany\\n1.2Dece...\n",
       "1  5,0 Original Pils  AndreiProdan(213)\\n🇲🇩Rautel, Moldova\\n2.4Decem...\n",
       "2  5,0 Original Pils  Badylatko(469)\\n🇵🇱Poland\\n2.1September 24, 202..."
      ]
     },
     "execution_count": 10,
     "metadata": {},
     "output_type": "execute_result"
    }
   ],
   "source": [
    "data.head(3)"
   ]
  },
  {
   "cell_type": "code",
   "execution_count": 11,
   "metadata": {},
   "outputs": [
    {
     "data": {
      "text/plain": [
       "'hopihalido(1,454)\\n🇩🇪Hamburg, Germany\\n1.2December 19, 2020\\nAR: hopfig, unangenehm, \\nAP: klares goldgelb\\nTA: malzig, brotig,…\\nShow more\\nCAN\\nAroma\\n2\\nAppearance\\n1\\nFlavor\\n2\\nMouthfeel\\n2\\nOverall\\n5'"
      ]
     },
     "execution_count": 11,
     "metadata": {},
     "output_type": "execute_result"
    }
   ],
   "source": [
    "data['맥주정보'].iloc[0]"
   ]
  },
  {
   "cell_type": "code",
   "execution_count": 12,
   "metadata": {},
   "outputs": [],
   "source": [
    "tmp = data.copy()"
   ]
  },
  {
   "cell_type": "code",
   "execution_count": 13,
   "metadata": {},
   "outputs": [
    {
     "data": {
      "text/plain": [
       "0     [hopihalido(1,454), 🇩🇪Hamburg, Germany, 1.2Dec...\n",
       "1     [AndreiProdan(213), 🇲🇩Rautel, Moldova, 2.4Dece...\n",
       "2     [Badylatko(469), 🇵🇱Poland, 2.1September 24, 20...\n",
       "3     [qt01(451), 🇷🇴Cluj-Napoca, Romania, 2.1August ...\n",
       "4     [SVD(3,986), 🇳🇱Netherlands, 3.4August 2, 2020,...\n",
       "                            ...                        \n",
       "12    [Yankovitch333(612), 🇺🇸Baltimore, United State...\n",
       "13    [booyaatribe(453), 🇺🇸Chicago, United States, 1...\n",
       "14    [Kaya161(1,142), 🇺🇸San Diego, United States, 0...\n",
       "0     [MartinT(10,698), 🇨🇦Montreal, Canada, 0.7Augus...\n",
       "1     [tico0199(1), 🇺🇸Tampa, United States, 3.9Janua...\n",
       "Name: 맥주정보, Length: 209502, dtype: object"
      ]
     },
     "execution_count": 13,
     "metadata": {},
     "output_type": "execute_result"
    }
   ],
   "source": [
    "# \\n 개행문자 기준으로 분리\n",
    "tmp['맥주정보'] = tmp['맥주정보'].str.split('\\n')\n",
    "tmp['맥주정보']"
   ]
  },
  {
   "cell_type": "code",
   "execution_count": 14,
   "metadata": {},
   "outputs": [
    {
     "data": {
      "text/plain": [
       "['hopihalido(1,454)',\n",
       " '🇩🇪Hamburg, Germany',\n",
       " '1.2December 19, 2020',\n",
       " 'AR: hopfig, unangenehm, ',\n",
       " 'AP: klares goldgelb',\n",
       " 'TA: malzig, brotig,…',\n",
       " 'Show more',\n",
       " 'CAN',\n",
       " 'Aroma',\n",
       " '2',\n",
       " 'Appearance',\n",
       " '1',\n",
       " 'Flavor',\n",
       " '2',\n",
       " 'Mouthfeel',\n",
       " '2',\n",
       " 'Overall',\n",
       " '5']"
      ]
     },
     "execution_count": 14,
     "metadata": {},
     "output_type": "execute_result"
    }
   ],
   "source": [
    "tmp['맥주정보'].iloc[0]"
   ]
  },
  {
   "cell_type": "code",
   "execution_count": 15,
   "metadata": {},
   "outputs": [
    {
     "name": "stdout",
     "output_type": "stream",
     "text": [
      "18 15 16 15 14 16 14 17 15 16 "
     ]
    }
   ],
   "source": [
    "# 맥주 정보 리스트 길이 출력\n",
    "for i in range(10):\n",
    "    print(len(tmp['맥주정보'].iloc[i]), end=' ')"
   ]
  },
  {
   "cell_type": "code",
   "execution_count": 16,
   "metadata": {},
   "outputs": [],
   "source": [
    "# 맥주 정보 리스트 길이 저장\n",
    "tmp['길이'] = tmp['맥주정보'].apply(lambda x : len(x))"
   ]
  },
  {
   "cell_type": "code",
   "execution_count": 17,
   "metadata": {
    "scrolled": true
   },
   "outputs": [
    {
     "data": {
      "text/html": [
       "<div>\n",
       "<style scoped>\n",
       "    .dataframe tbody tr th:only-of-type {\n",
       "        vertical-align: middle;\n",
       "    }\n",
       "\n",
       "    .dataframe tbody tr th {\n",
       "        vertical-align: top;\n",
       "    }\n",
       "\n",
       "    .dataframe thead th {\n",
       "        text-align: right;\n",
       "    }\n",
       "</style>\n",
       "<table border=\"1\" class=\"dataframe\">\n",
       "  <thead>\n",
       "    <tr style=\"text-align: right;\">\n",
       "      <th></th>\n",
       "      <th>맥주이름</th>\n",
       "      <th>맥주정보</th>\n",
       "      <th>길이</th>\n",
       "    </tr>\n",
       "  </thead>\n",
       "  <tbody>\n",
       "    <tr>\n",
       "      <th>0</th>\n",
       "      <td>5,0 Original Pils</td>\n",
       "      <td>[hopihalido(1,454), 🇩🇪Hamburg, Germany, 1.2Dec...</td>\n",
       "      <td>18</td>\n",
       "    </tr>\n",
       "    <tr>\n",
       "      <th>1</th>\n",
       "      <td>5,0 Original Pils</td>\n",
       "      <td>[AndreiProdan(213), 🇲🇩Rautel, Moldova, 2.4Dece...</td>\n",
       "      <td>15</td>\n",
       "    </tr>\n",
       "    <tr>\n",
       "      <th>2</th>\n",
       "      <td>5,0 Original Pils</td>\n",
       "      <td>[Badylatko(469), 🇵🇱Poland, 2.1September 24, 20...</td>\n",
       "      <td>16</td>\n",
       "    </tr>\n",
       "  </tbody>\n",
       "</table>\n",
       "</div>"
      ],
      "text/plain": [
       "                맥주이름                                               맥주정보  길이\n",
       "0  5,0 Original Pils  [hopihalido(1,454), 🇩🇪Hamburg, Germany, 1.2Dec...  18\n",
       "1  5,0 Original Pils  [AndreiProdan(213), 🇲🇩Rautel, Moldova, 2.4Dece...  15\n",
       "2  5,0 Original Pils  [Badylatko(469), 🇵🇱Poland, 2.1September 24, 20...  16"
      ]
     },
     "execution_count": 17,
     "metadata": {},
     "output_type": "execute_result"
    }
   ],
   "source": [
    "tmp.head(3)"
   ]
  },
  {
   "cell_type": "code",
   "execution_count": 18,
   "metadata": {},
   "outputs": [
    {
     "name": "stdout",
     "output_type": "stream",
     "text": [
      "최소값 12\n",
      "최대값 19\n"
     ]
    }
   ],
   "source": [
    "print('최소값', min(tmp['길이']))\n",
    "print('최대값', max(tmp['길이']))"
   ]
  },
  {
   "cell_type": "code",
   "execution_count": 19,
   "metadata": {},
   "outputs": [],
   "source": [
    "long19 = tmp[tmp['길이'] == 19]\n",
    "long18 = tmp[tmp['길이'] == 18]\n",
    "long17 = tmp[tmp['길이'] == 17]\n",
    "long16 = tmp[tmp['길이'] == 16]\n",
    "long15 = tmp[tmp['길이'] == 15]\n",
    "long14 = tmp[tmp['길이'] == 14]\n",
    "long13 = tmp[tmp['길이'] == 13]"
   ]
  },
  {
   "cell_type": "code",
   "execution_count": 20,
   "metadata": {},
   "outputs": [
    {
     "data": {
      "text/plain": [
       "['ophone(1,379)',\n",
       " '🇱🇺Luxembourg',\n",
       " '3.2January 9, 2020',\n",
       " 'Having one at the Tankstelle pub in Cologne.',\n",
       " 'Clear golden with a thin head. ',\n",
       " 'Bitter, hoppy smell. Taste of a very common beer that…',\n",
       " 'Show more',\n",
       " 'TAP',\n",
       " '@ Tankstelle Köln',\n",
       " 'Aroma',\n",
       " '7',\n",
       " 'Appearance',\n",
       " '2',\n",
       " 'Flavor',\n",
       " '6',\n",
       " 'Mouthfeel',\n",
       " '3',\n",
       " 'Overall',\n",
       " '14']"
      ]
     },
     "execution_count": 20,
     "metadata": {},
     "output_type": "execute_result"
    }
   ],
   "source": [
    "# 0,1,2 까지 그리고, 뒤에서 10개\n",
    "long19['맥주정보'].iloc[0]"
   ]
  },
  {
   "cell_type": "code",
   "execution_count": 21,
   "metadata": {},
   "outputs": [
    {
     "data": {
      "text/plain": [
       "['hopihalido(1,454)',\n",
       " '🇩🇪Hamburg, Germany',\n",
       " '1.2December 19, 2020',\n",
       " 'AR: hopfig, unangenehm, ',\n",
       " 'AP: klares goldgelb',\n",
       " 'TA: malzig, brotig,…',\n",
       " 'Show more',\n",
       " 'CAN',\n",
       " 'Aroma',\n",
       " '2',\n",
       " 'Appearance',\n",
       " '1',\n",
       " 'Flavor',\n",
       " '2',\n",
       " 'Mouthfeel',\n",
       " '2',\n",
       " 'Overall',\n",
       " '5']"
      ]
     },
     "execution_count": 21,
     "metadata": {},
     "output_type": "execute_result"
    }
   ],
   "source": [
    "# 0, 1, 2 그리고 뒤에서 10개\n",
    "long18['맥주정보'].iloc[0]"
   ]
  },
  {
   "cell_type": "code",
   "execution_count": 22,
   "metadata": {},
   "outputs": [
    {
     "data": {
      "text/plain": [
       "['ophone(1,379)',\n",
       " '🇱🇺Luxembourg',\n",
       " '3.2January 9, 2020',\n",
       " 'Having one at the Tankstelle pub in Cologne.',\n",
       " 'Clear golden with a thin head. ',\n",
       " 'Bitter, hoppy smell. Taste of a very common beer that…',\n",
       " 'Show more',\n",
       " 'TAP',\n",
       " '@ Tankstelle Köln',\n",
       " 'Aroma',\n",
       " '7',\n",
       " 'Appearance',\n",
       " '2',\n",
       " 'Flavor',\n",
       " '6',\n",
       " 'Mouthfeel',\n",
       " '3',\n",
       " 'Overall',\n",
       " '14']"
      ]
     },
     "execution_count": 22,
     "metadata": {},
     "output_type": "execute_result"
    }
   ],
   "source": [
    "s_list = long19['맥주정보'].iloc[0]\n",
    "s_list"
   ]
  },
  {
   "cell_type": "code",
   "execution_count": 23,
   "metadata": {},
   "outputs": [
    {
     "data": {
      "text/plain": [
       "['ophone(1,379)',\n",
       " '🇱🇺Luxembourg',\n",
       " '3.2January 9, 2020',\n",
       " '14',\n",
       " 'Overall',\n",
       " '3',\n",
       " 'Mouthfeel',\n",
       " '6',\n",
       " 'Flavor',\n",
       " '2',\n",
       " 'Appearance']"
      ]
     },
     "execution_count": 23,
     "metadata": {},
     "output_type": "execute_result"
    }
   ],
   "source": [
    "s_list = s_list[:3] + s_list[:10:-1]\n",
    "s_list"
   ]
  },
  {
   "cell_type": "code",
   "execution_count": 24,
   "metadata": {},
   "outputs": [
    {
     "data": {
      "text/plain": [
       "11"
      ]
     },
     "execution_count": 24,
     "metadata": {},
     "output_type": "execute_result"
    }
   ],
   "source": [
    "len(s_list)"
   ]
  },
  {
   "cell_type": "code",
   "execution_count": null,
   "metadata": {},
   "outputs": [],
   "source": []
  },
  {
   "cell_type": "code",
   "execution_count": 25,
   "metadata": {},
   "outputs": [
    {
     "data": {
      "text/html": [
       "<div>\n",
       "<style scoped>\n",
       "    .dataframe tbody tr th:only-of-type {\n",
       "        vertical-align: middle;\n",
       "    }\n",
       "\n",
       "    .dataframe tbody tr th {\n",
       "        vertical-align: top;\n",
       "    }\n",
       "\n",
       "    .dataframe thead th {\n",
       "        text-align: right;\n",
       "    }\n",
       "</style>\n",
       "<table border=\"1\" class=\"dataframe\">\n",
       "  <thead>\n",
       "    <tr style=\"text-align: right;\">\n",
       "      <th></th>\n",
       "      <th>맥주이름</th>\n",
       "      <th>맥주정보</th>\n",
       "      <th>길이</th>\n",
       "    </tr>\n",
       "  </thead>\n",
       "  <tbody>\n",
       "    <tr>\n",
       "      <th>0</th>\n",
       "      <td>5,0 Original Pils</td>\n",
       "      <td>[hopihalido(1,454), 🇩🇪Hamburg, Germany, 1.2Dec...</td>\n",
       "      <td>18</td>\n",
       "    </tr>\n",
       "    <tr>\n",
       "      <th>1</th>\n",
       "      <td>5,0 Original Pils</td>\n",
       "      <td>[AndreiProdan(213), 🇲🇩Rautel, Moldova, 2.4Dece...</td>\n",
       "      <td>15</td>\n",
       "    </tr>\n",
       "    <tr>\n",
       "      <th>2</th>\n",
       "      <td>5,0 Original Pils</td>\n",
       "      <td>[Badylatko(469), 🇵🇱Poland, 2.1September 24, 20...</td>\n",
       "      <td>16</td>\n",
       "    </tr>\n",
       "  </tbody>\n",
       "</table>\n",
       "</div>"
      ],
      "text/plain": [
       "                맥주이름                                               맥주정보  길이\n",
       "0  5,0 Original Pils  [hopihalido(1,454), 🇩🇪Hamburg, Germany, 1.2Dec...  18\n",
       "1  5,0 Original Pils  [AndreiProdan(213), 🇲🇩Rautel, Moldova, 2.4Dece...  15\n",
       "2  5,0 Original Pils  [Badylatko(469), 🇵🇱Poland, 2.1September 24, 20...  16"
      ]
     },
     "execution_count": 25,
     "metadata": {},
     "output_type": "execute_result"
    }
   ],
   "source": [
    "ttmp = tmp.copy()\n",
    "ttmp.head(3)"
   ]
  },
  {
   "cell_type": "code",
   "execution_count": 26,
   "metadata": {},
   "outputs": [
    {
     "data": {
      "text/plain": [
       "'Overall'"
      ]
     },
     "execution_count": 26,
     "metadata": {},
     "output_type": "execute_result"
    }
   ],
   "source": [
    "ttmp['맥주정보'].iloc[10][-2]"
   ]
  },
  {
   "cell_type": "code",
   "execution_count": 27,
   "metadata": {},
   "outputs": [
    {
     "data": {
      "text/plain": [
       "['vladeath(1,853)',\n",
       " '🇷🇺Russia',\n",
       " '2.5July 4, 2020',\n",
       " 'Mediocre German pils. Golden color foam quickly leaves. Malt, grain, some hops at the finish.',\n",
       " 'CAN',\n",
       " 'Aroma',\n",
       " '5',\n",
       " 'Appearance',\n",
       " '3',\n",
       " 'Flavor',\n",
       " '5',\n",
       " 'Mouthfeel',\n",
       " '2',\n",
       " 'Overall']"
      ]
     },
     "execution_count": 27,
     "metadata": {},
     "output_type": "execute_result"
    }
   ],
   "source": [
    "tlist = ttmp['맥주정보'].iloc[10][:-1]\n",
    "tlist"
   ]
  },
  {
   "cell_type": "code",
   "execution_count": 31,
   "metadata": {},
   "outputs": [
    {
     "data": {
      "text/plain": [
       "['Overall',\n",
       " '2',\n",
       " 'Mouthfeel',\n",
       " '5',\n",
       " 'Flavor',\n",
       " '3',\n",
       " 'Appearance',\n",
       " '5',\n",
       " 'Aroma',\n",
       " 'CAN']"
      ]
     },
     "execution_count": 31,
     "metadata": {},
     "output_type": "execute_result"
    }
   ],
   "source": [
    "tlist[:-11:-1]"
   ]
  },
  {
   "cell_type": "code",
   "execution_count": 320,
   "metadata": {},
   "outputs": [],
   "source": [
    "# 좋아요가 1개인 것 찾아서 맨 뒤에 것 삭제\n",
    "ttmp['맥주정보'] = ttmp['맥주정보'].apply(lambda x : x if x[-2]=='Overall' else x[:-1] )"
   ]
  },
  {
   "cell_type": "code",
   "execution_count": 321,
   "metadata": {},
   "outputs": [],
   "source": [
    "ttmp['맥주정보'] = ttmp['맥주정보'].apply(lambda x : x[:3]+x[:-11:-1])"
   ]
  },
  {
   "cell_type": "code",
   "execution_count": 323,
   "metadata": {},
   "outputs": [
    {
     "data": {
      "text/plain": [
       "['Viper666.Qc(10,484)',\n",
       " '🇨🇦Richelieu, Canada',\n",
       " '2.7September 6, 2019',\n",
       " '10',\n",
       " 'Overall',\n",
       " '3',\n",
       " 'Mouthfeel',\n",
       " '6',\n",
       " 'Flavor',\n",
       " '3',\n",
       " 'Appearance',\n",
       " '5',\n",
       " 'Aroma']"
      ]
     },
     "execution_count": 323,
     "metadata": {},
     "output_type": "execute_result"
    }
   ],
   "source": [
    "ttmp['맥주정보'].iloc[10]"
   ]
  },
  {
   "cell_type": "code",
   "execution_count": 324,
   "metadata": {},
   "outputs": [],
   "source": [
    "ttmp['길이'] = ttmp['맥주정보'].apply(lambda x : len(x))"
   ]
  },
  {
   "cell_type": "code",
   "execution_count": 325,
   "metadata": {},
   "outputs": [
    {
     "data": {
      "text/html": [
       "<div>\n",
       "<style scoped>\n",
       "    .dataframe tbody tr th:only-of-type {\n",
       "        vertical-align: middle;\n",
       "    }\n",
       "\n",
       "    .dataframe tbody tr th {\n",
       "        vertical-align: top;\n",
       "    }\n",
       "\n",
       "    .dataframe thead th {\n",
       "        text-align: right;\n",
       "    }\n",
       "</style>\n",
       "<table border=\"1\" class=\"dataframe\">\n",
       "  <thead>\n",
       "    <tr style=\"text-align: right;\">\n",
       "      <th></th>\n",
       "      <th>맥주이름</th>\n",
       "      <th>맥주정보</th>\n",
       "      <th>편의점</th>\n",
       "      <th>길이</th>\n",
       "    </tr>\n",
       "  </thead>\n",
       "  <tbody>\n",
       "    <tr>\n",
       "      <th>0</th>\n",
       "      <td>Kloud Original Gravity</td>\n",
       "      <td>[patjenner(3), 4.0December 31, 2020, Strong ho...</td>\n",
       "      <td>CU GS25 7/11 ministop</td>\n",
       "      <td>13</td>\n",
       "    </tr>\n",
       "    <tr>\n",
       "      <th>1</th>\n",
       "      <td>Kloud Original Gravity</td>\n",
       "      <td>[pictoman(1,959), 🇨🇦Vancouver, Canada, 2.0Apri...</td>\n",
       "      <td>CU GS25 7/11 ministop</td>\n",
       "      <td>13</td>\n",
       "    </tr>\n",
       "    <tr>\n",
       "      <th>2</th>\n",
       "      <td>Kloud Original Gravity</td>\n",
       "      <td>[snoworsummer(8,581), 🇺🇸baltimore, United Stat...</td>\n",
       "      <td>CU GS25 7/11 ministop</td>\n",
       "      <td>13</td>\n",
       "    </tr>\n",
       "  </tbody>\n",
       "</table>\n",
       "</div>"
      ],
      "text/plain": [
       "                     맥주이름                                               맥주정보  \\\n",
       "0  Kloud Original Gravity  [patjenner(3), 4.0December 31, 2020, Strong ho...   \n",
       "1  Kloud Original Gravity  [pictoman(1,959), 🇨🇦Vancouver, Canada, 2.0Apri...   \n",
       "2  Kloud Original Gravity  [snoworsummer(8,581), 🇺🇸baltimore, United Stat...   \n",
       "\n",
       "                     편의점  길이  \n",
       "0  CU GS25 7/11 ministop  13  \n",
       "1  CU GS25 7/11 ministop  13  \n",
       "2  CU GS25 7/11 ministop  13  "
      ]
     },
     "execution_count": 325,
     "metadata": {},
     "output_type": "execute_result"
    }
   ],
   "source": [
    "ttmp.head(3)"
   ]
  },
  {
   "cell_type": "code",
   "execution_count": 326,
   "metadata": {},
   "outputs": [
    {
     "name": "stdout",
     "output_type": "stream",
     "text": [
      "최솟값 13\n",
      "최댓값 13\n"
     ]
    }
   ],
   "source": [
    "print('최솟값', min(ttmp['길이']))\n",
    "print('최댓값', max(ttmp['길이']))"
   ]
  },
  {
   "cell_type": "code",
   "execution_count": 328,
   "metadata": {},
   "outputs": [
    {
     "name": "stdout",
     "output_type": "stream",
     "text": [
      "['patjenner(3)', '4.0December 31, 2020', 'Strong hoppy flavor. Bavarian style. Ok but not fantastic. Needs to be super cold.…', '15', 'Overall', '4', 'Mouthfeel', '7', 'Flavor', '5', 'Appearance', '9', 'Aroma']\n",
      "['pictoman(1,959)', '🇨🇦Vancouver, Canada', '2.0April 22, 2020', '7', 'Overall', '3', 'Mouthfeel', '4', 'Flavor', '3', 'Appearance', '3', 'Aroma']\n",
      "['snoworsummer(8,581)', '🇺🇸baltimore, United States', '3.0March 7, 2020', '12', 'Overall', '3', 'Mouthfeel', '6', 'Flavor', '3', 'Appearance', '6', 'Aroma']\n",
      "['mickmac(726)', '🇦🇺Ngunnawal, Australia', '2.9February 20, 2020', '12', 'Overall', '4', 'Mouthfeel', '4', 'Flavor', '4', 'Appearance', '5', 'Aroma']\n",
      "['GuideDogSaint(2,549)', '🇨🇳Xiamen, China', '2.2February 8, 2020', '9', 'Overall', '2', 'Mouthfeel', '5', 'Flavor', '2', 'Appearance', '4', 'Aroma']\n"
     ]
    }
   ],
   "source": [
    "for i in range(5):\n",
    "    print(ttmp['맥주정보'].iloc[i])"
   ]
  },
  {
   "cell_type": "code",
   "execution_count": 329,
   "metadata": {},
   "outputs": [
    {
     "data": {
      "text/plain": [
       "['Viper666.Qc(10,484)',\n",
       " '🇨🇦Richelieu, Canada',\n",
       " '2.7September 6, 2019',\n",
       " '10',\n",
       " 'Overall',\n",
       " '3',\n",
       " 'Mouthfeel',\n",
       " '6',\n",
       " 'Flavor',\n",
       " '3',\n",
       " 'Appearance',\n",
       " '5',\n",
       " 'Aroma']"
      ]
     },
     "execution_count": 329,
     "metadata": {},
     "output_type": "execute_result"
    }
   ],
   "source": [
    "ttmp['맥주정보'].iloc[10]"
   ]
  },
  {
   "cell_type": "code",
   "execution_count": 330,
   "metadata": {},
   "outputs": [
    {
     "data": {
      "text/plain": [
       "'Aroma'"
      ]
     },
     "execution_count": 330,
     "metadata": {},
     "output_type": "execute_result"
    }
   ],
   "source": [
    "ttmp['맥주정보'].iloc[10][-1]"
   ]
  },
  {
   "cell_type": "code",
   "execution_count": null,
   "metadata": {},
   "outputs": [],
   "source": []
  },
  {
   "cell_type": "code",
   "execution_count": null,
   "metadata": {},
   "outputs": [],
   "source": []
  },
  {
   "cell_type": "code",
   "execution_count": 225,
   "metadata": {},
   "outputs": [
    {
     "data": {
      "text/html": [
       "<div>\n",
       "<style scoped>\n",
       "    .dataframe tbody tr th:only-of-type {\n",
       "        vertical-align: middle;\n",
       "    }\n",
       "\n",
       "    .dataframe tbody tr th {\n",
       "        vertical-align: top;\n",
       "    }\n",
       "\n",
       "    .dataframe thead th {\n",
       "        text-align: right;\n",
       "    }\n",
       "</style>\n",
       "<table border=\"1\" class=\"dataframe\">\n",
       "  <thead>\n",
       "    <tr style=\"text-align: right;\">\n",
       "      <th></th>\n",
       "      <th>맥주이름</th>\n",
       "      <th>맥주정보</th>\n",
       "      <th>편의점</th>\n",
       "      <th>길이</th>\n",
       "    </tr>\n",
       "  </thead>\n",
       "  <tbody>\n",
       "    <tr>\n",
       "      <th>0</th>\n",
       "      <td>Kloud Original Gravity</td>\n",
       "      <td>[patjenner(3), 4.0December 31, 2020, Strong ho...</td>\n",
       "      <td>CU GS25 7/11 ministop</td>\n",
       "      <td>14</td>\n",
       "    </tr>\n",
       "    <tr>\n",
       "      <th>1</th>\n",
       "      <td>Kloud Original Gravity</td>\n",
       "      <td>[pictoman(1,959), 🇨🇦Vancouver, Canada, 2.0Apri...</td>\n",
       "      <td>CU GS25 7/11 ministop</td>\n",
       "      <td>14</td>\n",
       "    </tr>\n",
       "    <tr>\n",
       "      <th>2</th>\n",
       "      <td>Kloud Original Gravity</td>\n",
       "      <td>[snoworsummer(8,581), 🇺🇸baltimore, United Stat...</td>\n",
       "      <td>CU GS25 7/11 ministop</td>\n",
       "      <td>14</td>\n",
       "    </tr>\n",
       "  </tbody>\n",
       "</table>\n",
       "</div>"
      ],
      "text/plain": [
       "                     맥주이름                                               맥주정보  \\\n",
       "0  Kloud Original Gravity  [patjenner(3), 4.0December 31, 2020, Strong ho...   \n",
       "1  Kloud Original Gravity  [pictoman(1,959), 🇨🇦Vancouver, Canada, 2.0Apri...   \n",
       "2  Kloud Original Gravity  [snoworsummer(8,581), 🇺🇸baltimore, United Stat...   \n",
       "\n",
       "                     편의점  길이  \n",
       "0  CU GS25 7/11 ministop  14  \n",
       "1  CU GS25 7/11 ministop  14  \n",
       "2  CU GS25 7/11 ministop  14  "
      ]
     },
     "execution_count": 225,
     "metadata": {},
     "output_type": "execute_result"
    }
   ],
   "source": [
    "ttmp = tmp.copy()\n",
    "ttmp.head(3)"
   ]
  },
  {
   "cell_type": "code",
   "execution_count": 331,
   "metadata": {},
   "outputs": [],
   "source": [
    "ttmp['ID'] = ttmp['맥주정보'].apply(lambda x: x[0])\n",
    "ttmp['Aroma'] = ttmp['맥주정보'].apply(lambda x: x[-2])\n",
    "ttmp['Appearance'] = ttmp['맥주정보'].apply(lambda x: x[-4])\n",
    "ttmp['Flavor'] = ttmp['맥주정보'].apply(lambda x: x[-6])\n",
    "ttmp['Mouthfeel'] = ttmp['맥주정보'].apply(lambda x: x[-8])\n",
    "ttmp['Overall'] = ttmp['맥주정보'].apply(lambda x: x[-10])\n",
    "# 리스트의 1,2번째만(평점날짜, 이상한값) 뽑아오기\n",
    "ttmp['맥주정보'] = ttmp['맥주정보'].apply(lambda x:x[1:3])\n",
    "ttmp['길이'] = ttmp['맥주정보'].apply(lambda x:len(x))"
   ]
  },
  {
   "cell_type": "code",
   "execution_count": 332,
   "metadata": {},
   "outputs": [
    {
     "data": {
      "text/html": [
       "<div>\n",
       "<style scoped>\n",
       "    .dataframe tbody tr th:only-of-type {\n",
       "        vertical-align: middle;\n",
       "    }\n",
       "\n",
       "    .dataframe tbody tr th {\n",
       "        vertical-align: top;\n",
       "    }\n",
       "\n",
       "    .dataframe thead th {\n",
       "        text-align: right;\n",
       "    }\n",
       "</style>\n",
       "<table border=\"1\" class=\"dataframe\">\n",
       "  <thead>\n",
       "    <tr style=\"text-align: right;\">\n",
       "      <th></th>\n",
       "      <th>맥주이름</th>\n",
       "      <th>맥주정보</th>\n",
       "      <th>편의점</th>\n",
       "      <th>길이</th>\n",
       "      <th>ID</th>\n",
       "      <th>Aroma</th>\n",
       "      <th>Appearance</th>\n",
       "      <th>Flavor</th>\n",
       "      <th>Mouthfeel</th>\n",
       "      <th>Overall</th>\n",
       "    </tr>\n",
       "  </thead>\n",
       "  <tbody>\n",
       "    <tr>\n",
       "      <th>0</th>\n",
       "      <td>Kloud Original Gravity</td>\n",
       "      <td>[4.0December 31, 2020, Strong hoppy flavor. Ba...</td>\n",
       "      <td>CU GS25 7/11 ministop</td>\n",
       "      <td>2</td>\n",
       "      <td>patjenner(3)</td>\n",
       "      <td>9</td>\n",
       "      <td>5</td>\n",
       "      <td>7</td>\n",
       "      <td>4</td>\n",
       "      <td>15</td>\n",
       "    </tr>\n",
       "    <tr>\n",
       "      <th>1</th>\n",
       "      <td>Kloud Original Gravity</td>\n",
       "      <td>[🇨🇦Vancouver, Canada, 2.0April 22, 2020]</td>\n",
       "      <td>CU GS25 7/11 ministop</td>\n",
       "      <td>2</td>\n",
       "      <td>pictoman(1,959)</td>\n",
       "      <td>3</td>\n",
       "      <td>3</td>\n",
       "      <td>4</td>\n",
       "      <td>3</td>\n",
       "      <td>7</td>\n",
       "    </tr>\n",
       "    <tr>\n",
       "      <th>2</th>\n",
       "      <td>Kloud Original Gravity</td>\n",
       "      <td>[🇺🇸baltimore, United States, 3.0March 7, 2020]</td>\n",
       "      <td>CU GS25 7/11 ministop</td>\n",
       "      <td>2</td>\n",
       "      <td>snoworsummer(8,581)</td>\n",
       "      <td>6</td>\n",
       "      <td>3</td>\n",
       "      <td>6</td>\n",
       "      <td>3</td>\n",
       "      <td>12</td>\n",
       "    </tr>\n",
       "  </tbody>\n",
       "</table>\n",
       "</div>"
      ],
      "text/plain": [
       "                     맥주이름                                               맥주정보  \\\n",
       "0  Kloud Original Gravity  [4.0December 31, 2020, Strong hoppy flavor. Ba...   \n",
       "1  Kloud Original Gravity           [🇨🇦Vancouver, Canada, 2.0April 22, 2020]   \n",
       "2  Kloud Original Gravity     [🇺🇸baltimore, United States, 3.0March 7, 2020]   \n",
       "\n",
       "                     편의점  길이                   ID Aroma Appearance Flavor  \\\n",
       "0  CU GS25 7/11 ministop   2         patjenner(3)     9          5      7   \n",
       "1  CU GS25 7/11 ministop   2      pictoman(1,959)     3          3      4   \n",
       "2  CU GS25 7/11 ministop   2  snoworsummer(8,581)     6          3      6   \n",
       "\n",
       "  Mouthfeel Overall  \n",
       "0         4      15  \n",
       "1         3       7  \n",
       "2         3      12  "
      ]
     },
     "execution_count": 332,
     "metadata": {},
     "output_type": "execute_result"
    }
   ],
   "source": [
    "ttmp.head(3)"
   ]
  },
  {
   "cell_type": "code",
   "execution_count": 333,
   "metadata": {},
   "outputs": [
    {
     "data": {
      "text/plain": [
       "['4.0December 31, 2020',\n",
       " 'Strong hoppy flavor. Bavarian style. Ok but not fantastic. Needs to be super cold.…']"
      ]
     },
     "execution_count": 333,
     "metadata": {},
     "output_type": "execute_result"
    }
   ],
   "source": [
    "ttmp['맥주정보'].iloc[0]"
   ]
  },
  {
   "cell_type": "code",
   "execution_count": 334,
   "metadata": {},
   "outputs": [
    {
     "data": {
      "text/plain": [
       "['🇨🇦Vancouver, Canada', '2.0April 22, 2020']"
      ]
     },
     "execution_count": 334,
     "metadata": {},
     "output_type": "execute_result"
    }
   ],
   "source": [
    "ttmp['맥주정보'].iloc[1]"
   ]
  },
  {
   "cell_type": "code",
   "execution_count": 335,
   "metadata": {},
   "outputs": [
    {
     "data": {
      "text/plain": [
       "['🇺🇸baltimore, United States', '3.0March 7, 2020']"
      ]
     },
     "execution_count": 335,
     "metadata": {},
     "output_type": "execute_result"
    }
   ],
   "source": [
    "ttmp['맥주정보'].iloc[2]"
   ]
  },
  {
   "cell_type": "code",
   "execution_count": 336,
   "metadata": {},
   "outputs": [],
   "source": [
    "import re\n",
    "\n",
    "reg = re.compile('[0-9]+.+[0-9]+[A-Za-z0-9]+')"
   ]
  },
  {
   "cell_type": "code",
   "execution_count": 337,
   "metadata": {},
   "outputs": [],
   "source": [
    "# x[0].str.contains('[0-9]+.+[0-9]+[A-Za-z0-9]+')"
   ]
  },
  {
   "cell_type": "code",
   "execution_count": 338,
   "metadata": {},
   "outputs": [],
   "source": [
    "ttmp['맥주정보'] = ttmp['맥주정보'].apply(lambda x: x[0] if reg.match(x[0]) else x[1])"
   ]
  },
  {
   "cell_type": "code",
   "execution_count": 339,
   "metadata": {},
   "outputs": [
    {
     "data": {
      "text/plain": [
       "'4.0December 31, 2020'"
      ]
     },
     "execution_count": 339,
     "metadata": {},
     "output_type": "execute_result"
    }
   ],
   "source": [
    "ttmp['맥주정보'].iloc[0]"
   ]
  },
  {
   "cell_type": "code",
   "execution_count": 340,
   "metadata": {},
   "outputs": [],
   "source": [
    "ttmp['평점'] = ttmp['맥주정보'].apply(lambda x : x[:3])\n",
    "ttmp['날짜'] = ttmp['맥주정보'].apply(lambda x : x[3:])"
   ]
  },
  {
   "cell_type": "code",
   "execution_count": 354,
   "metadata": {},
   "outputs": [
    {
     "data": {
      "text/html": [
       "<div>\n",
       "<style scoped>\n",
       "    .dataframe tbody tr th:only-of-type {\n",
       "        vertical-align: middle;\n",
       "    }\n",
       "\n",
       "    .dataframe tbody tr th {\n",
       "        vertical-align: top;\n",
       "    }\n",
       "\n",
       "    .dataframe thead th {\n",
       "        text-align: right;\n",
       "    }\n",
       "</style>\n",
       "<table border=\"1\" class=\"dataframe\">\n",
       "  <thead>\n",
       "    <tr style=\"text-align: right;\">\n",
       "      <th></th>\n",
       "      <th>ID</th>\n",
       "      <th>맥주이름</th>\n",
       "      <th>날짜</th>\n",
       "      <th>평점</th>\n",
       "      <th>Aroma</th>\n",
       "      <th>Appearance</th>\n",
       "      <th>Flavor</th>\n",
       "      <th>Mouthfeel</th>\n",
       "      <th>Overall</th>\n",
       "      <th>편의점</th>\n",
       "    </tr>\n",
       "  </thead>\n",
       "  <tbody>\n",
       "    <tr>\n",
       "      <th>0</th>\n",
       "      <td>patjenner(3)</td>\n",
       "      <td>Kloud Original Gravity</td>\n",
       "      <td>December 31, 2020</td>\n",
       "      <td>4.0</td>\n",
       "      <td>9</td>\n",
       "      <td>5</td>\n",
       "      <td>7</td>\n",
       "      <td>4</td>\n",
       "      <td>15</td>\n",
       "      <td>CU GS25 7/11 ministop</td>\n",
       "    </tr>\n",
       "    <tr>\n",
       "      <th>1</th>\n",
       "      <td>pictoman(1,959)</td>\n",
       "      <td>Kloud Original Gravity</td>\n",
       "      <td>April 22, 2020</td>\n",
       "      <td>2.0</td>\n",
       "      <td>3</td>\n",
       "      <td>3</td>\n",
       "      <td>4</td>\n",
       "      <td>3</td>\n",
       "      <td>7</td>\n",
       "      <td>CU GS25 7/11 ministop</td>\n",
       "    </tr>\n",
       "    <tr>\n",
       "      <th>2</th>\n",
       "      <td>snoworsummer(8,581)</td>\n",
       "      <td>Kloud Original Gravity</td>\n",
       "      <td>March 7, 2020</td>\n",
       "      <td>3.0</td>\n",
       "      <td>6</td>\n",
       "      <td>3</td>\n",
       "      <td>6</td>\n",
       "      <td>3</td>\n",
       "      <td>12</td>\n",
       "      <td>CU GS25 7/11 ministop</td>\n",
       "    </tr>\n",
       "  </tbody>\n",
       "</table>\n",
       "</div>"
      ],
      "text/plain": [
       "                    ID                    맥주이름                 날짜   평점 Aroma  \\\n",
       "0         patjenner(3)  Kloud Original Gravity  December 31, 2020  4.0     9   \n",
       "1      pictoman(1,959)  Kloud Original Gravity     April 22, 2020  2.0     3   \n",
       "2  snoworsummer(8,581)  Kloud Original Gravity      March 7, 2020  3.0     6   \n",
       "\n",
       "  Appearance Flavor Mouthfeel Overall                    편의점  \n",
       "0          5      7         4      15  CU GS25 7/11 ministop  \n",
       "1          3      4         3       7  CU GS25 7/11 ministop  \n",
       "2          3      6         3      12  CU GS25 7/11 ministop  "
      ]
     },
     "execution_count": 354,
     "metadata": {},
     "output_type": "execute_result"
    }
   ],
   "source": [
    "ttmp.head(3)"
   ]
  },
  {
   "cell_type": "code",
   "execution_count": 355,
   "metadata": {},
   "outputs": [
    {
     "data": {
      "text/plain": [
       "Index(['ID', '맥주이름', '날짜', '평점', 'Aroma', 'Appearance', 'Flavor', 'Mouthfeel',\n",
       "       'Overall', '편의점'],\n",
       "      dtype='object')"
      ]
     },
     "execution_count": 355,
     "metadata": {},
     "output_type": "execute_result"
    }
   ],
   "source": [
    "ttmp.columns"
   ]
  },
  {
   "cell_type": "code",
   "execution_count": 356,
   "metadata": {},
   "outputs": [],
   "source": [
    "ttmp.columns = ['아이디', '맥주', '날짜', '평점', 'Aroma', 'Appearance', 'Flavor', 'Mouthfeel',\n",
    "       'Overall', '편의점']"
   ]
  },
  {
   "cell_type": "code",
   "execution_count": 357,
   "metadata": {},
   "outputs": [],
   "source": [
    "ttmp = ttmp[['아이디', '맥주', '날짜', '평점', '편의점', 'Aroma', 'Appearance', 'Flavor',\n",
    "       'Mouthfeel', 'Overall']]"
   ]
  },
  {
   "cell_type": "code",
   "execution_count": 358,
   "metadata": {},
   "outputs": [
    {
     "data": {
      "text/html": [
       "<div>\n",
       "<style scoped>\n",
       "    .dataframe tbody tr th:only-of-type {\n",
       "        vertical-align: middle;\n",
       "    }\n",
       "\n",
       "    .dataframe tbody tr th {\n",
       "        vertical-align: top;\n",
       "    }\n",
       "\n",
       "    .dataframe thead th {\n",
       "        text-align: right;\n",
       "    }\n",
       "</style>\n",
       "<table border=\"1\" class=\"dataframe\">\n",
       "  <thead>\n",
       "    <tr style=\"text-align: right;\">\n",
       "      <th></th>\n",
       "      <th>아이디</th>\n",
       "      <th>맥주</th>\n",
       "      <th>날짜</th>\n",
       "      <th>평점</th>\n",
       "      <th>편의점</th>\n",
       "      <th>Aroma</th>\n",
       "      <th>Appearance</th>\n",
       "      <th>Flavor</th>\n",
       "      <th>Mouthfeel</th>\n",
       "      <th>Overall</th>\n",
       "    </tr>\n",
       "  </thead>\n",
       "  <tbody>\n",
       "    <tr>\n",
       "      <th>0</th>\n",
       "      <td>patjenner(3)</td>\n",
       "      <td>Kloud Original Gravity</td>\n",
       "      <td>December 31, 2020</td>\n",
       "      <td>4.0</td>\n",
       "      <td>CU GS25 7/11 ministop</td>\n",
       "      <td>9</td>\n",
       "      <td>5</td>\n",
       "      <td>7</td>\n",
       "      <td>4</td>\n",
       "      <td>15</td>\n",
       "    </tr>\n",
       "    <tr>\n",
       "      <th>1</th>\n",
       "      <td>pictoman(1,959)</td>\n",
       "      <td>Kloud Original Gravity</td>\n",
       "      <td>April 22, 2020</td>\n",
       "      <td>2.0</td>\n",
       "      <td>CU GS25 7/11 ministop</td>\n",
       "      <td>3</td>\n",
       "      <td>3</td>\n",
       "      <td>4</td>\n",
       "      <td>3</td>\n",
       "      <td>7</td>\n",
       "    </tr>\n",
       "    <tr>\n",
       "      <th>2</th>\n",
       "      <td>snoworsummer(8,581)</td>\n",
       "      <td>Kloud Original Gravity</td>\n",
       "      <td>March 7, 2020</td>\n",
       "      <td>3.0</td>\n",
       "      <td>CU GS25 7/11 ministop</td>\n",
       "      <td>6</td>\n",
       "      <td>3</td>\n",
       "      <td>6</td>\n",
       "      <td>3</td>\n",
       "      <td>12</td>\n",
       "    </tr>\n",
       "  </tbody>\n",
       "</table>\n",
       "</div>"
      ],
      "text/plain": [
       "                   아이디                      맥주                 날짜   평점  \\\n",
       "0         patjenner(3)  Kloud Original Gravity  December 31, 2020  4.0   \n",
       "1      pictoman(1,959)  Kloud Original Gravity     April 22, 2020  2.0   \n",
       "2  snoworsummer(8,581)  Kloud Original Gravity      March 7, 2020  3.0   \n",
       "\n",
       "                     편의점 Aroma Appearance Flavor Mouthfeel Overall  \n",
       "0  CU GS25 7/11 ministop     9          5      7         4      15  \n",
       "1  CU GS25 7/11 ministop     3          3      4         3       7  \n",
       "2  CU GS25 7/11 ministop     6          3      6         3      12  "
      ]
     },
     "execution_count": 358,
     "metadata": {},
     "output_type": "execute_result"
    }
   ],
   "source": [
    "ttmp.head(3)"
   ]
  },
  {
   "cell_type": "code",
   "execution_count": 360,
   "metadata": {
    "collapsed": true
   },
   "outputs": [
    {
     "data": {
      "text/html": [
       "<div>\n",
       "<style scoped>\n",
       "    .dataframe tbody tr th:only-of-type {\n",
       "        vertical-align: middle;\n",
       "    }\n",
       "\n",
       "    .dataframe tbody tr th {\n",
       "        vertical-align: top;\n",
       "    }\n",
       "\n",
       "    .dataframe thead th {\n",
       "        text-align: right;\n",
       "    }\n",
       "</style>\n",
       "<table border=\"1\" class=\"dataframe\">\n",
       "  <thead>\n",
       "    <tr style=\"text-align: right;\">\n",
       "      <th></th>\n",
       "      <th>아이디</th>\n",
       "      <th>맥주</th>\n",
       "      <th>날짜</th>\n",
       "      <th>평점</th>\n",
       "      <th>편의점</th>\n",
       "      <th>Aroma</th>\n",
       "      <th>Appearance</th>\n",
       "      <th>Flavor</th>\n",
       "      <th>Mouthfeel</th>\n",
       "      <th>Overall</th>\n",
       "    </tr>\n",
       "  </thead>\n",
       "  <tbody>\n",
       "    <tr>\n",
       "      <th>10</th>\n",
       "      <td>Viper666.Qc(10,484)</td>\n",
       "      <td>Kloud Original Gravity</td>\n",
       "      <td>September 6, 2019</td>\n",
       "      <td>2.7</td>\n",
       "      <td>CU GS25 7/11 ministop</td>\n",
       "      <td>5</td>\n",
       "      <td>3</td>\n",
       "      <td>6</td>\n",
       "      <td>3</td>\n",
       "      <td>10</td>\n",
       "    </tr>\n",
       "    <tr>\n",
       "      <th>825</th>\n",
       "      <td>Viper666.Qc(10,484)</td>\n",
       "      <td>Asahi Super Dry</td>\n",
       "      <td>January 4, 2013</td>\n",
       "      <td>2.2</td>\n",
       "      <td>CU GS25 7/11 ministop</td>\n",
       "      <td>5</td>\n",
       "      <td>3</td>\n",
       "      <td>4</td>\n",
       "      <td>2</td>\n",
       "      <td>8</td>\n",
       "    </tr>\n",
       "    <tr>\n",
       "      <th>308</th>\n",
       "      <td>Viper666.Qc(10,484)</td>\n",
       "      <td>Tsingtao</td>\n",
       "      <td>March 7, 2016</td>\n",
       "      <td>1.9</td>\n",
       "      <td>CU GS25 7/11 ministop</td>\n",
       "      <td>4</td>\n",
       "      <td>2</td>\n",
       "      <td>4</td>\n",
       "      <td>2</td>\n",
       "      <td>7</td>\n",
       "    </tr>\n",
       "    <tr>\n",
       "      <th>2622</th>\n",
       "      <td>Viper666.Qc(10,484)</td>\n",
       "      <td>Heineken</td>\n",
       "      <td>May 17, 2007</td>\n",
       "      <td>2.0</td>\n",
       "      <td>CU GS25 7/11 ministop</td>\n",
       "      <td>3</td>\n",
       "      <td>2</td>\n",
       "      <td>4</td>\n",
       "      <td>2</td>\n",
       "      <td>9</td>\n",
       "    </tr>\n",
       "    <tr>\n",
       "      <th>690</th>\n",
       "      <td>Viper666.Qc(10,484)</td>\n",
       "      <td>Kirin Ichiban</td>\n",
       "      <td>February 12, 2013</td>\n",
       "      <td>2.0</td>\n",
       "      <td>CU GS25 7/11 ministop</td>\n",
       "      <td>3</td>\n",
       "      <td>3</td>\n",
       "      <td>3</td>\n",
       "      <td>2</td>\n",
       "      <td>9</td>\n",
       "    </tr>\n",
       "    <tr>\n",
       "      <th>1674</th>\n",
       "      <td>Viper666.Qc(10,484)</td>\n",
       "      <td>Guinness Draught</td>\n",
       "      <td>February 10, 2013</td>\n",
       "      <td>3.4</td>\n",
       "      <td>CU GS25 7/11 ministop</td>\n",
       "      <td>6</td>\n",
       "      <td>5</td>\n",
       "      <td>6</td>\n",
       "      <td>3</td>\n",
       "      <td>14</td>\n",
       "    </tr>\n",
       "    <tr>\n",
       "      <th>734</th>\n",
       "      <td>Viper666.Qc(10,484)</td>\n",
       "      <td>Kronenbourg 1664 Blanc</td>\n",
       "      <td>July 16, 2011</td>\n",
       "      <td>2.7</td>\n",
       "      <td>CU GS25 7/11 ministop</td>\n",
       "      <td>5</td>\n",
       "      <td>3</td>\n",
       "      <td>5</td>\n",
       "      <td>3</td>\n",
       "      <td>11</td>\n",
       "    </tr>\n",
       "    <tr>\n",
       "      <th>2851</th>\n",
       "      <td>Viper666.Qc(10,484)</td>\n",
       "      <td>Pilsner Urquell</td>\n",
       "      <td>May 27, 2007</td>\n",
       "      <td>3.0</td>\n",
       "      <td>CU GS25 7/11 ministop</td>\n",
       "      <td>6</td>\n",
       "      <td>3</td>\n",
       "      <td>6</td>\n",
       "      <td>3</td>\n",
       "      <td>12</td>\n",
       "    </tr>\n",
       "    <tr>\n",
       "      <th>317</th>\n",
       "      <td>Viper666.Qc(10,484)</td>\n",
       "      <td>Victoria Bitter</td>\n",
       "      <td>June 29, 2011</td>\n",
       "      <td>1.5</td>\n",
       "      <td>CU GS25 7/11 ministop</td>\n",
       "      <td>3</td>\n",
       "      <td>2</td>\n",
       "      <td>3</td>\n",
       "      <td>2</td>\n",
       "      <td>5</td>\n",
       "    </tr>\n",
       "    <tr>\n",
       "      <th>433</th>\n",
       "      <td>Viper666.Qc(10,484)</td>\n",
       "      <td>Krombacher Weizen</td>\n",
       "      <td>December 26, 2012</td>\n",
       "      <td>3.2</td>\n",
       "      <td>CU</td>\n",
       "      <td>7</td>\n",
       "      <td>3</td>\n",
       "      <td>6</td>\n",
       "      <td>3</td>\n",
       "      <td>13</td>\n",
       "    </tr>\n",
       "    <tr>\n",
       "      <th>1243</th>\n",
       "      <td>Viper666.Qc(10,484)</td>\n",
       "      <td>Miller Genuine Draft (MGD)</td>\n",
       "      <td>June 12, 2007</td>\n",
       "      <td>1.3</td>\n",
       "      <td>CU GS25 7/11</td>\n",
       "      <td>2</td>\n",
       "      <td>2</td>\n",
       "      <td>2</td>\n",
       "      <td>2</td>\n",
       "      <td>5</td>\n",
       "    </tr>\n",
       "    <tr>\n",
       "      <th>10</th>\n",
       "      <td>Viper666.Qc(10,484)</td>\n",
       "      <td>Kloud Original Gravity</td>\n",
       "      <td>September 6, 2019</td>\n",
       "      <td>2.7</td>\n",
       "      <td>CU GS25 7/11 ministop</td>\n",
       "      <td>5</td>\n",
       "      <td>3</td>\n",
       "      <td>6</td>\n",
       "      <td>3</td>\n",
       "      <td>10</td>\n",
       "    </tr>\n",
       "    <tr>\n",
       "      <th>825</th>\n",
       "      <td>Viper666.Qc(10,484)</td>\n",
       "      <td>Asahi Super Dry</td>\n",
       "      <td>January 4, 2013</td>\n",
       "      <td>2.2</td>\n",
       "      <td>CU GS25 7/11 ministop</td>\n",
       "      <td>5</td>\n",
       "      <td>3</td>\n",
       "      <td>4</td>\n",
       "      <td>2</td>\n",
       "      <td>8</td>\n",
       "    </tr>\n",
       "    <tr>\n",
       "      <th>308</th>\n",
       "      <td>Viper666.Qc(10,484)</td>\n",
       "      <td>Tsingtao</td>\n",
       "      <td>March 7, 2016</td>\n",
       "      <td>1.9</td>\n",
       "      <td>CU GS25 7/11 ministop</td>\n",
       "      <td>4</td>\n",
       "      <td>2</td>\n",
       "      <td>4</td>\n",
       "      <td>2</td>\n",
       "      <td>7</td>\n",
       "    </tr>\n",
       "    <tr>\n",
       "      <th>2622</th>\n",
       "      <td>Viper666.Qc(10,484)</td>\n",
       "      <td>Heineken</td>\n",
       "      <td>May 17, 2007</td>\n",
       "      <td>2.0</td>\n",
       "      <td>CU GS25 7/11 ministop</td>\n",
       "      <td>3</td>\n",
       "      <td>2</td>\n",
       "      <td>4</td>\n",
       "      <td>2</td>\n",
       "      <td>9</td>\n",
       "    </tr>\n",
       "    <tr>\n",
       "      <th>690</th>\n",
       "      <td>Viper666.Qc(10,484)</td>\n",
       "      <td>Kirin Ichiban</td>\n",
       "      <td>February 12, 2013</td>\n",
       "      <td>2.0</td>\n",
       "      <td>CU GS25 7/11 ministop</td>\n",
       "      <td>3</td>\n",
       "      <td>3</td>\n",
       "      <td>3</td>\n",
       "      <td>2</td>\n",
       "      <td>9</td>\n",
       "    </tr>\n",
       "    <tr>\n",
       "      <th>1674</th>\n",
       "      <td>Viper666.Qc(10,484)</td>\n",
       "      <td>Guinness Draught</td>\n",
       "      <td>February 10, 2013</td>\n",
       "      <td>3.4</td>\n",
       "      <td>CU GS25 7/11 ministop</td>\n",
       "      <td>6</td>\n",
       "      <td>5</td>\n",
       "      <td>6</td>\n",
       "      <td>3</td>\n",
       "      <td>14</td>\n",
       "    </tr>\n",
       "    <tr>\n",
       "      <th>734</th>\n",
       "      <td>Viper666.Qc(10,484)</td>\n",
       "      <td>Kronenbourg 1664 Blanc</td>\n",
       "      <td>July 16, 2011</td>\n",
       "      <td>2.7</td>\n",
       "      <td>CU GS25 7/11 ministop</td>\n",
       "      <td>5</td>\n",
       "      <td>3</td>\n",
       "      <td>5</td>\n",
       "      <td>3</td>\n",
       "      <td>11</td>\n",
       "    </tr>\n",
       "    <tr>\n",
       "      <th>2851</th>\n",
       "      <td>Viper666.Qc(10,484)</td>\n",
       "      <td>Pilsner Urquell</td>\n",
       "      <td>May 27, 2007</td>\n",
       "      <td>3.0</td>\n",
       "      <td>CU GS25 7/11 ministop</td>\n",
       "      <td>6</td>\n",
       "      <td>3</td>\n",
       "      <td>6</td>\n",
       "      <td>3</td>\n",
       "      <td>12</td>\n",
       "    </tr>\n",
       "    <tr>\n",
       "      <th>317</th>\n",
       "      <td>Viper666.Qc(10,484)</td>\n",
       "      <td>Victoria Bitter</td>\n",
       "      <td>June 29, 2011</td>\n",
       "      <td>1.5</td>\n",
       "      <td>CU GS25 7/11 ministop</td>\n",
       "      <td>3</td>\n",
       "      <td>2</td>\n",
       "      <td>3</td>\n",
       "      <td>2</td>\n",
       "      <td>5</td>\n",
       "    </tr>\n",
       "    <tr>\n",
       "      <th>433</th>\n",
       "      <td>Viper666.Qc(10,484)</td>\n",
       "      <td>Krombacher Weizen</td>\n",
       "      <td>December 26, 2012</td>\n",
       "      <td>3.2</td>\n",
       "      <td>CU</td>\n",
       "      <td>7</td>\n",
       "      <td>3</td>\n",
       "      <td>6</td>\n",
       "      <td>3</td>\n",
       "      <td>13</td>\n",
       "    </tr>\n",
       "    <tr>\n",
       "      <th>1243</th>\n",
       "      <td>Viper666.Qc(10,484)</td>\n",
       "      <td>Miller Genuine Draft (MGD)</td>\n",
       "      <td>June 12, 2007</td>\n",
       "      <td>1.3</td>\n",
       "      <td>CU GS25 7/11</td>\n",
       "      <td>2</td>\n",
       "      <td>2</td>\n",
       "      <td>2</td>\n",
       "      <td>2</td>\n",
       "      <td>5</td>\n",
       "    </tr>\n",
       "    <tr>\n",
       "      <th>278</th>\n",
       "      <td>Viper666.Qc(10,484)</td>\n",
       "      <td>Tiger Beer</td>\n",
       "      <td>March 7, 2016</td>\n",
       "      <td>1.9</td>\n",
       "      <td>CU ministop</td>\n",
       "      <td>3</td>\n",
       "      <td>2</td>\n",
       "      <td>4</td>\n",
       "      <td>2</td>\n",
       "      <td>8</td>\n",
       "    </tr>\n",
       "    <tr>\n",
       "      <th>1098</th>\n",
       "      <td>Viper666.Qc(10,484)</td>\n",
       "      <td>Erdinger Weissbier</td>\n",
       "      <td>January 21, 2013</td>\n",
       "      <td>3.2</td>\n",
       "      <td>CU ministop</td>\n",
       "      <td>6</td>\n",
       "      <td>3</td>\n",
       "      <td>6</td>\n",
       "      <td>3</td>\n",
       "      <td>14</td>\n",
       "    </tr>\n",
       "    <tr>\n",
       "      <th>961</th>\n",
       "      <td>Viper666.Qc(10,484)</td>\n",
       "      <td>Carlsberg Pilsner</td>\n",
       "      <td>January 4, 2009</td>\n",
       "      <td>2.3</td>\n",
       "      <td>CU</td>\n",
       "      <td>5</td>\n",
       "      <td>3</td>\n",
       "      <td>5</td>\n",
       "      <td>2</td>\n",
       "      <td>8</td>\n",
       "    </tr>\n",
       "    <tr>\n",
       "      <th>2371</th>\n",
       "      <td>Viper666.Qc(10,484)</td>\n",
       "      <td>Budweiser</td>\n",
       "      <td>May 17, 2007</td>\n",
       "      <td>1.1</td>\n",
       "      <td>CU GS25 7/11 ministop</td>\n",
       "      <td>2</td>\n",
       "      <td>2</td>\n",
       "      <td>2</td>\n",
       "      <td>2</td>\n",
       "      <td>3</td>\n",
       "    </tr>\n",
       "    <tr>\n",
       "      <th>2890</th>\n",
       "      <td>Viper666.Qc(10,484)</td>\n",
       "      <td>Hoegaarden</td>\n",
       "      <td>February 3, 2008</td>\n",
       "      <td>3.6</td>\n",
       "      <td>CU GS25 7/11 ministop</td>\n",
       "      <td>7</td>\n",
       "      <td>4</td>\n",
       "      <td>7</td>\n",
       "      <td>3</td>\n",
       "      <td>15</td>\n",
       "    </tr>\n",
       "    <tr>\n",
       "      <th>1346</th>\n",
       "      <td>Viper666.Qc(10,484)</td>\n",
       "      <td>Paulaner Hefe-Weissbier</td>\n",
       "      <td>March 10, 2013</td>\n",
       "      <td>3.8</td>\n",
       "      <td>CU 7/11</td>\n",
       "      <td>7</td>\n",
       "      <td>4</td>\n",
       "      <td>7</td>\n",
       "      <td>4</td>\n",
       "      <td>16</td>\n",
       "    </tr>\n",
       "    <tr>\n",
       "      <th>492</th>\n",
       "      <td>Viper666.Qc(10,484)</td>\n",
       "      <td>Desperados</td>\n",
       "      <td>January 16, 2013</td>\n",
       "      <td>1.7</td>\n",
       "      <td>CU GS25 7/11 ministop</td>\n",
       "      <td>4</td>\n",
       "      <td>2</td>\n",
       "      <td>4</td>\n",
       "      <td>2</td>\n",
       "      <td>5</td>\n",
       "    </tr>\n",
       "    <tr>\n",
       "      <th>720</th>\n",
       "      <td>Viper666.Qc(10,484)</td>\n",
       "      <td>Peroni Nastro Azzurro</td>\n",
       "      <td>March 1, 2013</td>\n",
       "      <td>1.8</td>\n",
       "      <td>CU GS25 7/11 ministop</td>\n",
       "      <td>4</td>\n",
       "      <td>2</td>\n",
       "      <td>4</td>\n",
       "      <td>2</td>\n",
       "      <td>6</td>\n",
       "    </tr>\n",
       "    <tr>\n",
       "      <th>266</th>\n",
       "      <td>Viper666.Qc(10,484)</td>\n",
       "      <td>Edelweiss Weissbier Snowfresh</td>\n",
       "      <td>October 16, 2008</td>\n",
       "      <td>3.4</td>\n",
       "      <td>CU GS25 7/11 ministop</td>\n",
       "      <td>7</td>\n",
       "      <td>3</td>\n",
       "      <td>7</td>\n",
       "      <td>3</td>\n",
       "      <td>14</td>\n",
       "    </tr>\n",
       "    <tr>\n",
       "      <th>396</th>\n",
       "      <td>Viper666.Qc(10,484)</td>\n",
       "      <td>Guinness Original 4.2% (Ireland/UK)</td>\n",
       "      <td>January 21, 2011</td>\n",
       "      <td>3.2</td>\n",
       "      <td>CU GS25 7/11 ministop</td>\n",
       "      <td>6</td>\n",
       "      <td>3</td>\n",
       "      <td>7</td>\n",
       "      <td>3</td>\n",
       "      <td>13</td>\n",
       "    </tr>\n",
       "    <tr>\n",
       "      <th>102</th>\n",
       "      <td>Viper666.Qc(10,484)</td>\n",
       "      <td>Eichbaum Apostel Bräu</td>\n",
       "      <td>June 16, 2011</td>\n",
       "      <td>2.6</td>\n",
       "      <td>GS25</td>\n",
       "      <td>5</td>\n",
       "      <td>3</td>\n",
       "      <td>5</td>\n",
       "      <td>3</td>\n",
       "      <td>10</td>\n",
       "    </tr>\n",
       "    <tr>\n",
       "      <th>117</th>\n",
       "      <td>Viper666.Qc(10,484)</td>\n",
       "      <td>Holsten Premium Bier</td>\n",
       "      <td>February 11, 2013</td>\n",
       "      <td>2.5</td>\n",
       "      <td>GS25</td>\n",
       "      <td>5</td>\n",
       "      <td>3</td>\n",
       "      <td>5</td>\n",
       "      <td>2</td>\n",
       "      <td>10</td>\n",
       "    </tr>\n",
       "    <tr>\n",
       "      <th>514</th>\n",
       "      <td>Viper666.Qc(10,484)</td>\n",
       "      <td>Bavaria Pilsener / Premium Beer</td>\n",
       "      <td>December 24, 2010</td>\n",
       "      <td>1.9</td>\n",
       "      <td>GS25 7/11</td>\n",
       "      <td>4</td>\n",
       "      <td>2</td>\n",
       "      <td>4</td>\n",
       "      <td>2</td>\n",
       "      <td>7</td>\n",
       "    </tr>\n",
       "    <tr>\n",
       "      <th>656</th>\n",
       "      <td>Viper666.Qc(10,484)</td>\n",
       "      <td>Grolsch Premium Lager</td>\n",
       "      <td>February 9, 2013</td>\n",
       "      <td>2.5</td>\n",
       "      <td>GS25 7/11 ministop</td>\n",
       "      <td>5</td>\n",
       "      <td>3</td>\n",
       "      <td>5</td>\n",
       "      <td>3</td>\n",
       "      <td>9</td>\n",
       "    </tr>\n",
       "    <tr>\n",
       "      <th>1140</th>\n",
       "      <td>Viper666.Qc(10,484)</td>\n",
       "      <td>Leffe Brune / Bruin / Brown</td>\n",
       "      <td>February 23, 2013</td>\n",
       "      <td>3.5</td>\n",
       "      <td>GS25</td>\n",
       "      <td>7</td>\n",
       "      <td>4</td>\n",
       "      <td>7</td>\n",
       "      <td>3</td>\n",
       "      <td>14</td>\n",
       "    </tr>\n",
       "    <tr>\n",
       "      <th>1378</th>\n",
       "      <td>Viper666.Qc(10,484)</td>\n",
       "      <td>Beck's</td>\n",
       "      <td>December 7, 2007</td>\n",
       "      <td>2.4</td>\n",
       "      <td>GS25 7/11 ministop</td>\n",
       "      <td>5</td>\n",
       "      <td>2</td>\n",
       "      <td>5</td>\n",
       "      <td>2</td>\n",
       "      <td>10</td>\n",
       "    </tr>\n",
       "    <tr>\n",
       "      <th>302</th>\n",
       "      <td>Viper666.Qc(10,484)</td>\n",
       "      <td>Hoegaarden Rosée</td>\n",
       "      <td>January 4, 2013</td>\n",
       "      <td>2.5</td>\n",
       "      <td>7/11</td>\n",
       "      <td>5</td>\n",
       "      <td>3</td>\n",
       "      <td>5</td>\n",
       "      <td>3</td>\n",
       "      <td>9</td>\n",
       "    </tr>\n",
       "    <tr>\n",
       "      <th>590</th>\n",
       "      <td>Viper666.Qc(10,484)</td>\n",
       "      <td>Schöfferhofer Grapefruit</td>\n",
       "      <td>September 1, 2008</td>\n",
       "      <td>2.7</td>\n",
       "      <td>7/11</td>\n",
       "      <td>6</td>\n",
       "      <td>3</td>\n",
       "      <td>5</td>\n",
       "      <td>2</td>\n",
       "      <td>11</td>\n",
       "    </tr>\n",
       "    <tr>\n",
       "      <th>796</th>\n",
       "      <td>Viper666.Qc(10,484)</td>\n",
       "      <td>Erdinger Weissbier Dunkel</td>\n",
       "      <td>January 21, 2013</td>\n",
       "      <td>3.2</td>\n",
       "      <td>7/11</td>\n",
       "      <td>6</td>\n",
       "      <td>3</td>\n",
       "      <td>6</td>\n",
       "      <td>3</td>\n",
       "      <td>14</td>\n",
       "    </tr>\n",
       "    <tr>\n",
       "      <th>331</th>\n",
       "      <td>Viper666.Qc(10,484)</td>\n",
       "      <td>Warsteiner Premium Verum</td>\n",
       "      <td>March 7, 2016</td>\n",
       "      <td>2.3</td>\n",
       "      <td>7/11</td>\n",
       "      <td>5</td>\n",
       "      <td>2</td>\n",
       "      <td>4</td>\n",
       "      <td>2</td>\n",
       "      <td>10</td>\n",
       "    </tr>\n",
       "  </tbody>\n",
       "</table>\n",
       "</div>"
      ],
      "text/plain": [
       "                      아이디                                   맥주  \\\n",
       "10    Viper666.Qc(10,484)               Kloud Original Gravity   \n",
       "825   Viper666.Qc(10,484)                      Asahi Super Dry   \n",
       "308   Viper666.Qc(10,484)                             Tsingtao   \n",
       "2622  Viper666.Qc(10,484)                             Heineken   \n",
       "690   Viper666.Qc(10,484)                        Kirin Ichiban   \n",
       "1674  Viper666.Qc(10,484)                     Guinness Draught   \n",
       "734   Viper666.Qc(10,484)               Kronenbourg 1664 Blanc   \n",
       "2851  Viper666.Qc(10,484)                      Pilsner Urquell   \n",
       "317   Viper666.Qc(10,484)                      Victoria Bitter   \n",
       "433   Viper666.Qc(10,484)                    Krombacher Weizen   \n",
       "1243  Viper666.Qc(10,484)           Miller Genuine Draft (MGD)   \n",
       "10    Viper666.Qc(10,484)               Kloud Original Gravity   \n",
       "825   Viper666.Qc(10,484)                      Asahi Super Dry   \n",
       "308   Viper666.Qc(10,484)                             Tsingtao   \n",
       "2622  Viper666.Qc(10,484)                             Heineken   \n",
       "690   Viper666.Qc(10,484)                        Kirin Ichiban   \n",
       "1674  Viper666.Qc(10,484)                     Guinness Draught   \n",
       "734   Viper666.Qc(10,484)               Kronenbourg 1664 Blanc   \n",
       "2851  Viper666.Qc(10,484)                      Pilsner Urquell   \n",
       "317   Viper666.Qc(10,484)                      Victoria Bitter   \n",
       "433   Viper666.Qc(10,484)                    Krombacher Weizen   \n",
       "1243  Viper666.Qc(10,484)           Miller Genuine Draft (MGD)   \n",
       "278   Viper666.Qc(10,484)                           Tiger Beer   \n",
       "1098  Viper666.Qc(10,484)                   Erdinger Weissbier   \n",
       "961   Viper666.Qc(10,484)                    Carlsberg Pilsner   \n",
       "2371  Viper666.Qc(10,484)                            Budweiser   \n",
       "2890  Viper666.Qc(10,484)                           Hoegaarden   \n",
       "1346  Viper666.Qc(10,484)              Paulaner Hefe-Weissbier   \n",
       "492   Viper666.Qc(10,484)                           Desperados   \n",
       "720   Viper666.Qc(10,484)                Peroni Nastro Azzurro   \n",
       "266   Viper666.Qc(10,484)        Edelweiss Weissbier Snowfresh   \n",
       "396   Viper666.Qc(10,484)  Guinness Original 4.2% (Ireland/UK)   \n",
       "102   Viper666.Qc(10,484)                Eichbaum Apostel Bräu   \n",
       "117   Viper666.Qc(10,484)                 Holsten Premium Bier   \n",
       "514   Viper666.Qc(10,484)      Bavaria Pilsener / Premium Beer   \n",
       "656   Viper666.Qc(10,484)                Grolsch Premium Lager   \n",
       "1140  Viper666.Qc(10,484)          Leffe Brune / Bruin / Brown   \n",
       "1378  Viper666.Qc(10,484)                               Beck's   \n",
       "302   Viper666.Qc(10,484)                     Hoegaarden Rosée   \n",
       "590   Viper666.Qc(10,484)             Schöfferhofer Grapefruit   \n",
       "796   Viper666.Qc(10,484)            Erdinger Weissbier Dunkel   \n",
       "331   Viper666.Qc(10,484)             Warsteiner Premium Verum   \n",
       "\n",
       "                     날짜   평점                    편의점 Aroma Appearance Flavor  \\\n",
       "10    September 6, 2019  2.7  CU GS25 7/11 ministop     5          3      6   \n",
       "825     January 4, 2013  2.2  CU GS25 7/11 ministop     5          3      4   \n",
       "308       March 7, 2016  1.9  CU GS25 7/11 ministop     4          2      4   \n",
       "2622       May 17, 2007  2.0  CU GS25 7/11 ministop     3          2      4   \n",
       "690   February 12, 2013  2.0  CU GS25 7/11 ministop     3          3      3   \n",
       "1674  February 10, 2013  3.4  CU GS25 7/11 ministop     6          5      6   \n",
       "734       July 16, 2011  2.7  CU GS25 7/11 ministop     5          3      5   \n",
       "2851       May 27, 2007  3.0  CU GS25 7/11 ministop     6          3      6   \n",
       "317       June 29, 2011  1.5  CU GS25 7/11 ministop     3          2      3   \n",
       "433   December 26, 2012  3.2                     CU     7          3      6   \n",
       "1243      June 12, 2007  1.3           CU GS25 7/11     2          2      2   \n",
       "10    September 6, 2019  2.7  CU GS25 7/11 ministop     5          3      6   \n",
       "825     January 4, 2013  2.2  CU GS25 7/11 ministop     5          3      4   \n",
       "308       March 7, 2016  1.9  CU GS25 7/11 ministop     4          2      4   \n",
       "2622       May 17, 2007  2.0  CU GS25 7/11 ministop     3          2      4   \n",
       "690   February 12, 2013  2.0  CU GS25 7/11 ministop     3          3      3   \n",
       "1674  February 10, 2013  3.4  CU GS25 7/11 ministop     6          5      6   \n",
       "734       July 16, 2011  2.7  CU GS25 7/11 ministop     5          3      5   \n",
       "2851       May 27, 2007  3.0  CU GS25 7/11 ministop     6          3      6   \n",
       "317       June 29, 2011  1.5  CU GS25 7/11 ministop     3          2      3   \n",
       "433   December 26, 2012  3.2                     CU     7          3      6   \n",
       "1243      June 12, 2007  1.3           CU GS25 7/11     2          2      2   \n",
       "278       March 7, 2016  1.9            CU ministop     3          2      4   \n",
       "1098   January 21, 2013  3.2            CU ministop     6          3      6   \n",
       "961     January 4, 2009  2.3                     CU     5          3      5   \n",
       "2371       May 17, 2007  1.1  CU GS25 7/11 ministop     2          2      2   \n",
       "2890   February 3, 2008  3.6  CU GS25 7/11 ministop     7          4      7   \n",
       "1346     March 10, 2013  3.8                CU 7/11     7          4      7   \n",
       "492    January 16, 2013  1.7  CU GS25 7/11 ministop     4          2      4   \n",
       "720       March 1, 2013  1.8  CU GS25 7/11 ministop     4          2      4   \n",
       "266    October 16, 2008  3.4  CU GS25 7/11 ministop     7          3      7   \n",
       "396    January 21, 2011  3.2  CU GS25 7/11 ministop     6          3      7   \n",
       "102       June 16, 2011  2.6                   GS25     5          3      5   \n",
       "117   February 11, 2013  2.5                   GS25     5          3      5   \n",
       "514   December 24, 2010  1.9              GS25 7/11     4          2      4   \n",
       "656    February 9, 2013  2.5     GS25 7/11 ministop     5          3      5   \n",
       "1140  February 23, 2013  3.5                   GS25     7          4      7   \n",
       "1378   December 7, 2007  2.4     GS25 7/11 ministop     5          2      5   \n",
       "302     January 4, 2013  2.5                   7/11     5          3      5   \n",
       "590   September 1, 2008  2.7                   7/11     6          3      5   \n",
       "796    January 21, 2013  3.2                   7/11     6          3      6   \n",
       "331       March 7, 2016  2.3                   7/11     5          2      4   \n",
       "\n",
       "     Mouthfeel Overall  \n",
       "10           3      10  \n",
       "825          2       8  \n",
       "308          2       7  \n",
       "2622         2       9  \n",
       "690          2       9  \n",
       "1674         3      14  \n",
       "734          3      11  \n",
       "2851         3      12  \n",
       "317          2       5  \n",
       "433          3      13  \n",
       "1243         2       5  \n",
       "10           3      10  \n",
       "825          2       8  \n",
       "308          2       7  \n",
       "2622         2       9  \n",
       "690          2       9  \n",
       "1674         3      14  \n",
       "734          3      11  \n",
       "2851         3      12  \n",
       "317          2       5  \n",
       "433          3      13  \n",
       "1243         2       5  \n",
       "278          2       8  \n",
       "1098         3      14  \n",
       "961          2       8  \n",
       "2371         2       3  \n",
       "2890         3      15  \n",
       "1346         4      16  \n",
       "492          2       5  \n",
       "720          2       6  \n",
       "266          3      14  \n",
       "396          3      13  \n",
       "102          3      10  \n",
       "117          2      10  \n",
       "514          2       7  \n",
       "656          3       9  \n",
       "1140         3      14  \n",
       "1378         2      10  \n",
       "302          3       9  \n",
       "590          2      11  \n",
       "796          3      14  \n",
       "331          2      10  "
      ]
     },
     "execution_count": 360,
     "metadata": {},
     "output_type": "execute_result"
    }
   ],
   "source": [
    "ttmp[ttmp['아이디'].str.contains('Viper666.Qc')]"
   ]
  },
  {
   "cell_type": "code",
   "execution_count": 361,
   "metadata": {},
   "outputs": [
    {
     "data": {
      "text/html": [
       "<div>\n",
       "<style scoped>\n",
       "    .dataframe tbody tr th:only-of-type {\n",
       "        vertical-align: middle;\n",
       "    }\n",
       "\n",
       "    .dataframe tbody tr th {\n",
       "        vertical-align: top;\n",
       "    }\n",
       "\n",
       "    .dataframe thead th {\n",
       "        text-align: right;\n",
       "    }\n",
       "</style>\n",
       "<table border=\"1\" class=\"dataframe\">\n",
       "  <thead>\n",
       "    <tr style=\"text-align: right;\">\n",
       "      <th></th>\n",
       "      <th>아이디</th>\n",
       "      <th>맥주</th>\n",
       "      <th>날짜</th>\n",
       "      <th>평점</th>\n",
       "      <th>편의점</th>\n",
       "      <th>Aroma</th>\n",
       "      <th>Appearance</th>\n",
       "      <th>Flavor</th>\n",
       "      <th>Mouthfeel</th>\n",
       "      <th>Overall</th>\n",
       "    </tr>\n",
       "  </thead>\n",
       "  <tbody>\n",
       "    <tr>\n",
       "      <th>0</th>\n",
       "      <td>patjenner(3)</td>\n",
       "      <td>Kloud Original Gravity</td>\n",
       "      <td>December 31, 2020</td>\n",
       "      <td>4.0</td>\n",
       "      <td>CU GS25 7/11 ministop</td>\n",
       "      <td>9</td>\n",
       "      <td>5</td>\n",
       "      <td>7</td>\n",
       "      <td>4</td>\n",
       "      <td>15</td>\n",
       "    </tr>\n",
       "    <tr>\n",
       "      <th>1</th>\n",
       "      <td>pictoman(1,959)</td>\n",
       "      <td>Kloud Original Gravity</td>\n",
       "      <td>April 22, 2020</td>\n",
       "      <td>2.0</td>\n",
       "      <td>CU GS25 7/11 ministop</td>\n",
       "      <td>3</td>\n",
       "      <td>3</td>\n",
       "      <td>4</td>\n",
       "      <td>3</td>\n",
       "      <td>7</td>\n",
       "    </tr>\n",
       "    <tr>\n",
       "      <th>2</th>\n",
       "      <td>snoworsummer(8,581)</td>\n",
       "      <td>Kloud Original Gravity</td>\n",
       "      <td>March 7, 2020</td>\n",
       "      <td>3.0</td>\n",
       "      <td>CU GS25 7/11 ministop</td>\n",
       "      <td>6</td>\n",
       "      <td>3</td>\n",
       "      <td>6</td>\n",
       "      <td>3</td>\n",
       "      <td>12</td>\n",
       "    </tr>\n",
       "  </tbody>\n",
       "</table>\n",
       "</div>"
      ],
      "text/plain": [
       "                   아이디                      맥주                 날짜   평점  \\\n",
       "0         patjenner(3)  Kloud Original Gravity  December 31, 2020  4.0   \n",
       "1      pictoman(1,959)  Kloud Original Gravity     April 22, 2020  2.0   \n",
       "2  snoworsummer(8,581)  Kloud Original Gravity      March 7, 2020  3.0   \n",
       "\n",
       "                     편의점 Aroma Appearance Flavor Mouthfeel Overall  \n",
       "0  CU GS25 7/11 ministop     9          5      7         4      15  \n",
       "1  CU GS25 7/11 ministop     3          3      4         3       7  \n",
       "2  CU GS25 7/11 ministop     6          3      6         3      12  "
      ]
     },
     "execution_count": 361,
     "metadata": {},
     "output_type": "execute_result"
    }
   ],
   "source": [
    "ttmp.head(3)"
   ]
  },
  {
   "cell_type": "code",
   "execution_count": 362,
   "metadata": {},
   "outputs": [
    {
     "name": "stdout",
     "output_type": "stream",
     "text": [
      "<class 'pandas.core.frame.DataFrame'>\n",
      "Int64Index: 109627 entries, 0 to 7\n",
      "Data columns (total 10 columns):\n",
      " #   Column      Non-Null Count   Dtype \n",
      "---  ------      --------------   ----- \n",
      " 0   아이디         109627 non-null  object\n",
      " 1   맥주          109627 non-null  object\n",
      " 2   날짜          109627 non-null  object\n",
      " 3   평점          109627 non-null  object\n",
      " 4   편의점         109627 non-null  object\n",
      " 5   Aroma       109627 non-null  object\n",
      " 6   Appearance  109627 non-null  object\n",
      " 7   Flavor      109627 non-null  object\n",
      " 8   Mouthfeel   109627 non-null  object\n",
      " 9   Overall     109627 non-null  object\n",
      "dtypes: object(10)\n",
      "memory usage: 9.2+ MB\n"
     ]
    }
   ],
   "source": [
    "ttmp.info()"
   ]
  },
  {
   "cell_type": "code",
   "execution_count": 363,
   "metadata": {},
   "outputs": [],
   "source": [
    "ttmp.to_csv('76개_맥주_데이터.csv', encoding='utf-8')"
   ]
  },
  {
   "cell_type": "code",
   "execution_count": 364,
   "metadata": {},
   "outputs": [
    {
     "data": {
      "text/html": [
       "<div>\n",
       "<style scoped>\n",
       "    .dataframe tbody tr th:only-of-type {\n",
       "        vertical-align: middle;\n",
       "    }\n",
       "\n",
       "    .dataframe tbody tr th {\n",
       "        vertical-align: top;\n",
       "    }\n",
       "\n",
       "    .dataframe thead th {\n",
       "        text-align: right;\n",
       "    }\n",
       "</style>\n",
       "<table border=\"1\" class=\"dataframe\">\n",
       "  <thead>\n",
       "    <tr style=\"text-align: right;\">\n",
       "      <th></th>\n",
       "      <th>아이디</th>\n",
       "      <th>맥주</th>\n",
       "      <th>날짜</th>\n",
       "      <th>평점</th>\n",
       "      <th>편의점</th>\n",
       "      <th>Aroma</th>\n",
       "      <th>Appearance</th>\n",
       "      <th>Flavor</th>\n",
       "      <th>Mouthfeel</th>\n",
       "      <th>Overall</th>\n",
       "    </tr>\n",
       "  </thead>\n",
       "  <tbody>\n",
       "    <tr>\n",
       "      <th>3</th>\n",
       "      <td>TedE(2,324)</td>\n",
       "      <td>Queen's Ale Blonde Type</td>\n",
       "      <td>August 14, 2015</td>\n",
       "      <td>3.4</td>\n",
       "      <td>ministop</td>\n",
       "      <td>6</td>\n",
       "      <td>2</td>\n",
       "      <td>7</td>\n",
       "      <td>4</td>\n",
       "      <td>15</td>\n",
       "    </tr>\n",
       "    <tr>\n",
       "      <th>4</th>\n",
       "      <td>KansaiBeerLvrs(7,283)</td>\n",
       "      <td>Queen's Ale Blonde Type</td>\n",
       "      <td>May 19, 2015</td>\n",
       "      <td>3.1</td>\n",
       "      <td>ministop</td>\n",
       "      <td>7</td>\n",
       "      <td>4</td>\n",
       "      <td>6</td>\n",
       "      <td>4</td>\n",
       "      <td>10</td>\n",
       "    </tr>\n",
       "    <tr>\n",
       "      <th>5</th>\n",
       "      <td>cubs(10,772)</td>\n",
       "      <td>Queen's Ale Blonde Type</td>\n",
       "      <td>May 3, 2014</td>\n",
       "      <td>3.0</td>\n",
       "      <td>ministop</td>\n",
       "      <td>6</td>\n",
       "      <td>4</td>\n",
       "      <td>6</td>\n",
       "      <td>4</td>\n",
       "      <td>10</td>\n",
       "    </tr>\n",
       "    <tr>\n",
       "      <th>6</th>\n",
       "      <td>arminjewell(9,756)</td>\n",
       "      <td>Queen's Ale Blonde Type</td>\n",
       "      <td>May 3, 2014</td>\n",
       "      <td>2.9</td>\n",
       "      <td>ministop</td>\n",
       "      <td>5</td>\n",
       "      <td>4</td>\n",
       "      <td>6</td>\n",
       "      <td>3</td>\n",
       "      <td>11</td>\n",
       "    </tr>\n",
       "    <tr>\n",
       "      <th>7</th>\n",
       "      <td>Fatehunter(3,190)</td>\n",
       "      <td>Queen's Ale Blonde Type</td>\n",
       "      <td>February 19, 2014</td>\n",
       "      <td>3.1</td>\n",
       "      <td>ministop</td>\n",
       "      <td>7</td>\n",
       "      <td>4</td>\n",
       "      <td>4</td>\n",
       "      <td>3</td>\n",
       "      <td>13</td>\n",
       "    </tr>\n",
       "  </tbody>\n",
       "</table>\n",
       "</div>"
      ],
      "text/plain": [
       "                     아이디                       맥주                 날짜   평점  \\\n",
       "3            TedE(2,324)  Queen's Ale Blonde Type    August 14, 2015  3.4   \n",
       "4  KansaiBeerLvrs(7,283)  Queen's Ale Blonde Type       May 19, 2015  3.1   \n",
       "5           cubs(10,772)  Queen's Ale Blonde Type        May 3, 2014  3.0   \n",
       "6     arminjewell(9,756)  Queen's Ale Blonde Type        May 3, 2014  2.9   \n",
       "7      Fatehunter(3,190)  Queen's Ale Blonde Type  February 19, 2014  3.1   \n",
       "\n",
       "        편의점 Aroma Appearance Flavor Mouthfeel Overall  \n",
       "3  ministop     6          2      7         4      15  \n",
       "4  ministop     7          4      6         4      10  \n",
       "5  ministop     6          4      6         4      10  \n",
       "6  ministop     5          4      6         3      11  \n",
       "7  ministop     7          4      4         3      13  "
      ]
     },
     "execution_count": 364,
     "metadata": {},
     "output_type": "execute_result"
    }
   ],
   "source": [
    "ttmp.tail()"
   ]
  },
  {
   "cell_type": "code",
   "execution_count": null,
   "metadata": {},
   "outputs": [],
   "source": []
  }
 ],
 "metadata": {
  "kernelspec": {
   "display_name": "Python 3",
   "language": "python",
   "name": "python3"
  },
  "language_info": {
   "codemirror_mode": {
    "name": "ipython",
    "version": 3
   },
   "file_extension": ".py",
   "mimetype": "text/x-python",
   "name": "python",
   "nbconvert_exporter": "python",
   "pygments_lexer": "ipython3",
   "version": "3.8.3"
  }
 },
 "nbformat": 4,
 "nbformat_minor": 4
}
