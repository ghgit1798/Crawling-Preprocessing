{
 "cells": [
  {
   "cell_type": "code",
   "execution_count": 1,
   "metadata": {},
   "outputs": [],
   "source": [
    "import pandas as pd"
   ]
  },
  {
   "cell_type": "code",
   "execution_count": 2,
   "metadata": {},
   "outputs": [],
   "source": [
    "data = pd.read_csv('크롤링_원본데이터.csv', encoding='utf-8', index_col=0)"
   ]
  },
  {
   "cell_type": "code",
   "execution_count": 3,
   "metadata": {},
   "outputs": [
    {
     "data": {
      "text/html": [
       "<div>\n",
       "<style scoped>\n",
       "    .dataframe tbody tr th:only-of-type {\n",
       "        vertical-align: middle;\n",
       "    }\n",
       "\n",
       "    .dataframe tbody tr th {\n",
       "        vertical-align: top;\n",
       "    }\n",
       "\n",
       "    .dataframe thead th {\n",
       "        text-align: right;\n",
       "    }\n",
       "</style>\n",
       "<table border=\"1\" class=\"dataframe\">\n",
       "  <thead>\n",
       "    <tr style=\"text-align: right;\">\n",
       "      <th></th>\n",
       "      <th>맥주이름</th>\n",
       "      <th>맥주정보</th>\n",
       "      <th>편의점</th>\n",
       "    </tr>\n",
       "  </thead>\n",
       "  <tbody>\n",
       "    <tr>\n",
       "      <th>0</th>\n",
       "      <td>Kloud Original Gravity</td>\n",
       "      <td>patjenner(3)\\n4.0December 31, 2020\\nStrong hop...</td>\n",
       "      <td>CU GS25 7/11 ministop</td>\n",
       "    </tr>\n",
       "    <tr>\n",
       "      <th>1</th>\n",
       "      <td>Kloud Original Gravity</td>\n",
       "      <td>pictoman(1,959)\\n🇨🇦Vancouver, Canada\\n2.0April...</td>\n",
       "      <td>CU GS25 7/11 ministop</td>\n",
       "    </tr>\n",
       "    <tr>\n",
       "      <th>2</th>\n",
       "      <td>Kloud Original Gravity</td>\n",
       "      <td>snoworsummer(8,581)\\n🇺🇸baltimore, United State...</td>\n",
       "      <td>CU GS25 7/11 ministop</td>\n",
       "    </tr>\n",
       "    <tr>\n",
       "      <th>3</th>\n",
       "      <td>Kloud Original Gravity</td>\n",
       "      <td>mickmac(726)\\n🇦🇺Ngunnawal, Australia\\n2.9Febru...</td>\n",
       "      <td>CU GS25 7/11 ministop</td>\n",
       "    </tr>\n",
       "    <tr>\n",
       "      <th>4</th>\n",
       "      <td>Kloud Original Gravity</td>\n",
       "      <td>GuideDogSaint(2,549)\\n🇨🇳Xiamen, China\\n2.2Febr...</td>\n",
       "      <td>CU GS25 7/11 ministop</td>\n",
       "    </tr>\n",
       "  </tbody>\n",
       "</table>\n",
       "</div>"
      ],
      "text/plain": [
       "                     맥주이름                                               맥주정보  \\\n",
       "0  Kloud Original Gravity  patjenner(3)\\n4.0December 31, 2020\\nStrong hop...   \n",
       "1  Kloud Original Gravity  pictoman(1,959)\\n🇨🇦Vancouver, Canada\\n2.0April...   \n",
       "2  Kloud Original Gravity  snoworsummer(8,581)\\n🇺🇸baltimore, United State...   \n",
       "3  Kloud Original Gravity  mickmac(726)\\n🇦🇺Ngunnawal, Australia\\n2.9Febru...   \n",
       "4  Kloud Original Gravity  GuideDogSaint(2,549)\\n🇨🇳Xiamen, China\\n2.2Febr...   \n",
       "\n",
       "                     편의점  \n",
       "0  CU GS25 7/11 ministop  \n",
       "1  CU GS25 7/11 ministop  \n",
       "2  CU GS25 7/11 ministop  \n",
       "3  CU GS25 7/11 ministop  \n",
       "4  CU GS25 7/11 ministop  "
      ]
     },
     "execution_count": 3,
     "metadata": {},
     "output_type": "execute_result"
    }
   ],
   "source": [
    "data.head()"
   ]
  },
  {
   "cell_type": "code",
   "execution_count": 4,
   "metadata": {},
   "outputs": [
    {
     "name": "stdout",
     "output_type": "stream",
     "text": [
      "<class 'pandas.core.frame.DataFrame'>\n",
      "Int64Index: 109627 entries, 0 to 7\n",
      "Data columns (total 3 columns):\n",
      " #   Column  Non-Null Count   Dtype \n",
      "---  ------  --------------   ----- \n",
      " 0   맥주이름    109627 non-null  object\n",
      " 1   맥주정보    109627 non-null  object\n",
      " 2   편의점     109627 non-null  object\n",
      "dtypes: object(3)\n",
      "memory usage: 3.3+ MB\n"
     ]
    }
   ],
   "source": [
    "data.info()"
   ]
  },
  {
   "cell_type": "code",
   "execution_count": 5,
   "metadata": {
    "scrolled": true
   },
   "outputs": [
    {
     "data": {
      "text/plain": [
       "'patjenner(3)\\n4.0December 31, 2020\\nStrong hoppy flavor. Bavarian style. Ok but not fantastic. Needs to be super cold.…\\nShow more\\nAroma\\n9\\nAppearance\\n5\\nFlavor\\n7\\nMouthfeel\\n4\\nOverall\\n15'"
      ]
     },
     "execution_count": 5,
     "metadata": {},
     "output_type": "execute_result"
    }
   ],
   "source": [
    "# 맥주정보 Raw 데이터값\n",
    "data['맥주정보'].iloc[0]"
   ]
  },
  {
   "cell_type": "markdown",
   "metadata": {},
   "source": [
    "## 전처리 1단계 - 문자열 분리하기('\\n')"
   ]
  },
  {
   "cell_type": "code",
   "execution_count": 6,
   "metadata": {},
   "outputs": [],
   "source": [
    "# tmp 변수에 카피\n",
    "tmp = data.copy()"
   ]
  },
  {
   "cell_type": "code",
   "execution_count": 7,
   "metadata": {},
   "outputs": [
    {
     "data": {
      "text/plain": [
       "0    [patjenner(3), 4.0December 31, 2020, Strong ho...\n",
       "1    [pictoman(1,959), 🇨🇦Vancouver, Canada, 2.0Apri...\n",
       "2    [snoworsummer(8,581), 🇺🇸baltimore, United Stat...\n",
       "3    [mickmac(726), 🇦🇺Ngunnawal, Australia, 2.9Febr...\n",
       "4    [GuideDogSaint(2,549), 🇨🇳Xiamen, China, 2.2Feb...\n",
       "                           ...                        \n",
       "3    [TedE(2,324), 🇦🇺Glen Innes, Australia, 3.4Augu...\n",
       "4    [KansaiBeerLvrs(7,283), 🇯🇵Kyoto, Japan, 3.1May...\n",
       "5    [cubs(10,772), 🇺🇸Fort Collins, United States, ...\n",
       "6    [arminjewell(9,756), 🇺🇸East Lansing, United St...\n",
       "7    [Fatehunter(3,190), 🇺🇸Corbett, United States, ...\n",
       "Name: 맥주정보, Length: 109627, dtype: object"
      ]
     },
     "execution_count": 7,
     "metadata": {},
     "output_type": "execute_result"
    }
   ],
   "source": [
    "# \\n 개행문자 기준으로 분리\n",
    "tmp['맥주정보'] = tmp['맥주정보'].str.split('\\n')\n",
    "tmp['맥주정보']"
   ]
  },
  {
   "cell_type": "code",
   "execution_count": 8,
   "metadata": {},
   "outputs": [
    {
     "name": "stdout",
     "output_type": "stream",
     "text": [
      "['BeerLimey(2,277)', '🇺🇸Desert Hot Springs, United States', '1.2May 30, 2003', \"You can't get away from it..............................................\", 'Aroma', '2', 'Appearance', '2', 'Flavor', '3', 'Mouthfeel', '1', 'Overall', '4'] \n",
      "\n",
      "['G', 'Got Stout?(173)', '🇺🇸United States', '1.8May 23, 2001', 'And it is written:  God bless all the Macros, and may they all burn in a very cheap, bitter/sweet/flat,…', 'Show more', 'Aroma', '3', 'Appearance', '2', 'Flavor', '5', 'Mouthfeel', '2', 'Overall', '6'] \n",
      "\n",
      "['Tippie4(97)', '🇺🇸Auburn, United States', '2.5May 21, 2001', '............................................................................', 'Aroma', '5', 'Appearance', '2', 'Flavor', '5', 'Mouthfeel', '4', 'Overall', '9'] \n",
      "\n"
     ]
    }
   ],
   "source": [
    "# 특이점 확인 : 0,1,2,3번째 리스트 요소까지 잘라야함.\n",
    "for i in range(75252, 75255):\n",
    "    print(tmp['맥주정보'].iloc[i], '\\n')"
   ]
  },
  {
   "cell_type": "code",
   "execution_count": 9,
   "metadata": {},
   "outputs": [
    {
     "data": {
      "text/plain": [
       "['patjenner(3)',\n",
       " '4.0December 31, 2020',\n",
       " 'Strong hoppy flavor. Bavarian style. Ok but not fantastic. Needs to be super cold.…',\n",
       " 'Show more',\n",
       " 'Aroma',\n",
       " '9',\n",
       " 'Appearance',\n",
       " '5',\n",
       " 'Flavor',\n",
       " '7',\n",
       " 'Mouthfeel',\n",
       " '4',\n",
       " 'Overall',\n",
       " '15']"
      ]
     },
     "execution_count": 9,
     "metadata": {},
     "output_type": "execute_result"
    }
   ],
   "source": [
    "# 분리된 스트링 값 확인 -> List로 변환됨\n",
    "tmp['맥주정보'].iloc[0]"
   ]
  },
  {
   "cell_type": "code",
   "execution_count": 10,
   "metadata": {},
   "outputs": [
    {
     "data": {
      "text/plain": [
       "['Viper666.Qc(10,484)',\n",
       " '🇨🇦Richelieu, Canada',\n",
       " '2.7September 6, 2019',\n",
       " 'Dégustée le 2019-08-19.                                                                                                                                             .',\n",
       " 'BOTTLE',\n",
       " 'Aroma',\n",
       " '5',\n",
       " 'Appearance',\n",
       " '3',\n",
       " 'Flavor',\n",
       " '6',\n",
       " 'Mouthfeel',\n",
       " '3',\n",
       " 'Overall',\n",
       " '10',\n",
       " '1']"
      ]
     },
     "execution_count": 10,
     "metadata": {},
     "output_type": "execute_result"
    }
   ],
   "source": [
    "# 맥주 정보에 좋아요 수가 포함된 리스트도 있음\n",
    "tmp['맥주정보'].iloc[10]"
   ]
  },
  {
   "cell_type": "code",
   "execution_count": 11,
   "metadata": {},
   "outputs": [
    {
     "name": "stdout",
     "output_type": "stream",
     "text": [
      "14 14 14 16 14 17 16 16 15 14 "
     ]
    }
   ],
   "source": [
    "# 맥주 정보 리스트 길이 출력\n",
    "for i in range(10):\n",
    "    print(len(tmp['맥주정보'].iloc[i]), end=' ')"
   ]
  },
  {
   "cell_type": "code",
   "execution_count": 12,
   "metadata": {},
   "outputs": [],
   "source": [
    "# 맥주 정보 리스트 길이 저장\n",
    "tmp['길이'] = tmp['맥주정보'].apply(lambda x : len(x))"
   ]
  },
  {
   "cell_type": "code",
   "execution_count": 13,
   "metadata": {
    "scrolled": true
   },
   "outputs": [
    {
     "data": {
      "text/html": [
       "<div>\n",
       "<style scoped>\n",
       "    .dataframe tbody tr th:only-of-type {\n",
       "        vertical-align: middle;\n",
       "    }\n",
       "\n",
       "    .dataframe tbody tr th {\n",
       "        vertical-align: top;\n",
       "    }\n",
       "\n",
       "    .dataframe thead th {\n",
       "        text-align: right;\n",
       "    }\n",
       "</style>\n",
       "<table border=\"1\" class=\"dataframe\">\n",
       "  <thead>\n",
       "    <tr style=\"text-align: right;\">\n",
       "      <th></th>\n",
       "      <th>맥주이름</th>\n",
       "      <th>맥주정보</th>\n",
       "      <th>편의점</th>\n",
       "      <th>길이</th>\n",
       "    </tr>\n",
       "  </thead>\n",
       "  <tbody>\n",
       "    <tr>\n",
       "      <th>0</th>\n",
       "      <td>Kloud Original Gravity</td>\n",
       "      <td>[patjenner(3), 4.0December 31, 2020, Strong ho...</td>\n",
       "      <td>CU GS25 7/11 ministop</td>\n",
       "      <td>14</td>\n",
       "    </tr>\n",
       "    <tr>\n",
       "      <th>1</th>\n",
       "      <td>Kloud Original Gravity</td>\n",
       "      <td>[pictoman(1,959), 🇨🇦Vancouver, Canada, 2.0Apri...</td>\n",
       "      <td>CU GS25 7/11 ministop</td>\n",
       "      <td>14</td>\n",
       "    </tr>\n",
       "    <tr>\n",
       "      <th>2</th>\n",
       "      <td>Kloud Original Gravity</td>\n",
       "      <td>[snoworsummer(8,581), 🇺🇸baltimore, United Stat...</td>\n",
       "      <td>CU GS25 7/11 ministop</td>\n",
       "      <td>14</td>\n",
       "    </tr>\n",
       "  </tbody>\n",
       "</table>\n",
       "</div>"
      ],
      "text/plain": [
       "                     맥주이름                                               맥주정보  \\\n",
       "0  Kloud Original Gravity  [patjenner(3), 4.0December 31, 2020, Strong ho...   \n",
       "1  Kloud Original Gravity  [pictoman(1,959), 🇨🇦Vancouver, Canada, 2.0Apri...   \n",
       "2  Kloud Original Gravity  [snoworsummer(8,581), 🇺🇸baltimore, United Stat...   \n",
       "\n",
       "                     편의점  길이  \n",
       "0  CU GS25 7/11 ministop  14  \n",
       "1  CU GS25 7/11 ministop  14  \n",
       "2  CU GS25 7/11 ministop  14  "
      ]
     },
     "execution_count": 13,
     "metadata": {},
     "output_type": "execute_result"
    }
   ],
   "source": [
    "tmp.head(3)"
   ]
  },
  {
   "cell_type": "code",
   "execution_count": 14,
   "metadata": {},
   "outputs": [
    {
     "name": "stdout",
     "output_type": "stream",
     "text": [
      "최소값 13\n",
      "최대값 19\n"
     ]
    }
   ],
   "source": [
    "print('최소값', min(tmp['길이']))\n",
    "print('최대값', max(tmp['길이']))"
   ]
  },
  {
   "cell_type": "code",
   "execution_count": 15,
   "metadata": {},
   "outputs": [],
   "source": [
    "long19 = tmp[tmp['길이'] == 19]\n",
    "long18 = tmp[tmp['길이'] == 18]\n",
    "long17 = tmp[tmp['길이'] == 17]\n",
    "long16 = tmp[tmp['길이'] == 16]\n",
    "long15 = tmp[tmp['길이'] == 15]\n",
    "long14 = tmp[tmp['길이'] == 14]\n",
    "long13 = tmp[tmp['길이'] == 13]"
   ]
  },
  {
   "cell_type": "code",
   "execution_count": 16,
   "metadata": {},
   "outputs": [
    {
     "data": {
      "text/plain": [
       "['DocuDrinks(1,210)',\n",
       " '🇱🇻Riga, Latvia',\n",
       " '2.3April 13, 2020',\n",
       " '4.7% alcohol',\n",
       " 'Smell-weak, maybe hops, maybe bit metallic.',\n",
       " 'Foam- thin, weak hops and weak bitter notes. Head is…',\n",
       " 'Show more',\n",
       " 'CAN',\n",
       " '@ Riga Spirits & Wine Outlet',\n",
       " 'Aroma',\n",
       " '5',\n",
       " 'Appearance',\n",
       " '3',\n",
       " 'Flavor',\n",
       " '4',\n",
       " 'Mouthfeel',\n",
       " '2',\n",
       " 'Overall',\n",
       " '9']"
      ]
     },
     "execution_count": 16,
     "metadata": {},
     "output_type": "execute_result"
    }
   ],
   "source": [
    "# 0,1,2 그리고 뒤에서 10개\n",
    "long19['맥주정보'].iloc[0]"
   ]
  },
  {
   "cell_type": "code",
   "execution_count": 17,
   "metadata": {},
   "outputs": [
    {
     "data": {
      "text/plain": [
       "['JuiceStain(12)',\n",
       " '🇦🇺Australia',\n",
       " '2.3October 15, 2020',\n",
       " 'Light and crispy.',\n",
       " 'Bitter and sour at the start, some corn, and a metallic tang. ',\n",
       " 'Crisp and dry. Would go well with any food just like the rest of the…',\n",
       " 'Show more',\n",
       " 'CAN',\n",
       " 'Aroma',\n",
       " '4',\n",
       " 'Appearance',\n",
       " '3',\n",
       " 'Flavor',\n",
       " '4',\n",
       " 'Mouthfeel',\n",
       " '2',\n",
       " 'Overall',\n",
       " '10']"
      ]
     },
     "execution_count": 17,
     "metadata": {},
     "output_type": "execute_result"
    }
   ],
   "source": [
    "# 0, 1, 2 그리고 뒤에서 10개\n",
    "long18['맥주정보'].iloc[0]"
   ]
  },
  {
   "cell_type": "code",
   "execution_count": 18,
   "metadata": {},
   "outputs": [
    {
     "data": {
      "text/plain": [
       "['DocuDrinks(1,210)',\n",
       " '🇱🇻Riga, Latvia',\n",
       " '2.3April 13, 2020',\n",
       " '4.7% alcohol',\n",
       " 'Smell-weak, maybe hops, maybe bit metallic.',\n",
       " 'Foam- thin, weak hops and weak bitter notes. Head is…',\n",
       " 'Show more',\n",
       " 'CAN',\n",
       " '@ Riga Spirits & Wine Outlet',\n",
       " 'Aroma',\n",
       " '5',\n",
       " 'Appearance',\n",
       " '3',\n",
       " 'Flavor',\n",
       " '4',\n",
       " 'Mouthfeel',\n",
       " '2',\n",
       " 'Overall',\n",
       " '9']"
      ]
     },
     "execution_count": 18,
     "metadata": {},
     "output_type": "execute_result"
    }
   ],
   "source": [
    "s_list = long19['맥주정보'].iloc[0]\n",
    "s_list"
   ]
  },
  {
   "cell_type": "code",
   "execution_count": 19,
   "metadata": {},
   "outputs": [
    {
     "data": {
      "text/plain": [
       "['DocuDrinks(1,210)',\n",
       " '🇱🇻Riga, Latvia',\n",
       " '2.3April 13, 2020',\n",
       " '4.7% alcohol',\n",
       " '9',\n",
       " 'Overall',\n",
       " '2',\n",
       " 'Mouthfeel',\n",
       " '4',\n",
       " 'Flavor',\n",
       " '3',\n",
       " 'Appearance',\n",
       " '5',\n",
       " 'Aroma']"
      ]
     },
     "execution_count": 19,
     "metadata": {},
     "output_type": "execute_result"
    }
   ],
   "source": [
    "# 앞에서부터 0,1,2,3번째 리스트 요소 + 뒤에서부터 10개 요소 합\n",
    "s_list = s_list[:4] + s_list[:-11:-1]\n",
    "s_list"
   ]
  },
  {
   "cell_type": "code",
   "execution_count": null,
   "metadata": {},
   "outputs": [],
   "source": []
  },
  {
   "cell_type": "markdown",
   "metadata": {},
   "source": [
    "## 전처리 2단계 - 좋아요 수 삭제하기"
   ]
  },
  {
   "cell_type": "code",
   "execution_count": 20,
   "metadata": {},
   "outputs": [
    {
     "data": {
      "text/html": [
       "<div>\n",
       "<style scoped>\n",
       "    .dataframe tbody tr th:only-of-type {\n",
       "        vertical-align: middle;\n",
       "    }\n",
       "\n",
       "    .dataframe tbody tr th {\n",
       "        vertical-align: top;\n",
       "    }\n",
       "\n",
       "    .dataframe thead th {\n",
       "        text-align: right;\n",
       "    }\n",
       "</style>\n",
       "<table border=\"1\" class=\"dataframe\">\n",
       "  <thead>\n",
       "    <tr style=\"text-align: right;\">\n",
       "      <th></th>\n",
       "      <th>맥주이름</th>\n",
       "      <th>맥주정보</th>\n",
       "      <th>편의점</th>\n",
       "      <th>길이</th>\n",
       "    </tr>\n",
       "  </thead>\n",
       "  <tbody>\n",
       "    <tr>\n",
       "      <th>0</th>\n",
       "      <td>Kloud Original Gravity</td>\n",
       "      <td>[patjenner(3), 4.0December 31, 2020, Strong ho...</td>\n",
       "      <td>CU GS25 7/11 ministop</td>\n",
       "      <td>14</td>\n",
       "    </tr>\n",
       "    <tr>\n",
       "      <th>1</th>\n",
       "      <td>Kloud Original Gravity</td>\n",
       "      <td>[pictoman(1,959), 🇨🇦Vancouver, Canada, 2.0Apri...</td>\n",
       "      <td>CU GS25 7/11 ministop</td>\n",
       "      <td>14</td>\n",
       "    </tr>\n",
       "    <tr>\n",
       "      <th>2</th>\n",
       "      <td>Kloud Original Gravity</td>\n",
       "      <td>[snoworsummer(8,581), 🇺🇸baltimore, United Stat...</td>\n",
       "      <td>CU GS25 7/11 ministop</td>\n",
       "      <td>14</td>\n",
       "    </tr>\n",
       "  </tbody>\n",
       "</table>\n",
       "</div>"
      ],
      "text/plain": [
       "                     맥주이름                                               맥주정보  \\\n",
       "0  Kloud Original Gravity  [patjenner(3), 4.0December 31, 2020, Strong ho...   \n",
       "1  Kloud Original Gravity  [pictoman(1,959), 🇨🇦Vancouver, Canada, 2.0Apri...   \n",
       "2  Kloud Original Gravity  [snoworsummer(8,581), 🇺🇸baltimore, United Stat...   \n",
       "\n",
       "                     편의점  길이  \n",
       "0  CU GS25 7/11 ministop  14  \n",
       "1  CU GS25 7/11 ministop  14  \n",
       "2  CU GS25 7/11 ministop  14  "
      ]
     },
     "execution_count": 20,
     "metadata": {},
     "output_type": "execute_result"
    }
   ],
   "source": [
    "ttmp = tmp.copy()\n",
    "ttmp.head(3)"
   ]
  },
  {
   "cell_type": "code",
   "execution_count": 21,
   "metadata": {},
   "outputs": [
    {
     "data": {
      "text/plain": [
       "['Viper666.Qc(10,484)',\n",
       " '🇨🇦Richelieu, Canada',\n",
       " '2.7September 6, 2019',\n",
       " 'Dégustée le 2019-08-19.                                                                                                                                             .',\n",
       " 'BOTTLE',\n",
       " 'Aroma',\n",
       " '5',\n",
       " 'Appearance',\n",
       " '3',\n",
       " 'Flavor',\n",
       " '6',\n",
       " 'Mouthfeel',\n",
       " '3',\n",
       " 'Overall',\n",
       " '10',\n",
       " '1']"
      ]
     },
     "execution_count": 21,
     "metadata": {},
     "output_type": "execute_result"
    }
   ],
   "source": [
    "# 맥주정보 리스트 출력 : 좋아요 수가 기록된 유저 정보\n",
    "ttmp['맥주정보'].iloc[10]"
   ]
  },
  {
   "cell_type": "code",
   "execution_count": 22,
   "metadata": {},
   "outputs": [
    {
     "data": {
      "text/plain": [
       "['Viper666.Qc(10,484)',\n",
       " '🇨🇦Richelieu, Canada',\n",
       " '2.7September 6, 2019',\n",
       " 'Dégustée le 2019-08-19.                                                                                                                                             .',\n",
       " 'BOTTLE',\n",
       " 'Aroma',\n",
       " '5',\n",
       " 'Appearance',\n",
       " '3',\n",
       " 'Flavor',\n",
       " '6',\n",
       " 'Mouthfeel',\n",
       " '3',\n",
       " 'Overall',\n",
       " '10']"
      ]
     },
     "execution_count": 22,
     "metadata": {},
     "output_type": "execute_result"
    }
   ],
   "source": [
    "# 맨 뒤의 좋아요 수 제거 방법\n",
    "tlist = ttmp['맥주정보'].iloc[10][:-1]\n",
    "tlist"
   ]
  },
  {
   "cell_type": "code",
   "execution_count": 23,
   "metadata": {},
   "outputs": [],
   "source": [
    "# 전체 데이터프레임에서 좋아요가 1개인 것 찾아서 맨 뒤에 것 삭제\n",
    "ttmp['맥주정보'] = ttmp['맥주정보'].apply(lambda x : x if x[-2]=='Overall' else x[:-1] )"
   ]
  },
  {
   "cell_type": "code",
   "execution_count": 24,
   "metadata": {},
   "outputs": [],
   "source": [
    "# 맥주정보에서 0,1,2,3번째 리스트 요소와 뒤에서부터 10개의 리스트요소(평점값들)추출\n",
    "ttmp['맥주정보'] = ttmp['맥주정보'].apply(lambda x : x[:4]+x[:-11:-1])"
   ]
  },
  {
   "cell_type": "code",
   "execution_count": 25,
   "metadata": {},
   "outputs": [
    {
     "data": {
      "text/plain": [
       "['Viper666.Qc(10,484)',\n",
       " '🇨🇦Richelieu, Canada',\n",
       " '2.7September 6, 2019',\n",
       " 'Dégustée le 2019-08-19.                                                                                                                                             .',\n",
       " '10',\n",
       " 'Overall',\n",
       " '3',\n",
       " 'Mouthfeel',\n",
       " '6',\n",
       " 'Flavor',\n",
       " '3',\n",
       " 'Appearance',\n",
       " '5',\n",
       " 'Aroma']"
      ]
     },
     "execution_count": 25,
     "metadata": {},
     "output_type": "execute_result"
    }
   ],
   "source": [
    "# 좋아요 수가 정상적으로 삭제됨\n",
    "ttmp['맥주정보'].iloc[10]"
   ]
  },
  {
   "cell_type": "code",
   "execution_count": 26,
   "metadata": {},
   "outputs": [
    {
     "name": "stdout",
     "output_type": "stream",
     "text": [
      "['mkel07(8,991)', '🇦🇺Brisbane, Australia', '2.4October 11, 2019', 'Can from Charmies Liquor on 11 October 2019. This is your typical Pale Lager but I guess it’s okay for a quick Friday afternoon knock off beer.', '10', 'Overall', '2', 'Mouthfeel', '5', 'Flavor', '2', 'Appearance', '5', 'Aroma'] \n",
      "\n",
      "['bladerunner53(18)', '🇳🇱Netherlands', '2.5October 9, 2019', 'Choi’s Craft Beer House, cafe in Busan, Korea. Getapt een beetje zoetig. Ik zou zeggen IPA achtig, geen tweede besteld.', '-', 'Overall', '-', 'Mouthfeel', '-', 'Flavor', '-', 'Appearance', '-', 'Aroma'] \n",
      "\n",
      "['Viper666.Qc(10,484)', '🇨🇦Richelieu, Canada', '2.7September 6, 2019', 'Dégustée le 2019-08-19.                                                                                                                                             .', '10', 'Overall', '3', 'Mouthfeel', '6', 'Flavor', '3', 'Appearance', '5', 'Aroma'] \n",
      "\n"
     ]
    }
   ],
   "source": [
    "# 맥주 정보값 출력\n",
    "for i in range(8,11):\n",
    "    print(ttmp['맥주정보'].iloc[i], '\\n')"
   ]
  },
  {
   "cell_type": "code",
   "execution_count": null,
   "metadata": {},
   "outputs": [],
   "source": []
  },
  {
   "cell_type": "markdown",
   "metadata": {},
   "source": [
    "## 전처리 3단계 - 실제 컬럼으로 데이터 추출"
   ]
  },
  {
   "cell_type": "code",
   "execution_count": 27,
   "metadata": {},
   "outputs": [
    {
     "data": {
      "text/plain": [
       "['patjenner(3)',\n",
       " '4.0December 31, 2020',\n",
       " 'Strong hoppy flavor. Bavarian style. Ok but not fantastic. Needs to be super cold.…',\n",
       " 'Show more',\n",
       " '15',\n",
       " 'Overall',\n",
       " '4',\n",
       " 'Mouthfeel',\n",
       " '7',\n",
       " 'Flavor',\n",
       " '5',\n",
       " 'Appearance',\n",
       " '9',\n",
       " 'Aroma']"
      ]
     },
     "execution_count": 27,
     "metadata": {},
     "output_type": "execute_result"
    }
   ],
   "source": [
    "ttmp['맥주정보'].iloc[0]"
   ]
  },
  {
   "cell_type": "code",
   "execution_count": 28,
   "metadata": {},
   "outputs": [],
   "source": [
    "# 맨 첫번째 리스트 요소에 ID 저장\n",
    "# 그 뒤로는 뒤에서부터 각 평가값 저장\n",
    "ttmp['ID'] = ttmp['맥주정보'].apply(lambda x: x[0])\n",
    "ttmp['Aroma'] = ttmp['맥주정보'].apply(lambda x: x[-2])\n",
    "ttmp['Appearance'] = ttmp['맥주정보'].apply(lambda x: x[-4])\n",
    "ttmp['Flavor'] = ttmp['맥주정보'].apply(lambda x: x[-6])\n",
    "ttmp['Mouthfeel'] = ttmp['맥주정보'].apply(lambda x: x[-8])\n",
    "ttmp['Overall'] = ttmp['맥주정보'].apply(lambda x: x[-10])\n",
    "\n",
    "# 리스트의 1,2,3번째 요소만(평점날짜 or 이상한 값) 뽑아오기\n",
    "ttmp['맥주정보'] = ttmp['맥주정보'].apply(lambda x:x[1:4])\n",
    "ttmp['길이'] = ttmp['맥주정보'].apply(lambda x:len(x))"
   ]
  },
  {
   "cell_type": "code",
   "execution_count": 29,
   "metadata": {},
   "outputs": [
    {
     "data": {
      "text/html": [
       "<div>\n",
       "<style scoped>\n",
       "    .dataframe tbody tr th:only-of-type {\n",
       "        vertical-align: middle;\n",
       "    }\n",
       "\n",
       "    .dataframe tbody tr th {\n",
       "        vertical-align: top;\n",
       "    }\n",
       "\n",
       "    .dataframe thead th {\n",
       "        text-align: right;\n",
       "    }\n",
       "</style>\n",
       "<table border=\"1\" class=\"dataframe\">\n",
       "  <thead>\n",
       "    <tr style=\"text-align: right;\">\n",
       "      <th></th>\n",
       "      <th>맥주이름</th>\n",
       "      <th>맥주정보</th>\n",
       "      <th>편의점</th>\n",
       "      <th>길이</th>\n",
       "      <th>ID</th>\n",
       "      <th>Aroma</th>\n",
       "      <th>Appearance</th>\n",
       "      <th>Flavor</th>\n",
       "      <th>Mouthfeel</th>\n",
       "      <th>Overall</th>\n",
       "    </tr>\n",
       "  </thead>\n",
       "  <tbody>\n",
       "    <tr>\n",
       "      <th>0</th>\n",
       "      <td>Kloud Original Gravity</td>\n",
       "      <td>[4.0December 31, 2020, Strong hoppy flavor. Ba...</td>\n",
       "      <td>CU GS25 7/11 ministop</td>\n",
       "      <td>3</td>\n",
       "      <td>patjenner(3)</td>\n",
       "      <td>9</td>\n",
       "      <td>5</td>\n",
       "      <td>7</td>\n",
       "      <td>4</td>\n",
       "      <td>15</td>\n",
       "    </tr>\n",
       "    <tr>\n",
       "      <th>1</th>\n",
       "      <td>Kloud Original Gravity</td>\n",
       "      <td>[🇨🇦Vancouver, Canada, 2.0April 22, 2020, Poure...</td>\n",
       "      <td>CU GS25 7/11 ministop</td>\n",
       "      <td>3</td>\n",
       "      <td>pictoman(1,959)</td>\n",
       "      <td>3</td>\n",
       "      <td>3</td>\n",
       "      <td>4</td>\n",
       "      <td>3</td>\n",
       "      <td>7</td>\n",
       "    </tr>\n",
       "    <tr>\n",
       "      <th>2</th>\n",
       "      <td>Kloud Original Gravity</td>\n",
       "      <td>[🇺🇸baltimore, United States, 3.0March 7, 2020,...</td>\n",
       "      <td>CU GS25 7/11 ministop</td>\n",
       "      <td>3</td>\n",
       "      <td>snoworsummer(8,581)</td>\n",
       "      <td>6</td>\n",
       "      <td>3</td>\n",
       "      <td>6</td>\n",
       "      <td>3</td>\n",
       "      <td>12</td>\n",
       "    </tr>\n",
       "  </tbody>\n",
       "</table>\n",
       "</div>"
      ],
      "text/plain": [
       "                     맥주이름                                               맥주정보  \\\n",
       "0  Kloud Original Gravity  [4.0December 31, 2020, Strong hoppy flavor. Ba...   \n",
       "1  Kloud Original Gravity  [🇨🇦Vancouver, Canada, 2.0April 22, 2020, Poure...   \n",
       "2  Kloud Original Gravity  [🇺🇸baltimore, United States, 3.0March 7, 2020,...   \n",
       "\n",
       "                     편의점  길이                   ID Aroma Appearance Flavor  \\\n",
       "0  CU GS25 7/11 ministop   3         patjenner(3)     9          5      7   \n",
       "1  CU GS25 7/11 ministop   3      pictoman(1,959)     3          3      4   \n",
       "2  CU GS25 7/11 ministop   3  snoworsummer(8,581)     6          3      6   \n",
       "\n",
       "  Mouthfeel Overall  \n",
       "0         4      15  \n",
       "1         3       7  \n",
       "2         3      12  "
      ]
     },
     "execution_count": 29,
     "metadata": {},
     "output_type": "execute_result"
    }
   ],
   "source": [
    "# 결과 확인\n",
    "ttmp.head(3)"
   ]
  },
  {
   "cell_type": "markdown",
   "metadata": {},
   "source": [
    "## 전처리 4단계 - 국적이 없(있)는 데이터로부터 평점,날짜 추출"
   ]
  },
  {
   "cell_type": "code",
   "execution_count": 30,
   "metadata": {},
   "outputs": [
    {
     "data": {
      "text/plain": [
       "['4.0December 31, 2020',\n",
       " 'Strong hoppy flavor. Bavarian style. Ok but not fantastic. Needs to be super cold.…',\n",
       " 'Show more']"
      ]
     },
     "execution_count": 30,
     "metadata": {},
     "output_type": "execute_result"
    }
   ],
   "source": [
    "# 0, 1, 2번째 요소 중 뽑아낼 데이터의 위치가 불분명\n",
    "ttmp['맥주정보'].iloc[0]"
   ]
  },
  {
   "cell_type": "code",
   "execution_count": 31,
   "metadata": {},
   "outputs": [
    {
     "name": "stdout",
     "output_type": "stream",
     "text": [
      "['4.0December 31, 2020', 'Strong hoppy flavor. Bavarian style. Ok but not fantastic. Needs to be super cold.…', 'Show more'] \n",
      "\n",
      "['🇨🇦Vancouver, Canada', '2.0April 22, 2020', 'Poured from 330mL bottle. Clear gold with white head. Light grain with a mild sweetness. Inoffensive lager.'] \n",
      "\n",
      "['🇺🇸baltimore, United States', '3.0March 7, 2020', 'Bottle. Tastes like dough, corn, grass, smooth and mild. Light body and low/medium carbonation. Smells like dough, grass, corn, and faint toffee.'] \n",
      "\n",
      "['🇦🇺Ngunnawal, Australia', '2.9February 20, 2020', 'Pours with a brilliant clear gold body and a moderate sized white head. Aroma-taste of grain and bread crust with a faint herbal background and a clean finish. Light-medium bodied with…'] \n",
      "\n",
      "['🇨🇳Xiamen, China', '2.2February 8, 2020', 'Small can from a supermarket in Phnom Penh. Pours golden yellow with a dissipating white head. Aroma of malt. Hint of lemon in the sweet taste. Sweet finish.'] \n",
      "\n"
     ]
    }
   ],
   "source": [
    "# 0, 1, 2번째 요소 중 뽑아낼 데이터의 위치가 불분명\n",
    "for i in range(5):\n",
    "    print(ttmp['맥주정보'].iloc[i], '\\n')"
   ]
  },
  {
   "cell_type": "code",
   "execution_count": 32,
   "metadata": {},
   "outputs": [
    {
     "name": "stdout",
     "output_type": "stream",
     "text": [
      "['🇺🇸Desert Hot Springs, United States', '1.2May 30, 2003', \"You can't get away from it..............................................\"] \n",
      "\n",
      "\n",
      "['Got Stout?(173)', '🇺🇸United States', '1.8May 23, 2001'] \n",
      "\n",
      "\n",
      "['🇺🇸Auburn, United States', '2.5May 21, 2001', '............................................................................'] \n",
      "\n",
      "\n"
     ]
    }
   ],
   "source": [
    "# 특이점 확인 : 0번째, 1번째, 2번째 요소 중 뽑아낼 데이터의 위치가 불분명\n",
    "for i in range(75252, 75255):\n",
    "    print(ttmp['맥주정보'].iloc[i], '\\n\\n')"
   ]
  },
  {
   "cell_type": "code",
   "execution_count": 33,
   "metadata": {},
   "outputs": [],
   "source": [
    "# 4.0+알파벳으로 처리된 텍스트를 뽑아내기 위해 정규표현식 사용\n",
    "\n",
    "import re\n",
    "\n",
    "# ex) 4.0December 28, 2020 추출\n",
    "reg = re.compile('[0-9]+.+[0-9]+[A-Za-z0-9]*')"
   ]
  },
  {
   "cell_type": "code",
   "execution_count": 34,
   "metadata": {},
   "outputs": [],
   "source": [
    "# 정규표현식에 해당하는 문자열과 매칭되는 경우 해당 리스트 요소를 맥주정보에 저장\n",
    "# reg.match()는 re.compile()의 정규표현식과 일치하는 문자열을 반환, 아니면 False를 반환\n",
    "# 중첩 삼항 표현식 사용 : https://ooyoung.tistory.com/116\n",
    "\n",
    "ttmp['맥주정보'] = ttmp['맥주정보'].apply(lambda x: x[0] if reg.match(x[0]) else \n",
    "                                  (x[1] if reg.match(x[1]) else x[2]))"
   ]
  },
  {
   "cell_type": "code",
   "execution_count": 35,
   "metadata": {},
   "outputs": [
    {
     "data": {
      "text/html": [
       "<div>\n",
       "<style scoped>\n",
       "    .dataframe tbody tr th:only-of-type {\n",
       "        vertical-align: middle;\n",
       "    }\n",
       "\n",
       "    .dataframe tbody tr th {\n",
       "        vertical-align: top;\n",
       "    }\n",
       "\n",
       "    .dataframe thead th {\n",
       "        text-align: right;\n",
       "    }\n",
       "</style>\n",
       "<table border=\"1\" class=\"dataframe\">\n",
       "  <thead>\n",
       "    <tr style=\"text-align: right;\">\n",
       "      <th></th>\n",
       "      <th>맥주이름</th>\n",
       "      <th>맥주정보</th>\n",
       "      <th>편의점</th>\n",
       "      <th>길이</th>\n",
       "      <th>ID</th>\n",
       "      <th>Aroma</th>\n",
       "      <th>Appearance</th>\n",
       "      <th>Flavor</th>\n",
       "      <th>Mouthfeel</th>\n",
       "      <th>Overall</th>\n",
       "    </tr>\n",
       "  </thead>\n",
       "  <tbody>\n",
       "    <tr>\n",
       "      <th>0</th>\n",
       "      <td>Kloud Original Gravity</td>\n",
       "      <td>4.0December 31, 2020</td>\n",
       "      <td>CU GS25 7/11 ministop</td>\n",
       "      <td>3</td>\n",
       "      <td>patjenner(3)</td>\n",
       "      <td>9</td>\n",
       "      <td>5</td>\n",
       "      <td>7</td>\n",
       "      <td>4</td>\n",
       "      <td>15</td>\n",
       "    </tr>\n",
       "    <tr>\n",
       "      <th>1</th>\n",
       "      <td>Kloud Original Gravity</td>\n",
       "      <td>2.0April 22, 2020</td>\n",
       "      <td>CU GS25 7/11 ministop</td>\n",
       "      <td>3</td>\n",
       "      <td>pictoman(1,959)</td>\n",
       "      <td>3</td>\n",
       "      <td>3</td>\n",
       "      <td>4</td>\n",
       "      <td>3</td>\n",
       "      <td>7</td>\n",
       "    </tr>\n",
       "    <tr>\n",
       "      <th>2</th>\n",
       "      <td>Kloud Original Gravity</td>\n",
       "      <td>3.0March 7, 2020</td>\n",
       "      <td>CU GS25 7/11 ministop</td>\n",
       "      <td>3</td>\n",
       "      <td>snoworsummer(8,581)</td>\n",
       "      <td>6</td>\n",
       "      <td>3</td>\n",
       "      <td>6</td>\n",
       "      <td>3</td>\n",
       "      <td>12</td>\n",
       "    </tr>\n",
       "    <tr>\n",
       "      <th>3</th>\n",
       "      <td>Kloud Original Gravity</td>\n",
       "      <td>2.9February 20, 2020</td>\n",
       "      <td>CU GS25 7/11 ministop</td>\n",
       "      <td>3</td>\n",
       "      <td>mickmac(726)</td>\n",
       "      <td>5</td>\n",
       "      <td>4</td>\n",
       "      <td>4</td>\n",
       "      <td>4</td>\n",
       "      <td>12</td>\n",
       "    </tr>\n",
       "    <tr>\n",
       "      <th>4</th>\n",
       "      <td>Kloud Original Gravity</td>\n",
       "      <td>2.2February 8, 2020</td>\n",
       "      <td>CU GS25 7/11 ministop</td>\n",
       "      <td>3</td>\n",
       "      <td>GuideDogSaint(2,549)</td>\n",
       "      <td>4</td>\n",
       "      <td>2</td>\n",
       "      <td>5</td>\n",
       "      <td>2</td>\n",
       "      <td>9</td>\n",
       "    </tr>\n",
       "  </tbody>\n",
       "</table>\n",
       "</div>"
      ],
      "text/plain": [
       "                     맥주이름                  맥주정보                    편의점  길이  \\\n",
       "0  Kloud Original Gravity  4.0December 31, 2020  CU GS25 7/11 ministop   3   \n",
       "1  Kloud Original Gravity     2.0April 22, 2020  CU GS25 7/11 ministop   3   \n",
       "2  Kloud Original Gravity      3.0March 7, 2020  CU GS25 7/11 ministop   3   \n",
       "3  Kloud Original Gravity  2.9February 20, 2020  CU GS25 7/11 ministop   3   \n",
       "4  Kloud Original Gravity   2.2February 8, 2020  CU GS25 7/11 ministop   3   \n",
       "\n",
       "                     ID Aroma Appearance Flavor Mouthfeel Overall  \n",
       "0          patjenner(3)     9          5      7         4      15  \n",
       "1       pictoman(1,959)     3          3      4         3       7  \n",
       "2   snoworsummer(8,581)     6          3      6         3      12  \n",
       "3          mickmac(726)     5          4      4         4      12  \n",
       "4  GuideDogSaint(2,549)     4          2      5         2       9  "
      ]
     },
     "execution_count": 35,
     "metadata": {},
     "output_type": "execute_result"
    }
   ],
   "source": [
    "# 결과 확인\n",
    "ttmp.head()"
   ]
  },
  {
   "cell_type": "code",
   "execution_count": 36,
   "metadata": {},
   "outputs": [
    {
     "name": "stdout",
     "output_type": "stream",
     "text": [
      "2.6May 30, 2001\n",
      "1.0May 24, 2001\n",
      "1.2May 30, 2003\n",
      "1.8May 23, 2001\n",
      "2.5May 21, 2001\n",
      "1.3May 16, 2001\n",
      "1.3May 15, 2001\n",
      "2.2May 15, 2001\n",
      "0.7May 15, 2001\n",
      "0.7May 14, 2001\n"
     ]
    }
   ],
   "source": [
    "# 특이점 확인 : 원하는 평점 + 날자값이 정상적으로 추출됨\n",
    "for i in range(75250, 75260):\n",
    "    print(ttmp['맥주정보'].iloc[i])"
   ]
  },
  {
   "cell_type": "markdown",
   "metadata": {},
   "source": [
    "## 전처리 5단계 - 평점과 날짜 데이터 분리"
   ]
  },
  {
   "cell_type": "code",
   "execution_count": 37,
   "metadata": {},
   "outputs": [],
   "source": [
    "# 평점은 0번째부터 3번째, 날짜는 그 이후 문자열로 처리\n",
    "ttmp['평점'] = ttmp['맥주정보'].apply(lambda x : x[:3])\n",
    "ttmp['날짜'] = ttmp['맥주정보'].apply(lambda x : x[3:])"
   ]
  },
  {
   "cell_type": "code",
   "execution_count": 38,
   "metadata": {},
   "outputs": [
    {
     "data": {
      "text/html": [
       "<div>\n",
       "<style scoped>\n",
       "    .dataframe tbody tr th:only-of-type {\n",
       "        vertical-align: middle;\n",
       "    }\n",
       "\n",
       "    .dataframe tbody tr th {\n",
       "        vertical-align: top;\n",
       "    }\n",
       "\n",
       "    .dataframe thead th {\n",
       "        text-align: right;\n",
       "    }\n",
       "</style>\n",
       "<table border=\"1\" class=\"dataframe\">\n",
       "  <thead>\n",
       "    <tr style=\"text-align: right;\">\n",
       "      <th></th>\n",
       "      <th>맥주이름</th>\n",
       "      <th>맥주정보</th>\n",
       "      <th>편의점</th>\n",
       "      <th>길이</th>\n",
       "      <th>ID</th>\n",
       "      <th>Aroma</th>\n",
       "      <th>Appearance</th>\n",
       "      <th>Flavor</th>\n",
       "      <th>Mouthfeel</th>\n",
       "      <th>Overall</th>\n",
       "      <th>평점</th>\n",
       "      <th>날짜</th>\n",
       "    </tr>\n",
       "  </thead>\n",
       "  <tbody>\n",
       "    <tr>\n",
       "      <th>0</th>\n",
       "      <td>Kloud Original Gravity</td>\n",
       "      <td>4.0December 31, 2020</td>\n",
       "      <td>CU GS25 7/11 ministop</td>\n",
       "      <td>3</td>\n",
       "      <td>patjenner(3)</td>\n",
       "      <td>9</td>\n",
       "      <td>5</td>\n",
       "      <td>7</td>\n",
       "      <td>4</td>\n",
       "      <td>15</td>\n",
       "      <td>4.0</td>\n",
       "      <td>December 31, 2020</td>\n",
       "    </tr>\n",
       "    <tr>\n",
       "      <th>1</th>\n",
       "      <td>Kloud Original Gravity</td>\n",
       "      <td>2.0April 22, 2020</td>\n",
       "      <td>CU GS25 7/11 ministop</td>\n",
       "      <td>3</td>\n",
       "      <td>pictoman(1,959)</td>\n",
       "      <td>3</td>\n",
       "      <td>3</td>\n",
       "      <td>4</td>\n",
       "      <td>3</td>\n",
       "      <td>7</td>\n",
       "      <td>2.0</td>\n",
       "      <td>April 22, 2020</td>\n",
       "    </tr>\n",
       "    <tr>\n",
       "      <th>2</th>\n",
       "      <td>Kloud Original Gravity</td>\n",
       "      <td>3.0March 7, 2020</td>\n",
       "      <td>CU GS25 7/11 ministop</td>\n",
       "      <td>3</td>\n",
       "      <td>snoworsummer(8,581)</td>\n",
       "      <td>6</td>\n",
       "      <td>3</td>\n",
       "      <td>6</td>\n",
       "      <td>3</td>\n",
       "      <td>12</td>\n",
       "      <td>3.0</td>\n",
       "      <td>March 7, 2020</td>\n",
       "    </tr>\n",
       "  </tbody>\n",
       "</table>\n",
       "</div>"
      ],
      "text/plain": [
       "                     맥주이름                  맥주정보                    편의점  길이  \\\n",
       "0  Kloud Original Gravity  4.0December 31, 2020  CU GS25 7/11 ministop   3   \n",
       "1  Kloud Original Gravity     2.0April 22, 2020  CU GS25 7/11 ministop   3   \n",
       "2  Kloud Original Gravity      3.0March 7, 2020  CU GS25 7/11 ministop   3   \n",
       "\n",
       "                    ID Aroma Appearance Flavor Mouthfeel Overall   평점  \\\n",
       "0         patjenner(3)     9          5      7         4      15  4.0   \n",
       "1      pictoman(1,959)     3          3      4         3       7  2.0   \n",
       "2  snoworsummer(8,581)     6          3      6         3      12  3.0   \n",
       "\n",
       "                  날짜  \n",
       "0  December 31, 2020  \n",
       "1     April 22, 2020  \n",
       "2      March 7, 2020  "
      ]
     },
     "execution_count": 38,
     "metadata": {},
     "output_type": "execute_result"
    }
   ],
   "source": [
    "ttmp.head(3)"
   ]
  },
  {
   "cell_type": "code",
   "execution_count": 39,
   "metadata": {},
   "outputs": [
    {
     "data": {
      "text/plain": [
       "Index(['맥주이름', '맥주정보', '편의점', '길이', 'ID', 'Aroma', 'Appearance', 'Flavor',\n",
       "       'Mouthfeel', 'Overall', '평점', '날짜'],\n",
       "      dtype='object')"
      ]
     },
     "execution_count": 39,
     "metadata": {},
     "output_type": "execute_result"
    }
   ],
   "source": [
    "ttmp.columns"
   ]
  },
  {
   "cell_type": "code",
   "execution_count": 40,
   "metadata": {},
   "outputs": [],
   "source": [
    "# 컬럼명 변경\n",
    "ttmp.columns = ['맥주', '맥주정보', '편의점', '길이', '아이디', 'Aroma', 'Appearance', 'Flavor',\n",
    "       'Mouthfeel', 'Overall', '평점', '날짜']"
   ]
  },
  {
   "cell_type": "code",
   "execution_count": 41,
   "metadata": {},
   "outputs": [],
   "source": [
    "# 필요한 컬럼만 추출\n",
    "ttmp = ttmp[['아이디', '맥주', '날짜', '평점', '편의점', 'Aroma', 'Appearance', 'Flavor',\n",
    "       'Mouthfeel', 'Overall']]"
   ]
  },
  {
   "cell_type": "code",
   "execution_count": 42,
   "metadata": {},
   "outputs": [
    {
     "data": {
      "text/html": [
       "<div>\n",
       "<style scoped>\n",
       "    .dataframe tbody tr th:only-of-type {\n",
       "        vertical-align: middle;\n",
       "    }\n",
       "\n",
       "    .dataframe tbody tr th {\n",
       "        vertical-align: top;\n",
       "    }\n",
       "\n",
       "    .dataframe thead th {\n",
       "        text-align: right;\n",
       "    }\n",
       "</style>\n",
       "<table border=\"1\" class=\"dataframe\">\n",
       "  <thead>\n",
       "    <tr style=\"text-align: right;\">\n",
       "      <th></th>\n",
       "      <th>아이디</th>\n",
       "      <th>맥주</th>\n",
       "      <th>날짜</th>\n",
       "      <th>평점</th>\n",
       "      <th>편의점</th>\n",
       "      <th>Aroma</th>\n",
       "      <th>Appearance</th>\n",
       "      <th>Flavor</th>\n",
       "      <th>Mouthfeel</th>\n",
       "      <th>Overall</th>\n",
       "    </tr>\n",
       "  </thead>\n",
       "  <tbody>\n",
       "    <tr>\n",
       "      <th>0</th>\n",
       "      <td>patjenner(3)</td>\n",
       "      <td>Kloud Original Gravity</td>\n",
       "      <td>December 31, 2020</td>\n",
       "      <td>4.0</td>\n",
       "      <td>CU GS25 7/11 ministop</td>\n",
       "      <td>9</td>\n",
       "      <td>5</td>\n",
       "      <td>7</td>\n",
       "      <td>4</td>\n",
       "      <td>15</td>\n",
       "    </tr>\n",
       "    <tr>\n",
       "      <th>1</th>\n",
       "      <td>pictoman(1,959)</td>\n",
       "      <td>Kloud Original Gravity</td>\n",
       "      <td>April 22, 2020</td>\n",
       "      <td>2.0</td>\n",
       "      <td>CU GS25 7/11 ministop</td>\n",
       "      <td>3</td>\n",
       "      <td>3</td>\n",
       "      <td>4</td>\n",
       "      <td>3</td>\n",
       "      <td>7</td>\n",
       "    </tr>\n",
       "    <tr>\n",
       "      <th>2</th>\n",
       "      <td>snoworsummer(8,581)</td>\n",
       "      <td>Kloud Original Gravity</td>\n",
       "      <td>March 7, 2020</td>\n",
       "      <td>3.0</td>\n",
       "      <td>CU GS25 7/11 ministop</td>\n",
       "      <td>6</td>\n",
       "      <td>3</td>\n",
       "      <td>6</td>\n",
       "      <td>3</td>\n",
       "      <td>12</td>\n",
       "    </tr>\n",
       "  </tbody>\n",
       "</table>\n",
       "</div>"
      ],
      "text/plain": [
       "                   아이디                      맥주                 날짜   평점  \\\n",
       "0         patjenner(3)  Kloud Original Gravity  December 31, 2020  4.0   \n",
       "1      pictoman(1,959)  Kloud Original Gravity     April 22, 2020  2.0   \n",
       "2  snoworsummer(8,581)  Kloud Original Gravity      March 7, 2020  3.0   \n",
       "\n",
       "                     편의점 Aroma Appearance Flavor Mouthfeel Overall  \n",
       "0  CU GS25 7/11 ministop     9          5      7         4      15  \n",
       "1  CU GS25 7/11 ministop     3          3      4         3       7  \n",
       "2  CU GS25 7/11 ministop     6          3      6         3      12  "
      ]
     },
     "execution_count": 42,
     "metadata": {},
     "output_type": "execute_result"
    }
   ],
   "source": [
    "ttmp.head(3)"
   ]
  },
  {
   "cell_type": "code",
   "execution_count": 43,
   "metadata": {
    "scrolled": false
   },
   "outputs": [
    {
     "data": {
      "text/html": [
       "<div>\n",
       "<style scoped>\n",
       "    .dataframe tbody tr th:only-of-type {\n",
       "        vertical-align: middle;\n",
       "    }\n",
       "\n",
       "    .dataframe tbody tr th {\n",
       "        vertical-align: top;\n",
       "    }\n",
       "\n",
       "    .dataframe thead th {\n",
       "        text-align: right;\n",
       "    }\n",
       "</style>\n",
       "<table border=\"1\" class=\"dataframe\">\n",
       "  <thead>\n",
       "    <tr style=\"text-align: right;\">\n",
       "      <th></th>\n",
       "      <th>아이디</th>\n",
       "      <th>맥주</th>\n",
       "      <th>날짜</th>\n",
       "      <th>평점</th>\n",
       "      <th>편의점</th>\n",
       "      <th>Aroma</th>\n",
       "      <th>Appearance</th>\n",
       "      <th>Flavor</th>\n",
       "      <th>Mouthfeel</th>\n",
       "      <th>Overall</th>\n",
       "    </tr>\n",
       "  </thead>\n",
       "  <tbody>\n",
       "    <tr>\n",
       "      <th>10</th>\n",
       "      <td>Viper666.Qc(10,484)</td>\n",
       "      <td>Kloud Original Gravity</td>\n",
       "      <td>September 6, 2019</td>\n",
       "      <td>2.7</td>\n",
       "      <td>CU GS25 7/11 ministop</td>\n",
       "      <td>5</td>\n",
       "      <td>3</td>\n",
       "      <td>6</td>\n",
       "      <td>3</td>\n",
       "      <td>10</td>\n",
       "    </tr>\n",
       "    <tr>\n",
       "      <th>825</th>\n",
       "      <td>Viper666.Qc(10,484)</td>\n",
       "      <td>Asahi Super Dry</td>\n",
       "      <td>January 4, 2013</td>\n",
       "      <td>2.2</td>\n",
       "      <td>CU GS25 7/11 ministop</td>\n",
       "      <td>5</td>\n",
       "      <td>3</td>\n",
       "      <td>4</td>\n",
       "      <td>2</td>\n",
       "      <td>8</td>\n",
       "    </tr>\n",
       "    <tr>\n",
       "      <th>308</th>\n",
       "      <td>Viper666.Qc(10,484)</td>\n",
       "      <td>Tsingtao</td>\n",
       "      <td>March 7, 2016</td>\n",
       "      <td>1.9</td>\n",
       "      <td>CU GS25 7/11 ministop</td>\n",
       "      <td>4</td>\n",
       "      <td>2</td>\n",
       "      <td>4</td>\n",
       "      <td>2</td>\n",
       "      <td>7</td>\n",
       "    </tr>\n",
       "  </tbody>\n",
       "</table>\n",
       "</div>"
      ],
      "text/plain": [
       "                     아이디                      맥주                 날짜   평점  \\\n",
       "10   Viper666.Qc(10,484)  Kloud Original Gravity  September 6, 2019  2.7   \n",
       "825  Viper666.Qc(10,484)         Asahi Super Dry    January 4, 2013  2.2   \n",
       "308  Viper666.Qc(10,484)                Tsingtao      March 7, 2016  1.9   \n",
       "\n",
       "                       편의점 Aroma Appearance Flavor Mouthfeel Overall  \n",
       "10   CU GS25 7/11 ministop     5          3      6         3      10  \n",
       "825  CU GS25 7/11 ministop     5          3      4         2       8  \n",
       "308  CU GS25 7/11 ministop     4          2      4         2       7  "
      ]
     },
     "execution_count": 43,
     "metadata": {},
     "output_type": "execute_result"
    }
   ],
   "source": [
    "# 좋아요 수가 표시된 특이점 데이터 다시 한 번 확인\n",
    "ttmp[ttmp['아이디'].str.contains('Viper666.Qc')].head(3)"
   ]
  },
  {
   "cell_type": "code",
   "execution_count": 44,
   "metadata": {},
   "outputs": [
    {
     "name": "stdout",
     "output_type": "stream",
     "text": [
      "<class 'pandas.core.frame.DataFrame'>\n",
      "Int64Index: 109627 entries, 0 to 7\n",
      "Data columns (total 10 columns):\n",
      " #   Column      Non-Null Count   Dtype \n",
      "---  ------      --------------   ----- \n",
      " 0   아이디         109627 non-null  object\n",
      " 1   맥주          109627 non-null  object\n",
      " 2   날짜          109627 non-null  object\n",
      " 3   평점          109627 non-null  object\n",
      " 4   편의점         109627 non-null  object\n",
      " 5   Aroma       109627 non-null  object\n",
      " 6   Appearance  109627 non-null  object\n",
      " 7   Flavor      109627 non-null  object\n",
      " 8   Mouthfeel   109627 non-null  object\n",
      " 9   Overall     109627 non-null  object\n",
      "dtypes: object(10)\n",
      "memory usage: 9.2+ MB\n"
     ]
    }
   ],
   "source": [
    "ttmp.info()"
   ]
  },
  {
   "cell_type": "markdown",
   "metadata": {},
   "source": [
    "# 문제 발생 : 평점 데이터 추출이 잘못됨 --> 해결"
   ]
  },
  {
   "cell_type": "markdown",
   "metadata": {},
   "source": [
    "### 1. 아이디, 국적, 평점+날짜, 리뷰 문제 발생\n",
    "### 아이디, 국적, 이상한값, 평점+날짜, 리뷰 순인 데이터 발생 --> 4번째까지 고려함으로써 해결\n",
    "\n",
    "### 2. 세부 리뷰 평점이 '-'인 값 때문에 오류 발생 -> 삭제함으로써 해결"
   ]
  },
  {
   "cell_type": "code",
   "execution_count": 45,
   "metadata": {},
   "outputs": [
    {
     "data": {
      "text/plain": [
       "아이디                               G\n",
       "맥주                        Budweiser\n",
       "날짜                     May 23, 2001\n",
       "평점                              1.8\n",
       "편의점           CU GS25 7/11 ministop\n",
       "Aroma                             3\n",
       "Appearance                        2\n",
       "Flavor                            5\n",
       "Mouthfeel                         2\n",
       "Overall                           6\n",
       "Name: 4323, dtype: object"
      ]
     },
     "execution_count": 45,
     "metadata": {},
     "output_type": "execute_result"
    }
   ],
   "source": [
    "# 문제 발생 : 평점 데이터 추출이 잘못됨 --> 해결\n",
    "ttmp.iloc[75253]"
   ]
  },
  {
   "cell_type": "code",
   "execution_count": 46,
   "metadata": {},
   "outputs": [
    {
     "data": {
      "text/plain": [
       "아이디                bladerunner53(18)\n",
       "맥주            Kloud Original Gravity\n",
       "날짜                   October 9, 2019\n",
       "평점                               2.5\n",
       "편의점            CU GS25 7/11 ministop\n",
       "Aroma                              -\n",
       "Appearance                         -\n",
       "Flavor                             -\n",
       "Mouthfeel                          -\n",
       "Overall                            -\n",
       "Name: 9, dtype: object"
      ]
     },
     "execution_count": 46,
     "metadata": {},
     "output_type": "execute_result"
    }
   ],
   "source": [
    "ttmp.iloc[9]"
   ]
  },
  {
   "cell_type": "code",
   "execution_count": 47,
   "metadata": {},
   "outputs": [
    {
     "data": {
      "text/html": [
       "<div>\n",
       "<style scoped>\n",
       "    .dataframe tbody tr th:only-of-type {\n",
       "        vertical-align: middle;\n",
       "    }\n",
       "\n",
       "    .dataframe tbody tr th {\n",
       "        vertical-align: top;\n",
       "    }\n",
       "\n",
       "    .dataframe thead th {\n",
       "        text-align: right;\n",
       "    }\n",
       "</style>\n",
       "<table border=\"1\" class=\"dataframe\">\n",
       "  <thead>\n",
       "    <tr style=\"text-align: right;\">\n",
       "      <th></th>\n",
       "      <th>아이디</th>\n",
       "      <th>맥주</th>\n",
       "      <th>날짜</th>\n",
       "      <th>평점</th>\n",
       "      <th>편의점</th>\n",
       "      <th>Aroma</th>\n",
       "      <th>Appearance</th>\n",
       "      <th>Flavor</th>\n",
       "      <th>Mouthfeel</th>\n",
       "      <th>Overall</th>\n",
       "    </tr>\n",
       "  </thead>\n",
       "  <tbody>\n",
       "    <tr>\n",
       "      <th>9</th>\n",
       "      <td>bladerunner53(18)</td>\n",
       "      <td>Kloud Original Gravity</td>\n",
       "      <td>October 9, 2019</td>\n",
       "      <td>2.5</td>\n",
       "      <td>CU GS25 7/11 ministop</td>\n",
       "      <td>-</td>\n",
       "      <td>-</td>\n",
       "      <td>-</td>\n",
       "      <td>-</td>\n",
       "      <td>-</td>\n",
       "    </tr>\n",
       "    <tr>\n",
       "      <th>12</th>\n",
       "      <td>GIANNISONG(8)</td>\n",
       "      <td>Kloud Original Gravity</td>\n",
       "      <td>July 20, 2019</td>\n",
       "      <td>2.0</td>\n",
       "      <td>CU GS25 7/11 ministop</td>\n",
       "      <td>-</td>\n",
       "      <td>-</td>\n",
       "      <td>-</td>\n",
       "      <td>-</td>\n",
       "      <td>-</td>\n",
       "    </tr>\n",
       "    <tr>\n",
       "      <th>21</th>\n",
       "      <td>YM(1)</td>\n",
       "      <td>Kloud Original Gravity</td>\n",
       "      <td>September 13, 2019</td>\n",
       "      <td>3.0</td>\n",
       "      <td>CU GS25 7/11 ministop</td>\n",
       "      <td>-</td>\n",
       "      <td>-</td>\n",
       "      <td>-</td>\n",
       "      <td>-</td>\n",
       "      <td>-</td>\n",
       "    </tr>\n",
       "    <tr>\n",
       "      <th>39</th>\n",
       "      <td>Skarecrow(1,734)</td>\n",
       "      <td>Kloud Original Gravity</td>\n",
       "      <td>April 8, 2018</td>\n",
       "      <td>2.5</td>\n",
       "      <td>CU GS25 7/11 ministop</td>\n",
       "      <td>-</td>\n",
       "      <td>-</td>\n",
       "      <td>-</td>\n",
       "      <td>-</td>\n",
       "      <td>-</td>\n",
       "    </tr>\n",
       "    <tr>\n",
       "      <th>7</th>\n",
       "      <td>통통냥이코(6)</td>\n",
       "      <td>Kloud Fitz Super Clear</td>\n",
       "      <td>January 28, 2019</td>\n",
       "      <td>2.3</td>\n",
       "      <td>CU GS25 7/11 ministop</td>\n",
       "      <td>-</td>\n",
       "      <td>-</td>\n",
       "      <td>-</td>\n",
       "      <td>-</td>\n",
       "      <td>-</td>\n",
       "    </tr>\n",
       "    <tr>\n",
       "      <th>...</th>\n",
       "      <td>...</td>\n",
       "      <td>...</td>\n",
       "      <td>...</td>\n",
       "      <td>...</td>\n",
       "      <td>...</td>\n",
       "      <td>...</td>\n",
       "      <td>...</td>\n",
       "      <td>...</td>\n",
       "      <td>...</td>\n",
       "      <td>...</td>\n",
       "    </tr>\n",
       "    <tr>\n",
       "      <th>128</th>\n",
       "      <td>haldex(89)</td>\n",
       "      <td>Warsteiner Premium Verum</td>\n",
       "      <td>May 27, 2018</td>\n",
       "      <td>2.5</td>\n",
       "      <td>7/11</td>\n",
       "      <td>-</td>\n",
       "      <td>-</td>\n",
       "      <td>-</td>\n",
       "      <td>-</td>\n",
       "      <td>-</td>\n",
       "    </tr>\n",
       "    <tr>\n",
       "      <th>178</th>\n",
       "      <td>PilsnerMeister42(17)</td>\n",
       "      <td>Warsteiner Premium Verum</td>\n",
       "      <td>September 29, 2017</td>\n",
       "      <td>4.0</td>\n",
       "      <td>7/11</td>\n",
       "      <td>-</td>\n",
       "      <td>-</td>\n",
       "      <td>-</td>\n",
       "      <td>-</td>\n",
       "      <td>-</td>\n",
       "    </tr>\n",
       "    <tr>\n",
       "      <th>188</th>\n",
       "      <td>pj007(9)</td>\n",
       "      <td>Warsteiner Premium Verum</td>\n",
       "      <td>September 1, 2017</td>\n",
       "      <td>2.6</td>\n",
       "      <td>7/11</td>\n",
       "      <td>-</td>\n",
       "      <td>-</td>\n",
       "      <td>-</td>\n",
       "      <td>-</td>\n",
       "      <td>-</td>\n",
       "    </tr>\n",
       "    <tr>\n",
       "      <th>197</th>\n",
       "      <td>angel77(5,902)</td>\n",
       "      <td>Warsteiner Premium Verum</td>\n",
       "      <td>August 7, 2017</td>\n",
       "      <td>2.0</td>\n",
       "      <td>7/11</td>\n",
       "      <td>-</td>\n",
       "      <td>-</td>\n",
       "      <td>-</td>\n",
       "      <td>-</td>\n",
       "      <td>-</td>\n",
       "    </tr>\n",
       "    <tr>\n",
       "      <th>199</th>\n",
       "      <td>KoNrRiI(2,146)</td>\n",
       "      <td>Warsteiner Premium Verum</td>\n",
       "      <td>July 26, 2017</td>\n",
       "      <td>1.8</td>\n",
       "      <td>7/11</td>\n",
       "      <td>-</td>\n",
       "      <td>-</td>\n",
       "      <td>-</td>\n",
       "      <td>-</td>\n",
       "      <td>-</td>\n",
       "    </tr>\n",
       "  </tbody>\n",
       "</table>\n",
       "<p>1415 rows × 10 columns</p>\n",
       "</div>"
      ],
      "text/plain": [
       "                      아이디                        맥주                  날짜   평점  \\\n",
       "9       bladerunner53(18)    Kloud Original Gravity     October 9, 2019  2.5   \n",
       "12          GIANNISONG(8)    Kloud Original Gravity       July 20, 2019  2.0   \n",
       "21                  YM(1)    Kloud Original Gravity  September 13, 2019  3.0   \n",
       "39       Skarecrow(1,734)    Kloud Original Gravity       April 8, 2018  2.5   \n",
       "7                통통냥이코(6)    Kloud Fitz Super Clear    January 28, 2019  2.3   \n",
       "..                    ...                       ...                 ...  ...   \n",
       "128            haldex(89)  Warsteiner Premium Verum        May 27, 2018  2.5   \n",
       "178  PilsnerMeister42(17)  Warsteiner Premium Verum  September 29, 2017  4.0   \n",
       "188              pj007(9)  Warsteiner Premium Verum   September 1, 2017  2.6   \n",
       "197        angel77(5,902)  Warsteiner Premium Verum      August 7, 2017  2.0   \n",
       "199        KoNrRiI(2,146)  Warsteiner Premium Verum       July 26, 2017  1.8   \n",
       "\n",
       "                       편의점 Aroma Appearance Flavor Mouthfeel Overall  \n",
       "9    CU GS25 7/11 ministop     -          -      -         -       -  \n",
       "12   CU GS25 7/11 ministop     -          -      -         -       -  \n",
       "21   CU GS25 7/11 ministop     -          -      -         -       -  \n",
       "39   CU GS25 7/11 ministop     -          -      -         -       -  \n",
       "7    CU GS25 7/11 ministop     -          -      -         -       -  \n",
       "..                     ...   ...        ...    ...       ...     ...  \n",
       "128                   7/11     -          -      -         -       -  \n",
       "178                   7/11     -          -      -         -       -  \n",
       "188                   7/11     -          -      -         -       -  \n",
       "197                   7/11     -          -      -         -       -  \n",
       "199                   7/11     -          -      -         -       -  \n",
       "\n",
       "[1415 rows x 10 columns]"
      ]
     },
     "execution_count": 47,
     "metadata": {},
     "output_type": "execute_result"
    }
   ],
   "source": [
    "# 문제 발생 : 세부 리뷰 평점이 '-'인 경우 발생\n",
    "ttmp[ttmp['Aroma']=='-']"
   ]
  },
  {
   "cell_type": "code",
   "execution_count": 48,
   "metadata": {},
   "outputs": [],
   "source": [
    "# 세부 리뷰 값이 '-'가 아닌 데이터만 저장\n",
    "ttmp = ttmp[ttmp['Aroma']!='-']\n",
    "ttmp = ttmp[ttmp['Appearance']!='-']\n",
    "ttmp = ttmp[ttmp['Flavor']!='-']\n",
    "ttmp = ttmp[ttmp['Mouthfeel']!='-']\n",
    "ttmp = ttmp[ttmp['Overall']!='-']"
   ]
  },
  {
   "cell_type": "code",
   "execution_count": 49,
   "metadata": {},
   "outputs": [
    {
     "data": {
      "text/html": [
       "<div>\n",
       "<style scoped>\n",
       "    .dataframe tbody tr th:only-of-type {\n",
       "        vertical-align: middle;\n",
       "    }\n",
       "\n",
       "    .dataframe tbody tr th {\n",
       "        vertical-align: top;\n",
       "    }\n",
       "\n",
       "    .dataframe thead th {\n",
       "        text-align: right;\n",
       "    }\n",
       "</style>\n",
       "<table border=\"1\" class=\"dataframe\">\n",
       "  <thead>\n",
       "    <tr style=\"text-align: right;\">\n",
       "      <th></th>\n",
       "      <th>아이디</th>\n",
       "      <th>맥주</th>\n",
       "      <th>날짜</th>\n",
       "      <th>평점</th>\n",
       "      <th>편의점</th>\n",
       "      <th>Aroma</th>\n",
       "      <th>Appearance</th>\n",
       "      <th>Flavor</th>\n",
       "      <th>Mouthfeel</th>\n",
       "      <th>Overall</th>\n",
       "    </tr>\n",
       "  </thead>\n",
       "  <tbody>\n",
       "  </tbody>\n",
       "</table>\n",
       "</div>"
      ],
      "text/plain": [
       "Empty DataFrame\n",
       "Columns: [아이디, 맥주, 날짜, 평점, 편의점, Aroma, Appearance, Flavor, Mouthfeel, Overall]\n",
       "Index: []"
      ]
     },
     "execution_count": 49,
     "metadata": {},
     "output_type": "execute_result"
    }
   ],
   "source": [
    "# 문제 발생 : 세부 리뷰 평점이 '-'인 경우 발생 --> 해결\n",
    "ttmp[ttmp['Aroma']=='-']"
   ]
  },
  {
   "cell_type": "code",
   "execution_count": 50,
   "metadata": {},
   "outputs": [],
   "source": [
    "# 수치형 데이터는 실수로 변환 : pd.to_numeric() 함수 사용\n",
    "ttmp['평점'] = pd.to_numeric(ttmp['평점'])\n",
    "ttmp['Aroma'] = pd.to_numeric(ttmp['Aroma'])\n",
    "ttmp['Appearance'] = pd.to_numeric(ttmp['Appearance'])\n",
    "ttmp['Flavor'] = pd.to_numeric(ttmp['Flavor'])\n",
    "ttmp['Mouthfeel'] = pd.to_numeric(ttmp['Mouthfeel'])\n",
    "ttmp['Overall'] = pd.to_numeric(ttmp['Overall'])"
   ]
  },
  {
   "cell_type": "code",
   "execution_count": 59,
   "metadata": {},
   "outputs": [],
   "source": [
    "# 중복된 행들을 제거합니다.\n",
    "ttmp.drop_duplicates(keep='first', inplace=True)"
   ]
  },
  {
   "cell_type": "code",
   "execution_count": 60,
   "metadata": {},
   "outputs": [
    {
     "name": "stdout",
     "output_type": "stream",
     "text": [
      "<class 'pandas.core.frame.DataFrame'>\n",
      "Int64Index: 76287 entries, 0 to 7\n",
      "Data columns (total 10 columns):\n",
      " #   Column      Non-Null Count  Dtype  \n",
      "---  ------      --------------  -----  \n",
      " 0   아이디         76287 non-null  object \n",
      " 1   맥주          76287 non-null  object \n",
      " 2   날짜          76287 non-null  object \n",
      " 3   평점          76287 non-null  float64\n",
      " 4   편의점         76287 non-null  object \n",
      " 5   Aroma       76287 non-null  int64  \n",
      " 6   Appearance  76287 non-null  int64  \n",
      " 7   Flavor      76287 non-null  int64  \n",
      " 8   Mouthfeel   76287 non-null  int64  \n",
      " 9   Overall     76287 non-null  int64  \n",
      "dtypes: float64(1), int64(5), object(4)\n",
      "memory usage: 6.4+ MB\n"
     ]
    }
   ],
   "source": [
    "# 최종 데이터 확인\n",
    "ttmp.info()"
   ]
  },
  {
   "cell_type": "code",
   "execution_count": 61,
   "metadata": {
    "scrolled": true
   },
   "outputs": [
    {
     "data": {
      "text/html": [
       "<div>\n",
       "<style scoped>\n",
       "    .dataframe tbody tr th:only-of-type {\n",
       "        vertical-align: middle;\n",
       "    }\n",
       "\n",
       "    .dataframe tbody tr th {\n",
       "        vertical-align: top;\n",
       "    }\n",
       "\n",
       "    .dataframe thead th {\n",
       "        text-align: right;\n",
       "    }\n",
       "</style>\n",
       "<table border=\"1\" class=\"dataframe\">\n",
       "  <thead>\n",
       "    <tr style=\"text-align: right;\">\n",
       "      <th></th>\n",
       "      <th>평점</th>\n",
       "      <th>Aroma</th>\n",
       "      <th>Appearance</th>\n",
       "      <th>Flavor</th>\n",
       "      <th>Mouthfeel</th>\n",
       "      <th>Overall</th>\n",
       "    </tr>\n",
       "  </thead>\n",
       "  <tbody>\n",
       "    <tr>\n",
       "      <th>count</th>\n",
       "      <td>76287.000000</td>\n",
       "      <td>76287.000000</td>\n",
       "      <td>76287.000000</td>\n",
       "      <td>76287.000000</td>\n",
       "      <td>76287.000000</td>\n",
       "      <td>76287.000000</td>\n",
       "    </tr>\n",
       "    <tr>\n",
       "      <th>mean</th>\n",
       "      <td>2.701181</td>\n",
       "      <td>4.989081</td>\n",
       "      <td>3.135672</td>\n",
       "      <td>5.318508</td>\n",
       "      <td>2.852688</td>\n",
       "      <td>10.715587</td>\n",
       "    </tr>\n",
       "    <tr>\n",
       "      <th>std</th>\n",
       "      <td>0.940613</td>\n",
       "      <td>2.024196</td>\n",
       "      <td>1.052534</td>\n",
       "      <td>2.011186</td>\n",
       "      <td>0.982521</td>\n",
       "      <td>4.275328</td>\n",
       "    </tr>\n",
       "    <tr>\n",
       "      <th>min</th>\n",
       "      <td>0.500000</td>\n",
       "      <td>1.000000</td>\n",
       "      <td>1.000000</td>\n",
       "      <td>1.000000</td>\n",
       "      <td>1.000000</td>\n",
       "      <td>1.000000</td>\n",
       "    </tr>\n",
       "    <tr>\n",
       "      <th>25%</th>\n",
       "      <td>2.000000</td>\n",
       "      <td>3.000000</td>\n",
       "      <td>2.000000</td>\n",
       "      <td>4.000000</td>\n",
       "      <td>2.000000</td>\n",
       "      <td>8.000000</td>\n",
       "    </tr>\n",
       "    <tr>\n",
       "      <th>50%</th>\n",
       "      <td>2.700000</td>\n",
       "      <td>5.000000</td>\n",
       "      <td>3.000000</td>\n",
       "      <td>5.000000</td>\n",
       "      <td>3.000000</td>\n",
       "      <td>11.000000</td>\n",
       "    </tr>\n",
       "    <tr>\n",
       "      <th>75%</th>\n",
       "      <td>3.400000</td>\n",
       "      <td>6.000000</td>\n",
       "      <td>4.000000</td>\n",
       "      <td>7.000000</td>\n",
       "      <td>3.000000</td>\n",
       "      <td>14.000000</td>\n",
       "    </tr>\n",
       "    <tr>\n",
       "      <th>max</th>\n",
       "      <td>5.000000</td>\n",
       "      <td>10.000000</td>\n",
       "      <td>5.000000</td>\n",
       "      <td>10.000000</td>\n",
       "      <td>5.000000</td>\n",
       "      <td>20.000000</td>\n",
       "    </tr>\n",
       "  </tbody>\n",
       "</table>\n",
       "</div>"
      ],
      "text/plain": [
       "                 평점         Aroma    Appearance        Flavor     Mouthfeel  \\\n",
       "count  76287.000000  76287.000000  76287.000000  76287.000000  76287.000000   \n",
       "mean       2.701181      4.989081      3.135672      5.318508      2.852688   \n",
       "std        0.940613      2.024196      1.052534      2.011186      0.982521   \n",
       "min        0.500000      1.000000      1.000000      1.000000      1.000000   \n",
       "25%        2.000000      3.000000      2.000000      4.000000      2.000000   \n",
       "50%        2.700000      5.000000      3.000000      5.000000      3.000000   \n",
       "75%        3.400000      6.000000      4.000000      7.000000      3.000000   \n",
       "max        5.000000     10.000000      5.000000     10.000000      5.000000   \n",
       "\n",
       "            Overall  \n",
       "count  76287.000000  \n",
       "mean      10.715587  \n",
       "std        4.275328  \n",
       "min        1.000000  \n",
       "25%        8.000000  \n",
       "50%       11.000000  \n",
       "75%       14.000000  \n",
       "max       20.000000  "
      ]
     },
     "execution_count": 61,
     "metadata": {},
     "output_type": "execute_result"
    }
   ],
   "source": [
    "# 최종 데이터 값 분포 확인\n",
    "ttmp.describe()"
   ]
  },
  {
   "cell_type": "code",
   "execution_count": 62,
   "metadata": {},
   "outputs": [],
   "source": [
    "ttmp.to_csv('76개_맥주_데이터.csv', encoding='utf-8')"
   ]
  },
  {
   "cell_type": "code",
   "execution_count": null,
   "metadata": {},
   "outputs": [],
   "source": []
  }
 ],
 "metadata": {
  "kernelspec": {
   "display_name": "Python 3",
   "language": "python",
   "name": "python3"
  },
  "language_info": {
   "codemirror_mode": {
    "name": "ipython",
    "version": 3
   },
   "file_extension": ".py",
   "mimetype": "text/x-python",
   "name": "python",
   "nbconvert_exporter": "python",
   "pygments_lexer": "ipython3",
   "version": "3.8.3"
  }
 },
 "nbformat": 4,
 "nbformat_minor": 4
}
