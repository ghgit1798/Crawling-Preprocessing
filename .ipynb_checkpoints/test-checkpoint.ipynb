{
 "cells": [
  {
   "cell_type": "markdown",
   "metadata": {},
   "source": [
    "# 추가 맥주 목록 수집"
   ]
  },
  {
   "cell_type": "markdown",
   "metadata": {},
   "source": [
    "# Ratebeer 수집단계"
   ]
  },
  {
   "cell_type": "code",
   "execution_count": 31,
   "metadata": {},
   "outputs": [],
   "source": [
    "import pandas as pd\n",
    "\n",
    "pd.set_option('display.max_rows', 100)"
   ]
  },
  {
   "cell_type": "code",
   "execution_count": 32,
   "metadata": {},
   "outputs": [],
   "source": [
    "data1 = pd.read_csv('맥주_10.csv', encoding='utf-8', index_col=0)\n",
    "data2 = pd.read_csv('맥주_10_732개.csv', encoding='utf-8', index_col=0)\n",
    "data3 = pd.read_csv('맥주이름.csv', encoding='utf-8', index_col=0)\n",
    "data4 = pd.read_csv('맥주_10_732개_년도별평점.csv', encoding='utf-8', index_col=0)\n",
    "clustering = pd.read_csv('clustering_전체결과.csv',encoding='utf-8',index_col=0)"
   ]
  },
  {
   "cell_type": "code",
   "execution_count": 33,
   "metadata": {},
   "outputs": [
    {
     "data": {
      "text/html": [
       "<div>\n",
       "<style scoped>\n",
       "    .dataframe tbody tr th:only-of-type {\n",
       "        vertical-align: middle;\n",
       "    }\n",
       "\n",
       "    .dataframe tbody tr th {\n",
       "        vertical-align: top;\n",
       "    }\n",
       "\n",
       "    .dataframe thead th {\n",
       "        text-align: right;\n",
       "    }\n",
       "</style>\n",
       "<table border=\"1\" class=\"dataframe\">\n",
       "  <thead>\n",
       "    <tr style=\"text-align: right;\">\n",
       "      <th></th>\n",
       "      <th>Aroma</th>\n",
       "      <th>Appearance</th>\n",
       "      <th>Flavor</th>\n",
       "      <th>Mouthfeel</th>\n",
       "      <th>Overall</th>\n",
       "      <th>맥주</th>\n",
       "      <th>Cluster</th>\n",
       "    </tr>\n",
       "  </thead>\n",
       "  <tbody>\n",
       "    <tr>\n",
       "      <th>6</th>\n",
       "      <td>0.356999</td>\n",
       "      <td>0.396958</td>\n",
       "      <td>0.416554</td>\n",
       "      <td>0.434321</td>\n",
       "      <td>0.421314</td>\n",
       "      <td>Sapporo Premium Beer / Draft Beer</td>\n",
       "      <td>1</td>\n",
       "    </tr>\n",
       "    <tr>\n",
       "      <th>38</th>\n",
       "      <td>0.689674</td>\n",
       "      <td>0.794295</td>\n",
       "      <td>0.713779</td>\n",
       "      <td>0.682605</td>\n",
       "      <td>0.722642</td>\n",
       "      <td>Guinness Original 4.2% (Ireland/UK)</td>\n",
       "      <td>0</td>\n",
       "    </tr>\n",
       "    <tr>\n",
       "      <th>46</th>\n",
       "      <td>0.820431</td>\n",
       "      <td>0.803588</td>\n",
       "      <td>0.835669</td>\n",
       "      <td>0.808668</td>\n",
       "      <td>0.849518</td>\n",
       "      <td>Franziskaner Hefe-Weissbier / Weissbier Naturtrub</td>\n",
       "      <td>0</td>\n",
       "    </tr>\n",
       "    <tr>\n",
       "      <th>48</th>\n",
       "      <td>0.346950</td>\n",
       "      <td>0.394332</td>\n",
       "      <td>0.391179</td>\n",
       "      <td>0.399520</td>\n",
       "      <td>0.393203</td>\n",
       "      <td>Bavaria Pilsener / Premium Beer</td>\n",
       "      <td>1</td>\n",
       "    </tr>\n",
       "    <tr>\n",
       "      <th>54</th>\n",
       "      <td>0.778056</td>\n",
       "      <td>0.795905</td>\n",
       "      <td>0.801902</td>\n",
       "      <td>0.781451</td>\n",
       "      <td>0.813258</td>\n",
       "      <td>Leffe Brune / Bruin / Brown</td>\n",
       "      <td>0</td>\n",
       "    </tr>\n",
       "    <tr>\n",
       "      <th>100</th>\n",
       "      <td>0.639917</td>\n",
       "      <td>0.615630</td>\n",
       "      <td>0.700692</td>\n",
       "      <td>0.696226</td>\n",
       "      <td>0.709219</td>\n",
       "      <td>Budweiser Budvar / Czechvar</td>\n",
       "      <td>0</td>\n",
       "    </tr>\n",
       "    <tr>\n",
       "      <th>101</th>\n",
       "      <td>0.547459</td>\n",
       "      <td>0.575044</td>\n",
       "      <td>0.598619</td>\n",
       "      <td>0.601803</td>\n",
       "      <td>0.608568</td>\n",
       "      <td>Staropramen Ležák / Premium / 12°</td>\n",
       "      <td>2</td>\n",
       "    </tr>\n",
       "    <tr>\n",
       "      <th>104</th>\n",
       "      <td>0.447898</td>\n",
       "      <td>0.480704</td>\n",
       "      <td>0.475694</td>\n",
       "      <td>0.449151</td>\n",
       "      <td>0.498157</td>\n",
       "      <td>Vratislav Premium / Supermarket Czech Lager</td>\n",
       "      <td>2</td>\n",
       "    </tr>\n",
       "    <tr>\n",
       "      <th>115</th>\n",
       "      <td>0.927264</td>\n",
       "      <td>0.763746</td>\n",
       "      <td>0.940191</td>\n",
       "      <td>0.913396</td>\n",
       "      <td>0.940290</td>\n",
       "      <td>Cantillon Gueuze (Classic/Organic/Bio)</td>\n",
       "      <td>0</td>\n",
       "    </tr>\n",
       "    <tr>\n",
       "      <th>121</th>\n",
       "      <td>0.354382</td>\n",
       "      <td>0.393757</td>\n",
       "      <td>0.385840</td>\n",
       "      <td>0.372143</td>\n",
       "      <td>0.365692</td>\n",
       "      <td>Breda Royal Beer / Lager</td>\n",
       "      <td>1</td>\n",
       "    </tr>\n",
       "    <tr>\n",
       "      <th>133</th>\n",
       "      <td>0.590180</td>\n",
       "      <td>0.694230</td>\n",
       "      <td>0.646071</td>\n",
       "      <td>0.634673</td>\n",
       "      <td>0.671628</td>\n",
       "      <td>Smithwick's Ale / Draught</td>\n",
       "      <td>0</td>\n",
       "    </tr>\n",
       "    <tr>\n",
       "      <th>152</th>\n",
       "      <td>0.799185</td>\n",
       "      <td>0.778216</td>\n",
       "      <td>0.839289</td>\n",
       "      <td>0.808901</td>\n",
       "      <td>0.841744</td>\n",
       "      <td>Belhaven Wee Heavy / 90 Shilling (Bottle)</td>\n",
       "      <td>0</td>\n",
       "    </tr>\n",
       "    <tr>\n",
       "      <th>216</th>\n",
       "      <td>0.789268</td>\n",
       "      <td>0.762110</td>\n",
       "      <td>0.774511</td>\n",
       "      <td>0.709364</td>\n",
       "      <td>0.741805</td>\n",
       "      <td>Sikaru Stout / Neagră</td>\n",
       "      <td>0</td>\n",
       "    </tr>\n",
       "    <tr>\n",
       "      <th>249</th>\n",
       "      <td>0.532568</td>\n",
       "      <td>0.544429</td>\n",
       "      <td>0.559772</td>\n",
       "      <td>0.571625</td>\n",
       "      <td>0.563837</td>\n",
       "      <td>Stiegl Bier / Goldbräu</td>\n",
       "      <td>2</td>\n",
       "    </tr>\n",
       "    <tr>\n",
       "      <th>266</th>\n",
       "      <td>0.436805</td>\n",
       "      <td>0.451241</td>\n",
       "      <td>0.459392</td>\n",
       "      <td>0.455753</td>\n",
       "      <td>0.458261</td>\n",
       "      <td>Menabrea 1846 / Birra Bionda</td>\n",
       "      <td>2</td>\n",
       "    </tr>\n",
       "    <tr>\n",
       "      <th>451</th>\n",
       "      <td>0.313468</td>\n",
       "      <td>0.336855</td>\n",
       "      <td>0.314594</td>\n",
       "      <td>0.335321</td>\n",
       "      <td>0.300525</td>\n",
       "      <td>Parbo Bier / Djogo Bier</td>\n",
       "      <td>1</td>\n",
       "    </tr>\n",
       "    <tr>\n",
       "      <th>453</th>\n",
       "      <td>0.367441</td>\n",
       "      <td>0.375212</td>\n",
       "      <td>0.376609</td>\n",
       "      <td>0.397277</td>\n",
       "      <td>0.379018</td>\n",
       "      <td>Banks Caribbean Lager / Beer</td>\n",
       "      <td>1</td>\n",
       "    </tr>\n",
       "    <tr>\n",
       "      <th>478</th>\n",
       "      <td>0.293077</td>\n",
       "      <td>0.361563</td>\n",
       "      <td>0.323802</td>\n",
       "      <td>0.344883</td>\n",
       "      <td>0.309919</td>\n",
       "      <td>Cambrew Angkor Premium Beer / Draft</td>\n",
       "      <td>1</td>\n",
       "    </tr>\n",
       "    <tr>\n",
       "      <th>501</th>\n",
       "      <td>0.818067</td>\n",
       "      <td>0.561468</td>\n",
       "      <td>0.805152</td>\n",
       "      <td>0.773640</td>\n",
       "      <td>0.826011</td>\n",
       "      <td>Carakale / Arizona Wilderness Dead Sea-rious</td>\n",
       "      <td>0</td>\n",
       "    </tr>\n",
       "  </tbody>\n",
       "</table>\n",
       "</div>"
      ],
      "text/plain": [
       "        Aroma  Appearance    Flavor  Mouthfeel   Overall  \\\n",
       "6    0.356999    0.396958  0.416554   0.434321  0.421314   \n",
       "38   0.689674    0.794295  0.713779   0.682605  0.722642   \n",
       "46   0.820431    0.803588  0.835669   0.808668  0.849518   \n",
       "48   0.346950    0.394332  0.391179   0.399520  0.393203   \n",
       "54   0.778056    0.795905  0.801902   0.781451  0.813258   \n",
       "100  0.639917    0.615630  0.700692   0.696226  0.709219   \n",
       "101  0.547459    0.575044  0.598619   0.601803  0.608568   \n",
       "104  0.447898    0.480704  0.475694   0.449151  0.498157   \n",
       "115  0.927264    0.763746  0.940191   0.913396  0.940290   \n",
       "121  0.354382    0.393757  0.385840   0.372143  0.365692   \n",
       "133  0.590180    0.694230  0.646071   0.634673  0.671628   \n",
       "152  0.799185    0.778216  0.839289   0.808901  0.841744   \n",
       "216  0.789268    0.762110  0.774511   0.709364  0.741805   \n",
       "249  0.532568    0.544429  0.559772   0.571625  0.563837   \n",
       "266  0.436805    0.451241  0.459392   0.455753  0.458261   \n",
       "451  0.313468    0.336855  0.314594   0.335321  0.300525   \n",
       "453  0.367441    0.375212  0.376609   0.397277  0.379018   \n",
       "478  0.293077    0.361563  0.323802   0.344883  0.309919   \n",
       "501  0.818067    0.561468  0.805152   0.773640  0.826011   \n",
       "\n",
       "                                                    맥주  Cluster  \n",
       "6                    Sapporo Premium Beer / Draft Beer        1  \n",
       "38                 Guinness Original 4.2% (Ireland/UK)        0  \n",
       "46   Franziskaner Hefe-Weissbier / Weissbier Naturtrub        0  \n",
       "48                     Bavaria Pilsener / Premium Beer        1  \n",
       "54                         Leffe Brune / Bruin / Brown        0  \n",
       "100                        Budweiser Budvar / Czechvar        0  \n",
       "101                  Staropramen Ležák / Premium / 12°        2  \n",
       "104        Vratislav Premium / Supermarket Czech Lager        2  \n",
       "115             Cantillon Gueuze (Classic/Organic/Bio)        0  \n",
       "121                           Breda Royal Beer / Lager        1  \n",
       "133                          Smithwick's Ale / Draught        0  \n",
       "152          Belhaven Wee Heavy / 90 Shilling (Bottle)        0  \n",
       "216                              Sikaru Stout / Neagră        0  \n",
       "249                             Stiegl Bier / Goldbräu        2  \n",
       "266                       Menabrea 1846 / Birra Bionda        2  \n",
       "451                            Parbo Bier / Djogo Bier        1  \n",
       "453                       Banks Caribbean Lager / Beer        1  \n",
       "478                Cambrew Angkor Premium Beer / Draft        1  \n",
       "501       Carakale / Arizona Wilderness Dead Sea-rious        0  "
      ]
     },
     "execution_count": 33,
     "metadata": {},
     "output_type": "execute_result"
    }
   ],
   "source": [
    "cluster_all[cluster_all['맥주'].str.contains('/')]"
   ]
  },
  {
   "cell_type": "code",
   "execution_count": 42,
   "metadata": {},
   "outputs": [],
   "source": [
    "# 바꿀 것\n",
    "# Sapporo Premium Beer / Draft Beer -> Sapporo Premium Beer\n",
    "# Guinness Original 4.2% (Ireland/UK) -> Guinness Original 4.2%\n",
    "# Franziskaner Hefe-Weissbier / Weissbier Naturtrub -> Franziskaner Hefe-Weissbier\n",
    "# Bavaria Pilsener / Premium Beer -> Bavaria Pilsener\n",
    "# Leffe Brune / Bruin / Brown -> Leffe Brune"
   ]
  },
  {
   "cell_type": "code",
   "execution_count": 43,
   "metadata": {},
   "outputs": [],
   "source": [
    "ogname = ['Sapporo Premium Beer / Draft Beer',\n",
    "         'Guinness Original 4.2% (Ireland/UK)',\n",
    "         'Franziskaner Hefe-Weissbier / Weissbier Naturtrub',\n",
    "         'Bavaria Pilsener / Premium Beer',\n",
    "         'Leffe Brune / Bruin / Brown']\n",
    "name = [\n",
    "    'Sapporo Premium Beer',\n",
    "    'Guinness Original 4.2%',\n",
    "    'Franziskaner Hefe-Weissbier',\n",
    "    'Bavaria Pilsener',\n",
    "    'Leffe Brune'\n",
    "]"
   ]
  },
  {
   "cell_type": "code",
   "execution_count": null,
   "metadata": {},
   "outputs": [],
   "source": [
    "for i in range(len(ogname)):\n",
    "    data1[data1['맥주']==ogname[i]]['맥주'] = name[i]\n",
    "    data2[data2['맥주']==ogname[i]]['맥주'] = name[i]\n",
    "    data3[data3['맥주']==ogname[i]]['맥주'] = name[i]\n",
    "    data4[data4['맥주']==ogname[i]]['맥주'] = name[i]\n",
    "    data1[data1['맥주']==ogname[i]]['맥주'] = name[i]\n",
    "    clustering[clustering['맥주']==ogname[i]]['맥주'] = name[i]"
   ]
  },
  {
   "cell_type": "code",
   "execution_count": 41,
   "metadata": {},
   "outputs": [
    {
     "data": {
      "text/plain": [
       "array(['Sapporo Premium Beer / Draft Beer',\n",
       "       'Guinness Original 4.2% (Ireland/UK)',\n",
       "       'Franziskaner Hefe-Weissbier / Weissbier Naturtrub',\n",
       "       'Bavaria Pilsener / Premium Beer', 'Leffe Brune / Bruin / Brown'],\n",
       "      dtype=object)"
      ]
     },
     "execution_count": 41,
     "metadata": {},
     "output_type": "execute_result"
    }
   ],
   "source": [
    "data1[data1['맥주'].str.contains('/')]['맥주'].unique()"
   ]
  },
  {
   "cell_type": "code",
   "execution_count": 35,
   "metadata": {},
   "outputs": [
    {
     "data": {
      "text/plain": [
       "array(['Sapporo Premium Beer / Draft Beer',\n",
       "       'Guinness Original 4.2% (Ireland/UK)',\n",
       "       'Franziskaner Hefe-Weissbier / Weissbier Naturtrub',\n",
       "       'Bavaria Pilsener / Premium Beer', 'Leffe Brune / Bruin / Brown',\n",
       "       'Budweiser Budvar / Czechvar', 'Staropramen Ležák / Premium / 12°',\n",
       "       'Vratislav Premium / Supermarket Czech Lager',\n",
       "       'Cantillon Gueuze (Classic/Organic/Bio)',\n",
       "       'Breda Royal Beer / Lager', \"Smithwick's Ale / Draught\",\n",
       "       'Belhaven Wee Heavy / 90 Shilling (Bottle)',\n",
       "       'Sikaru Stout / Neagră', 'Stiegl Bier / Goldbräu',\n",
       "       'Menabrea 1846 / Birra Bionda', 'Parbo Bier / Djogo Bier',\n",
       "       'Banks Caribbean Lager / Beer',\n",
       "       'Cambrew Angkor Premium Beer / Draft',\n",
       "       'Carakale / Arizona Wilderness Dead Sea-rious'], dtype=object)"
      ]
     },
     "execution_count": 35,
     "metadata": {},
     "output_type": "execute_result"
    }
   ],
   "source": [
    "data2[data2['맥주'].str.contains('/')]['맥주'].unique()"
   ]
  },
  {
   "cell_type": "code",
   "execution_count": 36,
   "metadata": {},
   "outputs": [
    {
     "data": {
      "text/plain": [
       "array(['Sapporo Premium Beer / Draft Beer',\n",
       "       'Guinness Original 4.2% (Ireland/UK)',\n",
       "       'Franziskaner Hefe-Weissbier / Weissbier Naturtrub',\n",
       "       'Bavaria Pilsener / Premium Beer', 'Leffe Brune / Bruin / Brown'],\n",
       "      dtype=object)"
      ]
     },
     "execution_count": 36,
     "metadata": {},
     "output_type": "execute_result"
    }
   ],
   "source": [
    "data3[data3['맥주'].str.contains('/')]['맥주'].unique()"
   ]
  },
  {
   "cell_type": "code",
   "execution_count": 37,
   "metadata": {},
   "outputs": [
    {
     "data": {
      "text/plain": [
       "array(['Banks Caribbean Lager / Beer', 'Bavaria Pilsener / Premium Beer',\n",
       "       'Belhaven Wee Heavy / 90 Shilling (Bottle)',\n",
       "       'Breda Royal Beer / Lager', 'Budweiser Budvar / Czechvar',\n",
       "       'Cambrew Angkor Premium Beer / Draft',\n",
       "       'Cantillon Gueuze (Classic/Organic/Bio)',\n",
       "       'Carakale / Arizona Wilderness Dead Sea-rious',\n",
       "       'Franziskaner Hefe-Weissbier / Weissbier Naturtrub',\n",
       "       'Guinness Original 4.2% (Ireland/UK)',\n",
       "       'Leffe Brune / Bruin / Brown', 'Menabrea 1846 / Birra Bionda',\n",
       "       'Parbo Bier / Djogo Bier', 'Sapporo Premium Beer / Draft Beer',\n",
       "       'Sikaru Stout / Neagră', \"Smithwick's Ale / Draught\",\n",
       "       'Staropramen Ležák / Premium / 12°', 'Stiegl Bier / Goldbräu',\n",
       "       'Vratislav Premium / Supermarket Czech Lager'], dtype=object)"
      ]
     },
     "execution_count": 37,
     "metadata": {},
     "output_type": "execute_result"
    }
   ],
   "source": [
    "data4[data4['맥주'].str.contains('/')]['맥주'].unique()"
   ]
  },
  {
   "cell_type": "code",
   "execution_count": 38,
   "metadata": {},
   "outputs": [
    {
     "data": {
      "text/plain": [
       "array(['Sapporo Premium Beer / Draft Beer',\n",
       "       'Guinness Original 4.2% (Ireland/UK)',\n",
       "       'Franziskaner Hefe-Weissbier / Weissbier Naturtrub',\n",
       "       'Bavaria Pilsener / Premium Beer', 'Leffe Brune / Bruin / Brown',\n",
       "       'Budweiser Budvar / Czechvar', 'Staropramen Ležák / Premium / 12°',\n",
       "       'Vratislav Premium / Supermarket Czech Lager',\n",
       "       'Cantillon Gueuze (Classic/Organic/Bio)',\n",
       "       'Breda Royal Beer / Lager', \"Smithwick's Ale / Draught\",\n",
       "       'Belhaven Wee Heavy / 90 Shilling (Bottle)',\n",
       "       'Sikaru Stout / Neagră', 'Stiegl Bier / Goldbräu',\n",
       "       'Menabrea 1846 / Birra Bionda', 'Parbo Bier / Djogo Bier',\n",
       "       'Banks Caribbean Lager / Beer',\n",
       "       'Cambrew Angkor Premium Beer / Draft',\n",
       "       'Carakale / Arizona Wilderness Dead Sea-rious'], dtype=object)"
      ]
     },
     "execution_count": 38,
     "metadata": {},
     "output_type": "execute_result"
    }
   ],
   "source": [
    "clustering[clustering['맥주'].str.contains('/')]['맥주'].unique()"
   ]
  },
  {
   "cell_type": "code",
   "execution_count": null,
   "metadata": {},
   "outputs": [],
   "source": []
  }
 ],
 "metadata": {
  "kernelspec": {
   "display_name": "Python 3",
   "language": "python",
   "name": "python3"
  },
  "language_info": {
   "codemirror_mode": {
    "name": "ipython",
    "version": 3
   },
   "file_extension": ".py",
   "mimetype": "text/x-python",
   "name": "python",
   "nbconvert_exporter": "python",
   "pygments_lexer": "ipython3",
   "version": "3.8.3"
  }
 },
 "nbformat": 4,
 "nbformat_minor": 4
}
