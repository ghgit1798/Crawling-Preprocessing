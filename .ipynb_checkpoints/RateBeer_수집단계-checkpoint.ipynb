{
 "cells": [
  {
   "cell_type": "code",
   "execution_count": 1,
   "metadata": {},
   "outputs": [],
   "source": [
    "import pandas as pd\n",
    "import numpy as np\n",
    "import time\n",
    "\n",
    "import re\n",
    "\n",
    "from selenium import webdriver\n",
    "from selenium.webdriver.chrome.options import Options"
   ]
  },
  {
   "cell_type": "code",
   "execution_count": 2,
   "metadata": {},
   "outputs": [
    {
     "data": {
      "text/html": [
       "<div>\n",
       "<style scoped>\n",
       "    .dataframe tbody tr th:only-of-type {\n",
       "        vertical-align: middle;\n",
       "    }\n",
       "\n",
       "    .dataframe tbody tr th {\n",
       "        vertical-align: top;\n",
       "    }\n",
       "\n",
       "    .dataframe thead th {\n",
       "        text-align: right;\n",
       "    }\n",
       "</style>\n",
       "<table border=\"1\" class=\"dataframe\">\n",
       "  <thead>\n",
       "    <tr style=\"text-align: right;\">\n",
       "      <th></th>\n",
       "      <th>인덱스</th>\n",
       "      <th>편의점</th>\n",
       "      <th>검색이름</th>\n",
       "    </tr>\n",
       "  </thead>\n",
       "  <tbody>\n",
       "    <tr>\n",
       "      <th>0</th>\n",
       "      <td>0</td>\n",
       "      <td>CU GS25 7/11 ministop</td>\n",
       "      <td>kloud</td>\n",
       "    </tr>\n",
       "    <tr>\n",
       "      <th>1</th>\n",
       "      <td>1</td>\n",
       "      <td>CU GS25 7/11 ministop</td>\n",
       "      <td>fitz super clear</td>\n",
       "    </tr>\n",
       "  </tbody>\n",
       "</table>\n",
       "</div>"
      ],
      "text/plain": [
       "   인덱스                    편의점              검색이름\n",
       "0    0  CU GS25 7/11 ministop             kloud\n",
       "1    1  CU GS25 7/11 ministop  fitz super clear"
      ]
     },
     "execution_count": 2,
     "metadata": {},
     "output_type": "execute_result"
    }
   ],
   "source": [
    "beer_list = pd.read_excel('convenience_beer.xlsx')\n",
    "beer_list.head(2)"
   ]
  },
  {
   "cell_type": "code",
   "execution_count": 3,
   "metadata": {},
   "outputs": [
    {
     "data": {
      "text/plain": [
       "77"
      ]
     },
     "execution_count": 3,
     "metadata": {},
     "output_type": "execute_result"
    }
   ],
   "source": [
    "# 수집할 맥주 종류 기입\n",
    "beers = beer_list['검색이름'].to_list()\n",
    "len(beers)"
   ]
  },
  {
   "cell_type": "code",
   "execution_count": 4,
   "metadata": {},
   "outputs": [],
   "source": [
    "# 데이터 프레임 생성\n",
    "data = pd.DataFrame(data=[], columns=['맥주정보', '검색이름', '맥주이름'])"
   ]
  },
  {
   "cell_type": "code",
   "execution_count": 5,
   "metadata": {},
   "outputs": [],
   "source": [
    "chromedriver = 'chromedriver.exe'\n",
    "url = 'https://www.ratebeer.com/search?tab=beer'"
   ]
  },
  {
   "cell_type": "code",
   "execution_count": 6,
   "metadata": {},
   "outputs": [],
   "source": [
    "driver = webdriver.Chrome(chromedriver)\n",
    "driver.get(url)\n",
    "driver.set_window_size(1400, 900)\n",
    "time.sleep(1)"
   ]
  },
  {
   "cell_type": "markdown",
   "metadata": {},
   "source": [
    "## 실제 구현 함수"
   ]
  },
  {
   "cell_type": "code",
   "execution_count": 8,
   "metadata": {},
   "outputs": [],
   "source": [
    "def crawl(driver, beer, data, k):\n",
    "    # Check 변수\n",
    "    check = 0\n",
    "    # 데이터 프레임 생성\n",
    "    data = pd.DataFrame(data=[], columns=['맥주정보', '검색이름', '맥주이름'])\n",
    "    \n",
    "    options = Options()\n",
    "    options.add_argument('--start-fullscreen')\n",
    "    \n",
    "    # url open\n",
    "    print('url_open... {0} 맥주 데이터를 수집합니다..'.format(beer))\n",
    "    driver = webdriver.Chrome(chromedriver)\n",
    "    driver.get(url)\n",
    "    driver.set_window_size(900, 900)\n",
    "    \n",
    "    # 맥주 검색\n",
    "    time.sleep(2)\n",
    "    element = driver.find_element_by_xpath('//*[@id=\"root\"]/div[2]/header/div[2]/div[1]/div[2]/div/div/input')\n",
    "    time.sleep(2)\n",
    "    element.click()\n",
    "    time.sleep(2)\n",
    "    element.send_keys(beer)\n",
    "    time.sleep(3)\n",
    "    \n",
    "    # 상품 선택\n",
    "    driver.find_element_by_xpath('//*[@id=\"root\"]/div[2]/header/div[2]/div[1]/div[2]/div/div[2]/a[1]/div/div[2]').click()\n",
    "    \n",
    "    # 상품 이름 수집\n",
    "    time.sleep(3)\n",
    "    beer_name = driver.find_element_by_css_selector('.MuiTypography-root.Text___StyledTypographyTypeless-bukSfn.pzIrn.text-500.colorized__WrappedComponent-hrwcZr.hwjOn.mt-3.MuiTypography-h4').text\n",
    "    \n",
    "    while 1:\n",
    "        try :\n",
    "            # 전체 리뷰 개수 수집\n",
    "            time.sleep(3)\n",
    "            string = driver.find_element_by_class_name('MuiTypography-root.Text___StyledTypographyTypeless-bukSfn.pzIrn.text-500.colorized__WrappedComponent-hrwcZr.hwjOn.MuiTypography-h6').text\n",
    "\n",
    "            # ,가 포함되어 있는지에 대한 로직\n",
    "            extract = re.compile('[0-9]*,*[0-9]+')\n",
    "            str_num = extract.findall(string)\n",
    "            str_num = str_num[0]\n",
    "            \n",
    "            print('성공... while문을 탈출합니다.')\n",
    "            break\n",
    "        except :\n",
    "            print('오류 발생.. 다시 시작합니다.')\n",
    "    \n",
    "    if ',' in str_num:\n",
    "        str_num = str_num.split(',')\n",
    "        str_num = int(str_num[0]+str_num[1])\n",
    "        num = str_num\n",
    "    else:\n",
    "        num = int(str_num)\n",
    "        \n",
    "    # Score breakdown 클릭\n",
    "    time.sleep(3)\n",
    "    element = driver.find_element_by_xpath('//*[@id=\"root\"]/div[2]/div[2]/div/div/div/div[2]/div[4]/div/div[2]/div[1]/div[2]')\n",
    "#     element = driver.find_element_by_xpath('//*[@id=\"root\"]/div[2]/div[2]/div/div/div/div[2]/div[4]/div/div[2]/div[1]/div[2]')\n",
    "#     element = driver.find_element_by_css_selector('.MuiButtonBase-root.MuiChip-root.RatingsContainer___StyledChip2-iqbJXI.xGfYx.mr-4.MuiChip-outlined.MuiChip-sizeSmall.MuiChip-clickable')\n",
    "    time.sleep(3)\n",
    "    driver.execute_script(\"arguments[0].click();\", element)\n",
    "    \n",
    "    page_num = num // 15 + 1\n",
    "\n",
    "\n",
    "    for i in range(page_num):\n",
    "        print(i+1, '번째 페이지입니다.')\n",
    "\n",
    "        # 전체 맥주 정보를 통째로 수집\n",
    "        time.sleep(3)\n",
    "        beer_info = driver.find_elements_by_css_selector('.px-4.fj-s.f-wrap')\n",
    "        \n",
    "        tmp = []\n",
    "        \n",
    "        # 수집한 것을 데이터프레임에 저장\n",
    "        for i in range(len(beer_info)):\n",
    "            tmp.append(beer_info[i].text)\n",
    "\n",
    "        tmp = pd.DataFrame(data=tmp, columns=['맥주정보'])\n",
    "        tmp['맥주이름'] = beer_name\n",
    "        tmp['검색이름'] = beer\n",
    "        data = pd.concat([data, tmp])\n",
    "\n",
    "        # div, span, title 태그 후 속성은 class 외에도 사용 가능\n",
    "        try :\n",
    "            element = driver.find_element_by_xpath('//button[@title=\"Next page\"]/span[@class=\"MuiIconButton-label\"]')\n",
    "            time.sleep(3)\n",
    "            driver.execute_script(\"arguments[0].click();\", element)\n",
    "        except:\n",
    "            print('마지막 페이지입니다.')\n",
    "\n",
    "    if num != len(data):\n",
    "        data = data[:num]\n",
    "    \n",
    "    print('리뷰수 : ', num, '수집된 리뷰수 : ', len(data))\n",
    "    \n",
    "    result = pd.merge(data, beer_list, on='검색이름', how='left')\n",
    "    result.to_csv(\"beer_n_\"+str(k)+\".csv\", encoding='utf-8')\n",
    "    result.to_excel(\"beer_n_\"+str(k)+\".xlsx\")\n",
    "    \n",
    "    driver.quit()\n",
    "    \n",
    "    return result"
   ]
  },
  {
   "cell_type": "code",
   "execution_count": null,
   "metadata": {},
   "outputs": [
    {
     "name": "stdout",
     "output_type": "stream",
     "text": [
      "url_open... 1664 Blanc 맥주 데이터를 수집합니다..\n",
      "성공... while문을 탈출합니다.\n"
     ]
    }
   ],
   "source": [
    "for k in range(9, 10):\n",
    "    result = crawl(driver, beers[k], data, k)"
   ]
  },
  {
   "cell_type": "code",
   "execution_count": null,
   "metadata": {},
   "outputs": [],
   "source": []
  }
 ],
 "metadata": {
  "kernelspec": {
   "display_name": "Python 3",
   "language": "python",
   "name": "python3"
  },
  "language_info": {
   "codemirror_mode": {
    "name": "ipython",
    "version": 3
   },
   "file_extension": ".py",
   "mimetype": "text/x-python",
   "name": "python",
   "nbconvert_exporter": "python",
   "pygments_lexer": "ipython3",
   "version": "3.8.3"
  }
 },
 "nbformat": 4,
 "nbformat_minor": 4
}
