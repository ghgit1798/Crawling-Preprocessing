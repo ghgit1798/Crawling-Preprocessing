{
 "cells": [
  {
   "cell_type": "code",
   "execution_count": 66,
   "metadata": {},
   "outputs": [],
   "source": [
    "import pandas as pd\n",
    "\n",
    "import time\n",
    "\n",
    "from selenium import webdriver\n",
    "\n",
    "pd.set_option('display.max_rows', 100)"
   ]
  },
  {
   "cell_type": "code",
   "execution_count": 140,
   "metadata": {},
   "outputs": [],
   "source": [
    "data = pd.DataFrame(data=[], columns=['앱이름','아이디','리뷰','별점','날짜'])"
   ]
  },
  {
   "cell_type": "code",
   "execution_count": 68,
   "metadata": {},
   "outputs": [],
   "source": [
    "driver = webdriver.Chrome(\"chromedriver.exe\")\n",
    "url = 'https://play.google.com/store/apps/details?id=com.chucklefish.stardewvalley&hl=ko&gl=US'\n",
    "driver.get(url)"
   ]
  },
  {
   "cell_type": "code",
   "execution_count": 69,
   "metadata": {},
   "outputs": [],
   "source": [
    "driver.find_element_by_xpath('//*[@id=\"fcxH9b\"]/div[4]/c-wiz/div/div[2]/div/div/main/div/div[1]/div[6]/div/span/span').click()"
   ]
  },
  {
   "cell_type": "code",
   "execution_count": 92,
   "metadata": {},
   "outputs": [],
   "source": [
    "# 스크롤 다운\n",
    "def scroll_down(driver):\n",
    "    driver.execute_script(\"window.scrollTo(0, 999999999999)\")\n",
    "    time.sleep(1)"
   ]
  },
  {
   "cell_type": "code",
   "execution_count": 74,
   "metadata": {},
   "outputs": [],
   "source": [
    "scroll_down(driver)"
   ]
  },
  {
   "cell_type": "code",
   "execution_count": 73,
   "metadata": {},
   "outputs": [],
   "source": [
    "driver.get('https://play.google.com/store/apps/details?id=com.chucklefish.stardewvalley&hl=ko&gl=US&showAllReviews=true')"
   ]
  },
  {
   "cell_type": "code",
   "execution_count": 75,
   "metadata": {},
   "outputs": [
    {
     "data": {
      "text/plain": [
       "'스타듀 밸리 Stardew Valley'"
      ]
     },
     "execution_count": 75,
     "metadata": {},
     "output_type": "execute_result"
    }
   ],
   "source": [
    "# 어플 이름 수집\n",
    "app_name = driver.find_element_by_css_selector('.AHFaub')\n",
    "app_name.text"
   ]
  },
  {
   "cell_type": "code",
   "execution_count": 76,
   "metadata": {},
   "outputs": [
    {
     "data": {
      "text/plain": [
       "'연치_YeonCh'"
      ]
     },
     "execution_count": 76,
     "metadata": {},
     "output_type": "execute_result"
    }
   ],
   "source": [
    "# 유저 이름 수집\n",
    "user_names = driver.find_elements_by_css_selector('.X43Kjb')\n",
    "user_names[0].text"
   ]
  },
  {
   "cell_type": "code",
   "execution_count": 77,
   "metadata": {},
   "outputs": [
    {
     "data": {
      "text/plain": [
       "'게임에 돈 쓴 건 처음이에요 게임 딱 시작할 땐 뭐 어쩌라는 거야 싶었는데 블로그 찾아보면서 하니까 하면 할수록 재밌고 진짜 너무 재밌어요! 돈 안 아깝습니다 진짜! 짱이에요ㅠㅠ'"
      ]
     },
     "execution_count": 77,
     "metadata": {},
     "output_type": "execute_result"
    }
   ],
   "source": [
    "# 리뷰 수집\n",
    "reviews = driver.find_elements_by_css_selector('.UD7Dzf')\n",
    "reviews[2].text"
   ]
  },
  {
   "cell_type": "code",
   "execution_count": 78,
   "metadata": {},
   "outputs": [
    {
     "data": {
      "text/plain": [
       "'별표 5개 만점에 4.8개를 받았습니다.'"
      ]
     },
     "execution_count": 78,
     "metadata": {},
     "output_type": "execute_result"
    }
   ],
   "source": [
    "# 별점 수집\n",
    "star_grades = driver.find_elements_by_xpath('//div[@class=\"pf5lIe\"]/div[@role=\"img\"]')\n",
    "star_grades[0].get_attribute(\"aria-label\")"
   ]
  },
  {
   "cell_type": "code",
   "execution_count": 79,
   "metadata": {},
   "outputs": [
    {
     "data": {
      "text/plain": [
       "'2021년 1월 12일'"
      ]
     },
     "execution_count": 79,
     "metadata": {},
     "output_type": "execute_result"
    }
   ],
   "source": [
    "# 날짜 수집\n",
    "dates = driver.find_elements_by_css_selector('.p2TkOb')\n",
    "dates[0].text"
   ]
  },
  {
   "cell_type": "code",
   "execution_count": 80,
   "metadata": {},
   "outputs": [],
   "source": [
    "def crawl(driver, data, k):\n",
    "    \n",
    "    app_name = driver.find_element_by_css_selector('.AHFaub')\n",
    "    user_names = driver.find_elements_by_css_selector('.X43Kjb')\n",
    "    reviews = driver.find_elements_by_css_selector('.UD7Dzf')\n",
    "    star_grades = driver.find_elements_by_xpath('//div[@class=\"pf5lIe\"]/div[@role=\"img\"]')\n",
    "    dates = driver.find_elements_by_css_selector('.p2TkOb')\n",
    "    \n",
    "    for i in range(k):\n",
    "        tmp = []\n",
    "        tmp.append(app_name.text)\n",
    "        tmp.append(user_names[i].text)\n",
    "        tmp.append(reviews[i].text)\n",
    "        tmp.append(star_grades[i].get_attribute('aria-label'))\n",
    "        tmp.append(dates[i].text)\n",
    "        \n",
    "        tmp = pd.DataFrame(data=[tmp], columns=data.columns)\n",
    "        data = pd.concat([data,tmp])\n",
    "        \n",
    "    print(app_name.text + \"앱 리뷰 수집 완료\")\n",
    "    \n",
    "    return data"
   ]
  },
  {
   "cell_type": "code",
   "execution_count": 84,
   "metadata": {},
   "outputs": [
    {
     "name": "stdout",
     "output_type": "stream",
     "text": [
      "81\n",
      "80\n"
     ]
    }
   ],
   "source": [
    "print(len(user_names))\n",
    "print(len(reivews))"
   ]
  },
  {
   "cell_type": "code",
   "execution_count": 294,
   "metadata": {},
   "outputs": [
    {
     "name": "stdout",
     "output_type": "stream",
     "text": [
      "스타듀 밸리 Stardew Valley앱 리뷰 수집 완료\n"
     ]
    }
   ],
   "source": [
    "# 스크롤 다운을 한 뒤, 크롤링을 해야 인덱스 에러 안남\n",
    "scroll_down(driver)\n",
    "\n",
    "data = crawl(driver,data, 200)"
   ]
  },
  {
   "cell_type": "code",
   "execution_count": 295,
   "metadata": {},
   "outputs": [],
   "source": [
    "data.reset_index(inplace=True, drop=True)"
   ]
  },
  {
   "cell_type": "code",
   "execution_count": 296,
   "metadata": {},
   "outputs": [
    {
     "data": {
      "text/html": [
       "<div>\n",
       "<style scoped>\n",
       "    .dataframe tbody tr th:only-of-type {\n",
       "        vertical-align: middle;\n",
       "    }\n",
       "\n",
       "    .dataframe tbody tr th {\n",
       "        vertical-align: top;\n",
       "    }\n",
       "\n",
       "    .dataframe thead th {\n",
       "        text-align: right;\n",
       "    }\n",
       "</style>\n",
       "<table border=\"1\" class=\"dataframe\">\n",
       "  <thead>\n",
       "    <tr style=\"text-align: right;\">\n",
       "      <th></th>\n",
       "      <th>앱이름</th>\n",
       "      <th>아이디</th>\n",
       "      <th>리뷰</th>\n",
       "      <th>별점</th>\n",
       "      <th>날짜</th>\n",
       "    </tr>\n",
       "  </thead>\n",
       "  <tbody>\n",
       "    <tr>\n",
       "      <th>0</th>\n",
       "      <td>스타듀 밸리 Stardew Valley</td>\n",
       "      <td>연치_YeonCh</td>\n",
       "      <td>진짜 너무 좋은데 폰 멀티 좀ㅠㅠㅠ 대체 언제 업데이트가 되는건지 너무 안타까워요ㅠ...</td>\n",
       "      <td>별표 5개 만점에 4.8개를 받았습니다.</td>\n",
       "      <td>2021년 1월 12일</td>\n",
       "    </tr>\n",
       "    <tr>\n",
       "      <th>1</th>\n",
       "      <td>스타듀 밸리 Stardew Valley</td>\n",
       "      <td>김세은</td>\n",
       "      <td>진짜 너무너무 재밌고 좋은데 멀티가 안되는게 너무 아쉽다. (진짜 멀티있으면...짱...</td>\n",
       "      <td>별표 5개 만점에 5개를 받았습니다.</td>\n",
       "      <td>2021년 1월 11일</td>\n",
       "    </tr>\n",
       "    <tr>\n",
       "      <th>2</th>\n",
       "      <td>스타듀 밸리 Stardew Valley</td>\n",
       "      <td>안소연</td>\n",
       "      <td>게임에 돈 쓴 건 처음이에요 게임 딱 시작할 땐 뭐 어쩌라는 거야 싶었는데 블로그 ...</td>\n",
       "      <td>별표 5개 만점에 5개를 받았습니다.</td>\n",
       "      <td>2021년 1월 12일</td>\n",
       "    </tr>\n",
       "    <tr>\n",
       "      <th>3</th>\n",
       "      <td>스타듀 밸리 Stardew Valley</td>\n",
       "      <td>쿠시로</td>\n",
       "      <td>돈을 쓰면서 까지 사고싶었던 게임은 이 게임이 처음입니다. 사서 플레이 하고있는데 ...</td>\n",
       "      <td>별표 5개 만점에 5개를 받았습니다.</td>\n",
       "      <td>2021년 1월 12일</td>\n",
       "    </tr>\n",
       "    <tr>\n",
       "      <th>4</th>\n",
       "      <td>스타듀 밸리 Stardew Valley</td>\n",
       "      <td>톰과주예리</td>\n",
       "      <td>조작법이 불편하다는 리뷰가 있던데 참ㅋㅋ 설정에 들어가보신적이 없으신건지 조작법만 ...</td>\n",
       "      <td>별표 5개 만점에 5개를 받았습니다.</td>\n",
       "      <td>2021년 1월 8일</td>\n",
       "    </tr>\n",
       "  </tbody>\n",
       "</table>\n",
       "</div>"
      ],
      "text/plain": [
       "                     앱이름        아이디  \\\n",
       "0  스타듀 밸리 Stardew Valley  연치_YeonCh   \n",
       "1  스타듀 밸리 Stardew Valley        김세은   \n",
       "2  스타듀 밸리 Stardew Valley        안소연   \n",
       "3  스타듀 밸리 Stardew Valley        쿠시로   \n",
       "4  스타듀 밸리 Stardew Valley      톰과주예리   \n",
       "\n",
       "                                                  리뷰                      별점  \\\n",
       "0  진짜 너무 좋은데 폰 멀티 좀ㅠㅠㅠ 대체 언제 업데이트가 되는건지 너무 안타까워요ㅠ...  별표 5개 만점에 4.8개를 받았습니다.   \n",
       "1  진짜 너무너무 재밌고 좋은데 멀티가 안되는게 너무 아쉽다. (진짜 멀티있으면...짱...    별표 5개 만점에 5개를 받았습니다.   \n",
       "2  게임에 돈 쓴 건 처음이에요 게임 딱 시작할 땐 뭐 어쩌라는 거야 싶었는데 블로그 ...    별표 5개 만점에 5개를 받았습니다.   \n",
       "3  돈을 쓰면서 까지 사고싶었던 게임은 이 게임이 처음입니다. 사서 플레이 하고있는데 ...    별표 5개 만점에 5개를 받았습니다.   \n",
       "4  조작법이 불편하다는 리뷰가 있던데 참ㅋㅋ 설정에 들어가보신적이 없으신건지 조작법만 ...    별표 5개 만점에 5개를 받았습니다.   \n",
       "\n",
       "             날짜  \n",
       "0  2021년 1월 12일  \n",
       "1  2021년 1월 11일  \n",
       "2  2021년 1월 12일  \n",
       "3  2021년 1월 12일  \n",
       "4   2021년 1월 8일  "
      ]
     },
     "execution_count": 296,
     "metadata": {},
     "output_type": "execute_result"
    }
   ],
   "source": [
    "data.head()"
   ]
  },
  {
   "cell_type": "code",
   "execution_count": 308,
   "metadata": {},
   "outputs": [],
   "source": [
    "# 별점중 1개~5개만 추출\n",
    "tmp = data.copy()"
   ]
  },
  {
   "cell_type": "code",
   "execution_count": 309,
   "metadata": {},
   "outputs": [],
   "source": [
    "# 앞의 별표 5점은 생략\n",
    "tmp['별점'] = tmp['별점'].apply(lambda x: x[5:])"
   ]
  },
  {
   "cell_type": "code",
   "execution_count": 310,
   "metadata": {},
   "outputs": [
    {
     "data": {
      "text/html": [
       "<div>\n",
       "<style scoped>\n",
       "    .dataframe tbody tr th:only-of-type {\n",
       "        vertical-align: middle;\n",
       "    }\n",
       "\n",
       "    .dataframe tbody tr th {\n",
       "        vertical-align: top;\n",
       "    }\n",
       "\n",
       "    .dataframe thead th {\n",
       "        text-align: right;\n",
       "    }\n",
       "</style>\n",
       "<table border=\"1\" class=\"dataframe\">\n",
       "  <thead>\n",
       "    <tr style=\"text-align: right;\">\n",
       "      <th></th>\n",
       "      <th>앱이름</th>\n",
       "      <th>아이디</th>\n",
       "      <th>리뷰</th>\n",
       "      <th>별점</th>\n",
       "      <th>날짜</th>\n",
       "    </tr>\n",
       "  </thead>\n",
       "  <tbody>\n",
       "    <tr>\n",
       "      <th>0</th>\n",
       "      <td>스타듀 밸리 Stardew Valley</td>\n",
       "      <td>연치_YeonCh</td>\n",
       "      <td>진짜 너무 좋은데 폰 멀티 좀ㅠㅠㅠ 대체 언제 업데이트가 되는건지 너무 안타까워요ㅠ...</td>\n",
       "      <td>만점에 4.8개를 받았습니다.</td>\n",
       "      <td>2021년 1월 12일</td>\n",
       "    </tr>\n",
       "    <tr>\n",
       "      <th>1</th>\n",
       "      <td>스타듀 밸리 Stardew Valley</td>\n",
       "      <td>김세은</td>\n",
       "      <td>진짜 너무너무 재밌고 좋은데 멀티가 안되는게 너무 아쉽다. (진짜 멀티있으면...짱...</td>\n",
       "      <td>만점에 5개를 받았습니다.</td>\n",
       "      <td>2021년 1월 11일</td>\n",
       "    </tr>\n",
       "    <tr>\n",
       "      <th>2</th>\n",
       "      <td>스타듀 밸리 Stardew Valley</td>\n",
       "      <td>안소연</td>\n",
       "      <td>게임에 돈 쓴 건 처음이에요 게임 딱 시작할 땐 뭐 어쩌라는 거야 싶었는데 블로그 ...</td>\n",
       "      <td>만점에 5개를 받았습니다.</td>\n",
       "      <td>2021년 1월 12일</td>\n",
       "    </tr>\n",
       "  </tbody>\n",
       "</table>\n",
       "</div>"
      ],
      "text/plain": [
       "                     앱이름        아이디  \\\n",
       "0  스타듀 밸리 Stardew Valley  연치_YeonCh   \n",
       "1  스타듀 밸리 Stardew Valley        김세은   \n",
       "2  스타듀 밸리 Stardew Valley        안소연   \n",
       "\n",
       "                                                  리뷰                 별점  \\\n",
       "0  진짜 너무 좋은데 폰 멀티 좀ㅠㅠㅠ 대체 언제 업데이트가 되는건지 너무 안타까워요ㅠ...   만점에 4.8개를 받았습니다.   \n",
       "1  진짜 너무너무 재밌고 좋은데 멀티가 안되는게 너무 아쉽다. (진짜 멀티있으면...짱...     만점에 5개를 받았습니다.   \n",
       "2  게임에 돈 쓴 건 처음이에요 게임 딱 시작할 땐 뭐 어쩌라는 거야 싶었는데 블로그 ...     만점에 5개를 받았습니다.   \n",
       "\n",
       "             날짜  \n",
       "0  2021년 1월 12일  \n",
       "1  2021년 1월 11일  \n",
       "2  2021년 1월 12일  "
      ]
     },
     "execution_count": 310,
     "metadata": {},
     "output_type": "execute_result"
    }
   ],
   "source": [
    "tmp.head(3)"
   ]
  },
  {
   "cell_type": "code",
   "execution_count": 311,
   "metadata": {},
   "outputs": [],
   "source": [
    "import re\n",
    "\n",
    "m = re.compile('[0-9][\\.0-9]*')\n",
    "\n",
    "tmp['별점'] = tmp['별점'].apply(lambda x : m.findall(x)[0])"
   ]
  },
  {
   "cell_type": "code",
   "execution_count": 313,
   "metadata": {},
   "outputs": [
    {
     "data": {
      "text/html": [
       "<div>\n",
       "<style scoped>\n",
       "    .dataframe tbody tr th:only-of-type {\n",
       "        vertical-align: middle;\n",
       "    }\n",
       "\n",
       "    .dataframe tbody tr th {\n",
       "        vertical-align: top;\n",
       "    }\n",
       "\n",
       "    .dataframe thead th {\n",
       "        text-align: right;\n",
       "    }\n",
       "</style>\n",
       "<table border=\"1\" class=\"dataframe\">\n",
       "  <thead>\n",
       "    <tr style=\"text-align: right;\">\n",
       "      <th></th>\n",
       "      <th>앱이름</th>\n",
       "      <th>아이디</th>\n",
       "      <th>리뷰</th>\n",
       "      <th>별점</th>\n",
       "      <th>날짜</th>\n",
       "    </tr>\n",
       "  </thead>\n",
       "  <tbody>\n",
       "    <tr>\n",
       "      <th>0</th>\n",
       "      <td>스타듀 밸리 Stardew Valley</td>\n",
       "      <td>연치_YeonCh</td>\n",
       "      <td>진짜 너무 좋은데 폰 멀티 좀ㅠㅠㅠ 대체 언제 업데이트가 되는건지 너무 안타까워요ㅠ...</td>\n",
       "      <td>4.8</td>\n",
       "      <td>2021년 1월 12일</td>\n",
       "    </tr>\n",
       "    <tr>\n",
       "      <th>1</th>\n",
       "      <td>스타듀 밸리 Stardew Valley</td>\n",
       "      <td>김세은</td>\n",
       "      <td>진짜 너무너무 재밌고 좋은데 멀티가 안되는게 너무 아쉽다. (진짜 멀티있으면...짱...</td>\n",
       "      <td>5</td>\n",
       "      <td>2021년 1월 11일</td>\n",
       "    </tr>\n",
       "    <tr>\n",
       "      <th>2</th>\n",
       "      <td>스타듀 밸리 Stardew Valley</td>\n",
       "      <td>안소연</td>\n",
       "      <td>게임에 돈 쓴 건 처음이에요 게임 딱 시작할 땐 뭐 어쩌라는 거야 싶었는데 블로그 ...</td>\n",
       "      <td>5</td>\n",
       "      <td>2021년 1월 12일</td>\n",
       "    </tr>\n",
       "    <tr>\n",
       "      <th>3</th>\n",
       "      <td>스타듀 밸리 Stardew Valley</td>\n",
       "      <td>쿠시로</td>\n",
       "      <td>돈을 쓰면서 까지 사고싶었던 게임은 이 게임이 처음입니다. 사서 플레이 하고있는데 ...</td>\n",
       "      <td>5</td>\n",
       "      <td>2021년 1월 12일</td>\n",
       "    </tr>\n",
       "    <tr>\n",
       "      <th>4</th>\n",
       "      <td>스타듀 밸리 Stardew Valley</td>\n",
       "      <td>톰과주예리</td>\n",
       "      <td>조작법이 불편하다는 리뷰가 있던데 참ㅋㅋ 설정에 들어가보신적이 없으신건지 조작법만 ...</td>\n",
       "      <td>5</td>\n",
       "      <td>2021년 1월 8일</td>\n",
       "    </tr>\n",
       "  </tbody>\n",
       "</table>\n",
       "</div>"
      ],
      "text/plain": [
       "                     앱이름        아이디  \\\n",
       "0  스타듀 밸리 Stardew Valley  연치_YeonCh   \n",
       "1  스타듀 밸리 Stardew Valley        김세은   \n",
       "2  스타듀 밸리 Stardew Valley        안소연   \n",
       "3  스타듀 밸리 Stardew Valley        쿠시로   \n",
       "4  스타듀 밸리 Stardew Valley      톰과주예리   \n",
       "\n",
       "                                                  리뷰   별점            날짜  \n",
       "0  진짜 너무 좋은데 폰 멀티 좀ㅠㅠㅠ 대체 언제 업데이트가 되는건지 너무 안타까워요ㅠ...  4.8  2021년 1월 12일  \n",
       "1  진짜 너무너무 재밌고 좋은데 멀티가 안되는게 너무 아쉽다. (진짜 멀티있으면...짱...    5  2021년 1월 11일  \n",
       "2  게임에 돈 쓴 건 처음이에요 게임 딱 시작할 땐 뭐 어쩌라는 거야 싶었는데 블로그 ...    5  2021년 1월 12일  \n",
       "3  돈을 쓰면서 까지 사고싶었던 게임은 이 게임이 처음입니다. 사서 플레이 하고있는데 ...    5  2021년 1월 12일  \n",
       "4  조작법이 불편하다는 리뷰가 있던데 참ㅋㅋ 설정에 들어가보신적이 없으신건지 조작법만 ...    5   2021년 1월 8일  "
      ]
     },
     "execution_count": 313,
     "metadata": {},
     "output_type": "execute_result"
    }
   ],
   "source": [
    "tmp.head()"
   ]
  },
  {
   "cell_type": "code",
   "execution_count": 319,
   "metadata": {},
   "outputs": [],
   "source": [
    "tmp.to_csv('스타듀밸리_리뷰평점.csv', encoding='utf-8')\n",
    "tmp.to_excel('스타듀밸리_리뷰평점.xlsx')"
   ]
  },
  {
   "cell_type": "code",
   "execution_count": 320,
   "metadata": {},
   "outputs": [
    {
     "data": {
      "text/html": [
       "<div>\n",
       "<style scoped>\n",
       "    .dataframe tbody tr th:only-of-type {\n",
       "        vertical-align: middle;\n",
       "    }\n",
       "\n",
       "    .dataframe tbody tr th {\n",
       "        vertical-align: top;\n",
       "    }\n",
       "\n",
       "    .dataframe thead th {\n",
       "        text-align: right;\n",
       "    }\n",
       "</style>\n",
       "<table border=\"1\" class=\"dataframe\">\n",
       "  <thead>\n",
       "    <tr style=\"text-align: right;\">\n",
       "      <th></th>\n",
       "      <th>Unnamed: 0</th>\n",
       "      <th>앱이름</th>\n",
       "      <th>아이디</th>\n",
       "      <th>리뷰</th>\n",
       "      <th>별점</th>\n",
       "      <th>날짜</th>\n",
       "    </tr>\n",
       "  </thead>\n",
       "  <tbody>\n",
       "    <tr>\n",
       "      <th>0</th>\n",
       "      <td>0</td>\n",
       "      <td>스타듀 밸리 Stardew Valley</td>\n",
       "      <td>연치_YeonCh</td>\n",
       "      <td>진짜 너무 좋은데 폰 멀티 좀ㅠㅠㅠ 대체 언제 업데이트가 되는건지 너무 안타까워요ㅠ...</td>\n",
       "      <td>4.8</td>\n",
       "      <td>2021년 1월 12일</td>\n",
       "    </tr>\n",
       "    <tr>\n",
       "      <th>1</th>\n",
       "      <td>1</td>\n",
       "      <td>스타듀 밸리 Stardew Valley</td>\n",
       "      <td>김세은</td>\n",
       "      <td>진짜 너무너무 재밌고 좋은데 멀티가 안되는게 너무 아쉽다. (진짜 멀티있으면...짱...</td>\n",
       "      <td>5.0</td>\n",
       "      <td>2021년 1월 11일</td>\n",
       "    </tr>\n",
       "    <tr>\n",
       "      <th>2</th>\n",
       "      <td>2</td>\n",
       "      <td>스타듀 밸리 Stardew Valley</td>\n",
       "      <td>안소연</td>\n",
       "      <td>게임에 돈 쓴 건 처음이에요 게임 딱 시작할 땐 뭐 어쩌라는 거야 싶었는데 블로그 ...</td>\n",
       "      <td>5.0</td>\n",
       "      <td>2021년 1월 12일</td>\n",
       "    </tr>\n",
       "    <tr>\n",
       "      <th>3</th>\n",
       "      <td>3</td>\n",
       "      <td>스타듀 밸리 Stardew Valley</td>\n",
       "      <td>쿠시로</td>\n",
       "      <td>돈을 쓰면서 까지 사고싶었던 게임은 이 게임이 처음입니다. 사서 플레이 하고있는데 ...</td>\n",
       "      <td>5.0</td>\n",
       "      <td>2021년 1월 12일</td>\n",
       "    </tr>\n",
       "    <tr>\n",
       "      <th>4</th>\n",
       "      <td>4</td>\n",
       "      <td>스타듀 밸리 Stardew Valley</td>\n",
       "      <td>톰과주예리</td>\n",
       "      <td>조작법이 불편하다는 리뷰가 있던데 참ㅋㅋ 설정에 들어가보신적이 없으신건지 조작법만 ...</td>\n",
       "      <td>5.0</td>\n",
       "      <td>2021년 1월 8일</td>\n",
       "    </tr>\n",
       "  </tbody>\n",
       "</table>\n",
       "</div>"
      ],
      "text/plain": [
       "   Unnamed: 0                    앱이름        아이디  \\\n",
       "0           0  스타듀 밸리 Stardew Valley  연치_YeonCh   \n",
       "1           1  스타듀 밸리 Stardew Valley        김세은   \n",
       "2           2  스타듀 밸리 Stardew Valley        안소연   \n",
       "3           3  스타듀 밸리 Stardew Valley        쿠시로   \n",
       "4           4  스타듀 밸리 Stardew Valley      톰과주예리   \n",
       "\n",
       "                                                  리뷰   별점            날짜  \n",
       "0  진짜 너무 좋은데 폰 멀티 좀ㅠㅠㅠ 대체 언제 업데이트가 되는건지 너무 안타까워요ㅠ...  4.8  2021년 1월 12일  \n",
       "1  진짜 너무너무 재밌고 좋은데 멀티가 안되는게 너무 아쉽다. (진짜 멀티있으면...짱...  5.0  2021년 1월 11일  \n",
       "2  게임에 돈 쓴 건 처음이에요 게임 딱 시작할 땐 뭐 어쩌라는 거야 싶었는데 블로그 ...  5.0  2021년 1월 12일  \n",
       "3  돈을 쓰면서 까지 사고싶었던 게임은 이 게임이 처음입니다. 사서 플레이 하고있는데 ...  5.0  2021년 1월 12일  \n",
       "4  조작법이 불편하다는 리뷰가 있던데 참ㅋㅋ 설정에 들어가보신적이 없으신건지 조작법만 ...  5.0   2021년 1월 8일  "
      ]
     },
     "execution_count": 320,
     "metadata": {},
     "output_type": "execute_result"
    }
   ],
   "source": [
    "re = pd.read_csv('스타듀밸리_리뷰평점.csv', encoding='utf-8')\n",
    "re.head()"
   ]
  },
  {
   "cell_type": "code",
   "execution_count": null,
   "metadata": {},
   "outputs": [],
   "source": []
  }
 ],
 "metadata": {
  "kernelspec": {
   "display_name": "Python 3",
   "language": "python",
   "name": "python3"
  },
  "language_info": {
   "codemirror_mode": {
    "name": "ipython",
    "version": 3
   },
   "file_extension": ".py",
   "mimetype": "text/x-python",
   "name": "python",
   "nbconvert_exporter": "python",
   "pygments_lexer": "ipython3",
   "version": "3.8.3"
  }
 },
 "nbformat": 4,
 "nbformat_minor": 4
}
