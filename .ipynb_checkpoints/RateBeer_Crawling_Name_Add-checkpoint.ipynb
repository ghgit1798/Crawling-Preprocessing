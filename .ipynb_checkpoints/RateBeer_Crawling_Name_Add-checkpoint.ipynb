{
 "cells": [
  {
   "cell_type": "code",
   "execution_count": 1,
   "metadata": {},
   "outputs": [],
   "source": [
    "import pandas as pd\n",
    "import numpy as np\n",
    "import time\n",
    "\n",
    "import re\n",
    "\n",
    "from selenium import webdriver"
   ]
  },
  {
   "cell_type": "code",
   "execution_count": 2,
   "metadata": {},
   "outputs": [],
   "source": [
    "# 수집할 맥주 종류 기입\n",
    "beers = ['cass', 'hite', 'kloud', 'kloud fitz' ,'guiness draught', 'tsingtao',\n",
    "         'blanc', 'heineken', 'stella', 'hogaarden', 'sapporo premium',\n",
    "        'ashhi', 'budweiser', 'pilsner urquell', 'kozel dark', ' Ob golden larger',\n",
    "        'filite', 'erdinger', 'tiger', 'leffe blonde',  'leffe brune', \n",
    "         'goose island stout', 'goose island goose ipa', 'edelwelss weissbier',\n",
    "         'blue moon', 'desperados', 'goose island 312', 'kirin ichban'\n",
    "        ]"
   ]
  },
  {
   "cell_type": "code",
   "execution_count": 50,
   "metadata": {},
   "outputs": [],
   "source": [
    "# 데이터 프레임 생성\n",
    "data = pd.DataFrame(data=[], columns=['맥주정보', '맥주이름'])"
   ]
  },
  {
   "cell_type": "code",
   "execution_count": 17,
   "metadata": {},
   "outputs": [],
   "source": [
    "# 테스트용 예제 파일\n",
    "beers = ['kloud fitz', 'kloud']"
   ]
  },
  {
   "cell_type": "code",
   "execution_count": 18,
   "metadata": {},
   "outputs": [],
   "source": [
    "chromedriver = 'chromedriver.exe'\n",
    "url = 'https://www.ratebeer.com/search?tab=beer'"
   ]
  },
  {
   "cell_type": "code",
   "execution_count": 19,
   "metadata": {},
   "outputs": [],
   "source": [
    "driver = webdriver.Chrome(chromedriver)\n",
    "driver.get(url)\n",
    "time.sleep(1)"
   ]
  },
  {
   "cell_type": "markdown",
   "metadata": {},
   "source": [
    "## 실제 구현 함수"
   ]
  },
  {
   "cell_type": "code",
   "execution_count": 7,
   "metadata": {},
   "outputs": [
    {
     "data": {
      "text/plain": [
       "int"
      ]
     },
     "execution_count": 7,
     "metadata": {},
     "output_type": "execute_result"
    }
   ],
   "source": [
    "type(1)"
   ]
  },
  {
   "cell_type": "code",
   "execution_count": 51,
   "metadata": {},
   "outputs": [],
   "source": [
    "def crawl(driver, beer, data):\n",
    "    # url open\n",
    "    print('url_open... {0} 맥주 데이터를 수집합니다..'.format(beer))\n",
    "    driver = webdriver.Chrome(chromedriver)\n",
    "    driver.get(url)\n",
    "    \n",
    "    # 맥주 검색\n",
    "    time.sleep(3)\n",
    "    element = driver.find_element_by_xpath('//*[@id=\"root\"]/div[2]/header/div[2]/div[1]/div[2]/div/div/input')\n",
    "    time.sleep(2)\n",
    "    element.click()\n",
    "    time.sleep(3)\n",
    "    element.send_keys(beer)\n",
    "    time.sleep(5)\n",
    "    \n",
    "    # 상품 선택\n",
    "    driver.find_element_by_xpath('//*[@id=\"root\"]/div[2]/header/div[2]/div[1]/div[2]/div/div[2]/a[1]/div/div[2]').click()\n",
    "    \n",
    "    # 상품 이름 수집\n",
    "    time.sleep(2)\n",
    "    beer_name = driver.find_element_by_xpath('//*[@id=\"root\"]/div[2]/div[2]/div/div/div/div[2]/div[1]/div/div[2]/div[1]/div/div[1]/div/div').text\n",
    "    \n",
    "    while 1:\n",
    "        try :\n",
    "            # 전체 리뷰 수 수집\n",
    "            time.sleep(2)\n",
    "            string = driver.find_element_by_class_name('MuiTypography-root.Text___StyledTypographyTypeless-bukSfn.pzIrn.text-500.colorized__WrappedComponent-hrwcZr.hwjOn.MuiTypography-h6').text\n",
    "\n",
    "            # ,가 포함되어 있는지에 대한 로직\n",
    "            extract = re.compile('[0-9]*,*[0-9]+')\n",
    "            str_num = extract.findall(string)\n",
    "            str_num = str_num[0]\n",
    "            \n",
    "            print('성공... while문을 탈출합니다.')\n",
    "            break\n",
    "        except :\n",
    "            print('오류 발생.. 다시 시작합니다.')\n",
    "    \n",
    "    if ',' in str_num:\n",
    "        str_num = str_num.split(',')\n",
    "        str_num = int(str_num[0]+str_num[1])\n",
    "        num = str_num\n",
    "    else:\n",
    "        num = int(str_num)\n",
    "        \n",
    "    print('num = ', num)\n",
    "    \n",
    "    page_num = num // 15 + 1\n",
    "\n",
    "    for i in range(page_num+1):\n",
    "        print(i+1, '번째 페이지입니다.')\n",
    "\n",
    "        # Score breakdown 클릭\n",
    "        time.sleep(2)\n",
    "    #     element = driver.find_element_by_xpath('//*[@id=\"root\"]/div[2]/div[2]/div/div/div/div[2]/div[4]/div/div[2]/div[1]/div[2]')\n",
    "    #     element = driver.find_element_by_xpath('//*[@id=\"root\"]/div[2]/div[2]/div/div/div/div[2]/div[4]/div/div[2]/div[1]/div[2]')\n",
    "        element = driver.find_element_by_xpath('//*[@id=\"root\"]/div[2]/div[2]/div/div/div/div[2]/div[4]/div/div[2]/div[1]/div[2]')\n",
    "        time.sleep(2)\n",
    "        driver.execute_script(\"arguments[0].click();\", element)\n",
    "\n",
    "        # 전체 맥주 정보를 통쨰로 수집\n",
    "        beer = driver.find_elements_by_css_selector('.px-4.fj-s.f-wrap')\n",
    "        \n",
    "        tmp = []\n",
    "        \n",
    "        # 수집한 것을 데이터프레임에 저장\n",
    "        for i in range(len(beer)):\n",
    "            tmp.append(beer[i].text)\n",
    "\n",
    "        tmp = pd.DataFrame(data=tmp, columns=['맥주정보'])\n",
    "        tmp['맥주이름'] = beer_name\n",
    "        data = pd.concat([data, tmp])\n",
    "\n",
    "        # div, span, title 태그 후 속성은 class 외에도 사용 가능\n",
    "        try :        \n",
    "            time.sleep(2)\n",
    "            element = driver.find_element_by_xpath('//button[@title=\"Next page\"]/span[@class=\"MuiIconButton-label\"]')\n",
    "            driver.execute_script(\"arguments[0].click();\", element)\n",
    "        except:\n",
    "            print('마지막 페이지입니다.')\n",
    "    \n",
    "    driver.quit()\n",
    "    \n",
    "    return data"
   ]
  },
  {
   "cell_type": "code",
   "execution_count": 52,
   "metadata": {
    "scrolled": true
   },
   "outputs": [
    {
     "name": "stdout",
     "output_type": "stream",
     "text": [
      "url_open... kloud fitz 맥주 데이터를 수집합니다..\n",
      "성공... while문을 탈출합니다.\n",
      "num =  26\n",
      "1 번째 페이지입니다.\n",
      "2 번째 페이지입니다.\n",
      "3 번째 페이지입니다.\n",
      "url_open... kloud 맥주 데이터를 수집합니다..\n",
      "성공... while문을 탈출합니다.\n",
      "num =  103\n",
      "1 번째 페이지입니다.\n",
      "2 번째 페이지입니다.\n",
      "3 번째 페이지입니다.\n",
      "4 번째 페이지입니다.\n",
      "5 번째 페이지입니다.\n",
      "6 번째 페이지입니다.\n",
      "7 번째 페이지입니다.\n",
      "8 번째 페이지입니다.\n"
     ]
    }
   ],
   "source": [
    "for beer in beers:\n",
    "    data = crawl(driver, beer, data)"
   ]
  },
  {
   "cell_type": "code",
   "execution_count": 54,
   "metadata": {},
   "outputs": [],
   "source": [
    "# 데이터 저장\n",
    "data = data[['맥주이름', '맥주정보']]\n",
    "data.to_csv(\"RateBeer.csv\", encoding='utf-8')\n",
    "data.to_excel(\"RateBeer.xlsx\")"
   ]
  },
  {
   "cell_type": "code",
   "execution_count": null,
   "metadata": {},
   "outputs": [],
   "source": []
  },
  {
   "cell_type": "markdown",
   "metadata": {},
   "source": [
    "# 맥주 이름 추가하기 - 테스트 중"
   ]
  },
  {
   "cell_type": "code",
   "execution_count": null,
   "metadata": {},
   "outputs": [],
   "source": []
  },
  {
   "cell_type": "code",
   "execution_count": 26,
   "metadata": {},
   "outputs": [
    {
     "name": "stdout",
     "output_type": "stream",
     "text": [
      "url_open... kloud fitz 맥주 데이터를 수집합니다..\n"
     ]
    }
   ],
   "source": [
    "# url open\n",
    "print('url_open... {0} 맥주 데이터를 수집합니다..'.format(beer))\n",
    "driver = webdriver.Chrome(chromedriver)\n",
    "driver.get(url)"
   ]
  },
  {
   "cell_type": "code",
   "execution_count": 28,
   "metadata": {},
   "outputs": [],
   "source": [
    "# 맥주 검색\n",
    "time.sleep(3)\n",
    "element = driver.find_element_by_xpath('//*[@id=\"root\"]/div[2]/header/div[2]/div[1]/div[2]/div/div/input')\n",
    "time.sleep(2)\n",
    "element.click()\n",
    "time.sleep(3)\n",
    "element.send_keys(beer)\n",
    "time.sleep(5)"
   ]
  },
  {
   "cell_type": "code",
   "execution_count": 29,
   "metadata": {},
   "outputs": [],
   "source": [
    "# 상품 선택\n",
    "driver.find_element_by_xpath('//*[@id=\"root\"]/div[2]/header/div[2]/div[1]/div[2]/div/div[2]/a[1]/div').click()\n",
    "\n",
    "# 상품 이름 수집\n",
    "time.sleep(2)\n",
    "beer_name = driver.find_element_by_xpath('//*[@id=\"root\"]/div[2]/div[2]/div/div/div/div[2]/div[1]/div/div[2]/div[1]/div/div[1]/div/div').text"
   ]
  },
  {
   "cell_type": "code",
   "execution_count": 30,
   "metadata": {},
   "outputs": [
    {
     "data": {
      "text/plain": [
       "'Kloud Fitz Super Clear'"
      ]
     },
     "execution_count": 30,
     "metadata": {},
     "output_type": "execute_result"
    }
   ],
   "source": [
    "beer_name"
   ]
  },
  {
   "cell_type": "code",
   "execution_count": 31,
   "metadata": {},
   "outputs": [
    {
     "name": "stdout",
     "output_type": "stream",
     "text": [
      "성공... while문을 탈출합니다.\n"
     ]
    }
   ],
   "source": [
    "while 1:\n",
    "    try :\n",
    "        # 전체 리뷰 수 수집\n",
    "        time.sleep(2)\n",
    "        string = driver.find_element_by_class_name('MuiTypography-root.Text___StyledTypographyTypeless-bukSfn.pzIrn.text-500.colorized__WrappedComponent-hrwcZr.hwjOn.MuiTypography-h6').text\n",
    "\n",
    "        # ,가 포함되어 있는지에 대한 로직\n",
    "        extract = re.compile('[0-9]*,*[0-9]+')\n",
    "        str_num = extract.findall(string)\n",
    "        str_num = str_num[0]\n",
    "\n",
    "        print('성공... while문을 탈출합니다.')\n",
    "        break\n",
    "    except :\n",
    "        print('오류 발생.. 다시 시작합니다.')"
   ]
  },
  {
   "cell_type": "code",
   "execution_count": 33,
   "metadata": {},
   "outputs": [
    {
     "name": "stdout",
     "output_type": "stream",
     "text": [
      "num =  26\n"
     ]
    }
   ],
   "source": [
    "if ',' in str_num:\n",
    "    str_num = str_num.split(',')\n",
    "    str_num = int(str_num[0]+str_num[1])\n",
    "    num = str_num\n",
    "else:\n",
    "    num = int(str_num)\n",
    "\n",
    "print('num = ', num)"
   ]
  },
  {
   "cell_type": "code",
   "execution_count": 36,
   "metadata": {},
   "outputs": [],
   "source": [
    "page_num = num // 15 + 1"
   ]
  },
  {
   "cell_type": "code",
   "execution_count": 40,
   "metadata": {},
   "outputs": [],
   "source": [
    "# Score breakdown 클릭\n",
    "time.sleep(2)\n",
    "element = driver.find_element_by_xpath('//*[@id=\"root\"]/div[2]/div[2]/div/div/div/div[2]/div[4]/div/div[2]/div[1]/div[2]')\n",
    "time.sleep(2)\n",
    "driver.execute_script(\"arguments[0].click();\", element)"
   ]
  },
  {
   "cell_type": "code",
   "execution_count": 41,
   "metadata": {},
   "outputs": [],
   "source": [
    "# 전체 맥주 정보를 통쨰로 수집\n",
    "tmp = [beer_name]\n",
    "beer = driver.find_elements_by_css_selector('.px-4.fj-s.f-wrap')"
   ]
  },
  {
   "cell_type": "code",
   "execution_count": 42,
   "metadata": {},
   "outputs": [
    {
     "data": {
      "text/plain": [
       "['Kloud Fitz Super Clear']"
      ]
     },
     "execution_count": 42,
     "metadata": {},
     "output_type": "execute_result"
    }
   ],
   "source": [
    "tmp"
   ]
  },
  {
   "cell_type": "code",
   "execution_count": 43,
   "metadata": {},
   "outputs": [],
   "source": [
    "# 수집한 것을 데이터프레임에 저장\n",
    "for i in range(len(beer)):\n",
    "    tmp.append(beer[i].text)"
   ]
  },
  {
   "cell_type": "code",
   "execution_count": 44,
   "metadata": {},
   "outputs": [
    {
     "data": {
      "text/plain": [
       "['Kloud Fitz Super Clear',\n",
       " 'HighSparkDiesel(597)\\n🇹🇼Taipei City, Taiwan\\n1.6September 25, 2020\\nA small can from Chuan Lien down the road. Typical Korean macrobrew; plenty of rather sour vanilla, not disgusting, easy…\\nShow more\\nAroma\\n4\\nAppearance\\n2\\nFlavor\\n4\\nMouthfeel\\n2\\nOverall\\n4',\n",
       " 'futre7(339)\\n🇹🇼Taipei, Taiwan\\n1.8February 22, 2020\\nTastes like most Korean lager. Like it is the lager from that grey can Lister carries around in Red Dwarf. ...Very generic and…\\nShow more\\nAroma\\n2\\nAppearance\\n2\\nFlavor\\n2\\nMouthfeel\\n1\\nOverall\\n11',\n",
       " 'Oakes(25,346)\\n🇨🇦Kelowna, Canada\\n1.7January 14, 2020\\nAlmost orange amber colour. On the nose, maltish, on the palate more plasticy sort of phenol-accented malt stuff. Ok for…\\nShow more\\nAroma\\n3\\nAppearance\\n2\\nFlavor\\n2\\nMouthfeel\\n2\\nOverall\\n8',\n",
       " 'YantarCoast(3,141)\\n🇷🇺Moscow, Russia\\n1.5December 7, 2019\\n500ml can from TBS in Moscow. Pours clear gold with a medium-sized head that fizzes away in seconds. Aroma is sweet…\\nShow more\\nCAN\\nAroma\\n3\\nAppearance\\n2\\nFlavor\\n2\\nMouthfeel\\n2\\nOverall\\n6',\n",
       " 'mkel07(8,991)\\n🇦🇺Brisbane, Australia\\n2.2September 17, 2019\\nCan from Charmy’s Food and Bottleshoo on 17 September 2019. This is my first beer from this South Korean brewery and…\\nShow more\\nAroma\\n4\\nAppearance\\n2\\nFlavor\\n5\\nMouthfeel\\n2\\nOverall\\n9',\n",
       " 'kiwianer(4,070)\\n🇳🇿Otorohanga, New Zealand\\n1.1February 13, 2019\\nThe foamstability is low, bdy gold. The Aroma is malty, metal, old. Taste is malty, soft, metal.\\nAroma\\n2\\nAppearance\\n1\\nFlavor\\n2\\nMouthfeel\\n1\\nOverall\\n5',\n",
       " 'Ferris(23,110)\\n🇨🇦Burnaby, Canada\\n2.5January 30, 2019\\nSweet and papery. Clear gold with a small white head. Malty sweet and a papery finish.\\nBOTTLE\\nAroma\\n5\\nAppearance\\n3\\nFlavor\\n5\\nMouthfeel\\n3\\nOverall\\n9',\n",
       " '통통냥이코(6)\\n2.3January 28, 2019\\n가볍습니다. 너무 가벼워서 오히려 자리가 애매한 국산 타 맥주보다 특징이 뚜렷하네요. 국산 맥주중 가장 가볍게 즐기기 좋은…\\nShow more\\nAroma\\n-\\nAppearance\\n-\\nFlavor\\n-\\nMouthfeel\\n-\\nOverall\\n-',\n",
       " 'Bif(2,874)\\n🇺🇸St. Charles, United States\\n2.1January 6, 2019\\nBottle. Pours a pale golden color with fizzy head and some lacing. Aroma of sweet malts, grain and dash of citrus. Taste of…\\nShow more\\nBOTTLE\\nAroma\\n4\\nAppearance\\n2\\nFlavor\\n5\\nMouthfeel\\n2\\nOverall\\n8',\n",
       " \"brewperman(31)\\n🇺🇸United States\\n1.5November 24, 2018\\nEhhhh, I mean, it's pretty bad. Way over carbonated almost like tonic water with a dabble of rubbing alcohol. Still, it's pretty…\\nShow more\\nAroma\\n3\\nAppearance\\n2\\nFlavor\\n1\\nMouthfeel\\n2\\nOverall\\n7\",\n",
       " 'crossovert(16,747)\\n🇺🇸Chicago, United States\\n2.1November 4, 2018\\n640ml bottle as Kloud Super Clear. Pours a clear pale light gold, foamy white head that sticks, lots of active carb bubbles. Aroma…\\nShow more\\nAroma\\n3\\nAppearance\\n4\\nFlavor\\n3\\nMouthfeel\\n2\\nOverall\\n9',\n",
       " 'AllGrainChamp18(1)\\n5.0October 11, 2018\\nDelicious Korean goodness.…\\nShow more\\nAroma\\n10\\nAppearance\\n5\\nFlavor\\n10\\nMouthfeel\\n5\\nOverall\\n20',\n",
       " 'fonefan(65,413)\\n🇩🇰VestJylland, Denmark\\n1.5September 7, 2018\\nCan 500ml. @ [ (PBF XII Tasting.) by oh6gdx ] - Petalax, Finland.…\\nShow more\\nAroma\\n3\\nAppearance\\n2\\nFlavor\\n3\\nMouthfeel\\n2\\nOverall\\n5',\n",
       " 'Skarecrow(1,734)\\n🇳🇿North Shore, Auckland, New Zealand\\n2.0September 6, 2018\\n500ml can\\nClear gold colour with sudsy white head.…\\nShow more\\nAroma\\n4\\nAppearance\\n2\\nFlavor\\n4\\nMouthfeel\\n2\\nOverall\\n8',\n",
       " 'pintbypint(4,303)\\n🇨🇦Edmonton, Canada\\n2.4August 6, 2018\\n330ml brown bottle. It is super clear! Wow! It pours yellow, light white bubbles on the surface. The aroma seems to be all malt,…\\nShow more\\nAroma\\n5\\nAppearance\\n3\\nFlavor\\n4\\nMouthfeel\\n3\\nOverall\\n9']"
      ]
     },
     "execution_count": 44,
     "metadata": {},
     "output_type": "execute_result"
    }
   ],
   "source": [
    "tmp"
   ]
  },
  {
   "cell_type": "code",
   "execution_count": null,
   "metadata": {},
   "outputs": [],
   "source": [
    "tmp = pd.DataFrame(data=tmp, columns=['맥주이름','맥주정보'])\n",
    "data = pd.concat([data, tmp])"
   ]
  },
  {
   "cell_type": "code",
   "execution_count": null,
   "metadata": {},
   "outputs": [],
   "source": []
  },
  {
   "cell_type": "code",
   "execution_count": null,
   "metadata": {},
   "outputs": [],
   "source": []
  },
  {
   "cell_type": "code",
   "execution_count": null,
   "metadata": {},
   "outputs": [],
   "source": []
  },
  {
   "cell_type": "markdown",
   "metadata": {},
   "source": [
    "# 단계적 구현 과정"
   ]
  },
  {
   "cell_type": "markdown",
   "metadata": {},
   "source": [
    "## 맥주 수집 단계"
   ]
  },
  {
   "cell_type": "code",
   "execution_count": 24,
   "metadata": {},
   "outputs": [
    {
     "ename": "NoSuchElementException",
     "evalue": "Message: no such element: Unable to locate element: {\"method\":\"xpath\",\"selector\":\"//*[@id=\"root\"]/div[2]/div[2]/div/div[2]/div[1]/input\"}\n  (Session info: chrome=87.0.4280.141)\n",
     "output_type": "error",
     "traceback": [
      "\u001b[1;31m---------------------------------------------------------------------------\u001b[0m",
      "\u001b[1;31mNoSuchElementException\u001b[0m                    Traceback (most recent call last)",
      "\u001b[1;32m<ipython-input-24-5d05b598c237>\u001b[0m in \u001b[0;36m<module>\u001b[1;34m\u001b[0m\n\u001b[0;32m      1\u001b[0m \u001b[1;31m# 맥주 검색\u001b[0m\u001b[1;33m\u001b[0m\u001b[1;33m\u001b[0m\u001b[1;33m\u001b[0m\u001b[0m\n\u001b[0;32m      2\u001b[0m \u001b[0mtime\u001b[0m\u001b[1;33m.\u001b[0m\u001b[0msleep\u001b[0m\u001b[1;33m(\u001b[0m\u001b[1;36m2\u001b[0m\u001b[1;33m)\u001b[0m\u001b[1;33m\u001b[0m\u001b[1;33m\u001b[0m\u001b[0m\n\u001b[1;32m----> 3\u001b[1;33m \u001b[0melement\u001b[0m \u001b[1;33m=\u001b[0m \u001b[0mdriver\u001b[0m\u001b[1;33m.\u001b[0m\u001b[0mfind_element_by_xpath\u001b[0m\u001b[1;33m(\u001b[0m\u001b[1;34m'//*[@id=\"root\"]/div[2]/div[2]/div/div[2]/div[1]/input'\u001b[0m\u001b[1;33m)\u001b[0m\u001b[1;33m\u001b[0m\u001b[1;33m\u001b[0m\u001b[0m\n\u001b[0m\u001b[0;32m      4\u001b[0m \u001b[0melement\u001b[0m\u001b[1;33m.\u001b[0m\u001b[0mclick\u001b[0m\u001b[1;33m(\u001b[0m\u001b[1;33m)\u001b[0m\u001b[1;33m\u001b[0m\u001b[1;33m\u001b[0m\u001b[0m\n\u001b[0;32m      5\u001b[0m \u001b[0mtime\u001b[0m\u001b[1;33m.\u001b[0m\u001b[0msleep\u001b[0m\u001b[1;33m(\u001b[0m\u001b[1;36m1\u001b[0m\u001b[1;33m)\u001b[0m\u001b[1;33m\u001b[0m\u001b[1;33m\u001b[0m\u001b[0m\n",
      "\u001b[1;32m~\\anaconda3\\lib\\site-packages\\selenium\\webdriver\\remote\\webdriver.py\u001b[0m in \u001b[0;36mfind_element_by_xpath\u001b[1;34m(self, xpath)\u001b[0m\n\u001b[0;32m    392\u001b[0m             \u001b[0melement\u001b[0m \u001b[1;33m=\u001b[0m \u001b[0mdriver\u001b[0m\u001b[1;33m.\u001b[0m\u001b[0mfind_element_by_xpath\u001b[0m\u001b[1;33m(\u001b[0m\u001b[1;34m'//div/td[1]'\u001b[0m\u001b[1;33m)\u001b[0m\u001b[1;33m\u001b[0m\u001b[1;33m\u001b[0m\u001b[0m\n\u001b[0;32m    393\u001b[0m         \"\"\"\n\u001b[1;32m--> 394\u001b[1;33m         \u001b[1;32mreturn\u001b[0m \u001b[0mself\u001b[0m\u001b[1;33m.\u001b[0m\u001b[0mfind_element\u001b[0m\u001b[1;33m(\u001b[0m\u001b[0mby\u001b[0m\u001b[1;33m=\u001b[0m\u001b[0mBy\u001b[0m\u001b[1;33m.\u001b[0m\u001b[0mXPATH\u001b[0m\u001b[1;33m,\u001b[0m \u001b[0mvalue\u001b[0m\u001b[1;33m=\u001b[0m\u001b[0mxpath\u001b[0m\u001b[1;33m)\u001b[0m\u001b[1;33m\u001b[0m\u001b[1;33m\u001b[0m\u001b[0m\n\u001b[0m\u001b[0;32m    395\u001b[0m \u001b[1;33m\u001b[0m\u001b[0m\n\u001b[0;32m    396\u001b[0m     \u001b[1;32mdef\u001b[0m \u001b[0mfind_elements_by_xpath\u001b[0m\u001b[1;33m(\u001b[0m\u001b[0mself\u001b[0m\u001b[1;33m,\u001b[0m \u001b[0mxpath\u001b[0m\u001b[1;33m)\u001b[0m\u001b[1;33m:\u001b[0m\u001b[1;33m\u001b[0m\u001b[1;33m\u001b[0m\u001b[0m\n",
      "\u001b[1;32m~\\anaconda3\\lib\\site-packages\\selenium\\webdriver\\remote\\webdriver.py\u001b[0m in \u001b[0;36mfind_element\u001b[1;34m(self, by, value)\u001b[0m\n\u001b[0;32m    974\u001b[0m                 \u001b[0mby\u001b[0m \u001b[1;33m=\u001b[0m \u001b[0mBy\u001b[0m\u001b[1;33m.\u001b[0m\u001b[0mCSS_SELECTOR\u001b[0m\u001b[1;33m\u001b[0m\u001b[1;33m\u001b[0m\u001b[0m\n\u001b[0;32m    975\u001b[0m                 \u001b[0mvalue\u001b[0m \u001b[1;33m=\u001b[0m \u001b[1;34m'[name=\"%s\"]'\u001b[0m \u001b[1;33m%\u001b[0m \u001b[0mvalue\u001b[0m\u001b[1;33m\u001b[0m\u001b[1;33m\u001b[0m\u001b[0m\n\u001b[1;32m--> 976\u001b[1;33m         return self.execute(Command.FIND_ELEMENT, {\n\u001b[0m\u001b[0;32m    977\u001b[0m             \u001b[1;34m'using'\u001b[0m\u001b[1;33m:\u001b[0m \u001b[0mby\u001b[0m\u001b[1;33m,\u001b[0m\u001b[1;33m\u001b[0m\u001b[1;33m\u001b[0m\u001b[0m\n\u001b[0;32m    978\u001b[0m             'value': value})['value']\n",
      "\u001b[1;32m~\\anaconda3\\lib\\site-packages\\selenium\\webdriver\\remote\\webdriver.py\u001b[0m in \u001b[0;36mexecute\u001b[1;34m(self, driver_command, params)\u001b[0m\n\u001b[0;32m    319\u001b[0m         \u001b[0mresponse\u001b[0m \u001b[1;33m=\u001b[0m \u001b[0mself\u001b[0m\u001b[1;33m.\u001b[0m\u001b[0mcommand_executor\u001b[0m\u001b[1;33m.\u001b[0m\u001b[0mexecute\u001b[0m\u001b[1;33m(\u001b[0m\u001b[0mdriver_command\u001b[0m\u001b[1;33m,\u001b[0m \u001b[0mparams\u001b[0m\u001b[1;33m)\u001b[0m\u001b[1;33m\u001b[0m\u001b[1;33m\u001b[0m\u001b[0m\n\u001b[0;32m    320\u001b[0m         \u001b[1;32mif\u001b[0m \u001b[0mresponse\u001b[0m\u001b[1;33m:\u001b[0m\u001b[1;33m\u001b[0m\u001b[1;33m\u001b[0m\u001b[0m\n\u001b[1;32m--> 321\u001b[1;33m             \u001b[0mself\u001b[0m\u001b[1;33m.\u001b[0m\u001b[0merror_handler\u001b[0m\u001b[1;33m.\u001b[0m\u001b[0mcheck_response\u001b[0m\u001b[1;33m(\u001b[0m\u001b[0mresponse\u001b[0m\u001b[1;33m)\u001b[0m\u001b[1;33m\u001b[0m\u001b[1;33m\u001b[0m\u001b[0m\n\u001b[0m\u001b[0;32m    322\u001b[0m             response['value'] = self._unwrap_value(\n\u001b[0;32m    323\u001b[0m                 response.get('value', None))\n",
      "\u001b[1;32m~\\anaconda3\\lib\\site-packages\\selenium\\webdriver\\remote\\errorhandler.py\u001b[0m in \u001b[0;36mcheck_response\u001b[1;34m(self, response)\u001b[0m\n\u001b[0;32m    240\u001b[0m                 \u001b[0malert_text\u001b[0m \u001b[1;33m=\u001b[0m \u001b[0mvalue\u001b[0m\u001b[1;33m[\u001b[0m\u001b[1;34m'alert'\u001b[0m\u001b[1;33m]\u001b[0m\u001b[1;33m.\u001b[0m\u001b[0mget\u001b[0m\u001b[1;33m(\u001b[0m\u001b[1;34m'text'\u001b[0m\u001b[1;33m)\u001b[0m\u001b[1;33m\u001b[0m\u001b[1;33m\u001b[0m\u001b[0m\n\u001b[0;32m    241\u001b[0m             \u001b[1;32mraise\u001b[0m \u001b[0mexception_class\u001b[0m\u001b[1;33m(\u001b[0m\u001b[0mmessage\u001b[0m\u001b[1;33m,\u001b[0m \u001b[0mscreen\u001b[0m\u001b[1;33m,\u001b[0m \u001b[0mstacktrace\u001b[0m\u001b[1;33m,\u001b[0m \u001b[0malert_text\u001b[0m\u001b[1;33m)\u001b[0m\u001b[1;33m\u001b[0m\u001b[1;33m\u001b[0m\u001b[0m\n\u001b[1;32m--> 242\u001b[1;33m         \u001b[1;32mraise\u001b[0m \u001b[0mexception_class\u001b[0m\u001b[1;33m(\u001b[0m\u001b[0mmessage\u001b[0m\u001b[1;33m,\u001b[0m \u001b[0mscreen\u001b[0m\u001b[1;33m,\u001b[0m \u001b[0mstacktrace\u001b[0m\u001b[1;33m)\u001b[0m\u001b[1;33m\u001b[0m\u001b[1;33m\u001b[0m\u001b[0m\n\u001b[0m\u001b[0;32m    243\u001b[0m \u001b[1;33m\u001b[0m\u001b[0m\n\u001b[0;32m    244\u001b[0m     \u001b[1;32mdef\u001b[0m \u001b[0m_value_or_default\u001b[0m\u001b[1;33m(\u001b[0m\u001b[0mself\u001b[0m\u001b[1;33m,\u001b[0m \u001b[0mobj\u001b[0m\u001b[1;33m,\u001b[0m \u001b[0mkey\u001b[0m\u001b[1;33m,\u001b[0m \u001b[0mdefault\u001b[0m\u001b[1;33m)\u001b[0m\u001b[1;33m:\u001b[0m\u001b[1;33m\u001b[0m\u001b[1;33m\u001b[0m\u001b[0m\n",
      "\u001b[1;31mNoSuchElementException\u001b[0m: Message: no such element: Unable to locate element: {\"method\":\"xpath\",\"selector\":\"//*[@id=\"root\"]/div[2]/div[2]/div/div[2]/div[1]/input\"}\n  (Session info: chrome=87.0.4280.141)\n"
     ]
    }
   ],
   "source": [
    "# 맥주 검색\n",
    "time.sleep(2)\n",
    "element = driver.find_element_by_xpath('//*[@id=\"root\"]/div[2]/div[2]/div/div[2]/div[1]/input')\n",
    "element.click()\n",
    "time.sleep(1)\n",
    "element.send_keys('hite')\n",
    "time.sleep(2)\n",
    "driver.find_element_by_xpath('//*[@id=\"root\"]/div[2]/div[2]/div/div[2]/div[2]/a[1]/div/div[2]').click()"
   ]
  },
  {
   "cell_type": "code",
   "execution_count": 153,
   "metadata": {},
   "outputs": [],
   "source": [
    "# 전체 리뷰 수 수집\n",
    "time.sleep(2)\n",
    "string = driver.find_element_by_class_name('MuiTypography-root.Text___StyledTypographyTypeless-bukSfn.pzIrn.text-500.colorized__WrappedComponent-hrwcZr.hwjOn.MuiTypography-h6').text"
   ]
  },
  {
   "cell_type": "code",
   "execution_count": 154,
   "metadata": {},
   "outputs": [
    {
     "name": "stdout",
     "output_type": "stream",
     "text": [
      "785\n"
     ]
    }
   ],
   "source": [
    "# ,가 포함되어 있는지에 대한 로직\n",
    "extract = re.compile('[0-9]*,*[0-9]+')\n",
    "str_num = extract.findall(string)[0]\n",
    "str_num\n",
    "\n",
    "if ',' in str_num:\n",
    "    str_num = str_num.split(',')\n",
    "    str_num = int(str_num[0]+str_num[1])\n",
    "    num = str_num\n",
    "else:\n",
    "    num = int(str_num)\n",
    "    \n",
    "print(num)"
   ]
  },
  {
   "cell_type": "code",
   "execution_count": 140,
   "metadata": {},
   "outputs": [
    {
     "data": {
      "text/plain": [
       "292"
      ]
     },
     "execution_count": 140,
     "metadata": {},
     "output_type": "execute_result"
    }
   ],
   "source": [
    "# 정규표현식을 사용해 리뷰 수만 추출\n",
    "extract = re.compile('[0-9]+')\n",
    "num = int(extract.findall(string)[0])\n",
    "num"
   ]
  },
  {
   "cell_type": "code",
   "execution_count": 138,
   "metadata": {
    "collapsed": true
   },
   "outputs": [
    {
     "ename": "IndexError",
     "evalue": "list index out of range",
     "output_type": "error",
     "traceback": [
      "\u001b[1;31m--------------------------------------------------------------------------\u001b[0m",
      "\u001b[1;31mIndexError\u001b[0m                               Traceback (most recent call last)",
      "\u001b[1;32m<ipython-input-138-00c64a488e3f>\u001b[0m in \u001b[0;36m<module>\u001b[1;34m\u001b[0m\n\u001b[0;32m      3\u001b[0m \u001b[0mstr_num\u001b[0m \u001b[1;33m=\u001b[0m \u001b[0mextract\u001b[0m\u001b[1;33m.\u001b[0m\u001b[0mfindall\u001b[0m\u001b[1;33m(\u001b[0m\u001b[0mstring\u001b[0m\u001b[1;33m)\u001b[0m\u001b[1;33m[\u001b[0m\u001b[1;36m0\u001b[0m\u001b[1;33m]\u001b[0m\u001b[1;33m\u001b[0m\u001b[1;33m\u001b[0m\u001b[0m\n\u001b[0;32m      4\u001b[0m \u001b[0mstr_num\u001b[0m \u001b[1;33m=\u001b[0m \u001b[0mstr_num\u001b[0m\u001b[1;33m.\u001b[0m\u001b[0msplit\u001b[0m\u001b[1;33m(\u001b[0m\u001b[1;34m','\u001b[0m\u001b[1;33m)\u001b[0m\u001b[1;33m\u001b[0m\u001b[1;33m\u001b[0m\u001b[0m\n\u001b[1;32m----> 5\u001b[1;33m \u001b[0mstr_num\u001b[0m \u001b[1;33m=\u001b[0m \u001b[0mint\u001b[0m\u001b[1;33m(\u001b[0m\u001b[0mstr_num\u001b[0m\u001b[1;33m[\u001b[0m\u001b[1;36m0\u001b[0m\u001b[1;33m]\u001b[0m\u001b[1;33m+\u001b[0m\u001b[0mstr_num\u001b[0m\u001b[1;33m[\u001b[0m\u001b[1;36m1\u001b[0m\u001b[1;33m]\u001b[0m\u001b[1;33m)\u001b[0m\u001b[1;33m\u001b[0m\u001b[1;33m\u001b[0m\u001b[0m\n\u001b[0m\u001b[0;32m      6\u001b[0m \u001b[0mnum\u001b[0m \u001b[1;33m=\u001b[0m \u001b[0mstr_num\u001b[0m\u001b[1;33m\u001b[0m\u001b[1;33m\u001b[0m\u001b[0m\n\u001b[0;32m      7\u001b[0m \u001b[0mnum\u001b[0m\u001b[1;33m\u001b[0m\u001b[1;33m\u001b[0m\u001b[0m\n",
      "\u001b[1;31mIndexError\u001b[0m: list index out of range"
     ]
    }
   ],
   "source": [
    "# 만약 ,가 있는 경우는 어떻게?\n",
    "extract = re.compile('[0-9]*,*[0-9]+')\n",
    "str_num = extract.findall(string)[0]\n",
    "str_num = str_num.split(',')\n",
    "str_num = int(str_num[0]+str_num[1])\n",
    "num = str_num\n",
    "num"
   ]
  },
  {
   "cell_type": "code",
   "execution_count": 134,
   "metadata": {
    "scrolled": true
   },
   "outputs": [
    {
     "data": {
      "text/plain": [
       "2"
      ]
     },
     "execution_count": 134,
     "metadata": {},
     "output_type": "execute_result"
    }
   ],
   "source": [
    "# 정규표현식을 사용해 리뷰 수만 추출\n",
    "extract = re.compile('[0-9]+')\n",
    "num = int(extract.findall(string)[0])\n",
    "num"
   ]
  },
  {
   "cell_type": "markdown",
   "metadata": {},
   "source": [
    "## 리뷰 수집 단계"
   ]
  },
  {
   "cell_type": "code",
   "execution_count": 122,
   "metadata": {},
   "outputs": [
    {
     "data": {
      "text/html": [
       "<div>\n",
       "<style scoped>\n",
       "    .dataframe tbody tr th:only-of-type {\n",
       "        vertical-align: middle;\n",
       "    }\n",
       "\n",
       "    .dataframe tbody tr th {\n",
       "        vertical-align: top;\n",
       "    }\n",
       "\n",
       "    .dataframe thead th {\n",
       "        text-align: right;\n",
       "    }\n",
       "</style>\n",
       "<table border=\"1\" class=\"dataframe\">\n",
       "  <thead>\n",
       "    <tr style=\"text-align: right;\">\n",
       "      <th></th>\n",
       "      <th>맥주정보</th>\n",
       "    </tr>\n",
       "  </thead>\n",
       "  <tbody>\n",
       "    <tr>\n",
       "      <th>0</th>\n",
       "      <td>BarleyTapper58(2)\\n🇧🇪Belgium\\n0.5June 9, 2020\\...</td>\n",
       "    </tr>\n",
       "    <tr>\n",
       "      <th>1</th>\n",
       "      <td>qczian(6)\\n4.1June 9, 2020\\nWygląd: Czarny kol...</td>\n",
       "    </tr>\n",
       "    <tr>\n",
       "      <th>2</th>\n",
       "      <td>d.de.bruijn(32)\\n3.6June 4, 2020\\nLekker, drin...</td>\n",
       "    </tr>\n",
       "    <tr>\n",
       "      <th>3</th>\n",
       "      <td>kaziopiwosz(828)\\n🇵🇱Warszawa / Wałbrzych, Pola...</td>\n",
       "    </tr>\n",
       "    <tr>\n",
       "      <th>4</th>\n",
       "      <td>Samuel214(3,806)\\n🇸🇪Örebro, Sweden\\n2.0May 30,...</td>\n",
       "    </tr>\n",
       "    <tr>\n",
       "      <th>5</th>\n",
       "      <td>BineMonger51(1)\\n3.8May 23, 2020\\nGuinness bou...</td>\n",
       "    </tr>\n",
       "    <tr>\n",
       "      <th>6</th>\n",
       "      <td>FrothyChamp43(3)\\n5.0May 18, 2020\\nAn all-time...</td>\n",
       "    </tr>\n",
       "    <tr>\n",
       "      <th>7</th>\n",
       "      <td>Almogabar(607)\\n🇪🇸MARIA DE HUERVA (ZARAGOZA), ...</td>\n",
       "    </tr>\n",
       "    <tr>\n",
       "      <th>8</th>\n",
       "      <td>mile(4,635)\\n🇫🇮Helsinki, Finland\\n3.1May 13, 2...</td>\n",
       "    </tr>\n",
       "    <tr>\n",
       "      <th>9</th>\n",
       "      <td>neil_d(114)\\n4.9May 9, 2020\\nQuite simply the ...</td>\n",
       "    </tr>\n",
       "    <tr>\n",
       "      <th>10</th>\n",
       "      <td>meditatemadness(1)\\n4.5May 6, 2020\\nOnly out o...</td>\n",
       "    </tr>\n",
       "    <tr>\n",
       "      <th>11</th>\n",
       "      <td>shivermetimber.gray(13)\\n3.5April 27, 2020\\nA ...</td>\n",
       "    </tr>\n",
       "    <tr>\n",
       "      <th>12</th>\n",
       "      <td>lotte(2)\\n2.1April 27, 2020\\nHavde forventet e...</td>\n",
       "    </tr>\n",
       "    <tr>\n",
       "      <th>13</th>\n",
       "      <td>MeadScout61(38)\\n🇮🇹Catania, Italy\\n2.0April 26...</td>\n",
       "    </tr>\n",
       "    <tr>\n",
       "      <th>14</th>\n",
       "      <td>bowling(790)\\n🇬🇧Bury ST Edmunds, England\\n3.5A...</td>\n",
       "    </tr>\n",
       "  </tbody>\n",
       "</table>\n",
       "</div>"
      ],
      "text/plain": [
       "                                                 맥주정보\n",
       "0   BarleyTapper58(2)\\n🇧🇪Belgium\\n0.5June 9, 2020\\...\n",
       "1   qczian(6)\\n4.1June 9, 2020\\nWygląd: Czarny kol...\n",
       "2   d.de.bruijn(32)\\n3.6June 4, 2020\\nLekker, drin...\n",
       "3   kaziopiwosz(828)\\n🇵🇱Warszawa / Wałbrzych, Pola...\n",
       "4   Samuel214(3,806)\\n🇸🇪Örebro, Sweden\\n2.0May 30,...\n",
       "5   BineMonger51(1)\\n3.8May 23, 2020\\nGuinness bou...\n",
       "6   FrothyChamp43(3)\\n5.0May 18, 2020\\nAn all-time...\n",
       "7   Almogabar(607)\\n🇪🇸MARIA DE HUERVA (ZARAGOZA), ...\n",
       "8   mile(4,635)\\n🇫🇮Helsinki, Finland\\n3.1May 13, 2...\n",
       "9   neil_d(114)\\n4.9May 9, 2020\\nQuite simply the ...\n",
       "10  meditatemadness(1)\\n4.5May 6, 2020\\nOnly out o...\n",
       "11  shivermetimber.gray(13)\\n3.5April 27, 2020\\nA ...\n",
       "12  lotte(2)\\n2.1April 27, 2020\\nHavde forventet e...\n",
       "13  MeadScout61(38)\\n🇮🇹Catania, Italy\\n2.0April 26...\n",
       "14  bowling(790)\\n🇬🇧Bury ST Edmunds, England\\n3.5A..."
      ]
     },
     "execution_count": 122,
     "metadata": {},
     "output_type": "execute_result"
    }
   ],
   "source": [
    "# 전체 맥주 정보를 통째로 수집\n",
    "tmp = []\n",
    "beer = driver.find_elements_by_css_selector('.px-4.fj-s.f-wrap')\n",
    "\n",
    "# 수집한 것을 데이터프레임에 저장\n",
    "for i in range(len(beer)):\n",
    "    tmp.append(beer[i].text)\n",
    "    \n",
    "tmp = pd.DataFrame(data=tmp, columns=['맥주정보'])\n",
    "tmp"
   ]
  },
  {
   "cell_type": "code",
   "execution_count": 143,
   "metadata": {
    "collapsed": true
   },
   "outputs": [
    {
     "data": {
      "text/html": [
       "<div>\n",
       "<style scoped>\n",
       "    .dataframe tbody tr th:only-of-type {\n",
       "        vertical-align: middle;\n",
       "    }\n",
       "\n",
       "    .dataframe tbody tr th {\n",
       "        vertical-align: top;\n",
       "    }\n",
       "\n",
       "    .dataframe thead th {\n",
       "        text-align: right;\n",
       "    }\n",
       "</style>\n",
       "<table border=\"1\" class=\"dataframe\">\n",
       "  <thead>\n",
       "    <tr style=\"text-align: right;\">\n",
       "      <th></th>\n",
       "      <th>맥주정보</th>\n",
       "    </tr>\n",
       "  </thead>\n",
       "  <tbody>\n",
       "    <tr>\n",
       "      <th>0</th>\n",
       "      <td>vinivini(6,192)\\n🇧🇾Homiel, Belarus\\n2.2April 1...</td>\n",
       "    </tr>\n",
       "    <tr>\n",
       "      <th>1</th>\n",
       "      <td>통통냥이코(6)\\n1.4January 28, 2019\\n맥주 특유의 맛이 적습니다....</td>\n",
       "    </tr>\n",
       "    <tr>\n",
       "      <th>2</th>\n",
       "      <td>CurlyJoe(731)\\n🇦🇺Australia\\n2.0December 27, 20...</td>\n",
       "    </tr>\n",
       "    <tr>\n",
       "      <th>3</th>\n",
       "      <td>brewperman(31)\\n🇺🇸United States\\n1.8November 2...</td>\n",
       "    </tr>\n",
       "    <tr>\n",
       "      <th>4</th>\n",
       "      <td>DraftSensei110(497)\\n1.4November 18, 2018\\nCer...</td>\n",
       "    </tr>\n",
       "    <tr>\n",
       "      <th>5</th>\n",
       "      <td>jjgmd(3,257)\\n🇺🇸Parkland, United States\\n0.5Oc...</td>\n",
       "    </tr>\n",
       "    <tr>\n",
       "      <th>6</th>\n",
       "      <td>Iphonephan(9,544)\\n🇺🇸Jackson Hole/McLean, Unit...</td>\n",
       "    </tr>\n",
       "    <tr>\n",
       "      <th>7</th>\n",
       "      <td>Ralexander89(3)\\n4.0October 4, 2018\\nReally re...</td>\n",
       "    </tr>\n",
       "    <tr>\n",
       "      <th>8</th>\n",
       "      <td>BeerTickers28(1)\\n5.0September 12, 2018\\nblood...</td>\n",
       "    </tr>\n",
       "    <tr>\n",
       "      <th>9</th>\n",
       "      <td>kwik-lime(3,822)\\n🇬🇧London, England\\n2.0August...</td>\n",
       "    </tr>\n",
       "    <tr>\n",
       "      <th>10</th>\n",
       "      <td>Cimbasso(1,752)\\n🇬🇧London, England\\n1.8August ...</td>\n",
       "    </tr>\n",
       "    <tr>\n",
       "      <th>11</th>\n",
       "      <td>one shot(1)\\n2.5July 26, 2018\\n여름 시원하게 쭉 들이키기 ...</td>\n",
       "    </tr>\n",
       "    <tr>\n",
       "      <th>12</th>\n",
       "      <td>brandonjoe(1)\\n4.6July 19, 2018\\nThis is not a...</td>\n",
       "    </tr>\n",
       "    <tr>\n",
       "      <th>13</th>\n",
       "      <td>TBone(23,236)\\n🇫🇮Pori, Finland\\n1.6July 3, 201...</td>\n",
       "    </tr>\n",
       "    <tr>\n",
       "      <th>14</th>\n",
       "      <td>foyle(628)\\n🇺🇸United States\\n3.0June 25, 2018\\...</td>\n",
       "    </tr>\n",
       "  </tbody>\n",
       "</table>\n",
       "</div>"
      ],
      "text/plain": [
       "                                                 맥주정보\n",
       "0   vinivini(6,192)\\n🇧🇾Homiel, Belarus\\n2.2April 1...\n",
       "1   통통냥이코(6)\\n1.4January 28, 2019\\n맥주 특유의 맛이 적습니다....\n",
       "2   CurlyJoe(731)\\n🇦🇺Australia\\n2.0December 27, 20...\n",
       "3   brewperman(31)\\n🇺🇸United States\\n1.8November 2...\n",
       "4   DraftSensei110(497)\\n1.4November 18, 2018\\nCer...\n",
       "5   jjgmd(3,257)\\n🇺🇸Parkland, United States\\n0.5Oc...\n",
       "6   Iphonephan(9,544)\\n🇺🇸Jackson Hole/McLean, Unit...\n",
       "7   Ralexander89(3)\\n4.0October 4, 2018\\nReally re...\n",
       "8   BeerTickers28(1)\\n5.0September 12, 2018\\nblood...\n",
       "9   kwik-lime(3,822)\\n🇬🇧London, England\\n2.0August...\n",
       "10  Cimbasso(1,752)\\n🇬🇧London, England\\n1.8August ...\n",
       "11  one shot(1)\\n2.5July 26, 2018\\n여름 시원하게 쭉 들이키기 ...\n",
       "12  brandonjoe(1)\\n4.6July 19, 2018\\nThis is not a...\n",
       "13  TBone(23,236)\\n🇫🇮Pori, Finland\\n1.6July 3, 201...\n",
       "14  foyle(628)\\n🇺🇸United States\\n3.0June 25, 2018\\..."
      ]
     },
     "execution_count": 143,
     "metadata": {},
     "output_type": "execute_result"
    }
   ],
   "source": [
    "data"
   ]
  },
  {
   "cell_type": "code",
   "execution_count": 144,
   "metadata": {
    "collapsed": true
   },
   "outputs": [
    {
     "data": {
      "text/html": [
       "<div>\n",
       "<style scoped>\n",
       "    .dataframe tbody tr th:only-of-type {\n",
       "        vertical-align: middle;\n",
       "    }\n",
       "\n",
       "    .dataframe tbody tr th {\n",
       "        vertical-align: top;\n",
       "    }\n",
       "\n",
       "    .dataframe thead th {\n",
       "        text-align: right;\n",
       "    }\n",
       "</style>\n",
       "<table border=\"1\" class=\"dataframe\">\n",
       "  <thead>\n",
       "    <tr style=\"text-align: right;\">\n",
       "      <th></th>\n",
       "      <th>맥주정보</th>\n",
       "    </tr>\n",
       "  </thead>\n",
       "  <tbody>\n",
       "    <tr>\n",
       "      <th>0</th>\n",
       "      <td>vinivini(6,192)\\n🇧🇾Homiel, Belarus\\n2.2April 1...</td>\n",
       "    </tr>\n",
       "    <tr>\n",
       "      <th>1</th>\n",
       "      <td>통통냥이코(6)\\n1.4January 28, 2019\\n맥주 특유의 맛이 적습니다....</td>\n",
       "    </tr>\n",
       "    <tr>\n",
       "      <th>2</th>\n",
       "      <td>CurlyJoe(731)\\n🇦🇺Australia\\n2.0December 27, 20...</td>\n",
       "    </tr>\n",
       "    <tr>\n",
       "      <th>3</th>\n",
       "      <td>brewperman(31)\\n🇺🇸United States\\n1.8November 2...</td>\n",
       "    </tr>\n",
       "    <tr>\n",
       "      <th>4</th>\n",
       "      <td>DraftSensei110(497)\\n1.4November 18, 2018\\nCer...</td>\n",
       "    </tr>\n",
       "    <tr>\n",
       "      <th>5</th>\n",
       "      <td>jjgmd(3,257)\\n🇺🇸Parkland, United States\\n0.5Oc...</td>\n",
       "    </tr>\n",
       "    <tr>\n",
       "      <th>6</th>\n",
       "      <td>Iphonephan(9,544)\\n🇺🇸Jackson Hole/McLean, Unit...</td>\n",
       "    </tr>\n",
       "    <tr>\n",
       "      <th>7</th>\n",
       "      <td>Ralexander89(3)\\n4.0October 4, 2018\\nReally re...</td>\n",
       "    </tr>\n",
       "    <tr>\n",
       "      <th>8</th>\n",
       "      <td>BeerTickers28(1)\\n5.0September 12, 2018\\nblood...</td>\n",
       "    </tr>\n",
       "    <tr>\n",
       "      <th>9</th>\n",
       "      <td>kwik-lime(3,822)\\n🇬🇧London, England\\n2.0August...</td>\n",
       "    </tr>\n",
       "    <tr>\n",
       "      <th>10</th>\n",
       "      <td>Cimbasso(1,752)\\n🇬🇧London, England\\n1.8August ...</td>\n",
       "    </tr>\n",
       "    <tr>\n",
       "      <th>11</th>\n",
       "      <td>one shot(1)\\n2.5July 26, 2018\\n여름 시원하게 쭉 들이키기 ...</td>\n",
       "    </tr>\n",
       "    <tr>\n",
       "      <th>12</th>\n",
       "      <td>brandonjoe(1)\\n4.6July 19, 2018\\nThis is not a...</td>\n",
       "    </tr>\n",
       "    <tr>\n",
       "      <th>13</th>\n",
       "      <td>TBone(23,236)\\n🇫🇮Pori, Finland\\n1.6July 3, 201...</td>\n",
       "    </tr>\n",
       "    <tr>\n",
       "      <th>14</th>\n",
       "      <td>foyle(628)\\n🇺🇸United States\\n3.0June 25, 2018\\...</td>\n",
       "    </tr>\n",
       "    <tr>\n",
       "      <th>0</th>\n",
       "      <td>vinivini(6,192)\\n🇧🇾Homiel, Belarus\\n2.2April 1...</td>\n",
       "    </tr>\n",
       "    <tr>\n",
       "      <th>1</th>\n",
       "      <td>통통냥이코(6)\\n1.4January 28, 2019\\n맥주 특유의 맛이 적습니다....</td>\n",
       "    </tr>\n",
       "    <tr>\n",
       "      <th>2</th>\n",
       "      <td>CurlyJoe(731)\\n🇦🇺Australia\\n2.0December 27, 20...</td>\n",
       "    </tr>\n",
       "    <tr>\n",
       "      <th>3</th>\n",
       "      <td>brewperman(31)\\n🇺🇸United States\\n1.8November 2...</td>\n",
       "    </tr>\n",
       "    <tr>\n",
       "      <th>4</th>\n",
       "      <td>DraftSensei110(497)\\n1.4November 18, 2018\\nCer...</td>\n",
       "    </tr>\n",
       "    <tr>\n",
       "      <th>5</th>\n",
       "      <td>jjgmd(3,257)\\n🇺🇸Parkland, United States\\n0.5Oc...</td>\n",
       "    </tr>\n",
       "    <tr>\n",
       "      <th>6</th>\n",
       "      <td>Iphonephan(9,544)\\n🇺🇸Jackson Hole/McLean, Unit...</td>\n",
       "    </tr>\n",
       "    <tr>\n",
       "      <th>7</th>\n",
       "      <td>Ralexander89(3)\\n4.0October 4, 2018\\nReally re...</td>\n",
       "    </tr>\n",
       "    <tr>\n",
       "      <th>8</th>\n",
       "      <td>BeerTickers28(1)\\n5.0September 12, 2018\\nblood...</td>\n",
       "    </tr>\n",
       "    <tr>\n",
       "      <th>9</th>\n",
       "      <td>kwik-lime(3,822)\\n🇬🇧London, England\\n2.0August...</td>\n",
       "    </tr>\n",
       "    <tr>\n",
       "      <th>10</th>\n",
       "      <td>Cimbasso(1,752)\\n🇬🇧London, England\\n1.8August ...</td>\n",
       "    </tr>\n",
       "    <tr>\n",
       "      <th>11</th>\n",
       "      <td>one shot(1)\\n2.5July 26, 2018\\n여름 시원하게 쭉 들이키기 ...</td>\n",
       "    </tr>\n",
       "    <tr>\n",
       "      <th>12</th>\n",
       "      <td>brandonjoe(1)\\n4.6July 19, 2018\\nThis is not a...</td>\n",
       "    </tr>\n",
       "    <tr>\n",
       "      <th>13</th>\n",
       "      <td>TBone(23,236)\\n🇫🇮Pori, Finland\\n1.6July 3, 201...</td>\n",
       "    </tr>\n",
       "    <tr>\n",
       "      <th>14</th>\n",
       "      <td>foyle(628)\\n🇺🇸United States\\n3.0June 25, 2018\\...</td>\n",
       "    </tr>\n",
       "  </tbody>\n",
       "</table>\n",
       "</div>"
      ],
      "text/plain": [
       "                                                 맥주정보\n",
       "0   vinivini(6,192)\\n🇧🇾Homiel, Belarus\\n2.2April 1...\n",
       "1   통통냥이코(6)\\n1.4January 28, 2019\\n맥주 특유의 맛이 적습니다....\n",
       "2   CurlyJoe(731)\\n🇦🇺Australia\\n2.0December 27, 20...\n",
       "3   brewperman(31)\\n🇺🇸United States\\n1.8November 2...\n",
       "4   DraftSensei110(497)\\n1.4November 18, 2018\\nCer...\n",
       "5   jjgmd(3,257)\\n🇺🇸Parkland, United States\\n0.5Oc...\n",
       "6   Iphonephan(9,544)\\n🇺🇸Jackson Hole/McLean, Unit...\n",
       "7   Ralexander89(3)\\n4.0October 4, 2018\\nReally re...\n",
       "8   BeerTickers28(1)\\n5.0September 12, 2018\\nblood...\n",
       "9   kwik-lime(3,822)\\n🇬🇧London, England\\n2.0August...\n",
       "10  Cimbasso(1,752)\\n🇬🇧London, England\\n1.8August ...\n",
       "11  one shot(1)\\n2.5July 26, 2018\\n여름 시원하게 쭉 들이키기 ...\n",
       "12  brandonjoe(1)\\n4.6July 19, 2018\\nThis is not a...\n",
       "13  TBone(23,236)\\n🇫🇮Pori, Finland\\n1.6July 3, 201...\n",
       "14  foyle(628)\\n🇺🇸United States\\n3.0June 25, 2018\\...\n",
       "0   vinivini(6,192)\\n🇧🇾Homiel, Belarus\\n2.2April 1...\n",
       "1   통통냥이코(6)\\n1.4January 28, 2019\\n맥주 특유의 맛이 적습니다....\n",
       "2   CurlyJoe(731)\\n🇦🇺Australia\\n2.0December 27, 20...\n",
       "3   brewperman(31)\\n🇺🇸United States\\n1.8November 2...\n",
       "4   DraftSensei110(497)\\n1.4November 18, 2018\\nCer...\n",
       "5   jjgmd(3,257)\\n🇺🇸Parkland, United States\\n0.5Oc...\n",
       "6   Iphonephan(9,544)\\n🇺🇸Jackson Hole/McLean, Unit...\n",
       "7   Ralexander89(3)\\n4.0October 4, 2018\\nReally re...\n",
       "8   BeerTickers28(1)\\n5.0September 12, 2018\\nblood...\n",
       "9   kwik-lime(3,822)\\n🇬🇧London, England\\n2.0August...\n",
       "10  Cimbasso(1,752)\\n🇬🇧London, England\\n1.8August ...\n",
       "11  one shot(1)\\n2.5July 26, 2018\\n여름 시원하게 쭉 들이키기 ...\n",
       "12  brandonjoe(1)\\n4.6July 19, 2018\\nThis is not a...\n",
       "13  TBone(23,236)\\n🇫🇮Pori, Finland\\n1.6July 3, 201...\n",
       "14  foyle(628)\\n🇺🇸United States\\n3.0June 25, 2018\\..."
      ]
     },
     "execution_count": 144,
     "metadata": {},
     "output_type": "execute_result"
    }
   ],
   "source": [
    "data = pd.concat([data, tmp])\n",
    "data"
   ]
  },
  {
   "cell_type": "code",
   "execution_count": 275,
   "metadata": {},
   "outputs": [],
   "source": [
    "# 데이터 프레임 생성\n",
    "data = pd.DataFrame(data=[], columns=['맥주정보'])"
   ]
  },
  {
   "cell_type": "code",
   "execution_count": 281,
   "metadata": {
    "collapsed": true
   },
   "outputs": [
    {
     "ename": "JavascriptException",
     "evalue": "Message: javascript error: arguments[0].click is not a function\n  (Session info: chrome=87.0.4280.141)\n",
     "output_type": "error",
     "traceback": [
      "\u001b[1;31m---------------------------------------------------------------------------\u001b[0m",
      "\u001b[1;31mJavascriptException\u001b[0m                       Traceback (most recent call last)",
      "\u001b[1;32m<ipython-input-281-12bfaada9f46>\u001b[0m in \u001b[0;36m<module>\u001b[1;34m\u001b[0m\n\u001b[0;32m      2\u001b[0m \u001b[1;31m# div, span, title 태그 후 속성은 class 외에도 사용 가능\u001b[0m\u001b[1;33m\u001b[0m\u001b[1;33m\u001b[0m\u001b[1;33m\u001b[0m\u001b[0m\n\u001b[0;32m      3\u001b[0m \u001b[0melement\u001b[0m \u001b[1;33m=\u001b[0m \u001b[0mdriver\u001b[0m\u001b[1;33m.\u001b[0m\u001b[0mfind_elements_by_link_text\u001b[0m\u001b[1;33m(\u001b[0m\u001b[1;34m'Score breakdown'\u001b[0m\u001b[1;33m)\u001b[0m\u001b[1;33m\u001b[0m\u001b[1;33m\u001b[0m\u001b[0m\n\u001b[1;32m----> 4\u001b[1;33m \u001b[0mdriver\u001b[0m\u001b[1;33m.\u001b[0m\u001b[0mexecute_script\u001b[0m\u001b[1;33m(\u001b[0m\u001b[1;34m\"arguments[0].click();\"\u001b[0m\u001b[1;33m,\u001b[0m \u001b[0melement\u001b[0m\u001b[1;33m)\u001b[0m\u001b[1;33m\u001b[0m\u001b[1;33m\u001b[0m\u001b[0m\n\u001b[0m",
      "\u001b[1;32m~\\anaconda3\\lib\\site-packages\\selenium\\webdriver\\remote\\webdriver.py\u001b[0m in \u001b[0;36mexecute_script\u001b[1;34m(self, script, *args)\u001b[0m\n\u001b[0;32m    632\u001b[0m             \u001b[0mcommand\u001b[0m \u001b[1;33m=\u001b[0m \u001b[0mCommand\u001b[0m\u001b[1;33m.\u001b[0m\u001b[0mEXECUTE_SCRIPT\u001b[0m\u001b[1;33m\u001b[0m\u001b[1;33m\u001b[0m\u001b[0m\n\u001b[0;32m    633\u001b[0m \u001b[1;33m\u001b[0m\u001b[0m\n\u001b[1;32m--> 634\u001b[1;33m         return self.execute(command, {\n\u001b[0m\u001b[0;32m    635\u001b[0m             \u001b[1;34m'script'\u001b[0m\u001b[1;33m:\u001b[0m \u001b[0mscript\u001b[0m\u001b[1;33m,\u001b[0m\u001b[1;33m\u001b[0m\u001b[1;33m\u001b[0m\u001b[0m\n\u001b[0;32m    636\u001b[0m             'args': converted_args})['value']\n",
      "\u001b[1;32m~\\anaconda3\\lib\\site-packages\\selenium\\webdriver\\remote\\webdriver.py\u001b[0m in \u001b[0;36mexecute\u001b[1;34m(self, driver_command, params)\u001b[0m\n\u001b[0;32m    319\u001b[0m         \u001b[0mresponse\u001b[0m \u001b[1;33m=\u001b[0m \u001b[0mself\u001b[0m\u001b[1;33m.\u001b[0m\u001b[0mcommand_executor\u001b[0m\u001b[1;33m.\u001b[0m\u001b[0mexecute\u001b[0m\u001b[1;33m(\u001b[0m\u001b[0mdriver_command\u001b[0m\u001b[1;33m,\u001b[0m \u001b[0mparams\u001b[0m\u001b[1;33m)\u001b[0m\u001b[1;33m\u001b[0m\u001b[1;33m\u001b[0m\u001b[0m\n\u001b[0;32m    320\u001b[0m         \u001b[1;32mif\u001b[0m \u001b[0mresponse\u001b[0m\u001b[1;33m:\u001b[0m\u001b[1;33m\u001b[0m\u001b[1;33m\u001b[0m\u001b[0m\n\u001b[1;32m--> 321\u001b[1;33m             \u001b[0mself\u001b[0m\u001b[1;33m.\u001b[0m\u001b[0merror_handler\u001b[0m\u001b[1;33m.\u001b[0m\u001b[0mcheck_response\u001b[0m\u001b[1;33m(\u001b[0m\u001b[0mresponse\u001b[0m\u001b[1;33m)\u001b[0m\u001b[1;33m\u001b[0m\u001b[1;33m\u001b[0m\u001b[0m\n\u001b[0m\u001b[0;32m    322\u001b[0m             response['value'] = self._unwrap_value(\n\u001b[0;32m    323\u001b[0m                 response.get('value', None))\n",
      "\u001b[1;32m~\\anaconda3\\lib\\site-packages\\selenium\\webdriver\\remote\\errorhandler.py\u001b[0m in \u001b[0;36mcheck_response\u001b[1;34m(self, response)\u001b[0m\n\u001b[0;32m    240\u001b[0m                 \u001b[0malert_text\u001b[0m \u001b[1;33m=\u001b[0m \u001b[0mvalue\u001b[0m\u001b[1;33m[\u001b[0m\u001b[1;34m'alert'\u001b[0m\u001b[1;33m]\u001b[0m\u001b[1;33m.\u001b[0m\u001b[0mget\u001b[0m\u001b[1;33m(\u001b[0m\u001b[1;34m'text'\u001b[0m\u001b[1;33m)\u001b[0m\u001b[1;33m\u001b[0m\u001b[1;33m\u001b[0m\u001b[0m\n\u001b[0;32m    241\u001b[0m             \u001b[1;32mraise\u001b[0m \u001b[0mexception_class\u001b[0m\u001b[1;33m(\u001b[0m\u001b[0mmessage\u001b[0m\u001b[1;33m,\u001b[0m \u001b[0mscreen\u001b[0m\u001b[1;33m,\u001b[0m \u001b[0mstacktrace\u001b[0m\u001b[1;33m,\u001b[0m \u001b[0malert_text\u001b[0m\u001b[1;33m)\u001b[0m\u001b[1;33m\u001b[0m\u001b[1;33m\u001b[0m\u001b[0m\n\u001b[1;32m--> 242\u001b[1;33m         \u001b[1;32mraise\u001b[0m \u001b[0mexception_class\u001b[0m\u001b[1;33m(\u001b[0m\u001b[0mmessage\u001b[0m\u001b[1;33m,\u001b[0m \u001b[0mscreen\u001b[0m\u001b[1;33m,\u001b[0m \u001b[0mstacktrace\u001b[0m\u001b[1;33m)\u001b[0m\u001b[1;33m\u001b[0m\u001b[1;33m\u001b[0m\u001b[0m\n\u001b[0m\u001b[0;32m    243\u001b[0m \u001b[1;33m\u001b[0m\u001b[0m\n\u001b[0;32m    244\u001b[0m     \u001b[1;32mdef\u001b[0m \u001b[0m_value_or_default\u001b[0m\u001b[1;33m(\u001b[0m\u001b[0mself\u001b[0m\u001b[1;33m,\u001b[0m \u001b[0mobj\u001b[0m\u001b[1;33m,\u001b[0m \u001b[0mkey\u001b[0m\u001b[1;33m,\u001b[0m \u001b[0mdefault\u001b[0m\u001b[1;33m)\u001b[0m\u001b[1;33m:\u001b[0m\u001b[1;33m\u001b[0m\u001b[1;33m\u001b[0m\u001b[0m\n",
      "\u001b[1;31mJavascriptException\u001b[0m: Message: javascript error: arguments[0].click is not a function\n  (Session info: chrome=87.0.4280.141)\n"
     ]
    }
   ],
   "source": [
    "time.sleep(2)\n",
    "# div, span, title 태그 후 속성은 class 외에도 사용 가능\n",
    "element = driver.find_elements_by_link_text('Score breakdown')\n",
    "driver.execute_script(\"arguments[0].click();\", element)"
   ]
  },
  {
   "cell_type": "markdown",
   "metadata": {},
   "source": [
    "## 실제 리뷰 데이터 수집"
   ]
  },
  {
   "cell_type": "code",
   "execution_count": 123,
   "metadata": {
    "collapsed": true
   },
   "outputs": [
    {
     "name": "stdout",
     "output_type": "stream",
     "text": [
      "1 번째 페이지입니다.\n",
      "2 번째 페이지입니다.\n",
      "3 번째 페이지입니다.\n",
      "4 번째 페이지입니다.\n",
      "5 번째 페이지입니다.\n",
      "6 번째 페이지입니다.\n",
      "7 번째 페이지입니다.\n",
      "8 번째 페이지입니다.\n",
      "9 번째 페이지입니다.\n",
      "10 번째 페이지입니다.\n",
      "11 번째 페이지입니다.\n",
      "12 번째 페이지입니다.\n",
      "13 번째 페이지입니다.\n",
      "14 번째 페이지입니다.\n",
      "15 번째 페이지입니다.\n",
      "16 번째 페이지입니다.\n",
      "17 번째 페이지입니다.\n",
      "18 번째 페이지입니다.\n",
      "19 번째 페이지입니다.\n",
      "20 번째 페이지입니다.\n",
      "21 번째 페이지입니다.\n",
      "22 번째 페이지입니다.\n",
      "23 번째 페이지입니다.\n",
      "24 번째 페이지입니다.\n",
      "25 번째 페이지입니다.\n",
      "26 번째 페이지입니다.\n",
      "27 번째 페이지입니다.\n",
      "28 번째 페이지입니다.\n",
      "29 번째 페이지입니다.\n",
      "30 번째 페이지입니다.\n",
      "31 번째 페이지입니다.\n",
      "32 번째 페이지입니다.\n",
      "33 번째 페이지입니다.\n",
      "34 번째 페이지입니다.\n",
      "35 번째 페이지입니다.\n",
      "36 번째 페이지입니다.\n",
      "37 번째 페이지입니다.\n",
      "38 번째 페이지입니다.\n",
      "39 번째 페이지입니다.\n",
      "40 번째 페이지입니다.\n",
      "41 번째 페이지입니다.\n",
      "42 번째 페이지입니다.\n",
      "43 번째 페이지입니다.\n",
      "44 번째 페이지입니다.\n",
      "45 번째 페이지입니다.\n",
      "46 번째 페이지입니다.\n",
      "47 번째 페이지입니다.\n",
      "48 번째 페이지입니다.\n",
      "49 번째 페이지입니다.\n",
      "50 번째 페이지입니다.\n",
      "51 번째 페이지입니다.\n",
      "52 번째 페이지입니다.\n",
      "53 번째 페이지입니다.\n",
      "54 번째 페이지입니다.\n",
      "55 번째 페이지입니다.\n",
      "56 번째 페이지입니다.\n",
      "57 번째 페이지입니다.\n",
      "58 번째 페이지입니다.\n",
      "59 번째 페이지입니다.\n",
      "60 번째 페이지입니다.\n",
      "61 번째 페이지입니다.\n",
      "62 번째 페이지입니다.\n",
      "63 번째 페이지입니다.\n",
      "64 번째 페이지입니다.\n",
      "65 번째 페이지입니다.\n",
      "66 번째 페이지입니다.\n",
      "67 번째 페이지입니다.\n",
      "68 번째 페이지입니다.\n",
      "69 번째 페이지입니다.\n",
      "70 번째 페이지입니다.\n",
      "71 번째 페이지입니다.\n",
      "72 번째 페이지입니다.\n",
      "73 번째 페이지입니다.\n",
      "74 번째 페이지입니다.\n",
      "75 번째 페이지입니다.\n",
      "76 번째 페이지입니다.\n",
      "77 번째 페이지입니다.\n",
      "78 번째 페이지입니다.\n",
      "79 번째 페이지입니다.\n",
      "80 번째 페이지입니다.\n",
      "81 번째 페이지입니다.\n",
      "82 번째 페이지입니다.\n",
      "83 번째 페이지입니다.\n",
      "84 번째 페이지입니다.\n",
      "85 번째 페이지입니다.\n",
      "86 번째 페이지입니다.\n",
      "87 번째 페이지입니다.\n",
      "88 번째 페이지입니다.\n",
      "89 번째 페이지입니다.\n",
      "90 번째 페이지입니다.\n",
      "91 번째 페이지입니다.\n",
      "92 번째 페이지입니다.\n",
      "93 번째 페이지입니다.\n",
      "94 번째 페이지입니다.\n",
      "95 번째 페이지입니다.\n",
      "96 번째 페이지입니다.\n",
      "97 번째 페이지입니다.\n",
      "98 번째 페이지입니다.\n",
      "99 번째 페이지입니다.\n",
      "100 번째 페이지입니다.\n",
      "101 번째 페이지입니다.\n",
      "102 번째 페이지입니다.\n",
      "103 번째 페이지입니다.\n",
      "104 번째 페이지입니다.\n",
      "105 번째 페이지입니다.\n",
      "106 번째 페이지입니다.\n",
      "107 번째 페이지입니다.\n",
      "108 번째 페이지입니다.\n",
      "109 번째 페이지입니다.\n",
      "110 번째 페이지입니다.\n",
      "111 번째 페이지입니다.\n",
      "112 번째 페이지입니다.\n",
      "113 번째 페이지입니다.\n",
      "114 번째 페이지입니다.\n",
      "115 번째 페이지입니다.\n",
      "116 번째 페이지입니다.\n",
      "117 번째 페이지입니다.\n",
      "118 번째 페이지입니다.\n",
      "119 번째 페이지입니다.\n",
      "120 번째 페이지입니다.\n",
      "121 번째 페이지입니다.\n",
      "122 번째 페이지입니다.\n",
      "123 번째 페이지입니다.\n",
      "124 번째 페이지입니다.\n",
      "125 번째 페이지입니다.\n",
      "126 번째 페이지입니다.\n",
      "127 번째 페이지입니다.\n",
      "128 번째 페이지입니다.\n",
      "129 번째 페이지입니다.\n",
      "130 번째 페이지입니다.\n",
      "131 번째 페이지입니다.\n",
      "132 번째 페이지입니다.\n",
      "133 번째 페이지입니다.\n",
      "134 번째 페이지입니다.\n",
      "135 번째 페이지입니다.\n",
      "136 번째 페이지입니다.\n",
      "137 번째 페이지입니다.\n",
      "138 번째 페이지입니다.\n",
      "139 번째 페이지입니다.\n",
      "140 번째 페이지입니다.\n",
      "141 번째 페이지입니다.\n",
      "142 번째 페이지입니다.\n",
      "143 번째 페이지입니다.\n",
      "144 번째 페이지입니다.\n",
      "145 번째 페이지입니다.\n",
      "146 번째 페이지입니다.\n",
      "147 번째 페이지입니다.\n",
      "148 번째 페이지입니다.\n",
      "149 번째 페이지입니다.\n",
      "150 번째 페이지입니다.\n",
      "151 번째 페이지입니다.\n",
      "152 번째 페이지입니다.\n",
      "153 번째 페이지입니다.\n",
      "154 번째 페이지입니다.\n",
      "155 번째 페이지입니다.\n",
      "156 번째 페이지입니다.\n",
      "157 번째 페이지입니다.\n",
      "158 번째 페이지입니다.\n",
      "159 번째 페이지입니다.\n",
      "160 번째 페이지입니다.\n",
      "161 번째 페이지입니다.\n",
      "162 번째 페이지입니다.\n",
      "163 번째 페이지입니다.\n",
      "164 번째 페이지입니다.\n",
      "165 번째 페이지입니다.\n",
      "166 번째 페이지입니다.\n",
      "167 번째 페이지입니다.\n",
      "168 번째 페이지입니다.\n",
      "169 번째 페이지입니다.\n",
      "170 번째 페이지입니다.\n",
      "171 번째 페이지입니다.\n",
      "172 번째 페이지입니다.\n",
      "173 번째 페이지입니다.\n",
      "174 번째 페이지입니다.\n",
      "175 번째 페이지입니다.\n",
      "176 번째 페이지입니다.\n",
      "177 번째 페이지입니다.\n",
      "178 번째 페이지입니다.\n",
      "179 번째 페이지입니다.\n",
      "180 번째 페이지입니다.\n",
      "181 번째 페이지입니다.\n",
      "182 번째 페이지입니다.\n",
      "183 번째 페이지입니다.\n",
      "184 번째 페이지입니다.\n",
      "185 번째 페이지입니다.\n",
      "186 번째 페이지입니다.\n",
      "187 번째 페이지입니다.\n",
      "188 번째 페이지입니다.\n",
      "189 번째 페이지입니다.\n",
      "190 번째 페이지입니다.\n",
      "191 번째 페이지입니다.\n",
      "192 번째 페이지입니다.\n",
      "193 번째 페이지입니다.\n",
      "194 번째 페이지입니다.\n",
      "195 번째 페이지입니다.\n",
      "196 번째 페이지입니다.\n",
      "197 번째 페이지입니다.\n",
      "198 번째 페이지입니다.\n",
      "199 번째 페이지입니다.\n",
      "200 번째 페이지입니다.\n",
      "201 번째 페이지입니다.\n",
      "202 번째 페이지입니다.\n",
      "203 번째 페이지입니다.\n",
      "204 번째 페이지입니다.\n",
      "205 번째 페이지입니다.\n",
      "206 번째 페이지입니다.\n",
      "207 번째 페이지입니다.\n",
      "208 번째 페이지입니다.\n",
      "209 번째 페이지입니다.\n",
      "210 번째 페이지입니다.\n",
      "211 번째 페이지입니다.\n",
      "212 번째 페이지입니다.\n",
      "213 번째 페이지입니다.\n",
      "214 번째 페이지입니다.\n",
      "215 번째 페이지입니다.\n",
      "216 번째 페이지입니다.\n",
      "217 번째 페이지입니다.\n",
      "218 번째 페이지입니다.\n",
      "219 번째 페이지입니다.\n",
      "220 번째 페이지입니다.\n",
      "221 번째 페이지입니다.\n",
      "222 번째 페이지입니다.\n",
      "223 번째 페이지입니다.\n",
      "224 번째 페이지입니다.\n",
      "225 번째 페이지입니다.\n",
      "226 번째 페이지입니다.\n",
      "227 번째 페이지입니다.\n",
      "228 번째 페이지입니다.\n",
      "229 번째 페이지입니다.\n",
      "230 번째 페이지입니다.\n",
      "231 번째 페이지입니다.\n",
      "232 번째 페이지입니다.\n",
      "233 번째 페이지입니다.\n",
      "234 번째 페이지입니다.\n",
      "235 번째 페이지입니다.\n",
      "236 번째 페이지입니다.\n",
      "237 번째 페이지입니다.\n",
      "238 번째 페이지입니다.\n",
      "239 번째 페이지입니다.\n",
      "240 번째 페이지입니다.\n",
      "241 번째 페이지입니다.\n",
      "242 번째 페이지입니다.\n",
      "243 번째 페이지입니다.\n",
      "244 번째 페이지입니다.\n",
      "245 번째 페이지입니다.\n",
      "246 번째 페이지입니다.\n",
      "247 번째 페이지입니다.\n",
      "248 번째 페이지입니다.\n",
      "249 번째 페이지입니다.\n",
      "250 번째 페이지입니다.\n",
      "251 번째 페이지입니다.\n",
      "252 번째 페이지입니다.\n",
      "253 번째 페이지입니다.\n",
      "254 번째 페이지입니다.\n",
      "255 번째 페이지입니다.\n",
      "256 번째 페이지입니다.\n",
      "257 번째 페이지입니다.\n",
      "258 번째 페이지입니다.\n",
      "259 번째 페이지입니다.\n",
      "260 번째 페이지입니다.\n",
      "261 번째 페이지입니다.\n",
      "262 번째 페이지입니다.\n",
      "263 번째 페이지입니다.\n",
      "264 번째 페이지입니다.\n",
      "265 번째 페이지입니다.\n",
      "266 번째 페이지입니다.\n",
      "267 번째 페이지입니다.\n",
      "268 번째 페이지입니다.\n",
      "269 번째 페이지입니다.\n",
      "270 번째 페이지입니다.\n",
      "271 번째 페이지입니다.\n",
      "272 번째 페이지입니다.\n",
      "273 번째 페이지입니다.\n",
      "274 번째 페이지입니다.\n",
      "275 번째 페이지입니다.\n",
      "276 번째 페이지입니다.\n",
      "277 번째 페이지입니다.\n",
      "278 번째 페이지입니다.\n",
      "279 번째 페이지입니다.\n",
      "280 번째 페이지입니다.\n",
      "281 번째 페이지입니다.\n",
      "282 번째 페이지입니다.\n",
      "283 번째 페이지입니다.\n",
      "284 번째 페이지입니다.\n",
      "285 번째 페이지입니다.\n",
      "286 번째 페이지입니다.\n",
      "287 번째 페이지입니다.\n",
      "288 번째 페이지입니다.\n",
      "289 번째 페이지입니다.\n",
      "290 번째 페이지입니다.\n",
      "291 번째 페이지입니다.\n",
      "292 번째 페이지입니다.\n",
      "293 번째 페이지입니다.\n",
      "294 번째 페이지입니다.\n",
      "295 번째 페이지입니다.\n",
      "296 번째 페이지입니다.\n",
      "297 번째 페이지입니다.\n",
      "298 번째 페이지입니다.\n",
      "299 번째 페이지입니다.\n",
      "300 번째 페이지입니다.\n",
      "301 번째 페이지입니다.\n",
      "302 번째 페이지입니다.\n",
      "303 번째 페이지입니다.\n",
      "304 번째 페이지입니다.\n",
      "305 번째 페이지입니다.\n",
      "306 번째 페이지입니다.\n",
      "307 번째 페이지입니다.\n",
      "308 번째 페이지입니다.\n",
      "309 번째 페이지입니다.\n",
      "310 번째 페이지입니다.\n",
      "311 번째 페이지입니다.\n",
      "312 번째 페이지입니다.\n",
      "313 번째 페이지입니다.\n",
      "314 번째 페이지입니다.\n",
      "315 번째 페이지입니다.\n",
      "316 번째 페이지입니다.\n",
      "317 번째 페이지입니다.\n",
      "318 번째 페이지입니다.\n",
      "319 번째 페이지입니다.\n",
      "320 번째 페이지입니다.\n",
      "321 번째 페이지입니다.\n",
      "322 번째 페이지입니다.\n",
      "323 번째 페이지입니다.\n",
      "324 번째 페이지입니다.\n",
      "325 번째 페이지입니다.\n",
      "326 번째 페이지입니다.\n",
      "327 번째 페이지입니다.\n",
      "328 번째 페이지입니다.\n",
      "329 번째 페이지입니다.\n",
      "330 번째 페이지입니다.\n",
      "331 번째 페이지입니다.\n",
      "332 번째 페이지입니다.\n",
      "333 번째 페이지입니다.\n",
      "334 번째 페이지입니다.\n",
      "335 번째 페이지입니다.\n",
      "336 번째 페이지입니다.\n",
      "337 번째 페이지입니다.\n",
      "338 번째 페이지입니다.\n",
      "339 번째 페이지입니다.\n",
      "340 번째 페이지입니다.\n",
      "341 번째 페이지입니다.\n",
      "342 번째 페이지입니다.\n",
      "343 번째 페이지입니다.\n",
      "344 번째 페이지입니다.\n",
      "345 번째 페이지입니다.\n",
      "346 번째 페이지입니다.\n",
      "347 번째 페이지입니다.\n",
      "348 번째 페이지입니다.\n",
      "349 번째 페이지입니다.\n",
      "350 번째 페이지입니다.\n",
      "351 번째 페이지입니다.\n",
      "352 번째 페이지입니다.\n",
      "353 번째 페이지입니다.\n",
      "354 번째 페이지입니다.\n",
      "355 번째 페이지입니다.\n",
      "356 번째 페이지입니다.\n",
      "357 번째 페이지입니다.\n",
      "358 번째 페이지입니다.\n",
      "359 번째 페이지입니다.\n",
      "360 번째 페이지입니다.\n",
      "361 번째 페이지입니다.\n",
      "362 번째 페이지입니다.\n",
      "363 번째 페이지입니다.\n",
      "364 번째 페이지입니다.\n",
      "365 번째 페이지입니다.\n",
      "366 번째 페이지입니다.\n",
      "367 번째 페이지입니다.\n",
      "368 번째 페이지입니다.\n",
      "369 번째 페이지입니다.\n",
      "370 번째 페이지입니다.\n",
      "371 번째 페이지입니다.\n",
      "372 번째 페이지입니다.\n",
      "373 번째 페이지입니다.\n",
      "374 번째 페이지입니다.\n",
      "375 번째 페이지입니다.\n",
      "376 번째 페이지입니다.\n",
      "377 번째 페이지입니다.\n",
      "378 번째 페이지입니다.\n",
      "379 번째 페이지입니다.\n",
      "380 번째 페이지입니다.\n",
      "381 번째 페이지입니다.\n",
      "382 번째 페이지입니다.\n"
     ]
    }
   ],
   "source": [
    "page_num = num // 15 + 1\n",
    "\n",
    "# 데이터 프레임 생성\n",
    "data = pd.DataFrame(data=[], columns=['맥주정보'])\n",
    "\n",
    "for i in range(page_num+1):\n",
    "    print(i+1, '번째 페이지입니다.')\n",
    "    \n",
    "    # Score breakdown 클릭\n",
    "    time.sleep(2)\n",
    "#     element = driver.find_element_by_xpath('//*[@id=\"root\"]/div[2]/div[2]/div/div/div/div[2]/div[4]/div/div[2]/div[1]/div[2]')\n",
    "#     element = driver.find_element_by_xpath('//*[@id=\"root\"]/div[2]/div[2]/div/div/div/div[2]/div[4]/div/div[2]/div[1]/div[2]')\n",
    "    element = driver.find_element_by_xpath('//*[@id=\"root\"]/div[2]/div[2]/div/div/div/div[2]/div[4]/div/div[2]/div[1]/div[2]')\n",
    "    time.sleep(2)\n",
    "    driver.execute_script(\"arguments[0].click();\", element)\n",
    "    \n",
    "    # 전체 맥주 정보를 통쨰로 수집\n",
    "    tmp = []\n",
    "    beer = driver.find_elements_by_css_selector('.px-4.fj-s.f-wrap')\n",
    "\n",
    "    # 수집한 것을 데이터프레임에 저장\n",
    "    for i in range(len(beer)):\n",
    "        tmp.append(beer[i].text)\n",
    "\n",
    "    tmp = pd.DataFrame(data=tmp, columns=['맥주정보'])\n",
    "    data = pd.concat([data, tmp])\n",
    "    \n",
    "    # div, span, title 태그 후 속성은 class 외에도 사용 가능\n",
    "    time.sleep(2)\n",
    "    try :        \n",
    "        element = driver.find_element_by_xpath('//button[@title=\"Next page\"]/span[@class=\"MuiIconButton-label\"]')\n",
    "        driver.execute_script(\"arguments[0].click();\", element)\n",
    "    except:\n",
    "        print('마지막 페이지입니다.')"
   ]
  },
  {
   "cell_type": "code",
   "execution_count": 87,
   "metadata": {},
   "outputs": [
    {
     "data": {
      "text/html": [
       "<div>\n",
       "<style scoped>\n",
       "    .dataframe tbody tr th:only-of-type {\n",
       "        vertical-align: middle;\n",
       "    }\n",
       "\n",
       "    .dataframe tbody tr th {\n",
       "        vertical-align: top;\n",
       "    }\n",
       "\n",
       "    .dataframe thead th {\n",
       "        text-align: right;\n",
       "    }\n",
       "</style>\n",
       "<table border=\"1\" class=\"dataframe\">\n",
       "  <thead>\n",
       "    <tr style=\"text-align: right;\">\n",
       "      <th></th>\n",
       "      <th>맥주정보</th>\n",
       "    </tr>\n",
       "  </thead>\n",
       "  <tbody>\n",
       "    <tr>\n",
       "      <th>0</th>\n",
       "      <td>BlackHaddock(11,440)\\n🇬🇧The County Time Forgot...</td>\n",
       "    </tr>\n",
       "    <tr>\n",
       "      <th>1</th>\n",
       "      <td>ccex(1,799)\\n🇺🇸Lansing, United States\\n3.0Nove...</td>\n",
       "    </tr>\n",
       "    <tr>\n",
       "      <th>2</th>\n",
       "      <td>Chudwick(4,289)\\n🇺🇸Taylor Mill, United States\\...</td>\n",
       "    </tr>\n",
       "    <tr>\n",
       "      <th>3</th>\n",
       "      <td>saw2k(13)\\n3.6July 22, 2019\\nGood standard che...</td>\n",
       "    </tr>\n",
       "    <tr>\n",
       "      <th>4</th>\n",
       "      <td>borre_m(2,399)\\n🇳🇴Norway\\n2.1March 17, 2019\\nP...</td>\n",
       "    </tr>\n",
       "    <tr>\n",
       "      <th>...</th>\n",
       "      <td>...</td>\n",
       "    </tr>\n",
       "    <tr>\n",
       "      <th>7</th>\n",
       "      <td>GoufCustom(2,894)\\n🇭🇰Hong Kong\\n2.1June 23, 20...</td>\n",
       "    </tr>\n",
       "    <tr>\n",
       "      <th>8</th>\n",
       "      <td>cmc619(501)\\n🇺🇸United States\\n2.6May 17, 2015\\...</td>\n",
       "    </tr>\n",
       "    <tr>\n",
       "      <th>9</th>\n",
       "      <td>KansaiBeerLvrs(7,279)\\n🇯🇵Kyoto, Japan\\n2.8May ...</td>\n",
       "    </tr>\n",
       "    <tr>\n",
       "      <th>10</th>\n",
       "      <td>Ethanolist(10)\\n1.8December 22, 2014\\nActually...</td>\n",
       "    </tr>\n",
       "    <tr>\n",
       "      <th>11</th>\n",
       "      <td>fredthecat(522)\\n🇨🇦Canada\\n1.8December 8, 2014...</td>\n",
       "    </tr>\n",
       "  </tbody>\n",
       "</table>\n",
       "<p>69 rows × 1 columns</p>\n",
       "</div>"
      ],
      "text/plain": [
       "                                                 맥주정보\n",
       "0   BlackHaddock(11,440)\\n🇬🇧The County Time Forgot...\n",
       "1   ccex(1,799)\\n🇺🇸Lansing, United States\\n3.0Nove...\n",
       "2   Chudwick(4,289)\\n🇺🇸Taylor Mill, United States\\...\n",
       "3   saw2k(13)\\n3.6July 22, 2019\\nGood standard che...\n",
       "4   borre_m(2,399)\\n🇳🇴Norway\\n2.1March 17, 2019\\nP...\n",
       "..                                                ...\n",
       "7   GoufCustom(2,894)\\n🇭🇰Hong Kong\\n2.1June 23, 20...\n",
       "8   cmc619(501)\\n🇺🇸United States\\n2.6May 17, 2015\\...\n",
       "9   KansaiBeerLvrs(7,279)\\n🇯🇵Kyoto, Japan\\n2.8May ...\n",
       "10  Ethanolist(10)\\n1.8December 22, 2014\\nActually...\n",
       "11  fredthecat(522)\\n🇨🇦Canada\\n1.8December 8, 2014...\n",
       "\n",
       "[69 rows x 1 columns]"
      ]
     },
     "execution_count": 87,
     "metadata": {},
     "output_type": "execute_result"
    }
   ],
   "source": [
    "data"
   ]
  },
  {
   "cell_type": "code",
   "execution_count": 88,
   "metadata": {},
   "outputs": [
    {
     "data": {
      "text/plain": [
       "69"
      ]
     },
     "execution_count": 88,
     "metadata": {},
     "output_type": "execute_result"
    }
   ],
   "source": [
    "len(data)"
   ]
  },
  {
   "cell_type": "markdown",
   "metadata": {},
   "source": [
    "## 데이터 저장"
   ]
  },
  {
   "cell_type": "code",
   "execution_count": 124,
   "metadata": {},
   "outputs": [],
   "source": [
    "data.to_excel('guiness_draught.xlsx')"
   ]
  },
  {
   "cell_type": "code",
   "execution_count": null,
   "metadata": {},
   "outputs": [],
   "source": []
  }
 ],
 "metadata": {
  "kernelspec": {
   "display_name": "Python 3",
   "language": "python",
   "name": "python3"
  },
  "language_info": {
   "codemirror_mode": {
    "name": "ipython",
    "version": 3
   },
   "file_extension": ".py",
   "mimetype": "text/x-python",
   "name": "python",
   "nbconvert_exporter": "python",
   "pygments_lexer": "ipython3",
   "version": "3.8.3"
  }
 },
 "nbformat": 4,
 "nbformat_minor": 4
}
