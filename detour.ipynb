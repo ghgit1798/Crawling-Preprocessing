{
 "cells": [
  {
   "cell_type": "code",
   "execution_count": 3,
   "metadata": {
    "collapsed": true
   },
   "outputs": [
    {
     "name": "stdout",
     "output_type": "stream",
     "text": [
      "Collecting cookiejarNote: you may need to restart the kernel to use updated packages.\n",
      "\n",
      "  Downloading cookiejar-0.0.3-py2.py3-none-any.whl (12 kB)\n",
      "Collecting cookiecutter\n",
      "  Downloading cookiecutter-1.7.2-py2.py3-none-any.whl (34 kB)\n",
      "Collecting argparse\n",
      "  Downloading argparse-1.4.0-py2.py3-none-any.whl (23 kB)\n",
      "Collecting pager\n",
      "  Downloading pager-3.3.tar.gz (10 kB)\n",
      "Collecting python-slugify>=4.0.0\n",
      "  Downloading python-slugify-4.0.1.tar.gz (11 kB)\n",
      "Requirement already satisfied: six>=1.10 in c:\\users\\ghyeon\\anaconda3\\lib\\site-packages (from cookiecutter->cookiejar) (1.15.0)\n",
      "Requirement already satisfied: Jinja2<3.0.0 in c:\\users\\ghyeon\\anaconda3\\lib\\site-packages (from cookiecutter->cookiejar) (2.11.2)\n",
      "Requirement already satisfied: MarkupSafe<2.0.0 in c:\\users\\ghyeon\\anaconda3\\lib\\site-packages (from cookiecutter->cookiejar) (1.1.1)\n",
      "Requirement already satisfied: click>=7.0 in c:\\users\\ghyeon\\anaconda3\\lib\\site-packages (from cookiecutter->cookiejar) (7.1.2)\n",
      "Collecting poyo>=0.5.0\n",
      "  Downloading poyo-0.5.0-py2.py3-none-any.whl (10 kB)\n",
      "Collecting jinja2-time>=0.2.0\n",
      "  Downloading jinja2_time-0.2.0-py2.py3-none-any.whl (6.4 kB)\n",
      "Collecting binaryornot>=0.4.4\n",
      "  Downloading binaryornot-0.4.4-py2.py3-none-any.whl (9.0 kB)\n",
      "Requirement already satisfied: requests>=2.23.0 in c:\\users\\ghyeon\\anaconda3\\lib\\site-packages (from cookiecutter->cookiejar) (2.24.0)\n",
      "Collecting text-unidecode>=1.3\n",
      "  Downloading text_unidecode-1.3-py2.py3-none-any.whl (78 kB)\n",
      "Collecting arrow\n",
      "  Downloading arrow-0.17.0-py2.py3-none-any.whl (50 kB)\n",
      "Requirement already satisfied: chardet>=3.0.2 in c:\\users\\ghyeon\\anaconda3\\lib\\site-packages (from binaryornot>=0.4.4->cookiecutter->cookiejar) (3.0.4)\n",
      "Requirement already satisfied: certifi>=2017.4.17 in c:\\users\\ghyeon\\anaconda3\\lib\\site-packages (from requests>=2.23.0->cookiecutter->cookiejar) (2020.6.20)\n",
      "Requirement already satisfied: idna<3,>=2.5 in c:\\users\\ghyeon\\anaconda3\\lib\\site-packages (from requests>=2.23.0->cookiecutter->cookiejar) (2.10)\n",
      "Requirement already satisfied: urllib3!=1.25.0,!=1.25.1,<1.26,>=1.21.1 in c:\\users\\ghyeon\\anaconda3\\lib\\site-packages (from requests>=2.23.0->cookiecutter->cookiejar) (1.25.9)\n",
      "Requirement already satisfied: python-dateutil>=2.7.0 in c:\\users\\ghyeon\\anaconda3\\lib\\site-packages (from arrow->jinja2-time>=0.2.0->cookiecutter->cookiejar) (2.8.1)\n",
      "Building wheels for collected packages: pager, python-slugify\n",
      "  Building wheel for pager (setup.py): started\n",
      "  Building wheel for pager (setup.py): finished with status 'done'\n",
      "  Created wheel for pager: filename=pager-3.3-py3-none-any.whl size=9135 sha256=3cd32baec1d7fd994f33d8626cb893cc2cafd4fe81ed07749753e38f569c67c5\n",
      "  Stored in directory: c:\\users\\ghyeon\\appdata\\local\\pip\\cache\\wheels\\ed\\9b\\f3\\fe22dc076133381f13699aa928dfe838927bb52a1306f63771\n",
      "  Building wheel for python-slugify (setup.py): started\n",
      "  Building wheel for python-slugify (setup.py): finished with status 'done'\n",
      "  Created wheel for python-slugify: filename=python_slugify-4.0.1-py2.py3-none-any.whl size=6774 sha256=a6950a0d2152a06c34c907dd0aa6d3c6d749ffedbed3bbea004a6724e386e219\n",
      "  Stored in directory: c:\\users\\ghyeon\\appdata\\local\\pip\\cache\\wheels\\91\\4d\\4f\\e740a68c215791688c46c4d6251770a570e8dfea91af1acb5c\n",
      "Successfully built pager python-slugify\n",
      "Installing collected packages: text-unidecode, python-slugify, poyo, arrow, jinja2-time, binaryornot, cookiecutter, argparse, pager, cookiejar\n",
      "Successfully installed argparse-1.4.0 arrow-0.17.0 binaryornot-0.4.4 cookiecutter-1.7.2 cookiejar-0.0.3 jinja2-time-0.2.0 pager-3.3 poyo-0.5.0 python-slugify-4.0.1 text-unidecode-1.3\n"
     ]
    }
   ],
   "source": [
    "pip install cookiejar"
   ]
  },
  {
   "cell_type": "code",
   "execution_count": 69,
   "metadata": {},
   "outputs": [],
   "source": [
    "from selenium import webdriver\n",
    "from time import sleep\n",
    "\n",
    "from bs4 import BeautifulSoup\n",
    "from requests_html import HTMLSession\n",
    "\n",
    "import http.cookiejar as cookielib\n",
    "import requests"
   ]
  },
  {
   "cell_type": "code",
   "execution_count": 70,
   "metadata": {},
   "outputs": [],
   "source": [
    "url = 'https://www.beeradvocate.com/'"
   ]
  },
  {
   "cell_type": "code",
   "execution_count": 17,
   "metadata": {},
   "outputs": [
    {
     "name": "stdout",
     "output_type": "stream",
     "text": [
      "Waiting 10 seconds..\n",
      "Got cloudflare cookies:\n",
      "\n",
      "Closing Chrome..\n",
      "9912\n",
      "503\n"
     ]
    }
   ],
   "source": [
    "driver = webdriver.Chrome('chromedriver.exe')\n",
    "driver.get('https://www.beeradvocate.com/')\n",
    "print('Waiting 10 seconds..')\n",
    "sleep(10)\n",
    "a = driver.get_cookies()\n",
    "print('Got cloudflare cookies:\\n')\n",
    "print('Closing Chrome..')\n",
    "driver.close()\n",
    "\n",
    "h = {'User-Agent':'Mozilla/5.0 (Windows NT 10.0; Win64; x64) AppleWebKit/537.36 (KHTML, like Gecko) Chrome/87.0.4280.141 Safari/537.36'}\n",
    "\n",
    "b = cookielib.CookieJar()\n",
    "\n",
    "for i in a:\n",
    "    ck = cookielib.Cookie(name=i['name'],value=i['value'],domain=i['domain'],path=i['path'],\n",
    "                         secure=i['secure'], rest=False, version=0, port=None,\n",
    "                         port_specified=False,domain_specified=False,domain_initial_dot=False,\n",
    "                          path_specified=True,expires=i['expiry'],discard=True,\n",
    "                          comment=None,comment_url=None,rfc2109=False)\n",
    "    b.set_cookie(ck)\n",
    "\n",
    "r = requests.get('https://www.beeradvocate.com/', cookies=b, headers=h)\n",
    "print(len(r.content))\n",
    "print(r.status_code)"
   ]
  },
  {
   "cell_type": "code",
   "execution_count": 20,
   "metadata": {},
   "outputs": [],
   "source": [
    "sleep(3)\n",
    "\n",
    "driver = webdriver.Chrome('chromedriver.exe')\n",
    "driver.get('https://www.beeradvocate.com/')\n",
    "\n",
    "sleep(5.5)\n",
    "\n",
    "s = HTMLSession()\n",
    "cookies = driver.get_cookies()\n",
    "driver.quit()\n",
    "\n",
    "headers = {'User-Agent':'Mozilla/5.0 (Windows NT 10.0; Win64; x64) AppleWebKit/537.36 (KHTML, like Gecko) Chrome/87.0.4280.141 Safari/537.36'}\n",
    "\n",
    "for cookie in cookies:\n",
    "    c = {cookie['name']: cookie['value']}\n",
    "    s.cookies.update(c)\n",
    "html = s.get(url, headers=headers)"
   ]
  },
  {
   "cell_type": "code",
   "execution_count": 32,
   "metadata": {},
   "outputs": [],
   "source": [
    "req = requests.get(url)\n",
    "html = req.text\n",
    "soup = BeautifulSoup(html, 'html.parser')\n",
    "my_titles = soup.select(\n",
    "    'div > a'\n",
    ")"
   ]
  },
  {
   "cell_type": "code",
   "execution_count": 33,
   "metadata": {},
   "outputs": [
    {
     "data": {
      "text/plain": [
       "[<a href=\"https://www.cloudflare.com/5xx-error-landing/\" rel=\"noopener noreferrer\" target=\"_blank\">Cloudflare</a>]"
      ]
     },
     "execution_count": 33,
     "metadata": {},
     "output_type": "execute_result"
    }
   ],
   "source": [
    "my_titles"
   ]
  },
  {
   "cell_type": "code",
   "execution_count": 57,
   "metadata": {},
   "outputs": [
    {
     "name": "stdout",
     "output_type": "stream",
     "text": [
      "[{'domain': '.naver.com', 'expiry': 1642374553, 'httpOnly': False, 'name': 'NRTK', 'path': '/', 'secure': False, 'value': 'ag#all_gr#1_ma#-2_si#0_en#0_sp#0'}, {'domain': 'www.naver.com', 'expiry': 1926198553, 'httpOnly': False, 'name': 'NM_THEME_EDIT', 'path': '/', 'secure': False, 'value': ''}, {'domain': '.naver.com', 'expiry': 2524640399, 'httpOnly': False, 'name': 'NNB', 'path': '/', 'sameSite': 'None', 'secure': True, 'value': 'NT5E6UA2OIBWA'}, {'domain': 'www.naver.com', 'expiry': 1610924952, 'httpOnly': True, 'name': 'PM_CK_loc', 'path': '/', 'secure': False, 'value': '95773b0e6e8d479fc721497d275116215051cd1ac31013fb20e86fe00d06ccce'}]\n"
     ]
    }
   ],
   "source": [
    "driver = webdriver.Chrome('chromedriver.exe')\n",
    "\n",
    "driver.get('http://naver.com')\n",
    "\n",
    "driver.implicitly_wait(5)\n",
    "\n",
    "print(driver.get_cookies())\n",
    "\n",
    "cks = driver.get_cookies()\n",
    "\n",
    "for ck in cks:\n",
    "    driver.add_cookie(ck)"
   ]
  },
  {
   "cell_type": "code",
   "execution_count": 58,
   "metadata": {},
   "outputs": [
    {
     "data": {
      "text/plain": [
       "<selenium.webdriver.chrome.webdriver.WebDriver (session=\"2901f926affa994cd168a8a494590556\")>"
      ]
     },
     "execution_count": 58,
     "metadata": {},
     "output_type": "execute_result"
    }
   ],
   "source": [
    "driver"
   ]
  },
  {
   "cell_type": "code",
   "execution_count": null,
   "metadata": {},
   "outputs": [],
   "source": []
  },
  {
   "cell_type": "code",
   "execution_count": 65,
   "metadata": {},
   "outputs": [],
   "source": [
    "options = webdriver.ChromeOptions()\n",
    "options.add_argument('headless')\n",
    "options.add_argument('window-size=1920x1080')\n",
    "options.add_argument(\"disable-gpu\")\n",
    "\n",
    "# UserAgent값을 바꿔줍시다!\n",
    "options.add_argument(\"user-agent=Mozilla/5.0 (Macintosh; Intel Mac OS X 10_12_6) AppleWebKit/537.36 (KHTML, like Gecko) Chrome/61.0.3163.100 Safari/537.36\")\n",
    "\n",
    "driver = webdriver.Chrome('chromedriver', options=options)\n",
    "\n",
    "driver.get(url)"
   ]
  },
  {
   "cell_type": "code",
   "execution_count": 66,
   "metadata": {},
   "outputs": [
    {
     "data": {
      "text/plain": [
       "'<html lang=\"en-US\"><head>\\n  <meta charset=\"UTF-8\">\\n  <meta http-equiv=\"Content-Type\" content=\"text/html; charset=UTF-8\">\\n  <meta http-equiv=\"X-UA-Compatible\" content=\"IE=Edge,chrome=1\">\\n  <meta name=\"robots\" content=\"noindex, nofollow\">\\n  <meta name=\"viewport\" content=\"width=device-width,initial-scale=1\">\\n  <title>Just a moment...</title>\\n  <style type=\"text/css\">\\n    html, body {width: 100%; height: 100%; margin: 0; padding: 0;}\\n    body {background-color: #ffffff; color: #000000; font-family:-apple-system, system-ui, BlinkMacSystemFont, \"Segoe UI\", Roboto, Oxygen, Ubuntu, \"Helvetica Neue\",Arial, sans-serif; font-size: 16px; line-height: 1.7em;-webkit-font-smoothing: antialiased;}\\n    h1 { text-align: center; font-weight:700; margin: 16px 0; font-size: 32px; color:#000000; line-height: 1.25;}\\n    p {font-size: 20px; font-weight: 400; margin: 8px 0;}\\n    p, .attribution, {text-align: center;}\\n    #spinner {margin: 0 auto 30px auto; display: block;}\\n    .attribution {margin-top: 32px;}\\n    @keyframes fader     { 0% {opacity: 0.2;} 50% {opacity: 1.0;} 100% {opacity: 0.2;} }\\n    @-webkit-keyframes fader { 0% {opacity: 0.2;} 50% {opacity: 1.0;} 100% {opacity: 0.2;} }\\n    #cf-bubbles > .bubbles { animation: fader 1.6s infinite;}\\n    #cf-bubbles > .bubbles:nth-child(2) { animation-delay: .2s;}\\n    #cf-bubbles > .bubbles:nth-child(3) { animation-delay: .4s;}\\n    .bubbles { background-color: #f58220; width:20px; height: 20px; margin:2px; border-radius:100%; display:inline-block; }\\n    a { color: #2c7cb0; text-decoration: none; -moz-transition: color 0.15s ease; -o-transition: color 0.15s ease; -webkit-transition: color 0.15s ease; transition: color 0.15s ease; }\\n    a:hover{color: #f4a15d}\\n    .attribution{font-size: 16px; line-height: 1.5;}\\n    .ray_id{display: block; margin-top: 8px;}\\n    #cf-wrapper #challenge-form { padding-top:25px; padding-bottom:25px; }\\n    #cf-hcaptcha-container { text-align:center;}\\n    #cf-hcaptcha-container iframe { display: inline-block;}\\n  </style>\\n\\n      <meta http-equiv=\"refresh\" content=\"12\">\\n  <script type=\"text/javascript\">\\n    //<![CDATA[\\n    (function(){\\n      \\n      window._cf_chl_opt={\\n        cvId: \"1\",\\n        cType: \"non-interactive\",\\n        cNounce: \"77733\",\\n        cRay: \"612b88ec682e350e\",\\n        cHash: \"aad0ce74cd90699\",\\n        cFPWv: \"b\",\\n        cRq: {\\n          ru: \"aHR0cHM6Ly93d3cuYmVlcmFkdm9jYXRlLmNvbS8=\",\\n          ra: \"TW96aWxsYS81LjAgKE1hY2ludG9zaDsgSW50ZWwgTWFjIE9TIFggMTBfMTJfNikgQXBwbGVXZWJLaXQvNTM3LjM2IChLSFRNTCwgbGlrZSBHZWNrbykgQ2hyb21lLzYxLjAuMzE2My4xMDAgU2FmYXJpLzUzNy4zNg==\",\\n          rm: \"R0VU\",\\n          d: \"VthCWMdexF+mT2AbAQeQxDIupvkwrAvVuuhI/mpUFXcOnEf9MPUBVBMeg2dCcGzZp3qND8Fat7qxoklVm/E6CF0ULXPCbL69KL/EjQQbFbUsCZb++Yw91VXtpfiQMgcF2Y6rxFpGqpEuGvns/PYBobaBb9wBQYVRaqGoOMSfUMLne0/UI7YdubOL2eFLLcGNsr6DnmOGUN1nT/AVQUHvUKt+2hn4zwp7Yd6ZWTQP6YXzyiLXt/EtTPiO4McJFZ1R3NhuDtf0mem4ujjh6R5eih1UWI3S7Cz392X43yYPadQg0cAMPyH0AgF0aawX+s0lyEMYuAEkUoq1lSwk0ny7KmMuWiS2Gdwe8uBXOxJgaRf5xeYWGg2Q3Vu1CC5UKse/VqWy2jb2+CWju008+qdEetBUgCc4FTirs0Mfoma3zDDlqKWcHKMmtWp3mAeFAAnETwZV645fb6LKvvSnRu2BLoByBAsgCr28MkcjUT8Cx0BsRVJnf61/jz+7pxs18UjgECi56xGZpNevYOjVHUJeI55S01gPrsKGTSWNafhRX1BVH3AE0I3nwHjsgYZmaVqy7wVP2HdBbZ1oRqzHJbFa8nd8paaJ8dUQooFXNutmzAgWf18Ns4ZMuU1qCbSVKr1SoHq4uCl1btiE/2I4jexNdo72TuTQLig46N3wvZfmk/ixQzn0E/KAfKmnjg6y5nwTSoLeXkswOzcQDuWHwvgxnVKNBzSnZRo1aLDiMPRRccfceW8G8gcxu746f048CoM68wiG4pihDyb6DuprvMbOMvd2TpMPSyjzz0gthGuOFI0=\",\\n          t: \"MTYxMDgzODg4OC4zODIwMDA=\",\\n          m: \"Ffh0cwNY0K1p4T8RL5JsY1TPAzK3gcSElfEGmIOW38Q=\",\\n          i1: \"XD2Q44mEzSGk++3BVHvwSw==\",\\n          i2: \"xx5xujgnwjLN0StKMLcdlQ==\",\\n          uh: \"BwiSV3SOf3upky75EQJzo/Q+qNDT6heufXtlNyGFx88=\",\\n          hh: \"zYASn4idax+sKdNUwa/ZIjZSEcxjjuQZWzVVFx7SL/Q=\",\\n        }\\n      }\\n      window._cf_chl_enter = function(){window._cf_chl_opt.p=1};\\n      \\n      var a = function() {try{return !!window.addEventListener} catch(e) {return !1} },\\n      b = function(b, c) {a() ? document.addEventListener(\"DOMContentLoaded\", b, c) : document.attachEvent(\"onreadystatechange\", b)};\\n      b(function(){\\n        var cookiesEnabled=(navigator.cookieEnabled)? true : false;\\n        var cookieSupportInfix=cookiesEnabled?\\'/nocookie\\':\\'/cookie\\';\\n        var a = document.getElementById(\\'cf-content\\');a.style.display = \\'block\\';\\n        var isIE = /(MSIE|Trident\\\\/|Edge\\\\/)/i.test(window.navigator.userAgent);\\n        var trkjs = isIE ? new Image() : document.createElement(\\'img\\');\\n        trkjs.setAttribute(\"src\", \"/cdn-cgi/images/trace/jschal/js\"+cookieSupportInfix+\"/transparent.gif?ray=612b88ec682e350e\");\\n        trkjs.id = \"trk_jschal_js\";\\n        trkjs.setAttribute(\"alt\", \"\");\\n        document.body.appendChild(trkjs);\\n        \\n        var cpo = document.createElement(\\'script\\');\\n        cpo.type = \\'text/javascript\\';\\n        cpo.src = \"/cdn-cgi/challenge-platform/h/b/orchestrate/jsch/v1\";\\n        var done = false;\\n        cpo.onload = cpo.onreadystatechange = function() {\\n          if (!done && (!this.readyState || this.readyState === \"loaded\" || this.readyState === \"complete\")) {\\n            done = true;\\n            cpo.onload = cpo.onreadystatechange = null;\\n            window._cf_chl_enter()\\n          }\\n        };\\n        document.getElementsByTagName(\\'head\\')[0].appendChild(cpo);\\n      \\n      }, false);\\n    })();\\n    //]]>\\n  </script>\\n  \\n\\n<script type=\"text/javascript\" src=\"/cdn-cgi/challenge-platform/h/b/orchestrate/jsch/v1\"></script></head>\\n<body>\\n  <table width=\"100%\" height=\"100%\" cellpadding=\"20\">\\n    <tbody><tr>\\n      <td align=\"center\" valign=\"middle\">\\n          <div class=\"cf-browser-verification cf-im-under-attack\">\\n  <noscript>\\n    <h1 data-translate=\"turn_on_js\" style=\"color:#bd2426;\">Please turn JavaScript on and reload the page.</h1>\\n  </noscript>\\n  <div id=\"cf-content\" style=\"display: block;\">\\n    \\n    <div id=\"cf-bubbles\">\\n      <div class=\"bubbles\"></div>\\n      <div class=\"bubbles\"></div>\\n      <div class=\"bubbles\"></div>\\n    </div>\\n    <h1><span data-translate=\"checking_browser\">Checking your browser before accessing</span> beeradvocate.com.</h1>\\n    \\n    <div id=\"no-cookie-warning\" class=\"cookie-warning\" data-translate=\"turn_on_cookies\" style=\"display:none\">\\n      <p data-translate=\"turn_on_cookies\" style=\"color:#bd2426;\">Please enable Cookies and reload the page.</p>\\n    </div>\\n    <p data-translate=\"process_is_automatic\">This process is automatic. Your browser will redirect to your requested content shortly.</p>\\n    <p data-translate=\"allow_5_secs\">Please allow up to 5 seconds…</p>\\n  </div>\\n   \\n  <form class=\"challenge-form\" id=\"challenge-form\" action=\"/?__cf_chl_jschl_tk__=283cd8e925add6e245dedc637570c09840484c8f-1610838888-0-ASO2wfQswDz3-P_o_F0cZHmiVhxp9woR4hLYEGvFR_eslSaAFIV7m53ArDUUY7JZjwfLKFpO58xP3TaFx6uA2fEppUVTnKa9H8FGGaYfHQef_gwNoND35y2ECcwTYjo1pw6hpBHn556DIuu-5LfahMccjHTV0jlVVk4DNV10yaccuKiMj67ju8Z4CSH4XeQBJ563tQXsY4-eqoDZVUH0KlDDT_c1S9ZL9aoCVrQDv6gKNQyarE4nnNzHiylBS7HWDBw-f9TK86dtuK9TOufYQPA9Iu30WzIYkqX6o7nWZRfp2lUHDeq0lE3UjbpKuBMp0mFmpqwuSWwlHXItIK0R01fMROVBLKwmBAQdxhqoTBWmeyn-8XsPaEi_LUHvI3x85g\" method=\"POST\" enctype=\"application/x-www-form-urlencoded\">\\n    <input type=\"hidden\" name=\"r\" value=\"7b24eb91c17b6023ec8f069a3de977ef26371b1c-1610838888-0-AX4BDIq8z+YI7AjpR5FRsqynFM8Lem3+TmhVGplAxogR8V+Nq1UJCHBJyxMbwLG1ADTOdDHbsP9YFXLmGKq9xahG9+njTj1zZtaANSn7b8CpqjRrs2pkWyTTKw0XAgPf4r1jZN9oW3BDsZgjiocZAVYR2/4mrD4T4oWKltbYbeeZkqmN3IERD5gUit00us4tXibt1yh7txaFTDyoMEjefqZSwUo5FV/urdvQAc1PgNQk2o5OesIdGviITzRUBO5QDvwwdLSj+3kTfQCpw8iLCrIVhl4GBUmAjmgfesM5OCacGUpfd7w/rj60ZpTe2CkOg9P3nP41WjSvYL1Da/IdqQPIDTdgqsITA752zdv9XhVynMS3lSQQbYr6ljGcXo0EjwDujXfq7piH0if3xyKVFufdqtx1Nye3j9Xj8I0YnIWW5UopO11O1z2vSQBn+FIMrvXLJIUjPwniTlnUI0g5KnQBttekSPM7i2uSWibXgHphN0kNG1ktWoYPl45xZTzFfMdc6vRkyFo27zcbrU/4RUoD9PubV/D7+PIKWNEDsA8daApSfGJXEjAGmfCBcin38uFMhRGkaCVKrS5iFuoEMcUB1OlcCIjJJvLLWAW7JSuIPsR3pPySvBeV1JsBe89HyxX7mTIZBc3JtGsJT3m0RQey7Eg/xmnQ9cWh4YpUTLln3nN2Q65bSNXtJfkt4htxWbOUAESdlPIZ8KH67DF3J8GB8yuuHIixLqmMsiLPRu38yy2sMoaZxr9jCzM2wjJd7d0ERLL2G+miGfNsNDi1JpASVcBbKnRYGZfO313w5ZgZU6jxpIb+FCu8WnOttCp3zWUd4r1KffbQRnDITFz1rSr/wJVALr7cSUxPJWF3of7OlvAlDVR8PJx4FlPyfmzNGVyulNBmL34uQnzJ0lQQ0G8VYkXvprbI7VhhHzvVTupQC/V5TKzHPzNj7dPDoJdz1X4FVs/ntDtnWsmb0Jv6QCcjgPbU//YaFBsKu/3Cpm6GLLqW3RBwk52m6ssJQFnwEAPt02p2oKwjP9RVC5eetLod8tJXwkMRoMowWoEcXBRifmyC4PwI5/3IReEkzeDY/znkUtZQ4Lvzu9pN1koqC6u/VOhLlRaLrzHEpdtN3zqn4kS8G9haQqI5s1icMhVR6FrDv8CqT5zxeQcr8cWMK0PD0FAUFKp5PbMobOPi2/RB+wPMkwOLuzKv5FUchCO7M5Uq+LEoqNEdxUKWVd8jijxr0ih9LHuKq8Y0E+ugWPk6evsuBHUTTdhy0WlcdDZtkONcm5Ty8CFPPJ6VAd3IzUfr9bMx19IXg4ZoRx33sCv2surV6mSCE+9gtUKFZtPCHTnNbco8nPGN4t9yYTFyjwPkPm9IEyPehGGAsmP+T6FYKFfV7xMBHtPKFdWEwzpC7j5vJdMI4Hqy+Sjz3iuX3nRJA6aFQEYz4Ph3NVPIwsi6MygtLqW2abLF6QQhx3wSRXYgvXFiYEEt/JS6zSc2lnQNQ+vcnwpn7XV8N/oYAILWww74DKJ1Wrx70zLkMXA9l5MuU6JK0Fhd8c+ykOo6jYdSvYgjdHk/bcveytZfHPNCUmBz2SnSw8YF+MJMRKnNqGptfuLDiLR/I1sCUOZBq8B4lwMMmN6kNu7/NmHV4ejXInSddgzu77Dr+ePq2x6GlwYmRJ8OHIrJGEfhLHcAzJjFb5abxsmkYmwC3sibpEk+\">\\n    <input type=\"hidden\" value=\"f273f81d870c7773289cd8448a297359\" id=\"jschl-vc\" name=\"jschl_vc\">\\n    <!-- <input type=\"hidden\" value=\"\" id=\"jschl-vc\" name=\"jschl_vc\"/> -->\\n    <input type=\"hidden\" name=\"pass\" value=\"1610838892.382-vHglWFM1R9\">\\n    <input type=\"hidden\" id=\"jschl-answer\" name=\"jschl_answer\">\\n  </form>\\n  \\n  <div id=\"trk_jschal_nojs\" style=\"background-image:url(\\'/cdn-cgi/images/trace/jschal/nojs/transparent.gif?ray=612b88ec682e350e\\')\"> </div>\\n</div>\\n\\n          \\n          <div class=\"attribution\">\\n            DDoS protection by <a rel=\"noopener noreferrer\" href=\"https://www.cloudflare.com/5xx-error-landing/\" target=\"_blank\">Cloudflare</a>\\n            <br>\\n            <span class=\"ray_id\">Ray ID: <code>612b88ec682e350e</code></span>\\n          </div>\\n      </td>\\n     \\n    </tr>\\n  </tbody></table>\\n\\n\\n<img src=\"/cdn-cgi/images/trace/jschal/js/nocookie/transparent.gif?ray=612b88ec682e350e\" id=\"trk_jschal_js\" alt=\"\"></body></html>'"
      ]
     },
     "execution_count": 66,
     "metadata": {},
     "output_type": "execute_result"
    }
   ],
   "source": [
    "driver.page_source"
   ]
  },
  {
   "cell_type": "code",
   "execution_count": null,
   "metadata": {},
   "outputs": [],
   "source": []
  },
  {
   "cell_type": "code",
   "execution_count": null,
   "metadata": {},
   "outputs": [],
   "source": []
  },
  {
   "cell_type": "code",
   "execution_count": 72,
   "metadata": {},
   "outputs": [
    {
     "ename": "WebDriverException",
     "evalue": "Message: unknown error: cannot determine loading status\nfrom disconnected: received Inspector.detached event\n  (Session info: chrome=87.0.4280.141)\n",
     "output_type": "error",
     "traceback": [
      "\u001b[1;31m---------------------------------------------------------------------------\u001b[0m",
      "\u001b[1;31mWebDriverException\u001b[0m                        Traceback (most recent call last)",
      "\u001b[1;32m<ipython-input-72-e2dfc9320423>\u001b[0m in \u001b[0;36m<module>\u001b[1;34m\u001b[0m\n\u001b[0;32m      9\u001b[0m \u001b[1;33m\u001b[0m\u001b[0m\n\u001b[0;32m     10\u001b[0m \u001b[0mdriver\u001b[0m \u001b[1;33m=\u001b[0m \u001b[0mwebdriver\u001b[0m\u001b[1;33m.\u001b[0m\u001b[0mChrome\u001b[0m\u001b[1;33m(\u001b[0m\u001b[1;34m\"chromedriver.exe\"\u001b[0m\u001b[1;33m)\u001b[0m\u001b[1;33m\u001b[0m\u001b[1;33m\u001b[0m\u001b[0m\n\u001b[1;32m---> 11\u001b[1;33m \u001b[0mdriver\u001b[0m\u001b[1;33m.\u001b[0m\u001b[0mget\u001b[0m\u001b[1;33m(\u001b[0m\u001b[1;34m'http://naver.com'\u001b[0m\u001b[1;33m)\u001b[0m\u001b[1;33m\u001b[0m\u001b[1;33m\u001b[0m\u001b[0m\n\u001b[0m",
      "\u001b[1;32m~\\anaconda3\\lib\\site-packages\\selenium\\webdriver\\remote\\webdriver.py\u001b[0m in \u001b[0;36mget\u001b[1;34m(self, url)\u001b[0m\n\u001b[0;32m    331\u001b[0m         \u001b[0mLoads\u001b[0m \u001b[0ma\u001b[0m \u001b[0mweb\u001b[0m \u001b[0mpage\u001b[0m \u001b[1;32min\u001b[0m \u001b[0mthe\u001b[0m \u001b[0mcurrent\u001b[0m \u001b[0mbrowser\u001b[0m \u001b[0msession\u001b[0m\u001b[1;33m.\u001b[0m\u001b[1;33m\u001b[0m\u001b[1;33m\u001b[0m\u001b[0m\n\u001b[0;32m    332\u001b[0m         \"\"\"\n\u001b[1;32m--> 333\u001b[1;33m         \u001b[0mself\u001b[0m\u001b[1;33m.\u001b[0m\u001b[0mexecute\u001b[0m\u001b[1;33m(\u001b[0m\u001b[0mCommand\u001b[0m\u001b[1;33m.\u001b[0m\u001b[0mGET\u001b[0m\u001b[1;33m,\u001b[0m \u001b[1;33m{\u001b[0m\u001b[1;34m'url'\u001b[0m\u001b[1;33m:\u001b[0m \u001b[0murl\u001b[0m\u001b[1;33m}\u001b[0m\u001b[1;33m)\u001b[0m\u001b[1;33m\u001b[0m\u001b[1;33m\u001b[0m\u001b[0m\n\u001b[0m\u001b[0;32m    334\u001b[0m \u001b[1;33m\u001b[0m\u001b[0m\n\u001b[0;32m    335\u001b[0m     \u001b[1;33m@\u001b[0m\u001b[0mproperty\u001b[0m\u001b[1;33m\u001b[0m\u001b[1;33m\u001b[0m\u001b[0m\n",
      "\u001b[1;32m~\\anaconda3\\lib\\site-packages\\selenium\\webdriver\\remote\\webdriver.py\u001b[0m in \u001b[0;36mexecute\u001b[1;34m(self, driver_command, params)\u001b[0m\n\u001b[0;32m    319\u001b[0m         \u001b[0mresponse\u001b[0m \u001b[1;33m=\u001b[0m \u001b[0mself\u001b[0m\u001b[1;33m.\u001b[0m\u001b[0mcommand_executor\u001b[0m\u001b[1;33m.\u001b[0m\u001b[0mexecute\u001b[0m\u001b[1;33m(\u001b[0m\u001b[0mdriver_command\u001b[0m\u001b[1;33m,\u001b[0m \u001b[0mparams\u001b[0m\u001b[1;33m)\u001b[0m\u001b[1;33m\u001b[0m\u001b[1;33m\u001b[0m\u001b[0m\n\u001b[0;32m    320\u001b[0m         \u001b[1;32mif\u001b[0m \u001b[0mresponse\u001b[0m\u001b[1;33m:\u001b[0m\u001b[1;33m\u001b[0m\u001b[1;33m\u001b[0m\u001b[0m\n\u001b[1;32m--> 321\u001b[1;33m             \u001b[0mself\u001b[0m\u001b[1;33m.\u001b[0m\u001b[0merror_handler\u001b[0m\u001b[1;33m.\u001b[0m\u001b[0mcheck_response\u001b[0m\u001b[1;33m(\u001b[0m\u001b[0mresponse\u001b[0m\u001b[1;33m)\u001b[0m\u001b[1;33m\u001b[0m\u001b[1;33m\u001b[0m\u001b[0m\n\u001b[0m\u001b[0;32m    322\u001b[0m             response['value'] = self._unwrap_value(\n\u001b[0;32m    323\u001b[0m                 response.get('value', None))\n",
      "\u001b[1;32m~\\anaconda3\\lib\\site-packages\\selenium\\webdriver\\remote\\errorhandler.py\u001b[0m in \u001b[0;36mcheck_response\u001b[1;34m(self, response)\u001b[0m\n\u001b[0;32m    240\u001b[0m                 \u001b[0malert_text\u001b[0m \u001b[1;33m=\u001b[0m \u001b[0mvalue\u001b[0m\u001b[1;33m[\u001b[0m\u001b[1;34m'alert'\u001b[0m\u001b[1;33m]\u001b[0m\u001b[1;33m.\u001b[0m\u001b[0mget\u001b[0m\u001b[1;33m(\u001b[0m\u001b[1;34m'text'\u001b[0m\u001b[1;33m)\u001b[0m\u001b[1;33m\u001b[0m\u001b[1;33m\u001b[0m\u001b[0m\n\u001b[0;32m    241\u001b[0m             \u001b[1;32mraise\u001b[0m \u001b[0mexception_class\u001b[0m\u001b[1;33m(\u001b[0m\u001b[0mmessage\u001b[0m\u001b[1;33m,\u001b[0m \u001b[0mscreen\u001b[0m\u001b[1;33m,\u001b[0m \u001b[0mstacktrace\u001b[0m\u001b[1;33m,\u001b[0m \u001b[0malert_text\u001b[0m\u001b[1;33m)\u001b[0m\u001b[1;33m\u001b[0m\u001b[1;33m\u001b[0m\u001b[0m\n\u001b[1;32m--> 242\u001b[1;33m         \u001b[1;32mraise\u001b[0m \u001b[0mexception_class\u001b[0m\u001b[1;33m(\u001b[0m\u001b[0mmessage\u001b[0m\u001b[1;33m,\u001b[0m \u001b[0mscreen\u001b[0m\u001b[1;33m,\u001b[0m \u001b[0mstacktrace\u001b[0m\u001b[1;33m)\u001b[0m\u001b[1;33m\u001b[0m\u001b[1;33m\u001b[0m\u001b[0m\n\u001b[0m\u001b[0;32m    243\u001b[0m \u001b[1;33m\u001b[0m\u001b[0m\n\u001b[0;32m    244\u001b[0m     \u001b[1;32mdef\u001b[0m \u001b[0m_value_or_default\u001b[0m\u001b[1;33m(\u001b[0m\u001b[0mself\u001b[0m\u001b[1;33m,\u001b[0m \u001b[0mobj\u001b[0m\u001b[1;33m,\u001b[0m \u001b[0mkey\u001b[0m\u001b[1;33m,\u001b[0m \u001b[0mdefault\u001b[0m\u001b[1;33m)\u001b[0m\u001b[1;33m:\u001b[0m\u001b[1;33m\u001b[0m\u001b[1;33m\u001b[0m\u001b[0m\n",
      "\u001b[1;31mWebDriverException\u001b[0m: Message: unknown error: cannot determine loading status\nfrom disconnected: received Inspector.detached event\n  (Session info: chrome=87.0.4280.141)\n"
     ]
    }
   ],
   "source": [
    "PROXY = \"68.183.144.198:8080\"\n",
    "\n",
    "webdriver.DesiredCapabilities.CHROME['proxy'] = {\n",
    "    \"httpProxy\": PROXY,\n",
    "    \"ftpProxy\": PROXY,\n",
    "    \"sslProxy\": PROXY,\n",
    "    \"proxyType\": \"MANUAL\"\n",
    "}\n",
    "\n",
    "driver = webdriver.Chrome(\"chromedriver.exe\")\n",
    "driver.get('http://naver.com')"
   ]
  },
  {
   "cell_type": "code",
   "execution_count": null,
   "metadata": {},
   "outputs": [],
   "source": []
  }
 ],
 "metadata": {
  "kernelspec": {
   "display_name": "Python 3",
   "language": "python",
   "name": "python3"
  },
  "language_info": {
   "codemirror_mode": {
    "name": "ipython",
    "version": 3
   },
   "file_extension": ".py",
   "mimetype": "text/x-python",
   "name": "python",
   "nbconvert_exporter": "python",
   "pygments_lexer": "ipython3",
   "version": "3.8.3"
  }
 },
 "nbformat": 4,
 "nbformat_minor": 4
}
