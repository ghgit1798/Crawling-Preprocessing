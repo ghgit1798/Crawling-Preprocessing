{
 "cells": [
  {
   "cell_type": "code",
   "execution_count": 1,
   "metadata": {},
   "outputs": [],
   "source": [
    "import pandas as pd"
   ]
  },
  {
   "cell_type": "code",
   "execution_count": 2,
   "metadata": {},
   "outputs": [],
   "source": [
    "data = pd.read_csv('추가맥주종합데이터.csv', encoding='utf-8', index_col=0)"
   ]
  },
  {
   "cell_type": "code",
   "execution_count": 4,
   "metadata": {},
   "outputs": [],
   "source": [
    "data2 = pd.read_csv('크롤링_원본데이터.csv', encoding='utf-8', index_col=0)"
   ]
  },
  {
   "cell_type": "code",
   "execution_count": 5,
   "metadata": {},
   "outputs": [],
   "source": [
    "data = data[['맥주이름', '맥주정보']]\n",
    "data2 = data2[['맥주이름', '맥주정보']]"
   ]
  },
  {
   "cell_type": "code",
   "execution_count": 7,
   "metadata": {},
   "outputs": [],
   "source": [
    "data = pd.concat([data,data2])"
   ]
  },
  {
   "cell_type": "code",
   "execution_count": 8,
   "metadata": {},
   "outputs": [
    {
     "name": "stdout",
     "output_type": "stream",
     "text": [
      "<class 'pandas.core.frame.DataFrame'>\n",
      "Int64Index: 319129 entries, 0 to 7\n",
      "Data columns (total 2 columns):\n",
      " #   Column  Non-Null Count   Dtype \n",
      "---  ------  --------------   ----- \n",
      " 0   맥주이름    319129 non-null  object\n",
      " 1   맥주정보    319129 non-null  object\n",
      "dtypes: object(2)\n",
      "memory usage: 7.3+ MB\n"
     ]
    }
   ],
   "source": [
    "data.info()"
   ]
  },
  {
   "cell_type": "code",
   "execution_count": 95,
   "metadata": {},
   "outputs": [
    {
     "data": {
      "text/html": [
       "<div>\n",
       "<style scoped>\n",
       "    .dataframe tbody tr th:only-of-type {\n",
       "        vertical-align: middle;\n",
       "    }\n",
       "\n",
       "    .dataframe tbody tr th {\n",
       "        vertical-align: top;\n",
       "    }\n",
       "\n",
       "    .dataframe thead th {\n",
       "        text-align: right;\n",
       "    }\n",
       "</style>\n",
       "<table border=\"1\" class=\"dataframe\">\n",
       "  <thead>\n",
       "    <tr style=\"text-align: right;\">\n",
       "      <th></th>\n",
       "      <th>맥주이름</th>\n",
       "      <th>맥주정보</th>\n",
       "    </tr>\n",
       "  </thead>\n",
       "  <tbody>\n",
       "    <tr>\n",
       "      <th>0</th>\n",
       "      <td>5,0 Original Pils</td>\n",
       "      <td>hopihalido(1,454)\\n🇩🇪Hamburg, Germany\\n1.2Dece...</td>\n",
       "    </tr>\n",
       "    <tr>\n",
       "      <th>1</th>\n",
       "      <td>5,0 Original Pils</td>\n",
       "      <td>AndreiProdan(213)\\n🇲🇩Rautel, Moldova\\n2.4Decem...</td>\n",
       "    </tr>\n",
       "    <tr>\n",
       "      <th>2</th>\n",
       "      <td>5,0 Original Pils</td>\n",
       "      <td>Badylatko(469)\\n🇵🇱Poland\\n2.1September 24, 202...</td>\n",
       "    </tr>\n",
       "    <tr>\n",
       "      <th>3</th>\n",
       "      <td>5,0 Original Pils</td>\n",
       "      <td>qt01(451)\\n🇷🇴Cluj-Napoca, Romania\\n2.1August 1...</td>\n",
       "    </tr>\n",
       "    <tr>\n",
       "      <th>4</th>\n",
       "      <td>5,0 Original Pils</td>\n",
       "      <td>SVD(3,986)\\n🇳🇱Netherlands\\n3.4August 2, 2020\\n...</td>\n",
       "    </tr>\n",
       "  </tbody>\n",
       "</table>\n",
       "</div>"
      ],
      "text/plain": [
       "                맥주이름                                               맥주정보\n",
       "0  5,0 Original Pils  hopihalido(1,454)\\n🇩🇪Hamburg, Germany\\n1.2Dece...\n",
       "1  5,0 Original Pils  AndreiProdan(213)\\n🇲🇩Rautel, Moldova\\n2.4Decem...\n",
       "2  5,0 Original Pils  Badylatko(469)\\n🇵🇱Poland\\n2.1September 24, 202...\n",
       "3  5,0 Original Pils  qt01(451)\\n🇷🇴Cluj-Napoca, Romania\\n2.1August 1...\n",
       "4  5,0 Original Pils  SVD(3,986)\\n🇳🇱Netherlands\\n3.4August 2, 2020\\n..."
      ]
     },
     "execution_count": 95,
     "metadata": {},
     "output_type": "execute_result"
    }
   ],
   "source": [
    "data.head()"
   ]
  },
  {
   "cell_type": "code",
   "execution_count": 10,
   "metadata": {
    "scrolled": true
   },
   "outputs": [
    {
     "data": {
      "text/plain": [
       "'hopihalido(1,454)\\n🇩🇪Hamburg, Germany\\n1.2December 19, 2020\\nAR: hopfig, unangenehm, \\nAP: klares goldgelb\\nTA: malzig, brotig,…\\nShow more\\nCAN\\nAroma\\n2\\nAppearance\\n1\\nFlavor\\n2\\nMouthfeel\\n2\\nOverall\\n5'"
      ]
     },
     "execution_count": 10,
     "metadata": {},
     "output_type": "execute_result"
    }
   ],
   "source": [
    "# 맥주정보 Raw 데이터값\n",
    "data['맥주정보'].iloc[0]"
   ]
  },
  {
   "cell_type": "markdown",
   "metadata": {},
   "source": [
    "## 전처리 1단계 - 문자열 분리하기('\\n')"
   ]
  },
  {
   "cell_type": "code",
   "execution_count": 11,
   "metadata": {},
   "outputs": [],
   "source": [
    "# tmp 변수에 카피\n",
    "tmp = data.copy()"
   ]
  },
  {
   "cell_type": "code",
   "execution_count": 12,
   "metadata": {},
   "outputs": [
    {
     "data": {
      "text/plain": [
       "0    [hopihalido(1,454), 🇩🇪Hamburg, Germany, 1.2Dec...\n",
       "1    [AndreiProdan(213), 🇲🇩Rautel, Moldova, 2.4Dece...\n",
       "2    [Badylatko(469), 🇵🇱Poland, 2.1September 24, 20...\n",
       "3    [qt01(451), 🇷🇴Cluj-Napoca, Romania, 2.1August ...\n",
       "4    [SVD(3,986), 🇳🇱Netherlands, 3.4August 2, 2020,...\n",
       "                           ...                        \n",
       "3    [TedE(2,324), 🇦🇺Glen Innes, Australia, 3.4Augu...\n",
       "4    [KansaiBeerLvrs(7,283), 🇯🇵Kyoto, Japan, 3.1May...\n",
       "5    [cubs(10,772), 🇺🇸Fort Collins, United States, ...\n",
       "6    [arminjewell(9,756), 🇺🇸East Lansing, United St...\n",
       "7    [Fatehunter(3,190), 🇺🇸Corbett, United States, ...\n",
       "Name: 맥주정보, Length: 319129, dtype: object"
      ]
     },
     "execution_count": 12,
     "metadata": {},
     "output_type": "execute_result"
    }
   ],
   "source": [
    "# \\n 개행문자 기준으로 분리\n",
    "tmp['맥주정보'] = tmp['맥주정보'].str.split('\\n')\n",
    "tmp['맥주정보']"
   ]
  },
  {
   "cell_type": "code",
   "execution_count": 13,
   "metadata": {},
   "outputs": [
    {
     "name": "stdout",
     "output_type": "stream",
     "text": [
      "['AgentSteve(1,648)', '🇺🇸SF Bay Area, United States', '3.3April 8, 2008', 'Pours a clear copper color with very thin and very light colored head. Nose is almost nonexistent. Flavor is a bit malty in the front, bitter in the mid, and dry and a slightly…', 'Show more', 'Aroma', '6', 'Appearance', '3', 'Flavor', '6', 'Mouthfeel', '3', 'Overall', '15'] \n",
      "\n",
      "['Haslinger(1,011)', '🇺🇸The World of Beer, United States', '3.1April 6, 2008', 'on tap, nothing spectacular, I was disappointed after the other Fuller’s I have had I had expected more from this. Good aftertaste though. Wouldn’t buy again', 'Aroma', '5', 'Appearance', '4', 'Flavor', '6', 'Mouthfeel', '3', 'Overall', '13'] \n",
      "\n",
      "['Thylacine(526)', '🇦🇺Tasmania, Australia', '3.9April 6, 2008', 'Bottle - Clear copper with thin off white head. Medium carbonation. Very smooth and well balanced. Long bitter finish. An excellent drop!', 'Aroma', '6', 'Appearance', '4', 'Flavor', '8', 'Mouthfeel', '3', 'Overall', '18'] \n",
      "\n"
     ]
    }
   ],
   "source": [
    "# 특이점 확인 : 0,1,2,3번째 리스트 요소까지 잘라야함.\n",
    "for i in range(75252, 75255):\n",
    "    print(tmp['맥주정보'].iloc[i], '\\n')"
   ]
  },
  {
   "cell_type": "code",
   "execution_count": 14,
   "metadata": {},
   "outputs": [
    {
     "data": {
      "text/plain": [
       "['hopihalido(1,454)',\n",
       " '🇩🇪Hamburg, Germany',\n",
       " '1.2December 19, 2020',\n",
       " 'AR: hopfig, unangenehm, ',\n",
       " 'AP: klares goldgelb',\n",
       " 'TA: malzig, brotig,…',\n",
       " 'Show more',\n",
       " 'CAN',\n",
       " 'Aroma',\n",
       " '2',\n",
       " 'Appearance',\n",
       " '1',\n",
       " 'Flavor',\n",
       " '2',\n",
       " 'Mouthfeel',\n",
       " '2',\n",
       " 'Overall',\n",
       " '5']"
      ]
     },
     "execution_count": 14,
     "metadata": {},
     "output_type": "execute_result"
    }
   ],
   "source": [
    "# 분리된 스트링 값 확인 -> List로 변환됨\n",
    "tmp['맥주정보'].iloc[0]"
   ]
  },
  {
   "cell_type": "code",
   "execution_count": 15,
   "metadata": {},
   "outputs": [
    {
     "data": {
      "text/plain": [
       "['vladeath(1,853)',\n",
       " '🇷🇺Russia',\n",
       " '2.5July 4, 2020',\n",
       " 'Mediocre German pils. Golden color foam quickly leaves. Malt, grain, some hops at the finish.',\n",
       " 'CAN',\n",
       " 'Aroma',\n",
       " '5',\n",
       " 'Appearance',\n",
       " '3',\n",
       " 'Flavor',\n",
       " '5',\n",
       " 'Mouthfeel',\n",
       " '2',\n",
       " 'Overall',\n",
       " '10']"
      ]
     },
     "execution_count": 15,
     "metadata": {},
     "output_type": "execute_result"
    }
   ],
   "source": [
    "# 맥주 정보에 좋아요 수가 포함된 리스트도 있음\n",
    "tmp['맥주정보'].iloc[10]"
   ]
  },
  {
   "cell_type": "code",
   "execution_count": 16,
   "metadata": {},
   "outputs": [
    {
     "name": "stdout",
     "output_type": "stream",
     "text": [
      "18 15 16 15 14 16 14 17 15 16 "
     ]
    }
   ],
   "source": [
    "# 맥주 정보 리스트 길이 출력\n",
    "for i in range(10):\n",
    "    print(len(tmp['맥주정보'].iloc[i]), end=' ')"
   ]
  },
  {
   "cell_type": "code",
   "execution_count": 17,
   "metadata": {},
   "outputs": [],
   "source": [
    "# 맥주 정보 리스트 길이 저장\n",
    "tmp['길이'] = tmp['맥주정보'].apply(lambda x : len(x))"
   ]
  },
  {
   "cell_type": "code",
   "execution_count": 18,
   "metadata": {
    "scrolled": true
   },
   "outputs": [
    {
     "data": {
      "text/html": [
       "<div>\n",
       "<style scoped>\n",
       "    .dataframe tbody tr th:only-of-type {\n",
       "        vertical-align: middle;\n",
       "    }\n",
       "\n",
       "    .dataframe tbody tr th {\n",
       "        vertical-align: top;\n",
       "    }\n",
       "\n",
       "    .dataframe thead th {\n",
       "        text-align: right;\n",
       "    }\n",
       "</style>\n",
       "<table border=\"1\" class=\"dataframe\">\n",
       "  <thead>\n",
       "    <tr style=\"text-align: right;\">\n",
       "      <th></th>\n",
       "      <th>맥주이름</th>\n",
       "      <th>맥주정보</th>\n",
       "      <th>길이</th>\n",
       "    </tr>\n",
       "  </thead>\n",
       "  <tbody>\n",
       "    <tr>\n",
       "      <th>0</th>\n",
       "      <td>5,0 Original Pils</td>\n",
       "      <td>[hopihalido(1,454), 🇩🇪Hamburg, Germany, 1.2Dec...</td>\n",
       "      <td>18</td>\n",
       "    </tr>\n",
       "    <tr>\n",
       "      <th>1</th>\n",
       "      <td>5,0 Original Pils</td>\n",
       "      <td>[AndreiProdan(213), 🇲🇩Rautel, Moldova, 2.4Dece...</td>\n",
       "      <td>15</td>\n",
       "    </tr>\n",
       "    <tr>\n",
       "      <th>2</th>\n",
       "      <td>5,0 Original Pils</td>\n",
       "      <td>[Badylatko(469), 🇵🇱Poland, 2.1September 24, 20...</td>\n",
       "      <td>16</td>\n",
       "    </tr>\n",
       "  </tbody>\n",
       "</table>\n",
       "</div>"
      ],
      "text/plain": [
       "                맥주이름                                               맥주정보  길이\n",
       "0  5,0 Original Pils  [hopihalido(1,454), 🇩🇪Hamburg, Germany, 1.2Dec...  18\n",
       "1  5,0 Original Pils  [AndreiProdan(213), 🇲🇩Rautel, Moldova, 2.4Dece...  15\n",
       "2  5,0 Original Pils  [Badylatko(469), 🇵🇱Poland, 2.1September 24, 20...  16"
      ]
     },
     "execution_count": 18,
     "metadata": {},
     "output_type": "execute_result"
    }
   ],
   "source": [
    "tmp.head(3)"
   ]
  },
  {
   "cell_type": "code",
   "execution_count": 19,
   "metadata": {},
   "outputs": [
    {
     "name": "stdout",
     "output_type": "stream",
     "text": [
      "최소값 12\n",
      "최대값 19\n"
     ]
    }
   ],
   "source": [
    "print('최소값', min(tmp['길이']))\n",
    "print('최대값', max(tmp['길이']))"
   ]
  },
  {
   "cell_type": "code",
   "execution_count": 20,
   "metadata": {},
   "outputs": [],
   "source": [
    "long19 = tmp[tmp['길이'] == 19]\n",
    "long18 = tmp[tmp['길이'] == 18]\n",
    "long17 = tmp[tmp['길이'] == 17]\n",
    "long16 = tmp[tmp['길이'] == 16]\n",
    "long15 = tmp[tmp['길이'] == 15]\n",
    "long14 = tmp[tmp['길이'] == 14]\n",
    "long13 = tmp[tmp['길이'] == 13]"
   ]
  },
  {
   "cell_type": "code",
   "execution_count": 21,
   "metadata": {},
   "outputs": [
    {
     "data": {
      "text/plain": [
       "['ophone(1,379)',\n",
       " '🇱🇺Luxembourg',\n",
       " '3.2January 9, 2020',\n",
       " 'Having one at the Tankstelle pub in Cologne.',\n",
       " 'Clear golden with a thin head. ',\n",
       " 'Bitter, hoppy smell. Taste of a very common beer that…',\n",
       " 'Show more',\n",
       " 'TAP',\n",
       " '@ Tankstelle Köln',\n",
       " 'Aroma',\n",
       " '7',\n",
       " 'Appearance',\n",
       " '2',\n",
       " 'Flavor',\n",
       " '6',\n",
       " 'Mouthfeel',\n",
       " '3',\n",
       " 'Overall',\n",
       " '14']"
      ]
     },
     "execution_count": 21,
     "metadata": {},
     "output_type": "execute_result"
    }
   ],
   "source": [
    "# 0,1,2,3번째 그리고 뒤에서 10개 추출하면 됨\n",
    "long19['맥주정보'].iloc[0]"
   ]
  },
  {
   "cell_type": "code",
   "execution_count": 22,
   "metadata": {},
   "outputs": [
    {
     "data": {
      "text/plain": [
       "['hopihalido(1,454)',\n",
       " '🇩🇪Hamburg, Germany',\n",
       " '1.2December 19, 2020',\n",
       " 'AR: hopfig, unangenehm, ',\n",
       " 'AP: klares goldgelb',\n",
       " 'TA: malzig, brotig,…',\n",
       " 'Show more',\n",
       " 'CAN',\n",
       " 'Aroma',\n",
       " '2',\n",
       " 'Appearance',\n",
       " '1',\n",
       " 'Flavor',\n",
       " '2',\n",
       " 'Mouthfeel',\n",
       " '2',\n",
       " 'Overall',\n",
       " '5']"
      ]
     },
     "execution_count": 22,
     "metadata": {},
     "output_type": "execute_result"
    }
   ],
   "source": [
    "# 0, 1, 2, 3 그리고 뒤에서 10개\n",
    "long18['맥주정보'].iloc[0]"
   ]
  },
  {
   "cell_type": "code",
   "execution_count": 23,
   "metadata": {},
   "outputs": [
    {
     "data": {
      "text/plain": [
       "['ophone(1,379)',\n",
       " '🇱🇺Luxembourg',\n",
       " '3.2January 9, 2020',\n",
       " 'Having one at the Tankstelle pub in Cologne.',\n",
       " 'Clear golden with a thin head. ',\n",
       " 'Bitter, hoppy smell. Taste of a very common beer that…',\n",
       " 'Show more',\n",
       " 'TAP',\n",
       " '@ Tankstelle Köln',\n",
       " 'Aroma',\n",
       " '7',\n",
       " 'Appearance',\n",
       " '2',\n",
       " 'Flavor',\n",
       " '6',\n",
       " 'Mouthfeel',\n",
       " '3',\n",
       " 'Overall',\n",
       " '14']"
      ]
     },
     "execution_count": 23,
     "metadata": {},
     "output_type": "execute_result"
    }
   ],
   "source": [
    "s_list = long19['맥주정보'].iloc[0]\n",
    "s_list"
   ]
  },
  {
   "cell_type": "code",
   "execution_count": 24,
   "metadata": {},
   "outputs": [
    {
     "data": {
      "text/plain": [
       "['ophone(1,379)',\n",
       " '🇱🇺Luxembourg',\n",
       " '3.2January 9, 2020',\n",
       " 'Having one at the Tankstelle pub in Cologne.',\n",
       " '14',\n",
       " 'Overall',\n",
       " '3',\n",
       " 'Mouthfeel',\n",
       " '6',\n",
       " 'Flavor',\n",
       " '2',\n",
       " 'Appearance',\n",
       " '7',\n",
       " 'Aroma']"
      ]
     },
     "execution_count": 24,
     "metadata": {},
     "output_type": "execute_result"
    }
   ],
   "source": [
    "# 앞에서부터 0,1,2,3번째 리스트 요소 + 뒤에서부터 10개 요소 합\n",
    "s_list = s_list[:4] + s_list[:-11:-1]\n",
    "s_list"
   ]
  },
  {
   "cell_type": "code",
   "execution_count": null,
   "metadata": {},
   "outputs": [],
   "source": []
  },
  {
   "cell_type": "markdown",
   "metadata": {},
   "source": [
    "## 전처리 2단계 - 좋아요 수 삭제하기"
   ]
  },
  {
   "cell_type": "code",
   "execution_count": 38,
   "metadata": {},
   "outputs": [
    {
     "data": {
      "text/html": [
       "<div>\n",
       "<style scoped>\n",
       "    .dataframe tbody tr th:only-of-type {\n",
       "        vertical-align: middle;\n",
       "    }\n",
       "\n",
       "    .dataframe tbody tr th {\n",
       "        vertical-align: top;\n",
       "    }\n",
       "\n",
       "    .dataframe thead th {\n",
       "        text-align: right;\n",
       "    }\n",
       "</style>\n",
       "<table border=\"1\" class=\"dataframe\">\n",
       "  <thead>\n",
       "    <tr style=\"text-align: right;\">\n",
       "      <th></th>\n",
       "      <th>맥주이름</th>\n",
       "      <th>맥주정보</th>\n",
       "      <th>길이</th>\n",
       "    </tr>\n",
       "  </thead>\n",
       "  <tbody>\n",
       "    <tr>\n",
       "      <th>0</th>\n",
       "      <td>5,0 Original Pils</td>\n",
       "      <td>[hopihalido(1,454), 🇩🇪Hamburg, Germany, 1.2Dec...</td>\n",
       "      <td>18</td>\n",
       "    </tr>\n",
       "    <tr>\n",
       "      <th>1</th>\n",
       "      <td>5,0 Original Pils</td>\n",
       "      <td>[AndreiProdan(213), 🇲🇩Rautel, Moldova, 2.4Dece...</td>\n",
       "      <td>15</td>\n",
       "    </tr>\n",
       "    <tr>\n",
       "      <th>2</th>\n",
       "      <td>5,0 Original Pils</td>\n",
       "      <td>[Badylatko(469), 🇵🇱Poland, 2.1September 24, 20...</td>\n",
       "      <td>16</td>\n",
       "    </tr>\n",
       "  </tbody>\n",
       "</table>\n",
       "</div>"
      ],
      "text/plain": [
       "                맥주이름                                               맥주정보  길이\n",
       "0  5,0 Original Pils  [hopihalido(1,454), 🇩🇪Hamburg, Germany, 1.2Dec...  18\n",
       "1  5,0 Original Pils  [AndreiProdan(213), 🇲🇩Rautel, Moldova, 2.4Dece...  15\n",
       "2  5,0 Original Pils  [Badylatko(469), 🇵🇱Poland, 2.1September 24, 20...  16"
      ]
     },
     "execution_count": 38,
     "metadata": {},
     "output_type": "execute_result"
    }
   ],
   "source": [
    "ttmp = tmp.copy()\n",
    "ttmp.head(3)"
   ]
  },
  {
   "cell_type": "code",
   "execution_count": 39,
   "metadata": {},
   "outputs": [
    {
     "name": "stdout",
     "output_type": "stream",
     "text": [
      "['hopihalido(1,454)', '🇩🇪Hamburg, Germany', '1.2December 19, 2020', 'AR: hopfig, unangenehm, ', 'AP: klares goldgelb', 'TA: malzig, brotig,…', 'Show more', 'CAN', 'Aroma', '2', 'Appearance', '1', 'Flavor', '2', 'Mouthfeel', '2', 'Overall', '5']\n",
      "['AndreiProdan(213)', '🇲🇩Rautel, Moldova', '2.4December 18, 2020', 'Aromă dulce de malţ, cereale. Gust uşor amar de malţ, cu post gust dulce.Nimic deosebit', 'CAN', 'Aroma', '5', 'Appearance', '2', 'Flavor', '5', 'Mouthfeel', '2', 'Overall', '10']\n",
      "['Badylatko(469)', '🇵🇱Poland', '2.1September 24, 2020', 'Z wyglądu ok, jak to pils, bez specjalnych udziwnień, ale też i efektów specjalnych. Aromat to słody, ziemistość, siano, lekko trawa, karmel. Smak spodziewałem się i życzyłbym…', 'Show more', 'CAN', 'Aroma', '4', 'Appearance', '2', 'Flavor', '4', 'Mouthfeel', '3', 'Overall', '8']\n"
     ]
    }
   ],
   "source": [
    "for i in range(0, 3):\n",
    "    print(ttmp['맥주정보'].iloc[i])"
   ]
  },
  {
   "cell_type": "code",
   "execution_count": 40,
   "metadata": {},
   "outputs": [
    {
     "data": {
      "text/plain": [
       "['vladeath(1,853)',\n",
       " '🇷🇺Russia',\n",
       " '2.5July 4, 2020',\n",
       " 'Mediocre German pils. Golden color foam quickly leaves. Malt, grain, some hops at the finish.',\n",
       " 'CAN',\n",
       " 'Aroma',\n",
       " '5',\n",
       " 'Appearance',\n",
       " '3',\n",
       " 'Flavor',\n",
       " '5',\n",
       " 'Mouthfeel',\n",
       " '2',\n",
       " 'Overall',\n",
       " '10']"
      ]
     },
     "execution_count": 40,
     "metadata": {},
     "output_type": "execute_result"
    }
   ],
   "source": [
    "# 맥주정보 리스트 출력 : 좋아요 수가 기록된 유저 정보\n",
    "ttmp['맥주정보'].iloc[10]"
   ]
  },
  {
   "cell_type": "code",
   "execution_count": 41,
   "metadata": {},
   "outputs": [
    {
     "data": {
      "text/plain": [
       "['vladeath(1,853)',\n",
       " '🇷🇺Russia',\n",
       " '2.5July 4, 2020',\n",
       " 'Mediocre German pils. Golden color foam quickly leaves. Malt, grain, some hops at the finish.',\n",
       " 'CAN',\n",
       " 'Aroma',\n",
       " '5',\n",
       " 'Appearance',\n",
       " '3',\n",
       " 'Flavor',\n",
       " '5',\n",
       " 'Mouthfeel',\n",
       " '2',\n",
       " 'Overall']"
      ]
     },
     "execution_count": 41,
     "metadata": {},
     "output_type": "execute_result"
    }
   ],
   "source": [
    "# 맨 뒤의 좋아요 수 제거 방법\n",
    "tlist = ttmp['맥주정보'].iloc[10][:-1]\n",
    "tlist"
   ]
  },
  {
   "cell_type": "code",
   "execution_count": 42,
   "metadata": {},
   "outputs": [],
   "source": [
    "# 전체 데이터프레임에서 좋아요가 1개인 것 찾아서 맨 뒤에 것 삭제\n",
    "ttmp['맥주정보'] = ttmp['맥주정보'].apply(lambda x : x if x[-2]=='Overall' else x[:-1] )"
   ]
  },
  {
   "cell_type": "code",
   "execution_count": 43,
   "metadata": {},
   "outputs": [],
   "source": [
    "# 맥주정보에서 0,1,2,3번째 리스트 요소와 뒤에서부터 10개의 리스트요소(평점값들)추출\n",
    "ttmp['맥주정보'] = ttmp['맥주정보'].apply(lambda x : x[:4]+x[:-11:-1])"
   ]
  },
  {
   "cell_type": "code",
   "execution_count": 44,
   "metadata": {},
   "outputs": [
    {
     "data": {
      "text/plain": [
       "['vladeath(1,853)',\n",
       " '🇷🇺Russia',\n",
       " '2.5July 4, 2020',\n",
       " 'Mediocre German pils. Golden color foam quickly leaves. Malt, grain, some hops at the finish.',\n",
       " '10',\n",
       " 'Overall',\n",
       " '2',\n",
       " 'Mouthfeel',\n",
       " '5',\n",
       " 'Flavor',\n",
       " '3',\n",
       " 'Appearance',\n",
       " '5',\n",
       " 'Aroma']"
      ]
     },
     "execution_count": 44,
     "metadata": {},
     "output_type": "execute_result"
    }
   ],
   "source": [
    "# 좋아요 수가 정상적으로 삭제됨\n",
    "ttmp['맥주정보'].iloc[10]"
   ]
  },
  {
   "cell_type": "code",
   "execution_count": 45,
   "metadata": {},
   "outputs": [
    {
     "name": "stdout",
     "output_type": "stream",
     "text": [
      "['HighSparkDiesel(597)', '🇹🇼Taipei City, Taiwan', '1.3May 3, 2020', \"A 500 ml. can from A-Mart in Jingmei, labelled '5,0 Original Craft'. Aroma: slightly sour yeast. Appearance: honey amber, one finger off-white head. Palate: light-bodied and frankly…\", '2', 'Overall', '1', 'Mouthfeel', '2', 'Flavor', '3', 'Appearance', '5', 'Aroma'] \n",
      "\n",
      "['bilcho1(1,406)', '🇧🇬Ruse, Bulgaria', '2.6January 12, 2020', \"500ml can, as 5,0 Original Craft Beer from Carrefour, Baneasa, drunk at home on a mild January evening. Clear pale gold, head and lacing that didn't last but masses of…\", '11', 'Overall', '5', 'Mouthfeel', '5', 'Flavor', '3', 'Appearance', '2', 'Aroma'] \n",
      "\n",
      "['vladeath(1,853)', '🇷🇺Russia', '2.5July 4, 2020', 'Mediocre German pils. Golden color foam quickly leaves. Malt, grain, some hops at the finish.', '10', 'Overall', '2', 'Mouthfeel', '5', 'Flavor', '3', 'Appearance', '5', 'Aroma'] \n",
      "\n"
     ]
    }
   ],
   "source": [
    "# 맥주 정보값 출력\n",
    "for i in range(8,11):\n",
    "    print(ttmp['맥주정보'].iloc[i], '\\n')"
   ]
  },
  {
   "cell_type": "code",
   "execution_count": null,
   "metadata": {},
   "outputs": [],
   "source": []
  },
  {
   "cell_type": "markdown",
   "metadata": {},
   "source": [
    "## 전처리 3단계 - 실제 컬럼으로 데이터 추출"
   ]
  },
  {
   "cell_type": "code",
   "execution_count": 48,
   "metadata": {},
   "outputs": [
    {
     "data": {
      "text/plain": [
       "['hopihalido(1,454)',\n",
       " '🇩🇪Hamburg, Germany',\n",
       " '1.2December 19, 2020',\n",
       " 'AR: hopfig, unangenehm, ',\n",
       " '5',\n",
       " 'Overall',\n",
       " '2',\n",
       " 'Mouthfeel',\n",
       " '2',\n",
       " 'Flavor',\n",
       " '1',\n",
       " 'Appearance',\n",
       " '2',\n",
       " 'Aroma']"
      ]
     },
     "execution_count": 48,
     "metadata": {},
     "output_type": "execute_result"
    }
   ],
   "source": [
    "ttmp['맥주정보'].iloc[0]"
   ]
  },
  {
   "cell_type": "code",
   "execution_count": 51,
   "metadata": {},
   "outputs": [
    {
     "data": {
      "text/html": [
       "<div>\n",
       "<style scoped>\n",
       "    .dataframe tbody tr th:only-of-type {\n",
       "        vertical-align: middle;\n",
       "    }\n",
       "\n",
       "    .dataframe tbody tr th {\n",
       "        vertical-align: top;\n",
       "    }\n",
       "\n",
       "    .dataframe thead th {\n",
       "        text-align: right;\n",
       "    }\n",
       "</style>\n",
       "<table border=\"1\" class=\"dataframe\">\n",
       "  <thead>\n",
       "    <tr style=\"text-align: right;\">\n",
       "      <th></th>\n",
       "      <th>맥주이름</th>\n",
       "      <th>맥주정보</th>\n",
       "      <th>길이</th>\n",
       "      <th>ID</th>\n",
       "      <th>Aroma</th>\n",
       "      <th>Appearance</th>\n",
       "      <th>Flavor</th>\n",
       "      <th>Mouthfeel</th>\n",
       "      <th>Overall</th>\n",
       "    </tr>\n",
       "  </thead>\n",
       "  <tbody>\n",
       "    <tr>\n",
       "      <th>0</th>\n",
       "      <td>5,0 Original Pils</td>\n",
       "      <td>[🇩🇪Hamburg, Germany, 1.2December 19, 2020, AR:...</td>\n",
       "      <td>3</td>\n",
       "      <td>hopihalido(1,454)</td>\n",
       "      <td>2</td>\n",
       "      <td>1</td>\n",
       "      <td>2</td>\n",
       "      <td>2</td>\n",
       "      <td>5</td>\n",
       "    </tr>\n",
       "    <tr>\n",
       "      <th>1</th>\n",
       "      <td>5,0 Original Pils</td>\n",
       "      <td>[🇲🇩Rautel, Moldova, 2.4December 18, 2020, Arom...</td>\n",
       "      <td>3</td>\n",
       "      <td>AndreiProdan(213)</td>\n",
       "      <td>5</td>\n",
       "      <td>2</td>\n",
       "      <td>5</td>\n",
       "      <td>2</td>\n",
       "      <td>10</td>\n",
       "    </tr>\n",
       "    <tr>\n",
       "      <th>2</th>\n",
       "      <td>5,0 Original Pils</td>\n",
       "      <td>[🇵🇱Poland, 2.1September 24, 2020, Z wyglądu ok...</td>\n",
       "      <td>3</td>\n",
       "      <td>Badylatko(469)</td>\n",
       "      <td>4</td>\n",
       "      <td>2</td>\n",
       "      <td>4</td>\n",
       "      <td>3</td>\n",
       "      <td>8</td>\n",
       "    </tr>\n",
       "    <tr>\n",
       "      <th>3</th>\n",
       "      <td>5,0 Original Pils</td>\n",
       "      <td>[🇷🇴Cluj-Napoca, Romania, 2.1August 11, 2020, I...</td>\n",
       "      <td>3</td>\n",
       "      <td>qt01(451)</td>\n",
       "      <td>-</td>\n",
       "      <td>-</td>\n",
       "      <td>-</td>\n",
       "      <td>-</td>\n",
       "      <td>-</td>\n",
       "    </tr>\n",
       "    <tr>\n",
       "      <th>4</th>\n",
       "      <td>5,0 Original Pils</td>\n",
       "      <td>[🇳🇱Netherlands, 3.4August 2, 2020, Can at my h...</td>\n",
       "      <td>3</td>\n",
       "      <td>SVD(3,986)</td>\n",
       "      <td>6</td>\n",
       "      <td>3</td>\n",
       "      <td>6</td>\n",
       "      <td>3</td>\n",
       "      <td>16</td>\n",
       "    </tr>\n",
       "    <tr>\n",
       "      <th>...</th>\n",
       "      <td>...</td>\n",
       "      <td>...</td>\n",
       "      <td>...</td>\n",
       "      <td>...</td>\n",
       "      <td>...</td>\n",
       "      <td>...</td>\n",
       "      <td>...</td>\n",
       "      <td>...</td>\n",
       "      <td>...</td>\n",
       "    </tr>\n",
       "    <tr>\n",
       "      <th>3</th>\n",
       "      <td>Queen's Ale Blonde Type</td>\n",
       "      <td>[🇦🇺Glen Innes, Australia, 3.4August 14, 2015, ...</td>\n",
       "      <td>3</td>\n",
       "      <td>TedE(2,324)</td>\n",
       "      <td>6</td>\n",
       "      <td>2</td>\n",
       "      <td>7</td>\n",
       "      <td>4</td>\n",
       "      <td>15</td>\n",
       "    </tr>\n",
       "    <tr>\n",
       "      <th>4</th>\n",
       "      <td>Queen's Ale Blonde Type</td>\n",
       "      <td>[🇯🇵Kyoto, Japan, 3.1May 19, 2015, Queen’s Ale ...</td>\n",
       "      <td>3</td>\n",
       "      <td>KansaiBeerLvrs(7,283)</td>\n",
       "      <td>7</td>\n",
       "      <td>4</td>\n",
       "      <td>6</td>\n",
       "      <td>4</td>\n",
       "      <td>10</td>\n",
       "    </tr>\n",
       "    <tr>\n",
       "      <th>5</th>\n",
       "      <td>Queen's Ale Blonde Type</td>\n",
       "      <td>[🇺🇸Fort Collins, United States, 3.0May 3, 2014...</td>\n",
       "      <td>3</td>\n",
       "      <td>cubs(10,772)</td>\n",
       "      <td>6</td>\n",
       "      <td>4</td>\n",
       "      <td>6</td>\n",
       "      <td>4</td>\n",
       "      <td>10</td>\n",
       "    </tr>\n",
       "    <tr>\n",
       "      <th>6</th>\n",
       "      <td>Queen's Ale Blonde Type</td>\n",
       "      <td>[🇺🇸East Lansing, United States, 2.9May 3, 2014...</td>\n",
       "      <td>3</td>\n",
       "      <td>arminjewell(9,756)</td>\n",
       "      <td>5</td>\n",
       "      <td>4</td>\n",
       "      <td>6</td>\n",
       "      <td>3</td>\n",
       "      <td>11</td>\n",
       "    </tr>\n",
       "    <tr>\n",
       "      <th>7</th>\n",
       "      <td>Queen's Ale Blonde Type</td>\n",
       "      <td>[🇺🇸Corbett, United States, 3.1February 19, 201...</td>\n",
       "      <td>3</td>\n",
       "      <td>Fatehunter(3,190)</td>\n",
       "      <td>7</td>\n",
       "      <td>4</td>\n",
       "      <td>4</td>\n",
       "      <td>3</td>\n",
       "      <td>13</td>\n",
       "    </tr>\n",
       "  </tbody>\n",
       "</table>\n",
       "<p>319129 rows × 9 columns</p>\n",
       "</div>"
      ],
      "text/plain": [
       "                       맥주이름  \\\n",
       "0         5,0 Original Pils   \n",
       "1         5,0 Original Pils   \n",
       "2         5,0 Original Pils   \n",
       "3         5,0 Original Pils   \n",
       "4         5,0 Original Pils   \n",
       "..                      ...   \n",
       "3   Queen's Ale Blonde Type   \n",
       "4   Queen's Ale Blonde Type   \n",
       "5   Queen's Ale Blonde Type   \n",
       "6   Queen's Ale Blonde Type   \n",
       "7   Queen's Ale Blonde Type   \n",
       "\n",
       "                                                 맥주정보  길이  \\\n",
       "0   [🇩🇪Hamburg, Germany, 1.2December 19, 2020, AR:...   3   \n",
       "1   [🇲🇩Rautel, Moldova, 2.4December 18, 2020, Arom...   3   \n",
       "2   [🇵🇱Poland, 2.1September 24, 2020, Z wyglądu ok...   3   \n",
       "3   [🇷🇴Cluj-Napoca, Romania, 2.1August 11, 2020, I...   3   \n",
       "4   [🇳🇱Netherlands, 3.4August 2, 2020, Can at my h...   3   \n",
       "..                                                ...  ..   \n",
       "3   [🇦🇺Glen Innes, Australia, 3.4August 14, 2015, ...   3   \n",
       "4   [🇯🇵Kyoto, Japan, 3.1May 19, 2015, Queen’s Ale ...   3   \n",
       "5   [🇺🇸Fort Collins, United States, 3.0May 3, 2014...   3   \n",
       "6   [🇺🇸East Lansing, United States, 2.9May 3, 2014...   3   \n",
       "7   [🇺🇸Corbett, United States, 3.1February 19, 201...   3   \n",
       "\n",
       "                       ID Aroma Appearance Flavor Mouthfeel Overall  \n",
       "0       hopihalido(1,454)     2          1      2         2       5  \n",
       "1       AndreiProdan(213)     5          2      5         2      10  \n",
       "2          Badylatko(469)     4          2      4         3       8  \n",
       "3               qt01(451)     -          -      -         -       -  \n",
       "4              SVD(3,986)     6          3      6         3      16  \n",
       "..                    ...   ...        ...    ...       ...     ...  \n",
       "3             TedE(2,324)     6          2      7         4      15  \n",
       "4   KansaiBeerLvrs(7,283)     7          4      6         4      10  \n",
       "5            cubs(10,772)     6          4      6         4      10  \n",
       "6      arminjewell(9,756)     5          4      6         3      11  \n",
       "7       Fatehunter(3,190)     7          4      4         3      13  \n",
       "\n",
       "[319129 rows x 9 columns]"
      ]
     },
     "execution_count": 51,
     "metadata": {},
     "output_type": "execute_result"
    }
   ],
   "source": [
    "ttmp"
   ]
  },
  {
   "cell_type": "code",
   "execution_count": 50,
   "metadata": {},
   "outputs": [],
   "source": [
    "# 추가맥주리스트는 이걸로!\n",
    "ttmp['ID'] = ttmp['맥주정보'].apply(lambda x: x[0])\n",
    "ttmp['Aroma'] = ttmp['맥주정보'].apply(lambda x: x[-2])\n",
    "ttmp['Appearance'] = ttmp['맥주정보'].apply(lambda x: x[-4])\n",
    "ttmp['Flavor'] = ttmp['맥주정보'].apply(lambda x: x[-6])\n",
    "ttmp['Mouthfeel'] = ttmp['맥주정보'].apply(lambda x: x[-8])\n",
    "ttmp['Overall'] = ttmp['맥주정보'].apply(lambda x: x[-10])\n",
    "\n",
    "# 리스트의 1,2,3번째 요소만(평점날짜 or 이상한 값) 뽑아오기\n",
    "ttmp['맥주정보'] = ttmp['맥주정보'].apply(lambda x:x[1:4])\n",
    "ttmp['길이'] = ttmp['맥주정보'].apply(lambda x:len(x))"
   ]
  },
  {
   "cell_type": "code",
   "execution_count": 35,
   "metadata": {
    "collapsed": true
   },
   "outputs": [
    {
     "ename": "IndexError",
     "evalue": "list index out of range",
     "output_type": "error",
     "traceback": [
      "\u001b[1;31m---------------------------------------------------------------------------\u001b[0m",
      "\u001b[1;31mIndexError\u001b[0m                                Traceback (most recent call last)",
      "\u001b[1;32m<ipython-input-35-eca60caf1d99>\u001b[0m in \u001b[0;36m<module>\u001b[1;34m\u001b[0m\n\u001b[0;32m      3\u001b[0m \u001b[0mttmp\u001b[0m\u001b[1;33m[\u001b[0m\u001b[1;34m'ID'\u001b[0m\u001b[1;33m]\u001b[0m \u001b[1;33m=\u001b[0m \u001b[0mttmp\u001b[0m\u001b[1;33m[\u001b[0m\u001b[1;34m'맥주정보'\u001b[0m\u001b[1;33m]\u001b[0m\u001b[1;33m.\u001b[0m\u001b[0mapply\u001b[0m\u001b[1;33m(\u001b[0m\u001b[1;32mlambda\u001b[0m \u001b[0mx\u001b[0m\u001b[1;33m:\u001b[0m \u001b[0mx\u001b[0m\u001b[1;33m[\u001b[0m\u001b[1;36m0\u001b[0m\u001b[1;33m]\u001b[0m\u001b[1;33m)\u001b[0m\u001b[1;33m\u001b[0m\u001b[1;33m\u001b[0m\u001b[0m\n\u001b[0;32m      4\u001b[0m \u001b[0mttmp\u001b[0m\u001b[1;33m[\u001b[0m\u001b[1;34m'Aroma'\u001b[0m\u001b[1;33m]\u001b[0m \u001b[1;33m=\u001b[0m \u001b[0mttmp\u001b[0m\u001b[1;33m[\u001b[0m\u001b[1;34m'맥주정보'\u001b[0m\u001b[1;33m]\u001b[0m\u001b[1;33m.\u001b[0m\u001b[0mapply\u001b[0m\u001b[1;33m(\u001b[0m\u001b[1;32mlambda\u001b[0m \u001b[0mx\u001b[0m\u001b[1;33m:\u001b[0m \u001b[0mx\u001b[0m\u001b[1;33m[\u001b[0m\u001b[1;33m-\u001b[0m\u001b[1;36m2\u001b[0m\u001b[1;33m]\u001b[0m\u001b[1;33m)\u001b[0m\u001b[1;33m\u001b[0m\u001b[1;33m\u001b[0m\u001b[0m\n\u001b[1;32m----> 5\u001b[1;33m \u001b[0mttmp\u001b[0m\u001b[1;33m[\u001b[0m\u001b[1;34m'Appearance'\u001b[0m\u001b[1;33m]\u001b[0m \u001b[1;33m=\u001b[0m \u001b[0mttmp\u001b[0m\u001b[1;33m[\u001b[0m\u001b[1;34m'맥주정보'\u001b[0m\u001b[1;33m]\u001b[0m\u001b[1;33m.\u001b[0m\u001b[0mapply\u001b[0m\u001b[1;33m(\u001b[0m\u001b[1;32mlambda\u001b[0m \u001b[0mx\u001b[0m\u001b[1;33m:\u001b[0m \u001b[0mx\u001b[0m\u001b[1;33m[\u001b[0m\u001b[1;33m-\u001b[0m\u001b[1;36m4\u001b[0m\u001b[1;33m]\u001b[0m\u001b[1;33m)\u001b[0m\u001b[1;33m\u001b[0m\u001b[1;33m\u001b[0m\u001b[0m\n\u001b[0m\u001b[0;32m      6\u001b[0m \u001b[0mttmp\u001b[0m\u001b[1;33m[\u001b[0m\u001b[1;34m'Flavor'\u001b[0m\u001b[1;33m]\u001b[0m \u001b[1;33m=\u001b[0m \u001b[0mttmp\u001b[0m\u001b[1;33m[\u001b[0m\u001b[1;34m'맥주정보'\u001b[0m\u001b[1;33m]\u001b[0m\u001b[1;33m.\u001b[0m\u001b[0mapply\u001b[0m\u001b[1;33m(\u001b[0m\u001b[1;32mlambda\u001b[0m \u001b[0mx\u001b[0m\u001b[1;33m:\u001b[0m \u001b[0mx\u001b[0m\u001b[1;33m[\u001b[0m\u001b[1;33m-\u001b[0m\u001b[1;36m6\u001b[0m\u001b[1;33m]\u001b[0m\u001b[1;33m)\u001b[0m\u001b[1;33m\u001b[0m\u001b[1;33m\u001b[0m\u001b[0m\n\u001b[0;32m      7\u001b[0m \u001b[0mttmp\u001b[0m\u001b[1;33m[\u001b[0m\u001b[1;34m'Mouthfeel'\u001b[0m\u001b[1;33m]\u001b[0m \u001b[1;33m=\u001b[0m \u001b[0mttmp\u001b[0m\u001b[1;33m[\u001b[0m\u001b[1;34m'맥주정보'\u001b[0m\u001b[1;33m]\u001b[0m\u001b[1;33m.\u001b[0m\u001b[0mapply\u001b[0m\u001b[1;33m(\u001b[0m\u001b[1;32mlambda\u001b[0m \u001b[0mx\u001b[0m\u001b[1;33m:\u001b[0m \u001b[0mx\u001b[0m\u001b[1;33m[\u001b[0m\u001b[1;33m-\u001b[0m\u001b[1;36m8\u001b[0m\u001b[1;33m]\u001b[0m\u001b[1;33m)\u001b[0m\u001b[1;33m\u001b[0m\u001b[1;33m\u001b[0m\u001b[0m\n",
      "\u001b[1;32m~\\anaconda3\\lib\\site-packages\\pandas\\core\\series.py\u001b[0m in \u001b[0;36mapply\u001b[1;34m(self, func, convert_dtype, args, **kwds)\u001b[0m\n\u001b[0;32m   3846\u001b[0m             \u001b[1;32melse\u001b[0m\u001b[1;33m:\u001b[0m\u001b[1;33m\u001b[0m\u001b[1;33m\u001b[0m\u001b[0m\n\u001b[0;32m   3847\u001b[0m                 \u001b[0mvalues\u001b[0m \u001b[1;33m=\u001b[0m \u001b[0mself\u001b[0m\u001b[1;33m.\u001b[0m\u001b[0mastype\u001b[0m\u001b[1;33m(\u001b[0m\u001b[0mobject\u001b[0m\u001b[1;33m)\u001b[0m\u001b[1;33m.\u001b[0m\u001b[0mvalues\u001b[0m\u001b[1;33m\u001b[0m\u001b[1;33m\u001b[0m\u001b[0m\n\u001b[1;32m-> 3848\u001b[1;33m                 \u001b[0mmapped\u001b[0m \u001b[1;33m=\u001b[0m \u001b[0mlib\u001b[0m\u001b[1;33m.\u001b[0m\u001b[0mmap_infer\u001b[0m\u001b[1;33m(\u001b[0m\u001b[0mvalues\u001b[0m\u001b[1;33m,\u001b[0m \u001b[0mf\u001b[0m\u001b[1;33m,\u001b[0m \u001b[0mconvert\u001b[0m\u001b[1;33m=\u001b[0m\u001b[0mconvert_dtype\u001b[0m\u001b[1;33m)\u001b[0m\u001b[1;33m\u001b[0m\u001b[1;33m\u001b[0m\u001b[0m\n\u001b[0m\u001b[0;32m   3849\u001b[0m \u001b[1;33m\u001b[0m\u001b[0m\n\u001b[0;32m   3850\u001b[0m         \u001b[1;32mif\u001b[0m \u001b[0mlen\u001b[0m\u001b[1;33m(\u001b[0m\u001b[0mmapped\u001b[0m\u001b[1;33m)\u001b[0m \u001b[1;32mand\u001b[0m \u001b[0misinstance\u001b[0m\u001b[1;33m(\u001b[0m\u001b[0mmapped\u001b[0m\u001b[1;33m[\u001b[0m\u001b[1;36m0\u001b[0m\u001b[1;33m]\u001b[0m\u001b[1;33m,\u001b[0m \u001b[0mSeries\u001b[0m\u001b[1;33m)\u001b[0m\u001b[1;33m:\u001b[0m\u001b[1;33m\u001b[0m\u001b[1;33m\u001b[0m\u001b[0m\n",
      "\u001b[1;32mpandas\\_libs\\lib.pyx\u001b[0m in \u001b[0;36mpandas._libs.lib.map_infer\u001b[1;34m()\u001b[0m\n",
      "\u001b[1;32m<ipython-input-35-eca60caf1d99>\u001b[0m in \u001b[0;36m<lambda>\u001b[1;34m(x)\u001b[0m\n\u001b[0;32m      3\u001b[0m \u001b[0mttmp\u001b[0m\u001b[1;33m[\u001b[0m\u001b[1;34m'ID'\u001b[0m\u001b[1;33m]\u001b[0m \u001b[1;33m=\u001b[0m \u001b[0mttmp\u001b[0m\u001b[1;33m[\u001b[0m\u001b[1;34m'맥주정보'\u001b[0m\u001b[1;33m]\u001b[0m\u001b[1;33m.\u001b[0m\u001b[0mapply\u001b[0m\u001b[1;33m(\u001b[0m\u001b[1;32mlambda\u001b[0m \u001b[0mx\u001b[0m\u001b[1;33m:\u001b[0m \u001b[0mx\u001b[0m\u001b[1;33m[\u001b[0m\u001b[1;36m0\u001b[0m\u001b[1;33m]\u001b[0m\u001b[1;33m)\u001b[0m\u001b[1;33m\u001b[0m\u001b[1;33m\u001b[0m\u001b[0m\n\u001b[0;32m      4\u001b[0m \u001b[0mttmp\u001b[0m\u001b[1;33m[\u001b[0m\u001b[1;34m'Aroma'\u001b[0m\u001b[1;33m]\u001b[0m \u001b[1;33m=\u001b[0m \u001b[0mttmp\u001b[0m\u001b[1;33m[\u001b[0m\u001b[1;34m'맥주정보'\u001b[0m\u001b[1;33m]\u001b[0m\u001b[1;33m.\u001b[0m\u001b[0mapply\u001b[0m\u001b[1;33m(\u001b[0m\u001b[1;32mlambda\u001b[0m \u001b[0mx\u001b[0m\u001b[1;33m:\u001b[0m \u001b[0mx\u001b[0m\u001b[1;33m[\u001b[0m\u001b[1;33m-\u001b[0m\u001b[1;36m2\u001b[0m\u001b[1;33m]\u001b[0m\u001b[1;33m)\u001b[0m\u001b[1;33m\u001b[0m\u001b[1;33m\u001b[0m\u001b[0m\n\u001b[1;32m----> 5\u001b[1;33m \u001b[0mttmp\u001b[0m\u001b[1;33m[\u001b[0m\u001b[1;34m'Appearance'\u001b[0m\u001b[1;33m]\u001b[0m \u001b[1;33m=\u001b[0m \u001b[0mttmp\u001b[0m\u001b[1;33m[\u001b[0m\u001b[1;34m'맥주정보'\u001b[0m\u001b[1;33m]\u001b[0m\u001b[1;33m.\u001b[0m\u001b[0mapply\u001b[0m\u001b[1;33m(\u001b[0m\u001b[1;32mlambda\u001b[0m \u001b[0mx\u001b[0m\u001b[1;33m:\u001b[0m \u001b[0mx\u001b[0m\u001b[1;33m[\u001b[0m\u001b[1;33m-\u001b[0m\u001b[1;36m4\u001b[0m\u001b[1;33m]\u001b[0m\u001b[1;33m)\u001b[0m\u001b[1;33m\u001b[0m\u001b[1;33m\u001b[0m\u001b[0m\n\u001b[0m\u001b[0;32m      6\u001b[0m \u001b[0mttmp\u001b[0m\u001b[1;33m[\u001b[0m\u001b[1;34m'Flavor'\u001b[0m\u001b[1;33m]\u001b[0m \u001b[1;33m=\u001b[0m \u001b[0mttmp\u001b[0m\u001b[1;33m[\u001b[0m\u001b[1;34m'맥주정보'\u001b[0m\u001b[1;33m]\u001b[0m\u001b[1;33m.\u001b[0m\u001b[0mapply\u001b[0m\u001b[1;33m(\u001b[0m\u001b[1;32mlambda\u001b[0m \u001b[0mx\u001b[0m\u001b[1;33m:\u001b[0m \u001b[0mx\u001b[0m\u001b[1;33m[\u001b[0m\u001b[1;33m-\u001b[0m\u001b[1;36m6\u001b[0m\u001b[1;33m]\u001b[0m\u001b[1;33m)\u001b[0m\u001b[1;33m\u001b[0m\u001b[1;33m\u001b[0m\u001b[0m\n\u001b[0;32m      7\u001b[0m \u001b[0mttmp\u001b[0m\u001b[1;33m[\u001b[0m\u001b[1;34m'Mouthfeel'\u001b[0m\u001b[1;33m]\u001b[0m \u001b[1;33m=\u001b[0m \u001b[0mttmp\u001b[0m\u001b[1;33m[\u001b[0m\u001b[1;34m'맥주정보'\u001b[0m\u001b[1;33m]\u001b[0m\u001b[1;33m.\u001b[0m\u001b[0mapply\u001b[0m\u001b[1;33m(\u001b[0m\u001b[1;32mlambda\u001b[0m \u001b[0mx\u001b[0m\u001b[1;33m:\u001b[0m \u001b[0mx\u001b[0m\u001b[1;33m[\u001b[0m\u001b[1;33m-\u001b[0m\u001b[1;36m8\u001b[0m\u001b[1;33m]\u001b[0m\u001b[1;33m)\u001b[0m\u001b[1;33m\u001b[0m\u001b[1;33m\u001b[0m\u001b[0m\n",
      "\u001b[1;31mIndexError\u001b[0m: list index out of range"
     ]
    }
   ],
   "source": [
    "# 맨 첫번째 리스트 요소에 ID 저장\n",
    "# 그 뒤로는 뒤에서부터 각 평가값 저장\n",
    "ttmp['ID'] = ttmp['맥주정보'].apply(lambda x: x[0])\n",
    "ttmp['Aroma'] = ttmp['맥주정보'].apply(lambda x: x[-2])\n",
    "ttmp['Appearance'] = ttmp['맥주정보'].apply(lambda x: x[-4])\n",
    "ttmp['Flavor'] = ttmp['맥주정보'].apply(lambda x: x[-6])\n",
    "ttmp['Mouthfeel'] = ttmp['맥주정보'].apply(lambda x: x[-8])\n",
    "ttmp['Overall'] = ttmp['맥주정보'].apply(lambda x: x[-10])\n",
    "\n",
    "# 리스트의 1,2,3번째 요소만(평점날짜 or 이상한 값) 뽑아오기\n",
    "ttmp['맥주정보'] = ttmp['맥주정보'].apply(lambda x:x[1:4])\n",
    "ttmp['길이'] = ttmp['맥주정보'].apply(lambda x:len(x))"
   ]
  },
  {
   "cell_type": "code",
   "execution_count": 52,
   "metadata": {},
   "outputs": [
    {
     "data": {
      "text/html": [
       "<div>\n",
       "<style scoped>\n",
       "    .dataframe tbody tr th:only-of-type {\n",
       "        vertical-align: middle;\n",
       "    }\n",
       "\n",
       "    .dataframe tbody tr th {\n",
       "        vertical-align: top;\n",
       "    }\n",
       "\n",
       "    .dataframe thead th {\n",
       "        text-align: right;\n",
       "    }\n",
       "</style>\n",
       "<table border=\"1\" class=\"dataframe\">\n",
       "  <thead>\n",
       "    <tr style=\"text-align: right;\">\n",
       "      <th></th>\n",
       "      <th>맥주이름</th>\n",
       "      <th>맥주정보</th>\n",
       "      <th>길이</th>\n",
       "      <th>ID</th>\n",
       "      <th>Aroma</th>\n",
       "      <th>Appearance</th>\n",
       "      <th>Flavor</th>\n",
       "      <th>Mouthfeel</th>\n",
       "      <th>Overall</th>\n",
       "    </tr>\n",
       "  </thead>\n",
       "  <tbody>\n",
       "    <tr>\n",
       "      <th>0</th>\n",
       "      <td>5,0 Original Pils</td>\n",
       "      <td>[🇩🇪Hamburg, Germany, 1.2December 19, 2020, AR:...</td>\n",
       "      <td>3</td>\n",
       "      <td>hopihalido(1,454)</td>\n",
       "      <td>2</td>\n",
       "      <td>1</td>\n",
       "      <td>2</td>\n",
       "      <td>2</td>\n",
       "      <td>5</td>\n",
       "    </tr>\n",
       "    <tr>\n",
       "      <th>1</th>\n",
       "      <td>5,0 Original Pils</td>\n",
       "      <td>[🇲🇩Rautel, Moldova, 2.4December 18, 2020, Arom...</td>\n",
       "      <td>3</td>\n",
       "      <td>AndreiProdan(213)</td>\n",
       "      <td>5</td>\n",
       "      <td>2</td>\n",
       "      <td>5</td>\n",
       "      <td>2</td>\n",
       "      <td>10</td>\n",
       "    </tr>\n",
       "    <tr>\n",
       "      <th>2</th>\n",
       "      <td>5,0 Original Pils</td>\n",
       "      <td>[🇵🇱Poland, 2.1September 24, 2020, Z wyglądu ok...</td>\n",
       "      <td>3</td>\n",
       "      <td>Badylatko(469)</td>\n",
       "      <td>4</td>\n",
       "      <td>2</td>\n",
       "      <td>4</td>\n",
       "      <td>3</td>\n",
       "      <td>8</td>\n",
       "    </tr>\n",
       "  </tbody>\n",
       "</table>\n",
       "</div>"
      ],
      "text/plain": [
       "                맥주이름                                               맥주정보  길이  \\\n",
       "0  5,0 Original Pils  [🇩🇪Hamburg, Germany, 1.2December 19, 2020, AR:...   3   \n",
       "1  5,0 Original Pils  [🇲🇩Rautel, Moldova, 2.4December 18, 2020, Arom...   3   \n",
       "2  5,0 Original Pils  [🇵🇱Poland, 2.1September 24, 2020, Z wyglądu ok...   3   \n",
       "\n",
       "                  ID Aroma Appearance Flavor Mouthfeel Overall  \n",
       "0  hopihalido(1,454)     2          1      2         2       5  \n",
       "1  AndreiProdan(213)     5          2      5         2      10  \n",
       "2     Badylatko(469)     4          2      4         3       8  "
      ]
     },
     "execution_count": 52,
     "metadata": {},
     "output_type": "execute_result"
    }
   ],
   "source": [
    "# 결과 확인\n",
    "ttmp.head(3)"
   ]
  },
  {
   "cell_type": "markdown",
   "metadata": {},
   "source": [
    "## 전처리 4단계 - 국적이 없(있)는 데이터로부터 평점,날짜 추출"
   ]
  },
  {
   "cell_type": "code",
   "execution_count": 53,
   "metadata": {},
   "outputs": [
    {
     "data": {
      "text/plain": [
       "['🇩🇪Hamburg, Germany', '1.2December 19, 2020', 'AR: hopfig, unangenehm, ']"
      ]
     },
     "execution_count": 53,
     "metadata": {},
     "output_type": "execute_result"
    }
   ],
   "source": [
    "# 0, 1, 2번째 요소 중 뽑아낼 데이터의 위치가 불분명\n",
    "ttmp['맥주정보'].iloc[0]"
   ]
  },
  {
   "cell_type": "code",
   "execution_count": 54,
   "metadata": {},
   "outputs": [
    {
     "name": "stdout",
     "output_type": "stream",
     "text": [
      "['🇩🇪Hamburg, Germany', '1.2December 19, 2020', 'AR: hopfig, unangenehm, '] \n",
      "\n",
      "['🇲🇩Rautel, Moldova', '2.4December 18, 2020', 'Aromă dulce de malţ, cereale. Gust uşor amar de malţ, cu post gust dulce.Nimic deosebit'] \n",
      "\n",
      "['🇵🇱Poland', '2.1September 24, 2020', 'Z wyglądu ok, jak to pils, bez specjalnych udziwnień, ale też i efektów specjalnych. Aromat to słody, ziemistość, siano, lekko trawa, karmel. Smak spodziewałem się i życzyłbym…'] \n",
      "\n",
      "['🇷🇴Cluj-Napoca, Romania', '2.1August 11, 2020', 'It is a decent beer with a light bitter taste. Not bad, but they had to lie about it being craft and about them respecting the purity law while using hop extract.'] \n",
      "\n",
      "['🇳🇱Netherlands', '3.4August 2, 2020', 'Can at my hotel room, golden beer, small head. Aroma is malt, grain, taste is the same, bitter, sweet, ok. Not much special.'] \n",
      "\n"
     ]
    }
   ],
   "source": [
    "# 0, 1, 2번째 요소 중 뽑아낼 데이터의 위치가 불분명\n",
    "for i in range(5):\n",
    "    print(ttmp['맥주정보'].iloc[i], '\\n')"
   ]
  },
  {
   "cell_type": "code",
   "execution_count": 55,
   "metadata": {},
   "outputs": [
    {
     "name": "stdout",
     "output_type": "stream",
     "text": [
      "['🇺🇸SF Bay Area, United States', '3.3April 8, 2008', 'Pours a clear copper color with very thin and very light colored head. Nose is almost nonexistent. Flavor is a bit malty in the front, bitter in the mid, and dry and a slightly…'] \n",
      "\n",
      "\n",
      "['🇺🇸The World of Beer, United States', '3.1April 6, 2008', 'on tap, nothing spectacular, I was disappointed after the other Fuller’s I have had I had expected more from this. Good aftertaste though. Wouldn’t buy again'] \n",
      "\n",
      "\n",
      "['🇦🇺Tasmania, Australia', '3.9April 6, 2008', 'Bottle - Clear copper with thin off white head. Medium carbonation. Very smooth and well balanced. Long bitter finish. An excellent drop!'] \n",
      "\n",
      "\n"
     ]
    }
   ],
   "source": [
    "# 특이점 확인 : 0번째, 1번째, 2번째 요소 중 뽑아낼 데이터의 위치가 불분명\n",
    "for i in range(75252, 75255):\n",
    "    print(ttmp['맥주정보'].iloc[i], '\\n\\n')"
   ]
  },
  {
   "cell_type": "code",
   "execution_count": 56,
   "metadata": {},
   "outputs": [],
   "source": [
    "# 4.0+알파벳으로 처리된 텍스트를 뽑아내기 위해 정규표현식 사용\n",
    "\n",
    "import re\n",
    "\n",
    "# ex) 4.0December 28, 2020 추출\n",
    "reg = re.compile('[0-9]+.+[0-9]+[A-Za-z0-9]*')"
   ]
  },
  {
   "cell_type": "code",
   "execution_count": 57,
   "metadata": {},
   "outputs": [],
   "source": [
    "# 정규표현식에 해당하는 문자열과 매칭되는 경우 해당 리스트 요소를 맥주정보에 저장\n",
    "# reg.match()는 re.compile()의 정규표현식과 일치하는 문자열을 반환, 아니면 False를 반환\n",
    "# 중첩 삼항 표현식 사용 : https://ooyoung.tistory.com/116\n",
    "\n",
    "ttmp['맥주정보'] = ttmp['맥주정보'].apply(lambda x: x[0] if reg.match(x[0]) else \n",
    "                                  (x[1] if reg.match(x[1]) else x[2]))"
   ]
  },
  {
   "cell_type": "code",
   "execution_count": 58,
   "metadata": {},
   "outputs": [
    {
     "data": {
      "text/html": [
       "<div>\n",
       "<style scoped>\n",
       "    .dataframe tbody tr th:only-of-type {\n",
       "        vertical-align: middle;\n",
       "    }\n",
       "\n",
       "    .dataframe tbody tr th {\n",
       "        vertical-align: top;\n",
       "    }\n",
       "\n",
       "    .dataframe thead th {\n",
       "        text-align: right;\n",
       "    }\n",
       "</style>\n",
       "<table border=\"1\" class=\"dataframe\">\n",
       "  <thead>\n",
       "    <tr style=\"text-align: right;\">\n",
       "      <th></th>\n",
       "      <th>맥주이름</th>\n",
       "      <th>맥주정보</th>\n",
       "      <th>길이</th>\n",
       "      <th>ID</th>\n",
       "      <th>Aroma</th>\n",
       "      <th>Appearance</th>\n",
       "      <th>Flavor</th>\n",
       "      <th>Mouthfeel</th>\n",
       "      <th>Overall</th>\n",
       "    </tr>\n",
       "  </thead>\n",
       "  <tbody>\n",
       "    <tr>\n",
       "      <th>0</th>\n",
       "      <td>5,0 Original Pils</td>\n",
       "      <td>1.2December 19, 2020</td>\n",
       "      <td>3</td>\n",
       "      <td>hopihalido(1,454)</td>\n",
       "      <td>2</td>\n",
       "      <td>1</td>\n",
       "      <td>2</td>\n",
       "      <td>2</td>\n",
       "      <td>5</td>\n",
       "    </tr>\n",
       "    <tr>\n",
       "      <th>1</th>\n",
       "      <td>5,0 Original Pils</td>\n",
       "      <td>2.4December 18, 2020</td>\n",
       "      <td>3</td>\n",
       "      <td>AndreiProdan(213)</td>\n",
       "      <td>5</td>\n",
       "      <td>2</td>\n",
       "      <td>5</td>\n",
       "      <td>2</td>\n",
       "      <td>10</td>\n",
       "    </tr>\n",
       "    <tr>\n",
       "      <th>2</th>\n",
       "      <td>5,0 Original Pils</td>\n",
       "      <td>2.1September 24, 2020</td>\n",
       "      <td>3</td>\n",
       "      <td>Badylatko(469)</td>\n",
       "      <td>4</td>\n",
       "      <td>2</td>\n",
       "      <td>4</td>\n",
       "      <td>3</td>\n",
       "      <td>8</td>\n",
       "    </tr>\n",
       "    <tr>\n",
       "      <th>3</th>\n",
       "      <td>5,0 Original Pils</td>\n",
       "      <td>2.1August 11, 2020</td>\n",
       "      <td>3</td>\n",
       "      <td>qt01(451)</td>\n",
       "      <td>-</td>\n",
       "      <td>-</td>\n",
       "      <td>-</td>\n",
       "      <td>-</td>\n",
       "      <td>-</td>\n",
       "    </tr>\n",
       "    <tr>\n",
       "      <th>4</th>\n",
       "      <td>5,0 Original Pils</td>\n",
       "      <td>3.4August 2, 2020</td>\n",
       "      <td>3</td>\n",
       "      <td>SVD(3,986)</td>\n",
       "      <td>6</td>\n",
       "      <td>3</td>\n",
       "      <td>6</td>\n",
       "      <td>3</td>\n",
       "      <td>16</td>\n",
       "    </tr>\n",
       "  </tbody>\n",
       "</table>\n",
       "</div>"
      ],
      "text/plain": [
       "                맥주이름                   맥주정보  길이                 ID Aroma  \\\n",
       "0  5,0 Original Pils   1.2December 19, 2020   3  hopihalido(1,454)     2   \n",
       "1  5,0 Original Pils   2.4December 18, 2020   3  AndreiProdan(213)     5   \n",
       "2  5,0 Original Pils  2.1September 24, 2020   3     Badylatko(469)     4   \n",
       "3  5,0 Original Pils     2.1August 11, 2020   3          qt01(451)     -   \n",
       "4  5,0 Original Pils      3.4August 2, 2020   3         SVD(3,986)     6   \n",
       "\n",
       "  Appearance Flavor Mouthfeel Overall  \n",
       "0          1      2         2       5  \n",
       "1          2      5         2      10  \n",
       "2          2      4         3       8  \n",
       "3          -      -         -       -  \n",
       "4          3      6         3      16  "
      ]
     },
     "execution_count": 58,
     "metadata": {},
     "output_type": "execute_result"
    }
   ],
   "source": [
    "# 결과 확인\n",
    "ttmp.head()"
   ]
  },
  {
   "cell_type": "code",
   "execution_count": 59,
   "metadata": {},
   "outputs": [
    {
     "name": "stdout",
     "output_type": "stream",
     "text": [
      "3.0April 12, 2008\n",
      "3.3April 10, 2008\n",
      "3.3April 8, 2008\n",
      "3.1April 6, 2008\n",
      "3.9April 6, 2008\n",
      "3.9April 7, 2008\n",
      "3.0April 6, 2008\n",
      "3.4April 3, 2008\n",
      "3.3April 2, 2008\n",
      "3.5March 31, 2008\n"
     ]
    }
   ],
   "source": [
    "# 특이점 확인 : 원하는 평점 + 날자값이 정상적으로 추출됨\n",
    "for i in range(75250, 75260):\n",
    "    print(ttmp['맥주정보'].iloc[i])"
   ]
  },
  {
   "cell_type": "markdown",
   "metadata": {},
   "source": [
    "## 전처리 5단계 - 평점과 날짜 데이터 분리"
   ]
  },
  {
   "cell_type": "code",
   "execution_count": 60,
   "metadata": {},
   "outputs": [],
   "source": [
    "# 평점은 0번째부터 3번째, 날짜는 그 이후 문자열로 처리\n",
    "ttmp['평점'] = ttmp['맥주정보'].apply(lambda x : x[:3])\n",
    "ttmp['날짜'] = ttmp['맥주정보'].apply(lambda x : x[3:])"
   ]
  },
  {
   "cell_type": "code",
   "execution_count": 61,
   "metadata": {},
   "outputs": [
    {
     "data": {
      "text/html": [
       "<div>\n",
       "<style scoped>\n",
       "    .dataframe tbody tr th:only-of-type {\n",
       "        vertical-align: middle;\n",
       "    }\n",
       "\n",
       "    .dataframe tbody tr th {\n",
       "        vertical-align: top;\n",
       "    }\n",
       "\n",
       "    .dataframe thead th {\n",
       "        text-align: right;\n",
       "    }\n",
       "</style>\n",
       "<table border=\"1\" class=\"dataframe\">\n",
       "  <thead>\n",
       "    <tr style=\"text-align: right;\">\n",
       "      <th></th>\n",
       "      <th>맥주이름</th>\n",
       "      <th>맥주정보</th>\n",
       "      <th>길이</th>\n",
       "      <th>ID</th>\n",
       "      <th>Aroma</th>\n",
       "      <th>Appearance</th>\n",
       "      <th>Flavor</th>\n",
       "      <th>Mouthfeel</th>\n",
       "      <th>Overall</th>\n",
       "      <th>평점</th>\n",
       "      <th>날짜</th>\n",
       "    </tr>\n",
       "  </thead>\n",
       "  <tbody>\n",
       "    <tr>\n",
       "      <th>0</th>\n",
       "      <td>5,0 Original Pils</td>\n",
       "      <td>1.2December 19, 2020</td>\n",
       "      <td>3</td>\n",
       "      <td>hopihalido(1,454)</td>\n",
       "      <td>2</td>\n",
       "      <td>1</td>\n",
       "      <td>2</td>\n",
       "      <td>2</td>\n",
       "      <td>5</td>\n",
       "      <td>1.2</td>\n",
       "      <td>December 19, 2020</td>\n",
       "    </tr>\n",
       "    <tr>\n",
       "      <th>1</th>\n",
       "      <td>5,0 Original Pils</td>\n",
       "      <td>2.4December 18, 2020</td>\n",
       "      <td>3</td>\n",
       "      <td>AndreiProdan(213)</td>\n",
       "      <td>5</td>\n",
       "      <td>2</td>\n",
       "      <td>5</td>\n",
       "      <td>2</td>\n",
       "      <td>10</td>\n",
       "      <td>2.4</td>\n",
       "      <td>December 18, 2020</td>\n",
       "    </tr>\n",
       "    <tr>\n",
       "      <th>2</th>\n",
       "      <td>5,0 Original Pils</td>\n",
       "      <td>2.1September 24, 2020</td>\n",
       "      <td>3</td>\n",
       "      <td>Badylatko(469)</td>\n",
       "      <td>4</td>\n",
       "      <td>2</td>\n",
       "      <td>4</td>\n",
       "      <td>3</td>\n",
       "      <td>8</td>\n",
       "      <td>2.1</td>\n",
       "      <td>September 24, 2020</td>\n",
       "    </tr>\n",
       "  </tbody>\n",
       "</table>\n",
       "</div>"
      ],
      "text/plain": [
       "                맥주이름                   맥주정보  길이                 ID Aroma  \\\n",
       "0  5,0 Original Pils   1.2December 19, 2020   3  hopihalido(1,454)     2   \n",
       "1  5,0 Original Pils   2.4December 18, 2020   3  AndreiProdan(213)     5   \n",
       "2  5,0 Original Pils  2.1September 24, 2020   3     Badylatko(469)     4   \n",
       "\n",
       "  Appearance Flavor Mouthfeel Overall   평점                  날짜  \n",
       "0          1      2         2       5  1.2   December 19, 2020  \n",
       "1          2      5         2      10  2.4   December 18, 2020  \n",
       "2          2      4         3       8  2.1  September 24, 2020  "
      ]
     },
     "execution_count": 61,
     "metadata": {},
     "output_type": "execute_result"
    }
   ],
   "source": [
    "ttmp.head(3)"
   ]
  },
  {
   "cell_type": "code",
   "execution_count": 62,
   "metadata": {},
   "outputs": [
    {
     "data": {
      "text/plain": [
       "Index(['맥주이름', '맥주정보', '길이', 'ID', 'Aroma', 'Appearance', 'Flavor',\n",
       "       'Mouthfeel', 'Overall', '평점', '날짜'],\n",
       "      dtype='object')"
      ]
     },
     "execution_count": 62,
     "metadata": {},
     "output_type": "execute_result"
    }
   ],
   "source": [
    "ttmp.columns"
   ]
  },
  {
   "cell_type": "code",
   "execution_count": 63,
   "metadata": {},
   "outputs": [],
   "source": [
    "# 필요한 컬럼만 추출\n",
    "ttmp = ttmp[['맥주정보', '맥주이름', 'ID', 'Aroma', 'Appearance', 'Flavor',\n",
    "       'Mouthfeel', 'Overall', '평점', '날짜']]"
   ]
  },
  {
   "cell_type": "code",
   "execution_count": 64,
   "metadata": {},
   "outputs": [],
   "source": [
    "ttmp.columns = ['맥주정보', '맥주이름', '아이디', 'Aroma', 'Appearance', 'Flavor',\n",
    "       'Mouthfeel', 'Overall', '평점', '날짜']"
   ]
  },
  {
   "cell_type": "code",
   "execution_count": 65,
   "metadata": {},
   "outputs": [
    {
     "data": {
      "text/html": [
       "<div>\n",
       "<style scoped>\n",
       "    .dataframe tbody tr th:only-of-type {\n",
       "        vertical-align: middle;\n",
       "    }\n",
       "\n",
       "    .dataframe tbody tr th {\n",
       "        vertical-align: top;\n",
       "    }\n",
       "\n",
       "    .dataframe thead th {\n",
       "        text-align: right;\n",
       "    }\n",
       "</style>\n",
       "<table border=\"1\" class=\"dataframe\">\n",
       "  <thead>\n",
       "    <tr style=\"text-align: right;\">\n",
       "      <th></th>\n",
       "      <th>맥주정보</th>\n",
       "      <th>맥주이름</th>\n",
       "      <th>아이디</th>\n",
       "      <th>Aroma</th>\n",
       "      <th>Appearance</th>\n",
       "      <th>Flavor</th>\n",
       "      <th>Mouthfeel</th>\n",
       "      <th>Overall</th>\n",
       "      <th>평점</th>\n",
       "      <th>날짜</th>\n",
       "    </tr>\n",
       "  </thead>\n",
       "  <tbody>\n",
       "    <tr>\n",
       "      <th>0</th>\n",
       "      <td>1.2December 19, 2020</td>\n",
       "      <td>5,0 Original Pils</td>\n",
       "      <td>hopihalido(1,454)</td>\n",
       "      <td>2</td>\n",
       "      <td>1</td>\n",
       "      <td>2</td>\n",
       "      <td>2</td>\n",
       "      <td>5</td>\n",
       "      <td>1.2</td>\n",
       "      <td>December 19, 2020</td>\n",
       "    </tr>\n",
       "    <tr>\n",
       "      <th>1</th>\n",
       "      <td>2.4December 18, 2020</td>\n",
       "      <td>5,0 Original Pils</td>\n",
       "      <td>AndreiProdan(213)</td>\n",
       "      <td>5</td>\n",
       "      <td>2</td>\n",
       "      <td>5</td>\n",
       "      <td>2</td>\n",
       "      <td>10</td>\n",
       "      <td>2.4</td>\n",
       "      <td>December 18, 2020</td>\n",
       "    </tr>\n",
       "    <tr>\n",
       "      <th>2</th>\n",
       "      <td>2.1September 24, 2020</td>\n",
       "      <td>5,0 Original Pils</td>\n",
       "      <td>Badylatko(469)</td>\n",
       "      <td>4</td>\n",
       "      <td>2</td>\n",
       "      <td>4</td>\n",
       "      <td>3</td>\n",
       "      <td>8</td>\n",
       "      <td>2.1</td>\n",
       "      <td>September 24, 2020</td>\n",
       "    </tr>\n",
       "  </tbody>\n",
       "</table>\n",
       "</div>"
      ],
      "text/plain": [
       "                    맥주정보               맥주이름                아이디 Aroma  \\\n",
       "0   1.2December 19, 2020  5,0 Original Pils  hopihalido(1,454)     2   \n",
       "1   2.4December 18, 2020  5,0 Original Pils  AndreiProdan(213)     5   \n",
       "2  2.1September 24, 2020  5,0 Original Pils     Badylatko(469)     4   \n",
       "\n",
       "  Appearance Flavor Mouthfeel Overall   평점                  날짜  \n",
       "0          1      2         2       5  1.2   December 19, 2020  \n",
       "1          2      5         2      10  2.4   December 18, 2020  \n",
       "2          2      4         3       8  2.1  September 24, 2020  "
      ]
     },
     "execution_count": 65,
     "metadata": {},
     "output_type": "execute_result"
    }
   ],
   "source": [
    "ttmp.head(3)"
   ]
  },
  {
   "cell_type": "code",
   "execution_count": 66,
   "metadata": {},
   "outputs": [
    {
     "data": {
      "text/html": [
       "<div>\n",
       "<style scoped>\n",
       "    .dataframe tbody tr th:only-of-type {\n",
       "        vertical-align: middle;\n",
       "    }\n",
       "\n",
       "    .dataframe tbody tr th {\n",
       "        vertical-align: top;\n",
       "    }\n",
       "\n",
       "    .dataframe thead th {\n",
       "        text-align: right;\n",
       "    }\n",
       "</style>\n",
       "<table border=\"1\" class=\"dataframe\">\n",
       "  <thead>\n",
       "    <tr style=\"text-align: right;\">\n",
       "      <th></th>\n",
       "      <th>맥주정보</th>\n",
       "      <th>맥주이름</th>\n",
       "      <th>아이디</th>\n",
       "      <th>Aroma</th>\n",
       "      <th>Appearance</th>\n",
       "      <th>Flavor</th>\n",
       "      <th>Mouthfeel</th>\n",
       "      <th>Overall</th>\n",
       "      <th>평점</th>\n",
       "      <th>날짜</th>\n",
       "    </tr>\n",
       "  </thead>\n",
       "  <tbody>\n",
       "    <tr>\n",
       "      <th>0</th>\n",
       "      <td>1.2December 19, 2020</td>\n",
       "      <td>5,0 Original Pils</td>\n",
       "      <td>hopihalido(1,454)</td>\n",
       "      <td>2</td>\n",
       "      <td>1</td>\n",
       "      <td>2</td>\n",
       "      <td>2</td>\n",
       "      <td>5</td>\n",
       "      <td>1.2</td>\n",
       "      <td>December 19, 2020</td>\n",
       "    </tr>\n",
       "    <tr>\n",
       "      <th>1</th>\n",
       "      <td>2.4December 18, 2020</td>\n",
       "      <td>5,0 Original Pils</td>\n",
       "      <td>AndreiProdan(213)</td>\n",
       "      <td>5</td>\n",
       "      <td>2</td>\n",
       "      <td>5</td>\n",
       "      <td>2</td>\n",
       "      <td>10</td>\n",
       "      <td>2.4</td>\n",
       "      <td>December 18, 2020</td>\n",
       "    </tr>\n",
       "    <tr>\n",
       "      <th>2</th>\n",
       "      <td>2.1September 24, 2020</td>\n",
       "      <td>5,0 Original Pils</td>\n",
       "      <td>Badylatko(469)</td>\n",
       "      <td>4</td>\n",
       "      <td>2</td>\n",
       "      <td>4</td>\n",
       "      <td>3</td>\n",
       "      <td>8</td>\n",
       "      <td>2.1</td>\n",
       "      <td>September 24, 2020</td>\n",
       "    </tr>\n",
       "  </tbody>\n",
       "</table>\n",
       "</div>"
      ],
      "text/plain": [
       "                    맥주정보               맥주이름                아이디 Aroma  \\\n",
       "0   1.2December 19, 2020  5,0 Original Pils  hopihalido(1,454)     2   \n",
       "1   2.4December 18, 2020  5,0 Original Pils  AndreiProdan(213)     5   \n",
       "2  2.1September 24, 2020  5,0 Original Pils     Badylatko(469)     4   \n",
       "\n",
       "  Appearance Flavor Mouthfeel Overall   평점                  날짜  \n",
       "0          1      2         2       5  1.2   December 19, 2020  \n",
       "1          2      5         2      10  2.4   December 18, 2020  \n",
       "2          2      4         3       8  2.1  September 24, 2020  "
      ]
     },
     "execution_count": 66,
     "metadata": {},
     "output_type": "execute_result"
    }
   ],
   "source": [
    "ttmp.head(3)"
   ]
  },
  {
   "cell_type": "code",
   "execution_count": 67,
   "metadata": {
    "scrolled": false
   },
   "outputs": [
    {
     "data": {
      "text/html": [
       "<div>\n",
       "<style scoped>\n",
       "    .dataframe tbody tr th:only-of-type {\n",
       "        vertical-align: middle;\n",
       "    }\n",
       "\n",
       "    .dataframe tbody tr th {\n",
       "        vertical-align: top;\n",
       "    }\n",
       "\n",
       "    .dataframe thead th {\n",
       "        text-align: right;\n",
       "    }\n",
       "</style>\n",
       "<table border=\"1\" class=\"dataframe\">\n",
       "  <thead>\n",
       "    <tr style=\"text-align: right;\">\n",
       "      <th></th>\n",
       "      <th>맥주정보</th>\n",
       "      <th>맥주이름</th>\n",
       "      <th>아이디</th>\n",
       "      <th>Aroma</th>\n",
       "      <th>Appearance</th>\n",
       "      <th>Flavor</th>\n",
       "      <th>Mouthfeel</th>\n",
       "      <th>Overall</th>\n",
       "      <th>평점</th>\n",
       "      <th>날짜</th>\n",
       "    </tr>\n",
       "  </thead>\n",
       "  <tbody>\n",
       "    <tr>\n",
       "      <th>3</th>\n",
       "      <td>3.0August 10, 2009</td>\n",
       "      <td>Gaffel Kölsch</td>\n",
       "      <td>Viper666.Qc(10,510)</td>\n",
       "      <td>5</td>\n",
       "      <td>3</td>\n",
       "      <td>6</td>\n",
       "      <td>3</td>\n",
       "      <td>13</td>\n",
       "      <td>3.0</td>\n",
       "      <td>August 10, 2009</td>\n",
       "    </tr>\n",
       "    <tr>\n",
       "      <th>11</th>\n",
       "      <td>2.8January 15, 2013</td>\n",
       "      <td>DAB Original</td>\n",
       "      <td>Viper666.Qc(10,510)</td>\n",
       "      <td>6</td>\n",
       "      <td>3</td>\n",
       "      <td>5</td>\n",
       "      <td>3</td>\n",
       "      <td>11</td>\n",
       "      <td>2.8</td>\n",
       "      <td>January 15, 2013</td>\n",
       "    </tr>\n",
       "    <tr>\n",
       "      <th>9</th>\n",
       "      <td>2.7February 23, 2013</td>\n",
       "      <td>Löwenbräu München Original</td>\n",
       "      <td>Viper666.Qc(10,510)</td>\n",
       "      <td>5</td>\n",
       "      <td>3</td>\n",
       "      <td>5</td>\n",
       "      <td>3</td>\n",
       "      <td>11</td>\n",
       "      <td>2.7</td>\n",
       "      <td>February 23, 2013</td>\n",
       "    </tr>\n",
       "  </tbody>\n",
       "</table>\n",
       "</div>"
      ],
      "text/plain": [
       "                    맥주정보                        맥주이름                  아이디  \\\n",
       "3     3.0August 10, 2009               Gaffel Kölsch  Viper666.Qc(10,510)   \n",
       "11   2.8January 15, 2013                DAB Original  Viper666.Qc(10,510)   \n",
       "9   2.7February 23, 2013  Löwenbräu München Original  Viper666.Qc(10,510)   \n",
       "\n",
       "   Aroma Appearance Flavor Mouthfeel Overall   평점                 날짜  \n",
       "3      5          3      6         3      13  3.0    August 10, 2009  \n",
       "11     6          3      5         3      11  2.8   January 15, 2013  \n",
       "9      5          3      5         3      11  2.7  February 23, 2013  "
      ]
     },
     "execution_count": 67,
     "metadata": {},
     "output_type": "execute_result"
    }
   ],
   "source": [
    "# 좋아요 수가 표시된 특이점 데이터 다시 한 번 확인\n",
    "ttmp[ttmp['아이디'].str.contains('Viper666.Qc')].head(3)"
   ]
  },
  {
   "cell_type": "code",
   "execution_count": 68,
   "metadata": {},
   "outputs": [
    {
     "name": "stdout",
     "output_type": "stream",
     "text": [
      "<class 'pandas.core.frame.DataFrame'>\n",
      "Int64Index: 319129 entries, 0 to 7\n",
      "Data columns (total 10 columns):\n",
      " #   Column      Non-Null Count   Dtype \n",
      "---  ------      --------------   ----- \n",
      " 0   맥주정보        319129 non-null  object\n",
      " 1   맥주이름        319129 non-null  object\n",
      " 2   아이디         319129 non-null  object\n",
      " 3   Aroma       319129 non-null  object\n",
      " 4   Appearance  319129 non-null  object\n",
      " 5   Flavor      319129 non-null  object\n",
      " 6   Mouthfeel   319129 non-null  object\n",
      " 7   Overall     319129 non-null  object\n",
      " 8   평점          319129 non-null  object\n",
      " 9   날짜          319129 non-null  object\n",
      "dtypes: object(10)\n",
      "memory usage: 26.8+ MB\n"
     ]
    }
   ],
   "source": [
    "ttmp.info()"
   ]
  },
  {
   "cell_type": "markdown",
   "metadata": {},
   "source": [
    "# 문제 발생 : 평점 데이터 추출이 잘못됨 --> 해결"
   ]
  },
  {
   "cell_type": "markdown",
   "metadata": {},
   "source": [
    "### 1. 아이디, 국적, 평점+날짜, 리뷰 문제 발생\n",
    "### 아이디, 국적, 이상한값, 평점+날짜, 리뷰 순인 데이터 발생 --> 4번째까지 고려함으로써 해결\n",
    "\n",
    "### 2. 세부 리뷰 평점이 '-'인 값 때문에 오류 발생 -> 삭제함으로써 해결"
   ]
  },
  {
   "cell_type": "code",
   "execution_count": 69,
   "metadata": {},
   "outputs": [
    {
     "data": {
      "text/plain": [
       "맥주정보                          3.1April 6, 2008\n",
       "맥주이름          Fuller's London Pride (Filtered)\n",
       "아이디                           Haslinger(1,011)\n",
       "Aroma                                        5\n",
       "Appearance                                   4\n",
       "Flavor                                       6\n",
       "Mouthfeel                                    3\n",
       "Overall                                     13\n",
       "평점                                         3.1\n",
       "날짜                               April 6, 2008\n",
       "Name: 9, dtype: object"
      ]
     },
     "execution_count": 69,
     "metadata": {},
     "output_type": "execute_result"
    }
   ],
   "source": [
    "# 문제 발생 : 평점 데이터 추출이 잘못됨 --> 해결\n",
    "ttmp.iloc[75253]"
   ]
  },
  {
   "cell_type": "code",
   "execution_count": 70,
   "metadata": {},
   "outputs": [
    {
     "data": {
      "text/plain": [
       "맥주정보          2.6January 12, 2020\n",
       "맥주이름            5,0 Original Pils\n",
       "아이디                bilcho1(1,406)\n",
       "Aroma                           2\n",
       "Appearance                      3\n",
       "Flavor                          5\n",
       "Mouthfeel                       5\n",
       "Overall                        11\n",
       "평점                            2.6\n",
       "날짜               January 12, 2020\n",
       "Name: 9, dtype: object"
      ]
     },
     "execution_count": 70,
     "metadata": {},
     "output_type": "execute_result"
    }
   ],
   "source": [
    "ttmp.iloc[9]"
   ]
  },
  {
   "cell_type": "code",
   "execution_count": 71,
   "metadata": {},
   "outputs": [
    {
     "data": {
      "text/html": [
       "<div>\n",
       "<style scoped>\n",
       "    .dataframe tbody tr th:only-of-type {\n",
       "        vertical-align: middle;\n",
       "    }\n",
       "\n",
       "    .dataframe tbody tr th {\n",
       "        vertical-align: top;\n",
       "    }\n",
       "\n",
       "    .dataframe thead th {\n",
       "        text-align: right;\n",
       "    }\n",
       "</style>\n",
       "<table border=\"1\" class=\"dataframe\">\n",
       "  <thead>\n",
       "    <tr style=\"text-align: right;\">\n",
       "      <th></th>\n",
       "      <th>맥주정보</th>\n",
       "      <th>맥주이름</th>\n",
       "      <th>아이디</th>\n",
       "      <th>Aroma</th>\n",
       "      <th>Appearance</th>\n",
       "      <th>Flavor</th>\n",
       "      <th>Mouthfeel</th>\n",
       "      <th>Overall</th>\n",
       "      <th>평점</th>\n",
       "      <th>날짜</th>\n",
       "    </tr>\n",
       "  </thead>\n",
       "  <tbody>\n",
       "    <tr>\n",
       "      <th>3</th>\n",
       "      <td>2.1August 11, 2020</td>\n",
       "      <td>5,0 Original Pils</td>\n",
       "      <td>qt01(451)</td>\n",
       "      <td>-</td>\n",
       "      <td>-</td>\n",
       "      <td>-</td>\n",
       "      <td>-</td>\n",
       "      <td>-</td>\n",
       "      <td>2.1</td>\n",
       "      <td>August 11, 2020</td>\n",
       "    </tr>\n",
       "    <tr>\n",
       "      <th>14</th>\n",
       "      <td>1.0May 27, 2019</td>\n",
       "      <td>5,0 Original Pils</td>\n",
       "      <td>so1ji(16)</td>\n",
       "      <td>-</td>\n",
       "      <td>-</td>\n",
       "      <td>-</td>\n",
       "      <td>-</td>\n",
       "      <td>-</td>\n",
       "      <td>1.0</td>\n",
       "      <td>May 27, 2019</td>\n",
       "    </tr>\n",
       "    <tr>\n",
       "      <th>11</th>\n",
       "      <td>3.3August 1, 2018</td>\n",
       "      <td>5,0 Original Pils</td>\n",
       "      <td>Brokkie(757)</td>\n",
       "      <td>-</td>\n",
       "      <td>-</td>\n",
       "      <td>-</td>\n",
       "      <td>-</td>\n",
       "      <td>-</td>\n",
       "      <td>3.3</td>\n",
       "      <td>August 1, 2018</td>\n",
       "    </tr>\n",
       "    <tr>\n",
       "      <th>13</th>\n",
       "      <td>2.6June 28, 2019</td>\n",
       "      <td>Gaffel Kölsch</td>\n",
       "      <td>muenzo(70)</td>\n",
       "      <td>-</td>\n",
       "      <td>-</td>\n",
       "      <td>-</td>\n",
       "      <td>-</td>\n",
       "      <td>-</td>\n",
       "      <td>2.6</td>\n",
       "      <td>June 28, 2019</td>\n",
       "    </tr>\n",
       "    <tr>\n",
       "      <th>10</th>\n",
       "      <td>4.0March 17, 2019</td>\n",
       "      <td>Gaffel Kölsch</td>\n",
       "      <td>ruslan_maximov(0)</td>\n",
       "      <td>-</td>\n",
       "      <td>-</td>\n",
       "      <td>-</td>\n",
       "      <td>-</td>\n",
       "      <td>-</td>\n",
       "      <td>4.0</td>\n",
       "      <td>March 17, 2019</td>\n",
       "    </tr>\n",
       "    <tr>\n",
       "      <th>...</th>\n",
       "      <td>...</td>\n",
       "      <td>...</td>\n",
       "      <td>...</td>\n",
       "      <td>...</td>\n",
       "      <td>...</td>\n",
       "      <td>...</td>\n",
       "      <td>...</td>\n",
       "      <td>...</td>\n",
       "      <td>...</td>\n",
       "      <td>...</td>\n",
       "    </tr>\n",
       "    <tr>\n",
       "      <th>128</th>\n",
       "      <td>2.5May 27, 2018</td>\n",
       "      <td>Warsteiner Premium Verum</td>\n",
       "      <td>haldex(89)</td>\n",
       "      <td>-</td>\n",
       "      <td>-</td>\n",
       "      <td>-</td>\n",
       "      <td>-</td>\n",
       "      <td>-</td>\n",
       "      <td>2.5</td>\n",
       "      <td>May 27, 2018</td>\n",
       "    </tr>\n",
       "    <tr>\n",
       "      <th>178</th>\n",
       "      <td>4.0September 29, 2017</td>\n",
       "      <td>Warsteiner Premium Verum</td>\n",
       "      <td>PilsnerMeister42(17)</td>\n",
       "      <td>-</td>\n",
       "      <td>-</td>\n",
       "      <td>-</td>\n",
       "      <td>-</td>\n",
       "      <td>-</td>\n",
       "      <td>4.0</td>\n",
       "      <td>September 29, 2017</td>\n",
       "    </tr>\n",
       "    <tr>\n",
       "      <th>188</th>\n",
       "      <td>2.6September 1, 2017</td>\n",
       "      <td>Warsteiner Premium Verum</td>\n",
       "      <td>pj007(9)</td>\n",
       "      <td>-</td>\n",
       "      <td>-</td>\n",
       "      <td>-</td>\n",
       "      <td>-</td>\n",
       "      <td>-</td>\n",
       "      <td>2.6</td>\n",
       "      <td>September 1, 2017</td>\n",
       "    </tr>\n",
       "    <tr>\n",
       "      <th>197</th>\n",
       "      <td>2.0August 7, 2017</td>\n",
       "      <td>Warsteiner Premium Verum</td>\n",
       "      <td>angel77(5,902)</td>\n",
       "      <td>-</td>\n",
       "      <td>-</td>\n",
       "      <td>-</td>\n",
       "      <td>-</td>\n",
       "      <td>-</td>\n",
       "      <td>2.0</td>\n",
       "      <td>August 7, 2017</td>\n",
       "    </tr>\n",
       "    <tr>\n",
       "      <th>199</th>\n",
       "      <td>1.8July 26, 2017</td>\n",
       "      <td>Warsteiner Premium Verum</td>\n",
       "      <td>KoNrRiI(2,146)</td>\n",
       "      <td>-</td>\n",
       "      <td>-</td>\n",
       "      <td>-</td>\n",
       "      <td>-</td>\n",
       "      <td>-</td>\n",
       "      <td>1.8</td>\n",
       "      <td>July 26, 2017</td>\n",
       "    </tr>\n",
       "  </tbody>\n",
       "</table>\n",
       "<p>3426 rows × 10 columns</p>\n",
       "</div>"
      ],
      "text/plain": [
       "                      맥주정보                      맥주이름                   아이디  \\\n",
       "3       2.1August 11, 2020         5,0 Original Pils             qt01(451)   \n",
       "14         1.0May 27, 2019         5,0 Original Pils             so1ji(16)   \n",
       "11       3.3August 1, 2018         5,0 Original Pils          Brokkie(757)   \n",
       "13        2.6June 28, 2019             Gaffel Kölsch            muenzo(70)   \n",
       "10       4.0March 17, 2019             Gaffel Kölsch     ruslan_maximov(0)   \n",
       "..                     ...                       ...                   ...   \n",
       "128        2.5May 27, 2018  Warsteiner Premium Verum            haldex(89)   \n",
       "178  4.0September 29, 2017  Warsteiner Premium Verum  PilsnerMeister42(17)   \n",
       "188   2.6September 1, 2017  Warsteiner Premium Verum              pj007(9)   \n",
       "197      2.0August 7, 2017  Warsteiner Premium Verum        angel77(5,902)   \n",
       "199       1.8July 26, 2017  Warsteiner Premium Verum        KoNrRiI(2,146)   \n",
       "\n",
       "    Aroma Appearance Flavor Mouthfeel Overall   평점                  날짜  \n",
       "3       -          -      -         -       -  2.1     August 11, 2020  \n",
       "14      -          -      -         -       -  1.0        May 27, 2019  \n",
       "11      -          -      -         -       -  3.3      August 1, 2018  \n",
       "13      -          -      -         -       -  2.6       June 28, 2019  \n",
       "10      -          -      -         -       -  4.0      March 17, 2019  \n",
       "..    ...        ...    ...       ...     ...  ...                 ...  \n",
       "128     -          -      -         -       -  2.5        May 27, 2018  \n",
       "178     -          -      -         -       -  4.0  September 29, 2017  \n",
       "188     -          -      -         -       -  2.6   September 1, 2017  \n",
       "197     -          -      -         -       -  2.0      August 7, 2017  \n",
       "199     -          -      -         -       -  1.8       July 26, 2017  \n",
       "\n",
       "[3426 rows x 10 columns]"
      ]
     },
     "execution_count": 71,
     "metadata": {},
     "output_type": "execute_result"
    }
   ],
   "source": [
    "# 문제 발생 : 세부 리뷰 평점이 '-'인 경우 발생\n",
    "ttmp[ttmp['Aroma']=='-']"
   ]
  },
  {
   "cell_type": "code",
   "execution_count": 72,
   "metadata": {},
   "outputs": [],
   "source": [
    "# 세부 리뷰 값이 '-'가 아닌 데이터만 저장\n",
    "ttmp = ttmp[ttmp['Aroma']!='-']\n",
    "ttmp = ttmp[ttmp['Appearance']!='-']\n",
    "ttmp = ttmp[ttmp['Flavor']!='-']\n",
    "ttmp = ttmp[ttmp['Mouthfeel']!='-']\n",
    "ttmp = ttmp[ttmp['Overall']!='-']"
   ]
  },
  {
   "cell_type": "code",
   "execution_count": 73,
   "metadata": {},
   "outputs": [
    {
     "data": {
      "text/html": [
       "<div>\n",
       "<style scoped>\n",
       "    .dataframe tbody tr th:only-of-type {\n",
       "        vertical-align: middle;\n",
       "    }\n",
       "\n",
       "    .dataframe tbody tr th {\n",
       "        vertical-align: top;\n",
       "    }\n",
       "\n",
       "    .dataframe thead th {\n",
       "        text-align: right;\n",
       "    }\n",
       "</style>\n",
       "<table border=\"1\" class=\"dataframe\">\n",
       "  <thead>\n",
       "    <tr style=\"text-align: right;\">\n",
       "      <th></th>\n",
       "      <th>맥주정보</th>\n",
       "      <th>맥주이름</th>\n",
       "      <th>아이디</th>\n",
       "      <th>Aroma</th>\n",
       "      <th>Appearance</th>\n",
       "      <th>Flavor</th>\n",
       "      <th>Mouthfeel</th>\n",
       "      <th>Overall</th>\n",
       "      <th>평점</th>\n",
       "      <th>날짜</th>\n",
       "    </tr>\n",
       "  </thead>\n",
       "  <tbody>\n",
       "  </tbody>\n",
       "</table>\n",
       "</div>"
      ],
      "text/plain": [
       "Empty DataFrame\n",
       "Columns: [맥주정보, 맥주이름, 아이디, Aroma, Appearance, Flavor, Mouthfeel, Overall, 평점, 날짜]\n",
       "Index: []"
      ]
     },
     "execution_count": 73,
     "metadata": {},
     "output_type": "execute_result"
    }
   ],
   "source": [
    "# 문제 발생 : 세부 리뷰 평점이 '-'인 경우 발생 --> 해결\n",
    "ttmp[ttmp['Aroma']=='-']"
   ]
  },
  {
   "cell_type": "code",
   "execution_count": 74,
   "metadata": {},
   "outputs": [],
   "source": [
    "# 수치형 데이터는 실수로 변환 : pd.to_numeric() 함수 사용\n",
    "ttmp['평점'] = pd.to_numeric(ttmp['평점'])\n",
    "ttmp['Aroma'] = pd.to_numeric(ttmp['Aroma'])\n",
    "ttmp['Appearance'] = pd.to_numeric(ttmp['Appearance'])\n",
    "ttmp['Flavor'] = pd.to_numeric(ttmp['Flavor'])\n",
    "ttmp['Mouthfeel'] = pd.to_numeric(ttmp['Mouthfeel'])\n",
    "ttmp['Overall'] = pd.to_numeric(ttmp['Overall'])"
   ]
  },
  {
   "cell_type": "code",
   "execution_count": 75,
   "metadata": {},
   "outputs": [],
   "source": [
    "# 중복된 행들을 제거합니다.\n",
    "ttmp.drop_duplicates(keep='first', inplace=True)"
   ]
  },
  {
   "cell_type": "code",
   "execution_count": 76,
   "metadata": {},
   "outputs": [
    {
     "name": "stdout",
     "output_type": "stream",
     "text": [
      "<class 'pandas.core.frame.DataFrame'>\n",
      "Int64Index: 256259 entries, 0 to 7\n",
      "Data columns (total 10 columns):\n",
      " #   Column      Non-Null Count   Dtype  \n",
      "---  ------      --------------   -----  \n",
      " 0   맥주정보        256259 non-null  object \n",
      " 1   맥주이름        256259 non-null  object \n",
      " 2   아이디         256259 non-null  object \n",
      " 3   Aroma       256259 non-null  int64  \n",
      " 4   Appearance  256259 non-null  int64  \n",
      " 5   Flavor      256259 non-null  int64  \n",
      " 6   Mouthfeel   256259 non-null  int64  \n",
      " 7   Overall     256259 non-null  int64  \n",
      " 8   평점          256259 non-null  float64\n",
      " 9   날짜          256259 non-null  object \n",
      "dtypes: float64(1), int64(5), object(4)\n",
      "memory usage: 21.5+ MB\n"
     ]
    }
   ],
   "source": [
    "# 최종 데이터 확인\n",
    "ttmp.info()"
   ]
  },
  {
   "cell_type": "code",
   "execution_count": 77,
   "metadata": {
    "scrolled": true
   },
   "outputs": [
    {
     "data": {
      "text/html": [
       "<div>\n",
       "<style scoped>\n",
       "    .dataframe tbody tr th:only-of-type {\n",
       "        vertical-align: middle;\n",
       "    }\n",
       "\n",
       "    .dataframe tbody tr th {\n",
       "        vertical-align: top;\n",
       "    }\n",
       "\n",
       "    .dataframe thead th {\n",
       "        text-align: right;\n",
       "    }\n",
       "</style>\n",
       "<table border=\"1\" class=\"dataframe\">\n",
       "  <thead>\n",
       "    <tr style=\"text-align: right;\">\n",
       "      <th></th>\n",
       "      <th>Aroma</th>\n",
       "      <th>Appearance</th>\n",
       "      <th>Flavor</th>\n",
       "      <th>Mouthfeel</th>\n",
       "      <th>Overall</th>\n",
       "      <th>평점</th>\n",
       "    </tr>\n",
       "  </thead>\n",
       "  <tbody>\n",
       "    <tr>\n",
       "      <th>count</th>\n",
       "      <td>256259.000000</td>\n",
       "      <td>256259.000000</td>\n",
       "      <td>256259.000000</td>\n",
       "      <td>256259.000000</td>\n",
       "      <td>256259.000000</td>\n",
       "      <td>256259.000000</td>\n",
       "    </tr>\n",
       "    <tr>\n",
       "      <th>mean</th>\n",
       "      <td>5.147054</td>\n",
       "      <td>3.146044</td>\n",
       "      <td>5.419349</td>\n",
       "      <td>2.887766</td>\n",
       "      <td>10.913849</td>\n",
       "      <td>2.751933</td>\n",
       "    </tr>\n",
       "    <tr>\n",
       "      <th>std</th>\n",
       "      <td>1.948432</td>\n",
       "      <td>0.982079</td>\n",
       "      <td>1.943552</td>\n",
       "      <td>0.948167</td>\n",
       "      <td>4.112377</td>\n",
       "      <td>0.942866</td>\n",
       "    </tr>\n",
       "    <tr>\n",
       "      <th>min</th>\n",
       "      <td>1.000000</td>\n",
       "      <td>1.000000</td>\n",
       "      <td>1.000000</td>\n",
       "      <td>1.000000</td>\n",
       "      <td>1.000000</td>\n",
       "      <td>0.500000</td>\n",
       "    </tr>\n",
       "    <tr>\n",
       "      <th>25%</th>\n",
       "      <td>4.000000</td>\n",
       "      <td>2.000000</td>\n",
       "      <td>4.000000</td>\n",
       "      <td>2.000000</td>\n",
       "      <td>8.000000</td>\n",
       "      <td>2.100000</td>\n",
       "    </tr>\n",
       "    <tr>\n",
       "      <th>50%</th>\n",
       "      <td>5.000000</td>\n",
       "      <td>3.000000</td>\n",
       "      <td>5.000000</td>\n",
       "      <td>3.000000</td>\n",
       "      <td>11.000000</td>\n",
       "      <td>2.800000</td>\n",
       "    </tr>\n",
       "    <tr>\n",
       "      <th>75%</th>\n",
       "      <td>7.000000</td>\n",
       "      <td>4.000000</td>\n",
       "      <td>7.000000</td>\n",
       "      <td>3.000000</td>\n",
       "      <td>14.000000</td>\n",
       "      <td>3.400000</td>\n",
       "    </tr>\n",
       "    <tr>\n",
       "      <th>max</th>\n",
       "      <td>10.000000</td>\n",
       "      <td>5.000000</td>\n",
       "      <td>10.000000</td>\n",
       "      <td>5.000000</td>\n",
       "      <td>20.000000</td>\n",
       "      <td>140.000000</td>\n",
       "    </tr>\n",
       "  </tbody>\n",
       "</table>\n",
       "</div>"
      ],
      "text/plain": [
       "               Aroma     Appearance         Flavor      Mouthfeel  \\\n",
       "count  256259.000000  256259.000000  256259.000000  256259.000000   \n",
       "mean        5.147054       3.146044       5.419349       2.887766   \n",
       "std         1.948432       0.982079       1.943552       0.948167   \n",
       "min         1.000000       1.000000       1.000000       1.000000   \n",
       "25%         4.000000       2.000000       4.000000       2.000000   \n",
       "50%         5.000000       3.000000       5.000000       3.000000   \n",
       "75%         7.000000       4.000000       7.000000       3.000000   \n",
       "max        10.000000       5.000000      10.000000       5.000000   \n",
       "\n",
       "             Overall             평점  \n",
       "count  256259.000000  256259.000000  \n",
       "mean       10.913849       2.751933  \n",
       "std         4.112377       0.942866  \n",
       "min         1.000000       0.500000  \n",
       "25%         8.000000       2.100000  \n",
       "50%        11.000000       2.800000  \n",
       "75%        14.000000       3.400000  \n",
       "max        20.000000     140.000000  "
      ]
     },
     "execution_count": 77,
     "metadata": {},
     "output_type": "execute_result"
    }
   ],
   "source": [
    "# 최종 데이터 값 분포 확인\n",
    "ttmp.describe()"
   ]
  },
  {
   "cell_type": "code",
   "execution_count": 80,
   "metadata": {},
   "outputs": [],
   "source": [
    "# 평점이 비정상적으로 큰 값 제거\n",
    "ttmp = ttmp[ttmp['평점'] < 5.1]"
   ]
  },
  {
   "cell_type": "code",
   "execution_count": 84,
   "metadata": {},
   "outputs": [
    {
     "data": {
      "text/html": [
       "<div>\n",
       "<style scoped>\n",
       "    .dataframe tbody tr th:only-of-type {\n",
       "        vertical-align: middle;\n",
       "    }\n",
       "\n",
       "    .dataframe tbody tr th {\n",
       "        vertical-align: top;\n",
       "    }\n",
       "\n",
       "    .dataframe thead th {\n",
       "        text-align: right;\n",
       "    }\n",
       "</style>\n",
       "<table border=\"1\" class=\"dataframe\">\n",
       "  <thead>\n",
       "    <tr style=\"text-align: right;\">\n",
       "      <th></th>\n",
       "      <th>Aroma</th>\n",
       "      <th>Appearance</th>\n",
       "      <th>Flavor</th>\n",
       "      <th>Mouthfeel</th>\n",
       "      <th>Overall</th>\n",
       "      <th>평점</th>\n",
       "    </tr>\n",
       "  </thead>\n",
       "  <tbody>\n",
       "    <tr>\n",
       "      <th>count</th>\n",
       "      <td>256258.000000</td>\n",
       "      <td>256258.000000</td>\n",
       "      <td>256258.000000</td>\n",
       "      <td>256258.000000</td>\n",
       "      <td>256258.000000</td>\n",
       "      <td>256258.000000</td>\n",
       "    </tr>\n",
       "    <tr>\n",
       "      <th>mean</th>\n",
       "      <td>5.147043</td>\n",
       "      <td>3.146036</td>\n",
       "      <td>5.419335</td>\n",
       "      <td>2.887758</td>\n",
       "      <td>10.913813</td>\n",
       "      <td>2.751398</td>\n",
       "    </tr>\n",
       "    <tr>\n",
       "      <th>std</th>\n",
       "      <td>1.948427</td>\n",
       "      <td>0.982074</td>\n",
       "      <td>1.943543</td>\n",
       "      <td>0.948159</td>\n",
       "      <td>4.112346</td>\n",
       "      <td>0.903045</td>\n",
       "    </tr>\n",
       "    <tr>\n",
       "      <th>min</th>\n",
       "      <td>1.000000</td>\n",
       "      <td>1.000000</td>\n",
       "      <td>1.000000</td>\n",
       "      <td>1.000000</td>\n",
       "      <td>1.000000</td>\n",
       "      <td>0.500000</td>\n",
       "    </tr>\n",
       "    <tr>\n",
       "      <th>25%</th>\n",
       "      <td>4.000000</td>\n",
       "      <td>2.000000</td>\n",
       "      <td>4.000000</td>\n",
       "      <td>2.000000</td>\n",
       "      <td>8.000000</td>\n",
       "      <td>2.100000</td>\n",
       "    </tr>\n",
       "    <tr>\n",
       "      <th>50%</th>\n",
       "      <td>5.000000</td>\n",
       "      <td>3.000000</td>\n",
       "      <td>5.000000</td>\n",
       "      <td>3.000000</td>\n",
       "      <td>11.000000</td>\n",
       "      <td>2.800000</td>\n",
       "    </tr>\n",
       "    <tr>\n",
       "      <th>75%</th>\n",
       "      <td>7.000000</td>\n",
       "      <td>4.000000</td>\n",
       "      <td>7.000000</td>\n",
       "      <td>3.000000</td>\n",
       "      <td>14.000000</td>\n",
       "      <td>3.400000</td>\n",
       "    </tr>\n",
       "    <tr>\n",
       "      <th>max</th>\n",
       "      <td>10.000000</td>\n",
       "      <td>5.000000</td>\n",
       "      <td>10.000000</td>\n",
       "      <td>5.000000</td>\n",
       "      <td>20.000000</td>\n",
       "      <td>5.000000</td>\n",
       "    </tr>\n",
       "  </tbody>\n",
       "</table>\n",
       "</div>"
      ],
      "text/plain": [
       "               Aroma     Appearance         Flavor      Mouthfeel  \\\n",
       "count  256258.000000  256258.000000  256258.000000  256258.000000   \n",
       "mean        5.147043       3.146036       5.419335       2.887758   \n",
       "std         1.948427       0.982074       1.943543       0.948159   \n",
       "min         1.000000       1.000000       1.000000       1.000000   \n",
       "25%         4.000000       2.000000       4.000000       2.000000   \n",
       "50%         5.000000       3.000000       5.000000       3.000000   \n",
       "75%         7.000000       4.000000       7.000000       3.000000   \n",
       "max        10.000000       5.000000      10.000000       5.000000   \n",
       "\n",
       "             Overall             평점  \n",
       "count  256258.000000  256258.000000  \n",
       "mean       10.913813       2.751398  \n",
       "std         4.112346       0.903045  \n",
       "min         1.000000       0.500000  \n",
       "25%         8.000000       2.100000  \n",
       "50%        11.000000       2.800000  \n",
       "75%        14.000000       3.400000  \n",
       "max        20.000000       5.000000  "
      ]
     },
     "execution_count": 84,
     "metadata": {},
     "output_type": "execute_result"
    }
   ],
   "source": [
    "ttmp.describe()"
   ]
  },
  {
   "cell_type": "code",
   "execution_count": 83,
   "metadata": {},
   "outputs": [
    {
     "data": {
      "text/plain": [
       "Index(['맥주정보', '맥주이름', '아이디', 'Aroma', 'Appearance', 'Flavor', 'Mouthfeel',\n",
       "       'Overall', '평점', '날짜'],\n",
       "      dtype='object')"
      ]
     },
     "execution_count": 83,
     "metadata": {},
     "output_type": "execute_result"
    }
   ],
   "source": [
    "ttmp.columns"
   ]
  },
  {
   "cell_type": "code",
   "execution_count": 86,
   "metadata": {},
   "outputs": [],
   "source": [
    "ttmp = ttmp[['아이디', '맥주이름', '날짜', '평점', 'Aroma', 'Appearance', 'Flavor', 'Mouthfeel',\n",
    "       'Overall']]"
   ]
  },
  {
   "cell_type": "code",
   "execution_count": 87,
   "metadata": {},
   "outputs": [],
   "source": [
    "ttmp.columns = ['아이디', '맥주', '날짜', '평점', 'Aroma', 'Appearance', 'Flavor', 'Mouthfeel',\n",
    "       'Overall']"
   ]
  },
  {
   "cell_type": "code",
   "execution_count": 152,
   "metadata": {},
   "outputs": [],
   "source": [
    "# 데이터프레임 병합을 위해 편의점도 추가\n",
    "ttmp['편의점'] = ''"
   ]
  },
  {
   "cell_type": "code",
   "execution_count": 160,
   "metadata": {},
   "outputs": [],
   "source": [
    "# ttmp.columns = ['맥주', '아이디', '날짜', '평점', '편의점', 'Aroma', 'Appearance', 'Flavor', 'Mouthfeel',\n",
    "#        'Overall']"
   ]
  },
  {
   "cell_type": "code",
   "execution_count": 167,
   "metadata": {},
   "outputs": [],
   "source": [
    "# ttmp = ttmp[['아이디', '맥주', '날짜', '평점', '편의점', 'Aroma', 'Appearance', 'Flavor', 'Mouthfeel',\n",
    "#        'Overall']]"
   ]
  },
  {
   "cell_type": "code",
   "execution_count": 88,
   "metadata": {},
   "outputs": [
    {
     "data": {
      "text/html": [
       "<div>\n",
       "<style scoped>\n",
       "    .dataframe tbody tr th:only-of-type {\n",
       "        vertical-align: middle;\n",
       "    }\n",
       "\n",
       "    .dataframe tbody tr th {\n",
       "        vertical-align: top;\n",
       "    }\n",
       "\n",
       "    .dataframe thead th {\n",
       "        text-align: right;\n",
       "    }\n",
       "</style>\n",
       "<table border=\"1\" class=\"dataframe\">\n",
       "  <thead>\n",
       "    <tr style=\"text-align: right;\">\n",
       "      <th></th>\n",
       "      <th>아이디</th>\n",
       "      <th>맥주</th>\n",
       "      <th>날짜</th>\n",
       "      <th>평점</th>\n",
       "      <th>Aroma</th>\n",
       "      <th>Appearance</th>\n",
       "      <th>Flavor</th>\n",
       "      <th>Mouthfeel</th>\n",
       "      <th>Overall</th>\n",
       "    </tr>\n",
       "  </thead>\n",
       "  <tbody>\n",
       "    <tr>\n",
       "      <th>0</th>\n",
       "      <td>hopihalido(1,454)</td>\n",
       "      <td>5,0 Original Pils</td>\n",
       "      <td>December 19, 2020</td>\n",
       "      <td>1.2</td>\n",
       "      <td>2</td>\n",
       "      <td>1</td>\n",
       "      <td>2</td>\n",
       "      <td>2</td>\n",
       "      <td>5</td>\n",
       "    </tr>\n",
       "    <tr>\n",
       "      <th>1</th>\n",
       "      <td>AndreiProdan(213)</td>\n",
       "      <td>5,0 Original Pils</td>\n",
       "      <td>December 18, 2020</td>\n",
       "      <td>2.4</td>\n",
       "      <td>5</td>\n",
       "      <td>2</td>\n",
       "      <td>5</td>\n",
       "      <td>2</td>\n",
       "      <td>10</td>\n",
       "    </tr>\n",
       "    <tr>\n",
       "      <th>2</th>\n",
       "      <td>Badylatko(469)</td>\n",
       "      <td>5,0 Original Pils</td>\n",
       "      <td>September 24, 2020</td>\n",
       "      <td>2.1</td>\n",
       "      <td>4</td>\n",
       "      <td>2</td>\n",
       "      <td>4</td>\n",
       "      <td>3</td>\n",
       "      <td>8</td>\n",
       "    </tr>\n",
       "  </tbody>\n",
       "</table>\n",
       "</div>"
      ],
      "text/plain": [
       "                 아이디                 맥주                  날짜   평점  Aroma  \\\n",
       "0  hopihalido(1,454)  5,0 Original Pils   December 19, 2020  1.2      2   \n",
       "1  AndreiProdan(213)  5,0 Original Pils   December 18, 2020  2.4      5   \n",
       "2     Badylatko(469)  5,0 Original Pils  September 24, 2020  2.1      4   \n",
       "\n",
       "   Appearance  Flavor  Mouthfeel  Overall  \n",
       "0           1       2          2        5  \n",
       "1           2       5          2       10  \n",
       "2           2       4          3        8  "
      ]
     },
     "execution_count": 88,
     "metadata": {},
     "output_type": "execute_result"
    }
   ],
   "source": [
    "ttmp.head(3)"
   ]
  },
  {
   "cell_type": "code",
   "execution_count": 92,
   "metadata": {},
   "outputs": [
    {
     "data": {
      "text/html": [
       "<div>\n",
       "<style scoped>\n",
       "    .dataframe tbody tr th:only-of-type {\n",
       "        vertical-align: middle;\n",
       "    }\n",
       "\n",
       "    .dataframe tbody tr th {\n",
       "        vertical-align: top;\n",
       "    }\n",
       "\n",
       "    .dataframe thead th {\n",
       "        text-align: right;\n",
       "    }\n",
       "</style>\n",
       "<table border=\"1\" class=\"dataframe\">\n",
       "  <thead>\n",
       "    <tr style=\"text-align: right;\">\n",
       "      <th></th>\n",
       "      <th>아이디</th>\n",
       "      <th>맥주</th>\n",
       "      <th>날짜</th>\n",
       "      <th>평점</th>\n",
       "      <th>Aroma</th>\n",
       "      <th>Appearance</th>\n",
       "      <th>Flavor</th>\n",
       "      <th>Mouthfeel</th>\n",
       "      <th>Overall</th>\n",
       "    </tr>\n",
       "  </thead>\n",
       "  <tbody>\n",
       "    <tr>\n",
       "      <th>0</th>\n",
       "      <td>hopihalido(1,454)</td>\n",
       "      <td>5,0 Original Pils</td>\n",
       "      <td>December 19, 2020</td>\n",
       "      <td>1.2</td>\n",
       "      <td>2</td>\n",
       "      <td>1</td>\n",
       "      <td>2</td>\n",
       "      <td>2</td>\n",
       "      <td>5</td>\n",
       "    </tr>\n",
       "    <tr>\n",
       "      <th>1</th>\n",
       "      <td>AndreiProdan(213)</td>\n",
       "      <td>5,0 Original Pils</td>\n",
       "      <td>December 18, 2020</td>\n",
       "      <td>2.4</td>\n",
       "      <td>5</td>\n",
       "      <td>2</td>\n",
       "      <td>5</td>\n",
       "      <td>2</td>\n",
       "      <td>10</td>\n",
       "    </tr>\n",
       "    <tr>\n",
       "      <th>2</th>\n",
       "      <td>Badylatko(469)</td>\n",
       "      <td>5,0 Original Pils</td>\n",
       "      <td>September 24, 2020</td>\n",
       "      <td>2.1</td>\n",
       "      <td>4</td>\n",
       "      <td>2</td>\n",
       "      <td>4</td>\n",
       "      <td>3</td>\n",
       "      <td>8</td>\n",
       "    </tr>\n",
       "    <tr>\n",
       "      <th>4</th>\n",
       "      <td>SVD(3,986)</td>\n",
       "      <td>5,0 Original Pils</td>\n",
       "      <td>August 2, 2020</td>\n",
       "      <td>3.4</td>\n",
       "      <td>6</td>\n",
       "      <td>3</td>\n",
       "      <td>6</td>\n",
       "      <td>3</td>\n",
       "      <td>16</td>\n",
       "    </tr>\n",
       "    <tr>\n",
       "      <th>5</th>\n",
       "      <td>DoctorHU(1,495)</td>\n",
       "      <td>5,0 Original Pils</td>\n",
       "      <td>July 21, 2020</td>\n",
       "      <td>2.5</td>\n",
       "      <td>5</td>\n",
       "      <td>3</td>\n",
       "      <td>5</td>\n",
       "      <td>3</td>\n",
       "      <td>9</td>\n",
       "    </tr>\n",
       "  </tbody>\n",
       "</table>\n",
       "</div>"
      ],
      "text/plain": [
       "                 아이디                 맥주                  날짜   평점  Aroma  \\\n",
       "0  hopihalido(1,454)  5,0 Original Pils   December 19, 2020  1.2      2   \n",
       "1  AndreiProdan(213)  5,0 Original Pils   December 18, 2020  2.4      5   \n",
       "2     Badylatko(469)  5,0 Original Pils  September 24, 2020  2.1      4   \n",
       "4         SVD(3,986)  5,0 Original Pils      August 2, 2020  3.4      6   \n",
       "5    DoctorHU(1,495)  5,0 Original Pils       July 21, 2020  2.5      5   \n",
       "\n",
       "   Appearance  Flavor  Mouthfeel  Overall  \n",
       "0           1       2          2        5  \n",
       "1           2       5          2       10  \n",
       "2           2       4          3        8  \n",
       "4           3       6          3       16  \n",
       "5           3       5          3        9  "
      ]
     },
     "execution_count": 92,
     "metadata": {},
     "output_type": "execute_result"
    }
   ],
   "source": [
    "ttmp.head(5)"
   ]
  },
  {
   "cell_type": "code",
   "execution_count": 89,
   "metadata": {},
   "outputs": [],
   "source": [
    "ttmp.to_csv('맥주_25만개_최종.csv', encoding='utf-8')"
   ]
  },
  {
   "cell_type": "code",
   "execution_count": 169,
   "metadata": {},
   "outputs": [],
   "source": [
    "ttmp.to_csv('656개_맥주_데이터.csv', encoding='utf-8')"
   ]
  },
  {
   "cell_type": "code",
   "execution_count": null,
   "metadata": {},
   "outputs": [],
   "source": []
  },
  {
   "cell_type": "code",
   "execution_count": null,
   "metadata": {},
   "outputs": [],
   "source": []
  },
  {
   "cell_type": "markdown",
   "metadata": {},
   "source": [
    "## 기존에 있던 76개 데이터와 합체"
   ]
  },
  {
   "cell_type": "code",
   "execution_count": 170,
   "metadata": {},
   "outputs": [],
   "source": [
    "beer76 = pd.read_csv('76개_맥주_데이터.csv', encoding='utf-8', index_col=0)\n",
    "beer656 = pd.read_csv('656개_맥주_데이터.csv', encoding='utf-8', index_col=0)"
   ]
  },
  {
   "cell_type": "code",
   "execution_count": 171,
   "metadata": {},
   "outputs": [
    {
     "data": {
      "text/html": [
       "<div>\n",
       "<style scoped>\n",
       "    .dataframe tbody tr th:only-of-type {\n",
       "        vertical-align: middle;\n",
       "    }\n",
       "\n",
       "    .dataframe tbody tr th {\n",
       "        vertical-align: top;\n",
       "    }\n",
       "\n",
       "    .dataframe thead th {\n",
       "        text-align: right;\n",
       "    }\n",
       "</style>\n",
       "<table border=\"1\" class=\"dataframe\">\n",
       "  <thead>\n",
       "    <tr style=\"text-align: right;\">\n",
       "      <th></th>\n",
       "      <th>아이디</th>\n",
       "      <th>맥주</th>\n",
       "      <th>날짜</th>\n",
       "      <th>평점</th>\n",
       "      <th>편의점</th>\n",
       "      <th>Aroma</th>\n",
       "      <th>Appearance</th>\n",
       "      <th>Flavor</th>\n",
       "      <th>Mouthfeel</th>\n",
       "      <th>Overall</th>\n",
       "    </tr>\n",
       "  </thead>\n",
       "  <tbody>\n",
       "    <tr>\n",
       "      <th>0</th>\n",
       "      <td>patjenner(3)</td>\n",
       "      <td>Kloud Original Gravity</td>\n",
       "      <td>December 31, 2020</td>\n",
       "      <td>4.0</td>\n",
       "      <td>CU GS25 7/11 ministop</td>\n",
       "      <td>9</td>\n",
       "      <td>5</td>\n",
       "      <td>7</td>\n",
       "      <td>4</td>\n",
       "      <td>15</td>\n",
       "    </tr>\n",
       "    <tr>\n",
       "      <th>1</th>\n",
       "      <td>pictoman(1,959)</td>\n",
       "      <td>Kloud Original Gravity</td>\n",
       "      <td>April 22, 2020</td>\n",
       "      <td>2.0</td>\n",
       "      <td>CU GS25 7/11 ministop</td>\n",
       "      <td>3</td>\n",
       "      <td>3</td>\n",
       "      <td>4</td>\n",
       "      <td>3</td>\n",
       "      <td>7</td>\n",
       "    </tr>\n",
       "    <tr>\n",
       "      <th>2</th>\n",
       "      <td>snoworsummer(8,581)</td>\n",
       "      <td>Kloud Original Gravity</td>\n",
       "      <td>March 7, 2020</td>\n",
       "      <td>3.0</td>\n",
       "      <td>CU GS25 7/11 ministop</td>\n",
       "      <td>6</td>\n",
       "      <td>3</td>\n",
       "      <td>6</td>\n",
       "      <td>3</td>\n",
       "      <td>12</td>\n",
       "    </tr>\n",
       "  </tbody>\n",
       "</table>\n",
       "</div>"
      ],
      "text/plain": [
       "                   아이디                      맥주                 날짜   평점  \\\n",
       "0         patjenner(3)  Kloud Original Gravity  December 31, 2020  4.0   \n",
       "1      pictoman(1,959)  Kloud Original Gravity     April 22, 2020  2.0   \n",
       "2  snoworsummer(8,581)  Kloud Original Gravity      March 7, 2020  3.0   \n",
       "\n",
       "                     편의점  Aroma  Appearance  Flavor  Mouthfeel  Overall  \n",
       "0  CU GS25 7/11 ministop      9           5       7          4       15  \n",
       "1  CU GS25 7/11 ministop      3           3       4          3        7  \n",
       "2  CU GS25 7/11 ministop      6           3       6          3       12  "
      ]
     },
     "execution_count": 171,
     "metadata": {},
     "output_type": "execute_result"
    }
   ],
   "source": [
    "beer76.head(3)"
   ]
  },
  {
   "cell_type": "code",
   "execution_count": 172,
   "metadata": {},
   "outputs": [
    {
     "data": {
      "text/html": [
       "<div>\n",
       "<style scoped>\n",
       "    .dataframe tbody tr th:only-of-type {\n",
       "        vertical-align: middle;\n",
       "    }\n",
       "\n",
       "    .dataframe tbody tr th {\n",
       "        vertical-align: top;\n",
       "    }\n",
       "\n",
       "    .dataframe thead th {\n",
       "        text-align: right;\n",
       "    }\n",
       "</style>\n",
       "<table border=\"1\" class=\"dataframe\">\n",
       "  <thead>\n",
       "    <tr style=\"text-align: right;\">\n",
       "      <th></th>\n",
       "      <th>아이디</th>\n",
       "      <th>맥주</th>\n",
       "      <th>날짜</th>\n",
       "      <th>평점</th>\n",
       "      <th>편의점</th>\n",
       "      <th>Aroma</th>\n",
       "      <th>Appearance</th>\n",
       "      <th>Flavor</th>\n",
       "      <th>Mouthfeel</th>\n",
       "      <th>Overall</th>\n",
       "    </tr>\n",
       "  </thead>\n",
       "  <tbody>\n",
       "    <tr>\n",
       "      <th>0</th>\n",
       "      <td>hopihalido(1,454)</td>\n",
       "      <td>5,0 Original Pils</td>\n",
       "      <td>December 19, 2020</td>\n",
       "      <td>1.2</td>\n",
       "      <td>NaN</td>\n",
       "      <td>2</td>\n",
       "      <td>1</td>\n",
       "      <td>2</td>\n",
       "      <td>2</td>\n",
       "      <td>5</td>\n",
       "    </tr>\n",
       "    <tr>\n",
       "      <th>1</th>\n",
       "      <td>AndreiProdan(213)</td>\n",
       "      <td>5,0 Original Pils</td>\n",
       "      <td>December 18, 2020</td>\n",
       "      <td>2.4</td>\n",
       "      <td>NaN</td>\n",
       "      <td>5</td>\n",
       "      <td>2</td>\n",
       "      <td>5</td>\n",
       "      <td>2</td>\n",
       "      <td>10</td>\n",
       "    </tr>\n",
       "    <tr>\n",
       "      <th>2</th>\n",
       "      <td>Badylatko(469)</td>\n",
       "      <td>5,0 Original Pils</td>\n",
       "      <td>September 24, 2020</td>\n",
       "      <td>2.1</td>\n",
       "      <td>NaN</td>\n",
       "      <td>4</td>\n",
       "      <td>2</td>\n",
       "      <td>4</td>\n",
       "      <td>3</td>\n",
       "      <td>8</td>\n",
       "    </tr>\n",
       "  </tbody>\n",
       "</table>\n",
       "</div>"
      ],
      "text/plain": [
       "                 아이디                 맥주                  날짜   평점  편의점  Aroma  \\\n",
       "0  hopihalido(1,454)  5,0 Original Pils   December 19, 2020  1.2  NaN      2   \n",
       "1  AndreiProdan(213)  5,0 Original Pils   December 18, 2020  2.4  NaN      5   \n",
       "2     Badylatko(469)  5,0 Original Pils  September 24, 2020  2.1  NaN      4   \n",
       "\n",
       "   Appearance  Flavor  Mouthfeel  Overall  \n",
       "0           1       2          2        5  \n",
       "1           2       5          2       10  \n",
       "2           2       4          3        8  "
      ]
     },
     "execution_count": 172,
     "metadata": {},
     "output_type": "execute_result"
    }
   ],
   "source": [
    "beer656.head(3)"
   ]
  },
  {
   "cell_type": "code",
   "execution_count": 173,
   "metadata": {},
   "outputs": [
    {
     "data": {
      "text/html": [
       "<div>\n",
       "<style scoped>\n",
       "    .dataframe tbody tr th:only-of-type {\n",
       "        vertical-align: middle;\n",
       "    }\n",
       "\n",
       "    .dataframe tbody tr th {\n",
       "        vertical-align: top;\n",
       "    }\n",
       "\n",
       "    .dataframe thead th {\n",
       "        text-align: right;\n",
       "    }\n",
       "</style>\n",
       "<table border=\"1\" class=\"dataframe\">\n",
       "  <thead>\n",
       "    <tr style=\"text-align: right;\">\n",
       "      <th></th>\n",
       "      <th>아이디</th>\n",
       "      <th>맥주</th>\n",
       "      <th>날짜</th>\n",
       "      <th>평점</th>\n",
       "      <th>편의점</th>\n",
       "      <th>Aroma</th>\n",
       "      <th>Appearance</th>\n",
       "      <th>Flavor</th>\n",
       "      <th>Mouthfeel</th>\n",
       "      <th>Overall</th>\n",
       "    </tr>\n",
       "  </thead>\n",
       "  <tbody>\n",
       "    <tr>\n",
       "      <th>0</th>\n",
       "      <td>patjenner(3)</td>\n",
       "      <td>Kloud Original Gravity</td>\n",
       "      <td>December 31, 2020</td>\n",
       "      <td>4.0</td>\n",
       "      <td>CU GS25 7/11 ministop</td>\n",
       "      <td>9</td>\n",
       "      <td>5</td>\n",
       "      <td>7</td>\n",
       "      <td>4</td>\n",
       "      <td>15</td>\n",
       "    </tr>\n",
       "    <tr>\n",
       "      <th>1</th>\n",
       "      <td>pictoman(1,959)</td>\n",
       "      <td>Kloud Original Gravity</td>\n",
       "      <td>April 22, 2020</td>\n",
       "      <td>2.0</td>\n",
       "      <td>CU GS25 7/11 ministop</td>\n",
       "      <td>3</td>\n",
       "      <td>3</td>\n",
       "      <td>4</td>\n",
       "      <td>3</td>\n",
       "      <td>7</td>\n",
       "    </tr>\n",
       "    <tr>\n",
       "      <th>2</th>\n",
       "      <td>snoworsummer(8,581)</td>\n",
       "      <td>Kloud Original Gravity</td>\n",
       "      <td>March 7, 2020</td>\n",
       "      <td>3.0</td>\n",
       "      <td>CU GS25 7/11 ministop</td>\n",
       "      <td>6</td>\n",
       "      <td>3</td>\n",
       "      <td>6</td>\n",
       "      <td>3</td>\n",
       "      <td>12</td>\n",
       "    </tr>\n",
       "  </tbody>\n",
       "</table>\n",
       "</div>"
      ],
      "text/plain": [
       "                   아이디                      맥주                 날짜   평점  \\\n",
       "0         patjenner(3)  Kloud Original Gravity  December 31, 2020  4.0   \n",
       "1      pictoman(1,959)  Kloud Original Gravity     April 22, 2020  2.0   \n",
       "2  snoworsummer(8,581)  Kloud Original Gravity      March 7, 2020  3.0   \n",
       "\n",
       "                     편의점  Aroma  Appearance  Flavor  Mouthfeel  Overall  \n",
       "0  CU GS25 7/11 ministop      9           5       7          4       15  \n",
       "1  CU GS25 7/11 ministop      3           3       4          3        7  \n",
       "2  CU GS25 7/11 ministop      6           3       6          3       12  "
      ]
     },
     "execution_count": 173,
     "metadata": {},
     "output_type": "execute_result"
    }
   ],
   "source": [
    "beer = pd.concat([beer76, beer656])\n",
    "beer.head(3)"
   ]
  },
  {
   "cell_type": "code",
   "execution_count": 174,
   "metadata": {},
   "outputs": [
    {
     "name": "stdout",
     "output_type": "stream",
     "text": [
      "<class 'pandas.core.frame.DataFrame'>\n",
      "Int64Index: 278573 entries, 0 to 1\n",
      "Data columns (total 10 columns):\n",
      " #   Column      Non-Null Count   Dtype  \n",
      "---  ------      --------------   -----  \n",
      " 0   아이디         278573 non-null  object \n",
      " 1   맥주          278573 non-null  object \n",
      " 2   날짜          278573 non-null  object \n",
      " 3   평점          278573 non-null  float64\n",
      " 4   편의점         76287 non-null   object \n",
      " 5   Aroma       278573 non-null  int64  \n",
      " 6   Appearance  278573 non-null  int64  \n",
      " 7   Flavor      278573 non-null  int64  \n",
      " 8   Mouthfeel   278573 non-null  int64  \n",
      " 9   Overall     278573 non-null  int64  \n",
      "dtypes: float64(1), int64(5), object(4)\n",
      "memory usage: 23.4+ MB\n"
     ]
    }
   ],
   "source": [
    "beer.info()"
   ]
  },
  {
   "cell_type": "code",
   "execution_count": 175,
   "metadata": {},
   "outputs": [],
   "source": [
    "beer.to_csv('732개_맥주_데이터.csv', encoding='utf-8')"
   ]
  },
  {
   "cell_type": "code",
   "execution_count": 176,
   "metadata": {},
   "outputs": [
    {
     "data": {
      "text/html": [
       "<div>\n",
       "<style scoped>\n",
       "    .dataframe tbody tr th:only-of-type {\n",
       "        vertical-align: middle;\n",
       "    }\n",
       "\n",
       "    .dataframe tbody tr th {\n",
       "        vertical-align: top;\n",
       "    }\n",
       "\n",
       "    .dataframe thead th {\n",
       "        text-align: right;\n",
       "    }\n",
       "</style>\n",
       "<table border=\"1\" class=\"dataframe\">\n",
       "  <thead>\n",
       "    <tr style=\"text-align: right;\">\n",
       "      <th></th>\n",
       "      <th>아이디</th>\n",
       "      <th>맥주</th>\n",
       "      <th>날짜</th>\n",
       "      <th>평점</th>\n",
       "      <th>편의점</th>\n",
       "      <th>Aroma</th>\n",
       "      <th>Appearance</th>\n",
       "      <th>Flavor</th>\n",
       "      <th>Mouthfeel</th>\n",
       "      <th>Overall</th>\n",
       "    </tr>\n",
       "  </thead>\n",
       "  <tbody>\n",
       "    <tr>\n",
       "      <th>0</th>\n",
       "      <td>patjenner(3)</td>\n",
       "      <td>Kloud Original Gravity</td>\n",
       "      <td>December 31, 2020</td>\n",
       "      <td>4.0</td>\n",
       "      <td>CU GS25 7/11 ministop</td>\n",
       "      <td>9</td>\n",
       "      <td>5</td>\n",
       "      <td>7</td>\n",
       "      <td>4</td>\n",
       "      <td>15</td>\n",
       "    </tr>\n",
       "    <tr>\n",
       "      <th>1</th>\n",
       "      <td>pictoman(1,959)</td>\n",
       "      <td>Kloud Original Gravity</td>\n",
       "      <td>April 22, 2020</td>\n",
       "      <td>2.0</td>\n",
       "      <td>CU GS25 7/11 ministop</td>\n",
       "      <td>3</td>\n",
       "      <td>3</td>\n",
       "      <td>4</td>\n",
       "      <td>3</td>\n",
       "      <td>7</td>\n",
       "    </tr>\n",
       "    <tr>\n",
       "      <th>2</th>\n",
       "      <td>snoworsummer(8,581)</td>\n",
       "      <td>Kloud Original Gravity</td>\n",
       "      <td>March 7, 2020</td>\n",
       "      <td>3.0</td>\n",
       "      <td>CU GS25 7/11 ministop</td>\n",
       "      <td>6</td>\n",
       "      <td>3</td>\n",
       "      <td>6</td>\n",
       "      <td>3</td>\n",
       "      <td>12</td>\n",
       "    </tr>\n",
       "    <tr>\n",
       "      <th>3</th>\n",
       "      <td>mickmac(726)</td>\n",
       "      <td>Kloud Original Gravity</td>\n",
       "      <td>February 20, 2020</td>\n",
       "      <td>2.9</td>\n",
       "      <td>CU GS25 7/11 ministop</td>\n",
       "      <td>5</td>\n",
       "      <td>4</td>\n",
       "      <td>4</td>\n",
       "      <td>4</td>\n",
       "      <td>12</td>\n",
       "    </tr>\n",
       "    <tr>\n",
       "      <th>4</th>\n",
       "      <td>GuideDogSaint(2,549)</td>\n",
       "      <td>Kloud Original Gravity</td>\n",
       "      <td>February 8, 2020</td>\n",
       "      <td>2.2</td>\n",
       "      <td>CU GS25 7/11 ministop</td>\n",
       "      <td>4</td>\n",
       "      <td>2</td>\n",
       "      <td>5</td>\n",
       "      <td>2</td>\n",
       "      <td>9</td>\n",
       "    </tr>\n",
       "    <tr>\n",
       "      <th>...</th>\n",
       "      <td>...</td>\n",
       "      <td>...</td>\n",
       "      <td>...</td>\n",
       "      <td>...</td>\n",
       "      <td>...</td>\n",
       "      <td>...</td>\n",
       "      <td>...</td>\n",
       "      <td>...</td>\n",
       "      <td>...</td>\n",
       "      <td>...</td>\n",
       "    </tr>\n",
       "    <tr>\n",
       "      <th>12</th>\n",
       "      <td>Yankovitch333(612)</td>\n",
       "      <td>Pilsen (Costa Rica)</td>\n",
       "      <td>April 8, 2005</td>\n",
       "      <td>2.5</td>\n",
       "      <td>NaN</td>\n",
       "      <td>4</td>\n",
       "      <td>2</td>\n",
       "      <td>5</td>\n",
       "      <td>2</td>\n",
       "      <td>12</td>\n",
       "    </tr>\n",
       "    <tr>\n",
       "      <th>13</th>\n",
       "      <td>booyaatribe(453)</td>\n",
       "      <td>Pilsen (Costa Rica)</td>\n",
       "      <td>January 3, 2003</td>\n",
       "      <td>1.0</td>\n",
       "      <td>NaN</td>\n",
       "      <td>2</td>\n",
       "      <td>2</td>\n",
       "      <td>2</td>\n",
       "      <td>2</td>\n",
       "      <td>2</td>\n",
       "    </tr>\n",
       "    <tr>\n",
       "      <th>14</th>\n",
       "      <td>Kaya161(1,142)</td>\n",
       "      <td>Pilsen (Costa Rica)</td>\n",
       "      <td>September 25, 2002</td>\n",
       "      <td>0.9</td>\n",
       "      <td>NaN</td>\n",
       "      <td>2</td>\n",
       "      <td>1</td>\n",
       "      <td>2</td>\n",
       "      <td>1</td>\n",
       "      <td>3</td>\n",
       "    </tr>\n",
       "    <tr>\n",
       "      <th>0</th>\n",
       "      <td>MartinT(10,698)</td>\n",
       "      <td>Pilsen (Costa Rica)</td>\n",
       "      <td>August 3, 2002</td>\n",
       "      <td>0.7</td>\n",
       "      <td>NaN</td>\n",
       "      <td>1</td>\n",
       "      <td>2</td>\n",
       "      <td>2</td>\n",
       "      <td>1</td>\n",
       "      <td>1</td>\n",
       "    </tr>\n",
       "    <tr>\n",
       "      <th>1</th>\n",
       "      <td>tico0199(1)</td>\n",
       "      <td>Pilsen (Costa Rica)</td>\n",
       "      <td>January 11, 2002</td>\n",
       "      <td>3.9</td>\n",
       "      <td>NaN</td>\n",
       "      <td>10</td>\n",
       "      <td>5</td>\n",
       "      <td>10</td>\n",
       "      <td>5</td>\n",
       "      <td>9</td>\n",
       "    </tr>\n",
       "  </tbody>\n",
       "</table>\n",
       "<p>278573 rows × 10 columns</p>\n",
       "</div>"
      ],
      "text/plain": [
       "                     아이디                      맥주                  날짜   평점  \\\n",
       "0           patjenner(3)  Kloud Original Gravity   December 31, 2020  4.0   \n",
       "1        pictoman(1,959)  Kloud Original Gravity      April 22, 2020  2.0   \n",
       "2    snoworsummer(8,581)  Kloud Original Gravity       March 7, 2020  3.0   \n",
       "3           mickmac(726)  Kloud Original Gravity   February 20, 2020  2.9   \n",
       "4   GuideDogSaint(2,549)  Kloud Original Gravity    February 8, 2020  2.2   \n",
       "..                   ...                     ...                 ...  ...   \n",
       "12    Yankovitch333(612)     Pilsen (Costa Rica)       April 8, 2005  2.5   \n",
       "13      booyaatribe(453)     Pilsen (Costa Rica)     January 3, 2003  1.0   \n",
       "14        Kaya161(1,142)     Pilsen (Costa Rica)  September 25, 2002  0.9   \n",
       "0        MartinT(10,698)     Pilsen (Costa Rica)      August 3, 2002  0.7   \n",
       "1            tico0199(1)     Pilsen (Costa Rica)    January 11, 2002  3.9   \n",
       "\n",
       "                      편의점  Aroma  Appearance  Flavor  Mouthfeel  Overall  \n",
       "0   CU GS25 7/11 ministop      9           5       7          4       15  \n",
       "1   CU GS25 7/11 ministop      3           3       4          3        7  \n",
       "2   CU GS25 7/11 ministop      6           3       6          3       12  \n",
       "3   CU GS25 7/11 ministop      5           4       4          4       12  \n",
       "4   CU GS25 7/11 ministop      4           2       5          2        9  \n",
       "..                    ...    ...         ...     ...        ...      ...  \n",
       "12                    NaN      4           2       5          2       12  \n",
       "13                    NaN      2           2       2          2        2  \n",
       "14                    NaN      2           1       2          1        3  \n",
       "0                     NaN      1           2       2          1        1  \n",
       "1                     NaN     10           5      10          5        9  \n",
       "\n",
       "[278573 rows x 10 columns]"
      ]
     },
     "execution_count": 176,
     "metadata": {},
     "output_type": "execute_result"
    }
   ],
   "source": [
    "beer"
   ]
  },
  {
   "cell_type": "code",
   "execution_count": null,
   "metadata": {},
   "outputs": [],
   "source": []
  }
 ],
 "metadata": {
  "kernelspec": {
   "display_name": "Python 3",
   "language": "python",
   "name": "python3"
  },
  "language_info": {
   "codemirror_mode": {
    "name": "ipython",
    "version": 3
   },
   "file_extension": ".py",
   "mimetype": "text/x-python",
   "name": "python",
   "nbconvert_exporter": "python",
   "pygments_lexer": "ipython3",
   "version": "3.8.3"
  }
 },
 "nbformat": 4,
 "nbformat_minor": 4
}
